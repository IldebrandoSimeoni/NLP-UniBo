{
  "nbformat": 4,
  "nbformat_minor": 0,
  "metadata": {
    "colab": {
      "provenance": [],
      "collapsed_sections": []
    },
    "kernelspec": {
      "name": "python3",
      "display_name": "Python 3"
    },
    "language_info": {
      "name": "python"
    },
    "accelerator": "GPU",
    "gpuClass": "standard"
  },
  "cells": [
    {
      "cell_type": "markdown",
      "source": [
        "### Libraries"
      ],
      "metadata": {
        "id": "6OBJyXJaTZzd"
      }
    },
    {
      "cell_type": "code",
      "execution_count": 102,
      "metadata": {
        "id": "C7sW4HdzTURu"
      },
      "outputs": [],
      "source": [
        "# Importing os.\n",
        "import os\n",
        "\n",
        "# Importing urllib.request.\n",
        "import urllib.request\n",
        "\n",
        "# Importing zipfile.\n",
        "import zipfile\n",
        "\n",
        "# Importing pandas.\n",
        "import pandas as pd\n",
        "\n",
        "# Importing numpy.\n",
        "import numpy as np\n",
        "\n",
        "# Importing train_test_split.\n",
        "from sklearn.model_selection import train_test_split\n",
        "\n",
        "# Importing pad_sequences.\n",
        "from keras_preprocessing.sequence import pad_sequences\n",
        "\n",
        "# Importing Sequential.\n",
        "from keras.models import Sequential\n",
        "\n",
        "# Importing Dense, LSTM, InputLayer, Bidirectional, TimeDistributed, Embedding, Activation.\n",
        "from keras.layers import Dense, LSTM, InputLayer, Bidirectional, TimeDistributed, Embedding, Activation\n",
        "\n",
        "# Importing Adam.\n",
        "from keras.optimizers import Adam\n",
        "\n",
        "# Importing backend.\n",
        "from keras import backend"
      ]
    },
    {
      "cell_type": "markdown",
      "source": [
        "### Data Preprocessing"
      ],
      "metadata": {
        "id": "c9thEzbNTfiz"
      }
    },
    {
      "cell_type": "code",
      "source": [
        "# Function used to download .zips.\n",
        "def downloader(url, folder_name, filename):\n",
        "\n",
        "  # Defining data folder path.\n",
        "  data_path = os.path.join(os.getcwd(), folder_name)\n",
        "\n",
        "  # Creating data folder.\n",
        "  if not os.path.exists(data_path):\n",
        "      os.makedirs(data_path)\n",
        "\n",
        "  # Defining .zip file path.\n",
        "  zip_path = os.path.join(os.getcwd(), folder_name, filename)\n",
        "\n",
        "  # Requesting .zip file.\n",
        "  if not os.path.exists(zip_path):\n",
        "      urllib.request.urlretrieve(url, zip_path)\n",
        "\n",
        "  # Extracting data from .zip.\n",
        "  with zipfile.ZipFile(zip_path, \"r\") as zip_ref:\n",
        "      zip_ref.extractall(path = data_path)\n",
        "\n",
        "  # Returning data_path and zip_path.\n",
        "  return data_path, zip_path"
      ],
      "metadata": {
        "id": "hOWsBikzhqq8"
      },
      "execution_count": 103,
      "outputs": []
    },
    {
      "cell_type": "code",
      "source": [
        "# Downloading dataset.\n",
        "data_path, _ = downloader(url = \"https://raw.githubusercontent.com/nltk/nltk_data/gh-pages/packages/corpora/dependency_treebank.zip\", folder_name = \"data\", filename = \"dependency_treebank.zip\")\n",
        "\n",
        "# Downloading glove.\n",
        "glove_path, _ = downloader(url = \"https://nlp.stanford.edu/data/glove.6B.zip\", folder_name = \"glove\", filename = \"glove.6B.zip\")"
      ],
      "metadata": {
        "id": "7f3f0k3KTcr3"
      },
      "execution_count": 104,
      "outputs": []
    },
    {
      "cell_type": "code",
      "source": [
        "# Defining the dataset name.\n",
        "dataset_name = \"dependency_treebank\"\n",
        "\n",
        "# Defining path to first training sample.\n",
        "file_path = os.path.join(data_path, dataset_name, \"wsj_0001.dp\")\n",
        "\n",
        "# Reading first training sample.\n",
        "if os.path.isfile(file_path):\n",
        "\n",
        "  # Printing file.\n",
        "  with open(file_path, mode = \"r\") as text_file: print(text_file.read())"
      ],
      "metadata": {
        "colab": {
          "base_uri": "https://localhost:8080/"
        },
        "id": "QZDEgowtTqYf",
        "outputId": "bedef7f1-573c-4e63-c2e3-8d787e2d36e9"
      },
      "execution_count": 105,
      "outputs": [
        {
          "output_type": "stream",
          "name": "stdout",
          "text": [
            "Pierre\tNNP\t2\n",
            "Vinken\tNNP\t8\n",
            ",\t,\t2\n",
            "61\tCD\t5\n",
            "years\tNNS\t6\n",
            "old\tJJ\t2\n",
            ",\t,\t2\n",
            "will\tMD\t0\n",
            "join\tVB\t8\n",
            "the\tDT\t11\n",
            "board\tNN\t9\n",
            "as\tIN\t9\n",
            "a\tDT\t15\n",
            "nonexecutive\tJJ\t15\n",
            "director\tNN\t12\n",
            "Nov.\tNNP\t9\n",
            "29\tCD\t16\n",
            ".\t.\t8\n",
            "\n",
            "Mr.\tNNP\t2\n",
            "Vinken\tNNP\t3\n",
            "is\tVBZ\t0\n",
            "chairman\tNN\t3\n",
            "of\tIN\t4\n",
            "Elsevier\tNNP\t7\n",
            "N.V.\tNNP\t12\n",
            ",\t,\t12\n",
            "the\tDT\t12\n",
            "Dutch\tNNP\t12\n",
            "publishing\tVBG\t12\n",
            "group\tNN\t5\n",
            ".\t.\t3\n",
            "\n"
          ]
        }
      ]
    },
    {
      "cell_type": "code",
      "source": [
        "# Defining embedding size.\n",
        "EMBEDDING_SIZE = 50\n",
        "\n",
        "# Defining specific glove's file path.\n",
        "glove_file = os.path.join(os.getcwd(), glove_path, f\"glove.6B.{str(EMBEDDING_SIZE)}d.txt\")\n",
        "\n",
        "# Reading lines of file.\n",
        "with open(glove_file, encoding = \"utf8\" ) as text_file: \n",
        "  lines = text_file.readlines()\n",
        "\n",
        "# Defining initial vocabulary.\n",
        "embedding_vocabulary = {}\n",
        "\n",
        "# Reading single lines.\n",
        "for line in lines:\n",
        "\n",
        "  # Splitting line.\n",
        "  splits = line.split()\n",
        "\n",
        "  # Storing line into vocabulary.\n",
        "  embedding_vocabulary[splits[0]] = np.array([float(val) for val in splits[1:]])\n",
        "\n",
        "# Printing one entry of the vocabulary.\n",
        "print(\"The embedding for 'the' is:\\n{}.\".format(embedding_vocabulary[\"the\"]))"
      ],
      "metadata": {
        "colab": {
          "base_uri": "https://localhost:8080/"
        },
        "id": "TkeSn0ePqsG2",
        "outputId": "fd4cc8de-cee0-4e94-894b-9310c1f7be02"
      },
      "execution_count": 106,
      "outputs": [
        {
          "output_type": "stream",
          "name": "stdout",
          "text": [
            "The embedding for 'the' is:\n",
            "[ 4.1800e-01  2.4968e-01 -4.1242e-01  1.2170e-01  3.4527e-01 -4.4457e-02\n",
            " -4.9688e-01 -1.7862e-01 -6.6023e-04 -6.5660e-01  2.7843e-01 -1.4767e-01\n",
            " -5.5677e-01  1.4658e-01 -9.5095e-03  1.1658e-02  1.0204e-01 -1.2792e-01\n",
            " -8.4430e-01 -1.2181e-01 -1.6801e-02 -3.3279e-01 -1.5520e-01 -2.3131e-01\n",
            " -1.9181e-01 -1.8823e+00 -7.6746e-01  9.9051e-02 -4.2125e-01 -1.9526e-01\n",
            "  4.0071e+00 -1.8594e-01 -5.2287e-01 -3.1681e-01  5.9213e-04  7.4449e-03\n",
            "  1.7778e-01 -1.5897e-01  1.2041e-02 -5.4223e-02 -2.9871e-01 -1.5749e-01\n",
            " -3.4758e-01 -4.5637e-02 -4.4251e-01  1.8785e-01  2.7849e-03 -1.8411e-01\n",
            " -1.1514e-01 -7.8581e-01].\n"
          ]
        }
      ]
    },
    {
      "cell_type": "code",
      "source": [
        "# List containing dataframe rows.\n",
        "dataframe_rows = []\n",
        "\n",
        "# List containing words of a single sentence.\n",
        "row_words = []\n",
        "\n",
        "# List containing tags of a single sentence.\n",
        "row_tags = []\n",
        "\n",
        "# Defining data folder path.\n",
        "folder = os.path.join(data_path, dataset_name)\n",
        "\n",
        "# Storing rows.\n",
        "for filename in sorted(os.listdir(folder)):\n",
        "\n",
        "  # Computing path to file.\n",
        "  file_path = os.path.join(folder, filename)\n",
        "\n",
        "  # Checking existance of file.\n",
        "  if os.path.isfile(file_path):\n",
        "\n",
        "    # Opening the file.\n",
        "    with open(file_path, mode = \"r\") as text_file:\n",
        "\n",
        "      # Reading lines.\n",
        "      while True:\n",
        "\n",
        "        # Reading next line.\n",
        "        line = text_file.readline()\n",
        "\n",
        "        # Checking that line is different from \"\\n\" (empty line) and from last line (EOF).\n",
        "        if line and line != \"\\n\":\n",
        "\n",
        "          # Storing the word.\n",
        "          row_words.append(line.split()[0])\n",
        "\n",
        "          # Storing the POS tag.\n",
        "          row_tags.append(line.split()[1])\n",
        "\n",
        "        else:\n",
        "\n",
        "          # Creating a row.\n",
        "          dataframe_row = {\"file_id\": int(filename.split(\".\")[0].split(\"_\")[1]), \"sentence\": row_words, \"tags\": row_tags}\n",
        "\n",
        "          # Appending row.\n",
        "          dataframe_rows.append(dataframe_row)\n",
        "\n",
        "          # Resetting row_words list so to store a new sentence.\n",
        "          row_words = []\n",
        "\n",
        "          # Resetting row_tags list so to store a new sentence.\n",
        "          row_tags = []\n",
        "\n",
        "          # If, in particular, EOF is reached, then break the inner loop.\n",
        "          if not line: break\n",
        "\n",
        "# Creating pandas dataframe.\n",
        "dataframe = pd.DataFrame(dataframe_rows)\n",
        "\n",
        "# Printing dataframe head.\n",
        "dataframe.head()"
      ],
      "metadata": {
        "colab": {
          "base_uri": "https://localhost:8080/",
          "height": 206
        },
        "id": "KACvAIENUlQ2",
        "outputId": "c06d7998-4bee-46b3-a0b6-30c422404639"
      },
      "execution_count": 107,
      "outputs": [
        {
          "output_type": "execute_result",
          "data": {
            "text/plain": [
              "   file_id                                           sentence  \\\n",
              "0        1  [Pierre, Vinken, ,, 61, years, old, ,, will, j...   \n",
              "1        1  [Mr., Vinken, is, chairman, of, Elsevier, N.V....   \n",
              "2        2  [Rudolph, Agnew, ,, 55, years, old, and, forme...   \n",
              "3        3  [A, form, of, asbestos, once, used, to, make, ...   \n",
              "4        3  [The, asbestos, fiber, ,, crocidolite, ,, is, ...   \n",
              "\n",
              "                                                tags  \n",
              "0  [NNP, NNP, ,, CD, NNS, JJ, ,, MD, VB, DT, NN, ...  \n",
              "1  [NNP, NNP, VBZ, NN, IN, NNP, NNP, ,, DT, NNP, ...  \n",
              "2  [NNP, NNP, ,, CD, NNS, JJ, CC, JJ, NN, IN, NNP...  \n",
              "3  [DT, NN, IN, NN, RB, VBN, TO, VB, NNP, NN, NNS...  \n",
              "4  [DT, NN, NN, ,, NN, ,, VBZ, RB, JJ, IN, PRP, V...  "
            ],
            "text/html": [
              "\n",
              "  <div id=\"df-f65d6bde-69c4-46a0-9825-155d6c431d42\">\n",
              "    <div class=\"colab-df-container\">\n",
              "      <div>\n",
              "<style scoped>\n",
              "    .dataframe tbody tr th:only-of-type {\n",
              "        vertical-align: middle;\n",
              "    }\n",
              "\n",
              "    .dataframe tbody tr th {\n",
              "        vertical-align: top;\n",
              "    }\n",
              "\n",
              "    .dataframe thead th {\n",
              "        text-align: right;\n",
              "    }\n",
              "</style>\n",
              "<table border=\"1\" class=\"dataframe\">\n",
              "  <thead>\n",
              "    <tr style=\"text-align: right;\">\n",
              "      <th></th>\n",
              "      <th>file_id</th>\n",
              "      <th>sentence</th>\n",
              "      <th>tags</th>\n",
              "    </tr>\n",
              "  </thead>\n",
              "  <tbody>\n",
              "    <tr>\n",
              "      <th>0</th>\n",
              "      <td>1</td>\n",
              "      <td>[Pierre, Vinken, ,, 61, years, old, ,, will, j...</td>\n",
              "      <td>[NNP, NNP, ,, CD, NNS, JJ, ,, MD, VB, DT, NN, ...</td>\n",
              "    </tr>\n",
              "    <tr>\n",
              "      <th>1</th>\n",
              "      <td>1</td>\n",
              "      <td>[Mr., Vinken, is, chairman, of, Elsevier, N.V....</td>\n",
              "      <td>[NNP, NNP, VBZ, NN, IN, NNP, NNP, ,, DT, NNP, ...</td>\n",
              "    </tr>\n",
              "    <tr>\n",
              "      <th>2</th>\n",
              "      <td>2</td>\n",
              "      <td>[Rudolph, Agnew, ,, 55, years, old, and, forme...</td>\n",
              "      <td>[NNP, NNP, ,, CD, NNS, JJ, CC, JJ, NN, IN, NNP...</td>\n",
              "    </tr>\n",
              "    <tr>\n",
              "      <th>3</th>\n",
              "      <td>3</td>\n",
              "      <td>[A, form, of, asbestos, once, used, to, make, ...</td>\n",
              "      <td>[DT, NN, IN, NN, RB, VBN, TO, VB, NNP, NN, NNS...</td>\n",
              "    </tr>\n",
              "    <tr>\n",
              "      <th>4</th>\n",
              "      <td>3</td>\n",
              "      <td>[The, asbestos, fiber, ,, crocidolite, ,, is, ...</td>\n",
              "      <td>[DT, NN, NN, ,, NN, ,, VBZ, RB, JJ, IN, PRP, V...</td>\n",
              "    </tr>\n",
              "  </tbody>\n",
              "</table>\n",
              "</div>\n",
              "      <button class=\"colab-df-convert\" onclick=\"convertToInteractive('df-f65d6bde-69c4-46a0-9825-155d6c431d42')\"\n",
              "              title=\"Convert this dataframe to an interactive table.\"\n",
              "              style=\"display:none;\">\n",
              "        \n",
              "  <svg xmlns=\"http://www.w3.org/2000/svg\" height=\"24px\"viewBox=\"0 0 24 24\"\n",
              "       width=\"24px\">\n",
              "    <path d=\"M0 0h24v24H0V0z\" fill=\"none\"/>\n",
              "    <path d=\"M18.56 5.44l.94 2.06.94-2.06 2.06-.94-2.06-.94-.94-2.06-.94 2.06-2.06.94zm-11 1L8.5 8.5l.94-2.06 2.06-.94-2.06-.94L8.5 2.5l-.94 2.06-2.06.94zm10 10l.94 2.06.94-2.06 2.06-.94-2.06-.94-.94-2.06-.94 2.06-2.06.94z\"/><path d=\"M17.41 7.96l-1.37-1.37c-.4-.4-.92-.59-1.43-.59-.52 0-1.04.2-1.43.59L10.3 9.45l-7.72 7.72c-.78.78-.78 2.05 0 2.83L4 21.41c.39.39.9.59 1.41.59.51 0 1.02-.2 1.41-.59l7.78-7.78 2.81-2.81c.8-.78.8-2.07 0-2.86zM5.41 20L4 18.59l7.72-7.72 1.47 1.35L5.41 20z\"/>\n",
              "  </svg>\n",
              "      </button>\n",
              "      \n",
              "  <style>\n",
              "    .colab-df-container {\n",
              "      display:flex;\n",
              "      flex-wrap:wrap;\n",
              "      gap: 12px;\n",
              "    }\n",
              "\n",
              "    .colab-df-convert {\n",
              "      background-color: #E8F0FE;\n",
              "      border: none;\n",
              "      border-radius: 50%;\n",
              "      cursor: pointer;\n",
              "      display: none;\n",
              "      fill: #1967D2;\n",
              "      height: 32px;\n",
              "      padding: 0 0 0 0;\n",
              "      width: 32px;\n",
              "    }\n",
              "\n",
              "    .colab-df-convert:hover {\n",
              "      background-color: #E2EBFA;\n",
              "      box-shadow: 0px 1px 2px rgba(60, 64, 67, 0.3), 0px 1px 3px 1px rgba(60, 64, 67, 0.15);\n",
              "      fill: #174EA6;\n",
              "    }\n",
              "\n",
              "    [theme=dark] .colab-df-convert {\n",
              "      background-color: #3B4455;\n",
              "      fill: #D2E3FC;\n",
              "    }\n",
              "\n",
              "    [theme=dark] .colab-df-convert:hover {\n",
              "      background-color: #434B5C;\n",
              "      box-shadow: 0px 1px 3px 1px rgba(0, 0, 0, 0.15);\n",
              "      filter: drop-shadow(0px 1px 2px rgba(0, 0, 0, 0.3));\n",
              "      fill: #FFFFFF;\n",
              "    }\n",
              "  </style>\n",
              "\n",
              "      <script>\n",
              "        const buttonEl =\n",
              "          document.querySelector('#df-f65d6bde-69c4-46a0-9825-155d6c431d42 button.colab-df-convert');\n",
              "        buttonEl.style.display =\n",
              "          google.colab.kernel.accessAllowed ? 'block' : 'none';\n",
              "\n",
              "        async function convertToInteractive(key) {\n",
              "          const element = document.querySelector('#df-f65d6bde-69c4-46a0-9825-155d6c431d42');\n",
              "          const dataTable =\n",
              "            await google.colab.kernel.invokeFunction('convertToInteractive',\n",
              "                                                     [key], {});\n",
              "          if (!dataTable) return;\n",
              "\n",
              "          const docLinkHtml = 'Like what you see? Visit the ' +\n",
              "            '<a target=\"_blank\" href=https://colab.research.google.com/notebooks/data_table.ipynb>data table notebook</a>'\n",
              "            + ' to learn more about interactive tables.';\n",
              "          element.innerHTML = '';\n",
              "          dataTable['output_type'] = 'display_data';\n",
              "          await google.colab.output.renderOutput(dataTable, element);\n",
              "          const docLink = document.createElement('div');\n",
              "          docLink.innerHTML = docLinkHtml;\n",
              "          element.appendChild(docLink);\n",
              "        }\n",
              "      </script>\n",
              "    </div>\n",
              "  </div>\n",
              "  "
            ]
          },
          "metadata": {},
          "execution_count": 107
        }
      ]
    },
    {
      "cell_type": "code",
      "source": [
        "# Defining dataframe path.\n",
        "dataframe_path = os.path.join(folder, dataset_name + \".pkl\")\n",
        "\n",
        "# Saving dataframe.\n",
        "dataframe.to_pickle(dataframe_path)"
      ],
      "metadata": {
        "id": "g0PGU0V8fMN2"
      },
      "execution_count": 108,
      "outputs": []
    },
    {
      "cell_type": "code",
      "source": [
        "# Defining training split.\n",
        "TRAINING_SPLIT = range(1, 101)\n",
        "\n",
        "# Defining validation split.\n",
        "VALIDATION_SPLIT = range(101, 151)\n",
        "\n",
        "# Defining test split.\n",
        "TEST_SPLIT = range(151, 200)\n",
        "\n",
        "# Computing train dataframe.\n",
        "train = dataframe.loc[dataframe[\"file_id\"].isin(TRAINING_SPLIT)]\n",
        "\n",
        "# Computing validation dataframe.\n",
        "validation = dataframe.loc[dataframe[\"file_id\"].isin(VALIDATION_SPLIT)]\n",
        "\n",
        "# Computing test dataframe.\n",
        "test = dataframe.loc[dataframe[\"file_id\"].isin(TEST_SPLIT)]"
      ],
      "metadata": {
        "id": "51jxVKeVa0C3"
      },
      "execution_count": 109,
      "outputs": []
    },
    {
      "cell_type": "code",
      "source": [
        "# Defining empty words and tags sets.\n",
        "words, tags = set([]), set([])\n",
        "\n",
        "# Creating set of words.\n",
        "for sentence in train[\"sentence\"].tolist():\n",
        "  for word in sentence:\n",
        "    words.add(word.lower())\n",
        "\n",
        "# Creating set of tags\n",
        "for tags_list in train[\"tags\"].tolist():\n",
        "  for tag in tags_list:\n",
        "    tags.add(tag)\n",
        "\n",
        "# Building vocabulary for words.\n",
        "word_to_index = {word: i + 2 for i, word in enumerate(list(words))}\n",
        "word_to_index[\"PAD\"] = 0\n",
        "word_to_index[\"OOV\"] = 1\n",
        "\n",
        "# Building vocabulary for tags.\n",
        "tag_to_index = {tag: i + 1 for i, tag in enumerate(list(tags))}\n",
        "tag_to_index[\"PAD\"] = 0"
      ],
      "metadata": {
        "id": "gzIGFLjNibLW"
      },
      "execution_count": 110,
      "outputs": []
    },
    {
      "cell_type": "code",
      "source": [
        "word_to_index[\"the\"]"
      ],
      "metadata": {
        "colab": {
          "base_uri": "https://localhost:8080/"
        },
        "id": "-W2e8h_alXI4",
        "outputId": "af62c035-93e6-417d-dddc-89dac0950bf6"
      },
      "execution_count": 111,
      "outputs": [
        {
          "output_type": "execute_result",
          "data": {
            "text/plain": [
              "623"
            ]
          },
          "metadata": {},
          "execution_count": 111
        }
      ]
    },
    {
      "cell_type": "code",
      "source": [
        "# Function used to transform sentences into vectors of integers using the word_to_index vocabulary.\n",
        "def convert_sentence(input_sentences, vocabulary):\n",
        "\n",
        "  # Output sentences.\n",
        "  output_sentences = []\n",
        "\n",
        "  # Converting input sentences.\n",
        "  for sentence in input_sentences:\n",
        "\n",
        "    # List to store the words' indexes.\n",
        "    sentence_indexes = []\n",
        "\n",
        "    # Corventing each word in sentence.\n",
        "    for word in sentence:\n",
        "\n",
        "      try:\n",
        "\n",
        "        # Computing index.\n",
        "        sentence_indexes.append(vocabulary[word.lower()])\n",
        "\n",
        "      except KeyError:\n",
        "\n",
        "        # Computing index.\n",
        "        sentence_indexes.append(vocabulary[\"OOV\"])\n",
        "\n",
        "    # Appending list of indexes to training set.\n",
        "    output_sentences.append(sentence_indexes)\n",
        "\n",
        "  # Returning output_sentences.\n",
        "  return output_sentences\n",
        "\n",
        "# Function used to transform list of tags into vectors of integers using the tag_to_index vocabulary.\n",
        "def convert_tag(input_tags, vocabulary):\n",
        "\n",
        "  # Output tags.\n",
        "  output_tags = []\n",
        "\n",
        "  # Converting input tags.\n",
        "  for tags_list in input_tags:\n",
        "\n",
        "    # Computing index.\n",
        "    output_tags.append([vocabulary[tag] for tag in tags_list])\n",
        "\n",
        "  # Returning output_tags.\n",
        "  return output_tags"
      ],
      "metadata": {
        "id": "Y0seXBQlfBOR"
      },
      "execution_count": 112,
      "outputs": []
    },
    {
      "cell_type": "code",
      "source": [
        "# Computing train sentences.\n",
        "train_sentences = convert_sentence(input_sentences = train[\"sentence\"].tolist(), vocabulary = word_to_index)\n",
        "\n",
        "# Computing validation sentences.\n",
        "validation_sentences = convert_sentence(input_sentences = validation[\"sentence\"].tolist(), vocabulary = word_to_index)\n",
        "\n",
        "# Computing test sentences.\n",
        "test_sentences = convert_sentence(input_sentences = test[\"sentence\"].tolist(), vocabulary = word_to_index)\n",
        "\n",
        "# Computing train tags.\n",
        "train_tags = convert_tag(input_tags = train[\"tags\"].tolist(), vocabulary = tag_to_index)\n",
        "\n",
        "# Computing validation tags.\n",
        "validation_tags = convert_tag(input_tags = validation[\"tags\"].tolist(), vocabulary = tag_to_index)\n",
        "\n",
        "# Computing test tags.\n",
        "test_tags = convert_tag(input_tags = test[\"tags\"].tolist(), vocabulary = tag_to_index)"
      ],
      "metadata": {
        "id": "BujC7ZowgV8u"
      },
      "execution_count": 113,
      "outputs": []
    },
    {
      "cell_type": "code",
      "source": [
        "print(train_sentences[0])\n",
        "print(train_tags[0])"
      ],
      "metadata": {
        "colab": {
          "base_uri": "https://localhost:8080/"
        },
        "id": "CW2t3LRSoCX0",
        "outputId": "be5af4f4-4b95-44ad-db55-8f3fae40508e"
      },
      "execution_count": 114,
      "outputs": [
        {
          "output_type": "stream",
          "name": "stdout",
          "text": [
            "[6467, 6250, 2556, 3738, 4892, 2373, 2556, 927, 5216, 623, 5120, 3592, 3139, 6876, 2763, 3920, 4950, 7225]\n",
            "[39, 39, 7, 6, 24, 38, 7, 36, 13, 41, 22, 11, 41, 38, 22, 39, 6, 23]\n"
          ]
        }
      ]
    },
    {
      "cell_type": "code",
      "source": [
        "# Computing length of longest train sentence.\n",
        "MAX_LENGTH = len(max(train[\"sentence\"].tolist(), key = len))\n",
        "\n",
        "# Padding sets.\n",
        "train_sentences = pad_sequences(train_sentences, maxlen = MAX_LENGTH, padding = \"post\")\n",
        "validation_sentences = pad_sequences(validation_sentences, maxlen = MAX_LENGTH, padding = \"post\")\n",
        "test_sentences = pad_sequences(test_sentences, maxlen = MAX_LENGTH, padding = \"post\")\n",
        "train_tags = pad_sequences(train_tags, maxlen = MAX_LENGTH, padding = \"post\")\n",
        "validation_tags = pad_sequences(validation_tags, maxlen = MAX_LENGTH, padding = \"post\")\n",
        "test_tags = pad_sequences(test_tags, maxlen = MAX_LENGTH, padding = \"post\")"
      ],
      "metadata": {
        "id": "jTgbsNPNoI9g"
      },
      "execution_count": 115,
      "outputs": []
    },
    {
      "cell_type": "code",
      "source": [
        "# Number of converted words.\n",
        "hits = 0\n",
        "\n",
        "# Number of OOV words.\n",
        "misses = 0\n",
        "\n",
        "# Preparing embedding matrix so that OOV words will be assigned a vector of zeros.\n",
        "embedding_matrix = np.zeros((len(word_to_index), int(EMBEDDING_SIZE)))\n",
        "\n",
        "# Retrieving embedding vector for each word.\n",
        "for word, i in word_to_index.items():\n",
        "\n",
        "  # Computing vector.\n",
        "  vector = embedding_vocabulary.get(word)\n",
        "\n",
        "  # Checking vector.\n",
        "  if vector is not None:\n",
        "    \n",
        "    # Populating the embedding matrix.\n",
        "    embedding_matrix[i] = vector\n",
        "\n",
        "    # Increasing number of hits.\n",
        "    hits += 1\n",
        "\n",
        "  else:\n",
        "\n",
        "    # Increasing number of misses.\n",
        "    misses += 1\n",
        "\n",
        "# Printing number of hits and missed.\n",
        "print(f\"Converted {hits} words. Missed {misses} words.\")"
      ],
      "metadata": {
        "colab": {
          "base_uri": "https://localhost:8080/"
        },
        "id": "v95jYDdDo4z-",
        "outputId": "a1c7a2f8-c617-426f-ffe8-f7c48ca3156b"
      },
      "execution_count": 116,
      "outputs": [
        {
          "output_type": "stream",
          "name": "stdout",
          "text": [
            "Converted 7045 words. Missed 361 words.\n"
          ]
        }
      ]
    },
    {
      "cell_type": "code",
      "source": [
        "embedding_matrix[word_to_index[\"the\"]]"
      ],
      "metadata": {
        "colab": {
          "base_uri": "https://localhost:8080/"
        },
        "id": "9fyKXG_kq82j",
        "outputId": "d5564c01-eec9-425a-a71f-297ad72fab3d"
      },
      "execution_count": 117,
      "outputs": [
        {
          "output_type": "execute_result",
          "data": {
            "text/plain": [
              "array([ 4.1800e-01,  2.4968e-01, -4.1242e-01,  1.2170e-01,  3.4527e-01,\n",
              "       -4.4457e-02, -4.9688e-01, -1.7862e-01, -6.6023e-04, -6.5660e-01,\n",
              "        2.7843e-01, -1.4767e-01, -5.5677e-01,  1.4658e-01, -9.5095e-03,\n",
              "        1.1658e-02,  1.0204e-01, -1.2792e-01, -8.4430e-01, -1.2181e-01,\n",
              "       -1.6801e-02, -3.3279e-01, -1.5520e-01, -2.3131e-01, -1.9181e-01,\n",
              "       -1.8823e+00, -7.6746e-01,  9.9051e-02, -4.2125e-01, -1.9526e-01,\n",
              "        4.0071e+00, -1.8594e-01, -5.2287e-01, -3.1681e-01,  5.9213e-04,\n",
              "        7.4449e-03,  1.7778e-01, -1.5897e-01,  1.2041e-02, -5.4223e-02,\n",
              "       -2.9871e-01, -1.5749e-01, -3.4758e-01, -4.5637e-02, -4.4251e-01,\n",
              "        1.8785e-01,  2.7849e-03, -1.8411e-01, -1.1514e-01, -7.8581e-01])"
            ]
          },
          "metadata": {},
          "execution_count": 117
        }
      ]
    },
    {
      "cell_type": "code",
      "source": [
        "# Function used to one hot encode tag lists.\n",
        "def one_hot_encoder(tags_lists, n_categories):\n",
        "\n",
        "  # List of encodings.\n",
        "  one_hot_encodings = []\n",
        "\n",
        "  # Iterating over lists of tags (e.g. train_tags).\n",
        "  for tags_list in tags_lists:\n",
        "\n",
        "    # One-hot encoding of the specific list.\n",
        "    one_hot_encoding = []\n",
        "\n",
        "    # Iterating over tags\n",
        "    for tag in tags_list:\n",
        "\n",
        "      # Creating vector of zeros.\n",
        "      one_hot_encoding.append(np.zeros(n_categories))\n",
        "\n",
        "      # Storing a one in the tag position.\n",
        "      one_hot_encoding[-1][tag] = 1.0\n",
        "\n",
        "    # Appending the one hot encoding.\n",
        "    one_hot_encodings.append(one_hot_encoding)\n",
        "  \n",
        "  # Returning the list of encodings.\n",
        "  return np.array(one_hot_encodings)\n",
        "\n",
        "# Function used to evaluate performance of models.\n",
        "def custom_accuracy(tag_to_ignore):\n",
        "\n",
        "  # Function used to compute new accuracy, ignoring specific classes.\n",
        "  def ignore_tags(y_true, y_pred):\n",
        "\n",
        "    # Computing true and predicted classes.\n",
        "    y_true_class = backend.argmax(y_true, axis = -1)\n",
        "    y_pred_class = backend.argmax(y_pred, axis = -1)\n",
        "\n",
        "    # Computing mask to not consider tag to ignore.\n",
        "    mask = backend.cast(backend.not_equal(y_pred_class, tag_to_ignore), \"int32\")\n",
        "\n",
        "    # Computing matches without considering tags to ignore.\n",
        "    matches = backend.cast(backend.equal(y_true_class, y_pred_class), \"int32\") * mask\n",
        "\n",
        "    # Computing custom accuracy without considering tags to ignore.\n",
        "    accuracy = backend.sum(matches) / backend.maximum(backend.sum(mask), 1)\n",
        "\n",
        "    # Returning custom accuracy.\n",
        "    return accuracy\n",
        "  \n",
        "  # Returning ignore_class_accuracy function.\n",
        "  return ignore_tags"
      ],
      "metadata": {
        "id": "96dMsyQGsXqs"
      },
      "execution_count": 118,
      "outputs": []
    },
    {
      "cell_type": "code",
      "source": [
        "# One-hot encoding train tags.\n",
        "train_tags = one_hot_encoder(tags_lists = train_tags, n_categories = len(tag_to_index))\n",
        "\n",
        "# One-hot encoding validation tags.\n",
        "validation_tags = one_hot_encoder(tags_lists = validation_tags, n_categories = len(tag_to_index))\n",
        "\n",
        "# One-hot encoding test tags.\n",
        "test_tags = one_hot_encoder(tags_lists = test_tags, n_categories = len(tag_to_index))"
      ],
      "metadata": {
        "id": "VKI4zLaT0gCq"
      },
      "execution_count": 119,
      "outputs": []
    },
    {
      "cell_type": "markdown",
      "source": [
        "### Model Definition"
      ],
      "metadata": {
        "id": "Eefy9o5A6e6x"
      }
    },
    {
      "cell_type": "code",
      "source": [
        "# Model sketch.\n",
        "model = Sequential()\n",
        "model.add(InputLayer(input_shape = (MAX_LENGTH,))) \n",
        "model.add(Embedding(len(word_to_index), EMBEDDING_SIZE, weights = [embedding_matrix], trainable = False))\n",
        "model.add(Bidirectional(LSTM(256, return_sequences = True)))\n",
        "model.add(TimeDistributed(Dense(len(tag_to_index))))\n",
        "model.add(Activation(\"softmax\"))\n",
        "\n",
        "# Compiling.\n",
        "model.compile(loss = \"categorical_crossentropy\", optimizer = Adam(), metrics = [\"accuracy\", custom_accuracy(word_to_index[\"PAD\"])])\n",
        "\n",
        "# Printing summary.\n",
        "model.summary()"
      ],
      "metadata": {
        "colab": {
          "base_uri": "https://localhost:8080/"
        },
        "id": "dltAFESHshTV",
        "outputId": "3247ca65-623e-46e2-a7f4-aa3af1cbde66"
      },
      "execution_count": 120,
      "outputs": [
        {
          "output_type": "stream",
          "name": "stdout",
          "text": [
            "Model: \"sequential_7\"\n",
            "_________________________________________________________________\n",
            " Layer (type)                Output Shape              Param #   \n",
            "=================================================================\n",
            " embedding_7 (Embedding)     (None, 249, 50)           370300    \n",
            "                                                                 \n",
            " bidirectional_7 (Bidirectio  (None, 249, 512)         628736    \n",
            " nal)                                                            \n",
            "                                                                 \n",
            " time_distributed_7 (TimeDis  (None, 249, 46)          23598     \n",
            " tributed)                                                       \n",
            "                                                                 \n",
            " activation_7 (Activation)   (None, 249, 46)           0         \n",
            "                                                                 \n",
            "=================================================================\n",
            "Total params: 1,022,634\n",
            "Trainable params: 652,334\n",
            "Non-trainable params: 370,300\n",
            "_________________________________________________________________\n"
          ]
        }
      ]
    },
    {
      "cell_type": "code",
      "source": [
        "# Fitting the model.\n",
        "model.fit(train_sentences, train_tags, batch_size = 256, epochs = 40, validation_data = (validation_sentences, validation_tags))"
      ],
      "metadata": {
        "colab": {
          "base_uri": "https://localhost:8080/"
        },
        "id": "1sw2bOdjiaXz",
        "outputId": "54967022-43b6-4c36-a1f2-cba8c6c9813d"
      },
      "execution_count": 121,
      "outputs": [
        {
          "output_type": "stream",
          "name": "stdout",
          "text": [
            "Epoch 1/40\n",
            "8/8 [==============================] - 5s 277ms/step - loss: 2.7618 - accuracy: 0.8627 - ignore_tags: 0.1120 - val_loss: 0.4893 - val_accuracy: 0.9091 - val_ignore_tags: 0.1669\n",
            "Epoch 2/40\n",
            "8/8 [==============================] - 1s 154ms/step - loss: 0.3780 - accuracy: 0.9148 - ignore_tags: 0.1874 - val_loss: 0.3224 - val_accuracy: 0.9190 - val_ignore_tags: 0.2008\n",
            "Epoch 3/40\n",
            "8/8 [==============================] - 1s 151ms/step - loss: 0.3004 - accuracy: 0.9207 - ignore_tags: 0.2125 - val_loss: 0.2852 - val_accuracy: 0.9220 - val_ignore_tags: 0.2262\n",
            "Epoch 4/40\n",
            "8/8 [==============================] - 1s 153ms/step - loss: 0.2719 - accuracy: 0.9263 - ignore_tags: 0.2642 - val_loss: 0.2657 - val_accuracy: 0.9277 - val_ignore_tags: 0.2713\n",
            "Epoch 5/40\n",
            "8/8 [==============================] - 1s 155ms/step - loss: 0.2548 - accuracy: 0.9300 - ignore_tags: 0.2948 - val_loss: 0.2513 - val_accuracy: 0.9316 - val_ignore_tags: 0.3145\n",
            "Epoch 6/40\n",
            "8/8 [==============================] - 1s 154ms/step - loss: 0.2403 - accuracy: 0.9368 - ignore_tags: 0.3631 - val_loss: 0.2371 - val_accuracy: 0.9402 - val_ignore_tags: 0.3998\n",
            "Epoch 7/40\n",
            "8/8 [==============================] - 1s 154ms/step - loss: 0.2261 - accuracy: 0.9423 - ignore_tags: 0.4145 - val_loss: 0.2239 - val_accuracy: 0.9429 - val_ignore_tags: 0.4327\n",
            "Epoch 8/40\n",
            "8/8 [==============================] - 1s 155ms/step - loss: 0.2123 - accuracy: 0.9465 - ignore_tags: 0.4558 - val_loss: 0.2108 - val_accuracy: 0.9462 - val_ignore_tags: 0.4619\n",
            "Epoch 9/40\n",
            "8/8 [==============================] - 1s 155ms/step - loss: 0.1986 - accuracy: 0.9493 - ignore_tags: 0.4841 - val_loss: 0.1983 - val_accuracy: 0.9483 - val_ignore_tags: 0.4846\n",
            "Epoch 10/40\n",
            "8/8 [==============================] - 1s 156ms/step - loss: 0.1853 - accuracy: 0.9524 - ignore_tags: 0.5139 - val_loss: 0.1862 - val_accuracy: 0.9508 - val_ignore_tags: 0.5080\n",
            "Epoch 11/40\n",
            "8/8 [==============================] - 1s 155ms/step - loss: 0.1726 - accuracy: 0.9552 - ignore_tags: 0.5435 - val_loss: 0.1748 - val_accuracy: 0.9541 - val_ignore_tags: 0.5422\n",
            "Epoch 12/40\n",
            "8/8 [==============================] - 1s 155ms/step - loss: 0.1611 - accuracy: 0.9584 - ignore_tags: 0.5734 - val_loss: 0.1649 - val_accuracy: 0.9562 - val_ignore_tags: 0.5620\n",
            "Epoch 13/40\n",
            "8/8 [==============================] - 1s 154ms/step - loss: 0.1507 - accuracy: 0.9610 - ignore_tags: 0.6000 - val_loss: 0.1558 - val_accuracy: 0.9585 - val_ignore_tags: 0.5824\n",
            "Epoch 14/40\n",
            "8/8 [==============================] - 1s 155ms/step - loss: 0.1416 - accuracy: 0.9631 - ignore_tags: 0.6218 - val_loss: 0.1493 - val_accuracy: 0.9595 - val_ignore_tags: 0.5954\n",
            "Epoch 15/40\n",
            "8/8 [==============================] - 1s 155ms/step - loss: 0.1349 - accuracy: 0.9642 - ignore_tags: 0.6348 - val_loss: 0.1429 - val_accuracy: 0.9615 - val_ignore_tags: 0.6167\n",
            "Epoch 16/40\n",
            "8/8 [==============================] - 1s 156ms/step - loss: 0.1277 - accuracy: 0.9664 - ignore_tags: 0.6559 - val_loss: 0.1361 - val_accuracy: 0.9635 - val_ignore_tags: 0.6341\n",
            "Epoch 17/40\n",
            "8/8 [==============================] - 1s 158ms/step - loss: 0.1212 - accuracy: 0.9684 - ignore_tags: 0.6757 - val_loss: 0.1302 - val_accuracy: 0.9650 - val_ignore_tags: 0.6484\n",
            "Epoch 18/40\n",
            "8/8 [==============================] - 1s 156ms/step - loss: 0.1153 - accuracy: 0.9697 - ignore_tags: 0.6883 - val_loss: 0.1252 - val_accuracy: 0.9659 - val_ignore_tags: 0.6581\n",
            "Epoch 19/40\n",
            "8/8 [==============================] - 1s 157ms/step - loss: 0.1101 - accuracy: 0.9709 - ignore_tags: 0.7004 - val_loss: 0.1213 - val_accuracy: 0.9666 - val_ignore_tags: 0.6651\n",
            "Epoch 20/40\n",
            "8/8 [==============================] - 1s 157ms/step - loss: 0.1057 - accuracy: 0.9718 - ignore_tags: 0.7094 - val_loss: 0.1172 - val_accuracy: 0.9674 - val_ignore_tags: 0.6736\n",
            "Epoch 21/40\n",
            "8/8 [==============================] - 1s 157ms/step - loss: 0.1018 - accuracy: 0.9726 - ignore_tags: 0.7189 - val_loss: 0.1133 - val_accuracy: 0.9685 - val_ignore_tags: 0.6830\n",
            "Epoch 22/40\n",
            "8/8 [==============================] - 1s 158ms/step - loss: 0.0983 - accuracy: 0.9736 - ignore_tags: 0.7277 - val_loss: 0.1107 - val_accuracy: 0.9690 - val_ignore_tags: 0.6884\n",
            "Epoch 23/40\n",
            "8/8 [==============================] - 1s 157ms/step - loss: 0.0952 - accuracy: 0.9743 - ignore_tags: 0.7355 - val_loss: 0.1076 - val_accuracy: 0.9698 - val_ignore_tags: 0.6977\n",
            "Epoch 24/40\n",
            "8/8 [==============================] - 1s 158ms/step - loss: 0.0925 - accuracy: 0.9750 - ignore_tags: 0.7428 - val_loss: 0.1052 - val_accuracy: 0.9702 - val_ignore_tags: 0.7009\n",
            "Epoch 25/40\n",
            "8/8 [==============================] - 1s 158ms/step - loss: 0.0898 - accuracy: 0.9755 - ignore_tags: 0.7477 - val_loss: 0.1031 - val_accuracy: 0.9707 - val_ignore_tags: 0.7042\n",
            "Epoch 26/40\n",
            "8/8 [==============================] - 1s 158ms/step - loss: 0.0873 - accuracy: 0.9761 - ignore_tags: 0.7533 - val_loss: 0.1009 - val_accuracy: 0.9712 - val_ignore_tags: 0.7113\n",
            "Epoch 27/40\n",
            "8/8 [==============================] - 1s 157ms/step - loss: 0.0851 - accuracy: 0.9766 - ignore_tags: 0.7583 - val_loss: 0.0991 - val_accuracy: 0.9717 - val_ignore_tags: 0.7161\n",
            "Epoch 28/40\n",
            "8/8 [==============================] - 1s 157ms/step - loss: 0.0831 - accuracy: 0.9771 - ignore_tags: 0.7638 - val_loss: 0.0972 - val_accuracy: 0.9721 - val_ignore_tags: 0.7178\n",
            "Epoch 29/40\n",
            "8/8 [==============================] - 1s 157ms/step - loss: 0.0812 - accuracy: 0.9776 - ignore_tags: 0.7698 - val_loss: 0.0955 - val_accuracy: 0.9726 - val_ignore_tags: 0.7243\n",
            "Epoch 30/40\n",
            "8/8 [==============================] - 1s 157ms/step - loss: 0.0794 - accuracy: 0.9780 - ignore_tags: 0.7739 - val_loss: 0.0940 - val_accuracy: 0.9731 - val_ignore_tags: 0.7293\n",
            "Epoch 31/40\n",
            "8/8 [==============================] - 1s 157ms/step - loss: 0.0778 - accuracy: 0.9784 - ignore_tags: 0.7765 - val_loss: 0.0925 - val_accuracy: 0.9734 - val_ignore_tags: 0.7340\n",
            "Epoch 32/40\n",
            "8/8 [==============================] - 1s 157ms/step - loss: 0.0762 - accuracy: 0.9788 - ignore_tags: 0.7819 - val_loss: 0.0911 - val_accuracy: 0.9740 - val_ignore_tags: 0.7384\n",
            "Epoch 33/40\n",
            "8/8 [==============================] - 1s 156ms/step - loss: 0.0746 - accuracy: 0.9793 - ignore_tags: 0.7860 - val_loss: 0.0900 - val_accuracy: 0.9742 - val_ignore_tags: 0.7397\n",
            "Epoch 34/40\n",
            "8/8 [==============================] - 1s 156ms/step - loss: 0.0733 - accuracy: 0.9797 - ignore_tags: 0.7907 - val_loss: 0.0884 - val_accuracy: 0.9745 - val_ignore_tags: 0.7441\n",
            "Epoch 35/40\n",
            "8/8 [==============================] - 1s 157ms/step - loss: 0.0719 - accuracy: 0.9800 - ignore_tags: 0.7938 - val_loss: 0.0869 - val_accuracy: 0.9750 - val_ignore_tags: 0.7489\n",
            "Epoch 36/40\n",
            "8/8 [==============================] - 1s 156ms/step - loss: 0.0706 - accuracy: 0.9803 - ignore_tags: 0.7972 - val_loss: 0.0860 - val_accuracy: 0.9753 - val_ignore_tags: 0.7523\n",
            "Epoch 37/40\n",
            "8/8 [==============================] - 1s 156ms/step - loss: 0.0694 - accuracy: 0.9806 - ignore_tags: 0.7999 - val_loss: 0.0849 - val_accuracy: 0.9755 - val_ignore_tags: 0.7548\n",
            "Epoch 38/40\n",
            "8/8 [==============================] - 1s 154ms/step - loss: 0.0683 - accuracy: 0.9809 - ignore_tags: 0.8033 - val_loss: 0.0842 - val_accuracy: 0.9758 - val_ignore_tags: 0.7573\n",
            "Epoch 39/40\n",
            "8/8 [==============================] - 1s 156ms/step - loss: 0.0672 - accuracy: 0.9811 - ignore_tags: 0.8050 - val_loss: 0.0831 - val_accuracy: 0.9759 - val_ignore_tags: 0.7582\n",
            "Epoch 40/40\n",
            "8/8 [==============================] - 1s 155ms/step - loss: 0.0661 - accuracy: 0.9814 - ignore_tags: 0.8083 - val_loss: 0.0816 - val_accuracy: 0.9763 - val_ignore_tags: 0.7625\n"
          ]
        },
        {
          "output_type": "execute_result",
          "data": {
            "text/plain": [
              "<keras.callbacks.History at 0x7fb359cacb50>"
            ]
          },
          "metadata": {},
          "execution_count": 121
        }
      ]
    },
    {
      "cell_type": "code",
      "source": [
        "print(f\"Accuracy on test set: {model.evaluate(test_sentences, test_tags)[-1] * 100}%.\")"
      ],
      "metadata": {
        "colab": {
          "base_uri": "https://localhost:8080/"
        },
        "id": "SrmlU006rG3s",
        "outputId": "ac95dd2a-7283-4b5d-e485-72d466858909"
      },
      "execution_count": 122,
      "outputs": [
        {
          "output_type": "stream",
          "name": "stdout",
          "text": [
            "21/21 [==============================] - 0s 14ms/step - loss: 0.0730 - accuracy: 0.9782 - ignore_tags: 0.7722\n",
            "Accuracy on test set: 77.22469568252563%.\n"
          ]
        }
      ]
    },
    {
      "cell_type": "code",
      "source": [
        "# TODO: compute macro F1-score."
      ],
      "metadata": {
        "id": "s3w5ghuE63ss"
      },
      "execution_count": 123,
      "outputs": []
    }
  ]
}