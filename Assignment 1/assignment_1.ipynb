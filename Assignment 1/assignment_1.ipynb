{
  "nbformat": 4,
  "nbformat_minor": 0,
  "metadata": {
    "colab": {
      "provenance": [],
      "collapsed_sections": []
    },
    "kernelspec": {
      "name": "python3",
      "display_name": "Python 3"
    },
    "language_info": {
      "name": "python"
    },
    "accelerator": "GPU",
    "gpuClass": "standard"
  },
  "cells": [
    {
      "cell_type": "markdown",
      "source": [
        "### Libraries"
      ],
      "metadata": {
        "id": "6OBJyXJaTZzd"
      }
    },
    {
      "cell_type": "code",
      "execution_count": 135,
      "metadata": {
        "id": "C7sW4HdzTURu"
      },
      "outputs": [],
      "source": [
        "# Importing os.\n",
        "import os\n",
        "\n",
        "# Importing urllib.request.\n",
        "import urllib.request\n",
        "\n",
        "# Importing zipfile.\n",
        "import zipfile\n",
        "\n",
        "# Importing pandas.\n",
        "import pandas as pd\n",
        "\n",
        "# Importing numpy.\n",
        "import numpy as np\n",
        "\n",
        "# Importing train_test_split.\n",
        "from sklearn.model_selection import train_test_split\n",
        "\n",
        "# Importing backend.\n",
        "from keras import backend\n",
        "\n",
        "# Importing set_random_seed.\n",
        "from keras.utils import set_random_seed\n",
        "\n",
        "# Importing pad_sequences.\n",
        "from keras_preprocessing.sequence import pad_sequences\n",
        "\n",
        "# Importing Sequential.\n",
        "from keras.models import Sequential\n",
        "\n",
        "# Importing Dense, LSTM, InputLayer, Bidirectional, TimeDistributed, Embedding, Activation.\n",
        "from keras.layers import Dense, LSTM, InputLayer, Bidirectional, TimeDistributed, Embedding, Activation\n",
        "\n",
        "# Importing Adam.\n",
        "from keras.optimizers import Adam\n",
        "\n",
        "# Importing classification_report.\n",
        "from sklearn.metrics import classification_report\n",
        "\n",
        "# Sets reproducibility.\n",
        "def set_reproducibility(seed):\n",
        "\n",
        "  # Sets Python, Numpy, Tensorflow random seed.\n",
        "  set_random_seed(seed)\n",
        "\n",
        "# Setting seed.\n",
        "set_reproducibility(seed = 42)"
      ]
    },
    {
      "cell_type": "markdown",
      "source": [
        "### Data Preprocessing"
      ],
      "metadata": {
        "id": "c9thEzbNTfiz"
      }
    },
    {
      "cell_type": "code",
      "source": [
        "# Function used to download .zips.\n",
        "def downloader(url, folder_name, filename):\n",
        "\n",
        "  # Defining data folder path.\n",
        "  data_path = os.path.join(os.getcwd(), folder_name)\n",
        "\n",
        "  # Creating data folder.\n",
        "  if not os.path.exists(data_path):\n",
        "      os.makedirs(data_path)\n",
        "\n",
        "  # Defining .zip file path.\n",
        "  zip_path = os.path.join(os.getcwd(), folder_name, filename)\n",
        "\n",
        "  # Requesting .zip file.\n",
        "  if not os.path.exists(zip_path):\n",
        "      urllib.request.urlretrieve(url, zip_path)\n",
        "\n",
        "  # Extracting data from .zip.\n",
        "  with zipfile.ZipFile(zip_path, \"r\") as zip_ref:\n",
        "      zip_ref.extractall(path = data_path)\n",
        "\n",
        "  # Returning data_path and zip_path.\n",
        "  return data_path, zip_path"
      ],
      "metadata": {
        "id": "hOWsBikzhqq8"
      },
      "execution_count": 113,
      "outputs": []
    },
    {
      "cell_type": "code",
      "source": [
        "# Downloading dataset.\n",
        "data_path, _ = downloader(url = \"https://raw.githubusercontent.com/nltk/nltk_data/gh-pages/packages/corpora/dependency_treebank.zip\", folder_name = \"data\", filename = \"dependency_treebank.zip\")\n",
        "\n",
        "# Downloading glove.\n",
        "glove_path, _ = downloader(url = \"https://nlp.stanford.edu/data/glove.6B.zip\", folder_name = \"glove\", filename = \"glove.6B.zip\")"
      ],
      "metadata": {
        "id": "7f3f0k3KTcr3"
      },
      "execution_count": 114,
      "outputs": []
    },
    {
      "cell_type": "code",
      "source": [
        "# Defining the dataset name.\n",
        "dataset_name = \"dependency_treebank\"\n",
        "\n",
        "# Defining path to first training sample.\n",
        "file_path = os.path.join(data_path, dataset_name, \"wsj_0001.dp\")\n",
        "\n",
        "# Reading first training sample.\n",
        "if os.path.isfile(file_path):\n",
        "\n",
        "  # Printing file.\n",
        "  with open(file_path, mode = \"r\") as text_file: print(text_file.read())"
      ],
      "metadata": {
        "id": "QZDEgowtTqYf",
        "colab": {
          "base_uri": "https://localhost:8080/"
        },
        "outputId": "91cbff83-002f-4f4e-9cf9-51130d52c2e4"
      },
      "execution_count": 115,
      "outputs": [
        {
          "output_type": "stream",
          "name": "stdout",
          "text": [
            "Pierre\tNNP\t2\n",
            "Vinken\tNNP\t8\n",
            ",\t,\t2\n",
            "61\tCD\t5\n",
            "years\tNNS\t6\n",
            "old\tJJ\t2\n",
            ",\t,\t2\n",
            "will\tMD\t0\n",
            "join\tVB\t8\n",
            "the\tDT\t11\n",
            "board\tNN\t9\n",
            "as\tIN\t9\n",
            "a\tDT\t15\n",
            "nonexecutive\tJJ\t15\n",
            "director\tNN\t12\n",
            "Nov.\tNNP\t9\n",
            "29\tCD\t16\n",
            ".\t.\t8\n",
            "\n",
            "Mr.\tNNP\t2\n",
            "Vinken\tNNP\t3\n",
            "is\tVBZ\t0\n",
            "chairman\tNN\t3\n",
            "of\tIN\t4\n",
            "Elsevier\tNNP\t7\n",
            "N.V.\tNNP\t12\n",
            ",\t,\t12\n",
            "the\tDT\t12\n",
            "Dutch\tNNP\t12\n",
            "publishing\tVBG\t12\n",
            "group\tNN\t5\n",
            ".\t.\t3\n",
            "\n"
          ]
        }
      ]
    },
    {
      "cell_type": "code",
      "source": [
        "# Defining embedding size.\n",
        "EMBEDDING_SIZE = 50\n",
        "\n",
        "# Defining specific glove's file path.\n",
        "glove_file = os.path.join(os.getcwd(), glove_path, f\"glove.6B.{str(EMBEDDING_SIZE)}d.txt\")\n",
        "\n",
        "# Reading lines of file.\n",
        "with open(glove_file, encoding = \"utf8\" ) as text_file: \n",
        "  lines = text_file.readlines()\n",
        "\n",
        "# Defining initial vocabulary.\n",
        "embedding_vocabulary = {}\n",
        "\n",
        "# Reading single lines.\n",
        "for line in lines:\n",
        "\n",
        "  # Splitting line.\n",
        "  splits = line.split()\n",
        "\n",
        "  # Storing line into vocabulary.\n",
        "  embedding_vocabulary[splits[0]] = np.array([float(val) for val in splits[1:]])\n",
        "\n",
        "# Printing one entry of the vocabulary.\n",
        "print(\"The embedding for 'the' is:\\n{}.\".format(embedding_vocabulary[\"the\"]))"
      ],
      "metadata": {
        "id": "TkeSn0ePqsG2",
        "colab": {
          "base_uri": "https://localhost:8080/"
        },
        "outputId": "d2b79623-6612-4bf0-e424-5c9969a34a55"
      },
      "execution_count": 116,
      "outputs": [
        {
          "output_type": "stream",
          "name": "stdout",
          "text": [
            "The embedding for 'the' is:\n",
            "[ 4.1800e-01  2.4968e-01 -4.1242e-01  1.2170e-01  3.4527e-01 -4.4457e-02\n",
            " -4.9688e-01 -1.7862e-01 -6.6023e-04 -6.5660e-01  2.7843e-01 -1.4767e-01\n",
            " -5.5677e-01  1.4658e-01 -9.5095e-03  1.1658e-02  1.0204e-01 -1.2792e-01\n",
            " -8.4430e-01 -1.2181e-01 -1.6801e-02 -3.3279e-01 -1.5520e-01 -2.3131e-01\n",
            " -1.9181e-01 -1.8823e+00 -7.6746e-01  9.9051e-02 -4.2125e-01 -1.9526e-01\n",
            "  4.0071e+00 -1.8594e-01 -5.2287e-01 -3.1681e-01  5.9213e-04  7.4449e-03\n",
            "  1.7778e-01 -1.5897e-01  1.2041e-02 -5.4223e-02 -2.9871e-01 -1.5749e-01\n",
            " -3.4758e-01 -4.5637e-02 -4.4251e-01  1.8785e-01  2.7849e-03 -1.8411e-01\n",
            " -1.1514e-01 -7.8581e-01].\n"
          ]
        }
      ]
    },
    {
      "cell_type": "code",
      "source": [
        "# List containing dataframe rows.\n",
        "dataframe_rows = []\n",
        "\n",
        "# List containing words of a single sentence.\n",
        "row_words = []\n",
        "\n",
        "# List containing tags of a single sentence.\n",
        "row_tags = []\n",
        "\n",
        "# Defining data folder path.\n",
        "folder = os.path.join(data_path, dataset_name)\n",
        "\n",
        "# Storing rows.\n",
        "for filename in sorted(os.listdir(folder)):\n",
        "\n",
        "  # Computing path to file.\n",
        "  file_path = os.path.join(folder, filename)\n",
        "\n",
        "  # Checking existance of file.\n",
        "  if os.path.isfile(file_path):\n",
        "\n",
        "    # Opening the file.\n",
        "    with open(file_path, mode = \"r\") as text_file:\n",
        "\n",
        "      # Reading lines.\n",
        "      while True:\n",
        "\n",
        "        # Reading next line.\n",
        "        line = text_file.readline()\n",
        "\n",
        "        # Checking that line is different from \"\\n\" (empty line) and from last line (EOF).\n",
        "        if line and line != \"\\n\":\n",
        "\n",
        "          # Storing the word.\n",
        "          row_words.append(line.split()[0])\n",
        "\n",
        "          # Storing the POS tag.\n",
        "          row_tags.append(line.split()[1])\n",
        "\n",
        "        else:\n",
        "\n",
        "          # Creating a row.\n",
        "          dataframe_row = {\"file_id\": int(filename.split(\".\")[0].split(\"_\")[1]), \"sentence\": row_words, \"tags\": row_tags}\n",
        "\n",
        "          # Appending row.\n",
        "          dataframe_rows.append(dataframe_row)\n",
        "\n",
        "          # Resetting row_words list so to store a new sentence.\n",
        "          row_words = []\n",
        "\n",
        "          # Resetting row_tags list so to store a new sentence.\n",
        "          row_tags = []\n",
        "\n",
        "          # If, in particular, EOF is reached, then break the inner loop.\n",
        "          if not line: break\n",
        "\n",
        "# Creating pandas dataframe.\n",
        "dataframe = pd.DataFrame(dataframe_rows)\n",
        "\n",
        "# Printing dataframe head.\n",
        "dataframe.head()"
      ],
      "metadata": {
        "id": "KACvAIENUlQ2",
        "colab": {
          "base_uri": "https://localhost:8080/",
          "height": 206
        },
        "outputId": "aed8d6ef-b164-47be-b633-00b97d1780bb"
      },
      "execution_count": 117,
      "outputs": [
        {
          "output_type": "execute_result",
          "data": {
            "text/plain": [
              "   file_id                                           sentence  \\\n",
              "0        1  [Pierre, Vinken, ,, 61, years, old, ,, will, j...   \n",
              "1        1  [Mr., Vinken, is, chairman, of, Elsevier, N.V....   \n",
              "2        2  [Rudolph, Agnew, ,, 55, years, old, and, forme...   \n",
              "3        3  [A, form, of, asbestos, once, used, to, make, ...   \n",
              "4        3  [The, asbestos, fiber, ,, crocidolite, ,, is, ...   \n",
              "\n",
              "                                                tags  \n",
              "0  [NNP, NNP, ,, CD, NNS, JJ, ,, MD, VB, DT, NN, ...  \n",
              "1  [NNP, NNP, VBZ, NN, IN, NNP, NNP, ,, DT, NNP, ...  \n",
              "2  [NNP, NNP, ,, CD, NNS, JJ, CC, JJ, NN, IN, NNP...  \n",
              "3  [DT, NN, IN, NN, RB, VBN, TO, VB, NNP, NN, NNS...  \n",
              "4  [DT, NN, NN, ,, NN, ,, VBZ, RB, JJ, IN, PRP, V...  "
            ],
            "text/html": [
              "\n",
              "  <div id=\"df-44266b2f-a5dd-4809-a146-0e8e6e57538c\">\n",
              "    <div class=\"colab-df-container\">\n",
              "      <div>\n",
              "<style scoped>\n",
              "    .dataframe tbody tr th:only-of-type {\n",
              "        vertical-align: middle;\n",
              "    }\n",
              "\n",
              "    .dataframe tbody tr th {\n",
              "        vertical-align: top;\n",
              "    }\n",
              "\n",
              "    .dataframe thead th {\n",
              "        text-align: right;\n",
              "    }\n",
              "</style>\n",
              "<table border=\"1\" class=\"dataframe\">\n",
              "  <thead>\n",
              "    <tr style=\"text-align: right;\">\n",
              "      <th></th>\n",
              "      <th>file_id</th>\n",
              "      <th>sentence</th>\n",
              "      <th>tags</th>\n",
              "    </tr>\n",
              "  </thead>\n",
              "  <tbody>\n",
              "    <tr>\n",
              "      <th>0</th>\n",
              "      <td>1</td>\n",
              "      <td>[Pierre, Vinken, ,, 61, years, old, ,, will, j...</td>\n",
              "      <td>[NNP, NNP, ,, CD, NNS, JJ, ,, MD, VB, DT, NN, ...</td>\n",
              "    </tr>\n",
              "    <tr>\n",
              "      <th>1</th>\n",
              "      <td>1</td>\n",
              "      <td>[Mr., Vinken, is, chairman, of, Elsevier, N.V....</td>\n",
              "      <td>[NNP, NNP, VBZ, NN, IN, NNP, NNP, ,, DT, NNP, ...</td>\n",
              "    </tr>\n",
              "    <tr>\n",
              "      <th>2</th>\n",
              "      <td>2</td>\n",
              "      <td>[Rudolph, Agnew, ,, 55, years, old, and, forme...</td>\n",
              "      <td>[NNP, NNP, ,, CD, NNS, JJ, CC, JJ, NN, IN, NNP...</td>\n",
              "    </tr>\n",
              "    <tr>\n",
              "      <th>3</th>\n",
              "      <td>3</td>\n",
              "      <td>[A, form, of, asbestos, once, used, to, make, ...</td>\n",
              "      <td>[DT, NN, IN, NN, RB, VBN, TO, VB, NNP, NN, NNS...</td>\n",
              "    </tr>\n",
              "    <tr>\n",
              "      <th>4</th>\n",
              "      <td>3</td>\n",
              "      <td>[The, asbestos, fiber, ,, crocidolite, ,, is, ...</td>\n",
              "      <td>[DT, NN, NN, ,, NN, ,, VBZ, RB, JJ, IN, PRP, V...</td>\n",
              "    </tr>\n",
              "  </tbody>\n",
              "</table>\n",
              "</div>\n",
              "      <button class=\"colab-df-convert\" onclick=\"convertToInteractive('df-44266b2f-a5dd-4809-a146-0e8e6e57538c')\"\n",
              "              title=\"Convert this dataframe to an interactive table.\"\n",
              "              style=\"display:none;\">\n",
              "        \n",
              "  <svg xmlns=\"http://www.w3.org/2000/svg\" height=\"24px\"viewBox=\"0 0 24 24\"\n",
              "       width=\"24px\">\n",
              "    <path d=\"M0 0h24v24H0V0z\" fill=\"none\"/>\n",
              "    <path d=\"M18.56 5.44l.94 2.06.94-2.06 2.06-.94-2.06-.94-.94-2.06-.94 2.06-2.06.94zm-11 1L8.5 8.5l.94-2.06 2.06-.94-2.06-.94L8.5 2.5l-.94 2.06-2.06.94zm10 10l.94 2.06.94-2.06 2.06-.94-2.06-.94-.94-2.06-.94 2.06-2.06.94z\"/><path d=\"M17.41 7.96l-1.37-1.37c-.4-.4-.92-.59-1.43-.59-.52 0-1.04.2-1.43.59L10.3 9.45l-7.72 7.72c-.78.78-.78 2.05 0 2.83L4 21.41c.39.39.9.59 1.41.59.51 0 1.02-.2 1.41-.59l7.78-7.78 2.81-2.81c.8-.78.8-2.07 0-2.86zM5.41 20L4 18.59l7.72-7.72 1.47 1.35L5.41 20z\"/>\n",
              "  </svg>\n",
              "      </button>\n",
              "      \n",
              "  <style>\n",
              "    .colab-df-container {\n",
              "      display:flex;\n",
              "      flex-wrap:wrap;\n",
              "      gap: 12px;\n",
              "    }\n",
              "\n",
              "    .colab-df-convert {\n",
              "      background-color: #E8F0FE;\n",
              "      border: none;\n",
              "      border-radius: 50%;\n",
              "      cursor: pointer;\n",
              "      display: none;\n",
              "      fill: #1967D2;\n",
              "      height: 32px;\n",
              "      padding: 0 0 0 0;\n",
              "      width: 32px;\n",
              "    }\n",
              "\n",
              "    .colab-df-convert:hover {\n",
              "      background-color: #E2EBFA;\n",
              "      box-shadow: 0px 1px 2px rgba(60, 64, 67, 0.3), 0px 1px 3px 1px rgba(60, 64, 67, 0.15);\n",
              "      fill: #174EA6;\n",
              "    }\n",
              "\n",
              "    [theme=dark] .colab-df-convert {\n",
              "      background-color: #3B4455;\n",
              "      fill: #D2E3FC;\n",
              "    }\n",
              "\n",
              "    [theme=dark] .colab-df-convert:hover {\n",
              "      background-color: #434B5C;\n",
              "      box-shadow: 0px 1px 3px 1px rgba(0, 0, 0, 0.15);\n",
              "      filter: drop-shadow(0px 1px 2px rgba(0, 0, 0, 0.3));\n",
              "      fill: #FFFFFF;\n",
              "    }\n",
              "  </style>\n",
              "\n",
              "      <script>\n",
              "        const buttonEl =\n",
              "          document.querySelector('#df-44266b2f-a5dd-4809-a146-0e8e6e57538c button.colab-df-convert');\n",
              "        buttonEl.style.display =\n",
              "          google.colab.kernel.accessAllowed ? 'block' : 'none';\n",
              "\n",
              "        async function convertToInteractive(key) {\n",
              "          const element = document.querySelector('#df-44266b2f-a5dd-4809-a146-0e8e6e57538c');\n",
              "          const dataTable =\n",
              "            await google.colab.kernel.invokeFunction('convertToInteractive',\n",
              "                                                     [key], {});\n",
              "          if (!dataTable) return;\n",
              "\n",
              "          const docLinkHtml = 'Like what you see? Visit the ' +\n",
              "            '<a target=\"_blank\" href=https://colab.research.google.com/notebooks/data_table.ipynb>data table notebook</a>'\n",
              "            + ' to learn more about interactive tables.';\n",
              "          element.innerHTML = '';\n",
              "          dataTable['output_type'] = 'display_data';\n",
              "          await google.colab.output.renderOutput(dataTable, element);\n",
              "          const docLink = document.createElement('div');\n",
              "          docLink.innerHTML = docLinkHtml;\n",
              "          element.appendChild(docLink);\n",
              "        }\n",
              "      </script>\n",
              "    </div>\n",
              "  </div>\n",
              "  "
            ]
          },
          "metadata": {},
          "execution_count": 117
        }
      ]
    },
    {
      "cell_type": "code",
      "source": [
        "# Defining training split.\n",
        "TRAINING_SPLIT = range(1, 101)\n",
        "\n",
        "# Defining validation split.\n",
        "VALIDATION_SPLIT = range(101, 151)\n",
        "\n",
        "# Defining test split.\n",
        "TEST_SPLIT = range(151, 200)\n",
        "\n",
        "# Computing train dataframe.\n",
        "train = dataframe.loc[dataframe[\"file_id\"].isin(TRAINING_SPLIT)]\n",
        "\n",
        "# Computing validation dataframe.\n",
        "validation = dataframe.loc[dataframe[\"file_id\"].isin(VALIDATION_SPLIT)]\n",
        "\n",
        "# Computing test dataframe.\n",
        "test = dataframe.loc[dataframe[\"file_id\"].isin(TEST_SPLIT)]"
      ],
      "metadata": {
        "id": "51jxVKeVa0C3"
      },
      "execution_count": 118,
      "outputs": []
    },
    {
      "cell_type": "code",
      "source": [
        "# Defining empty words and tags sets.\n",
        "words, tags = set([]), set([])\n",
        "\n",
        "# Creating set of words.\n",
        "for sentence in train[\"sentence\"].tolist():\n",
        "  for word in sentence:\n",
        "    words.add(word.lower())\n",
        "\n",
        "# Creating set of tags\n",
        "for tags_list in train[\"tags\"].tolist():\n",
        "  for tag in tags_list:\n",
        "    tags.add(tag)\n",
        "\n",
        "# Building vocabulary for words.\n",
        "word_to_index = {}\n",
        "word_to_index[\"PAD\"] = 0\n",
        "word_to_index[\"OOV\"] = 1\n",
        "for i, word in enumerate(list(words)):\n",
        "  word_to_index[word] = i + 2\n",
        "\n",
        "# Building vocabulary for tags.\n",
        "tag_to_index = {}\n",
        "tag_to_index[\"PAD\"] = 0\n",
        "for i, tag in enumerate(list(tags)):\n",
        "  tag_to_index[tag] = i + 1"
      ],
      "metadata": {
        "id": "gzIGFLjNibLW"
      },
      "execution_count": 119,
      "outputs": []
    },
    {
      "cell_type": "code",
      "source": [
        "word_to_index[\"the\"]"
      ],
      "metadata": {
        "id": "-W2e8h_alXI4",
        "colab": {
          "base_uri": "https://localhost:8080/"
        },
        "outputId": "ff3b6366-1833-46ee-caea-082321878557"
      },
      "execution_count": 120,
      "outputs": [
        {
          "output_type": "execute_result",
          "data": {
            "text/plain": [
              "723"
            ]
          },
          "metadata": {},
          "execution_count": 120
        }
      ]
    },
    {
      "cell_type": "code",
      "source": [
        "# Function used to transform sentences into vectors of integers using the word_to_index vocabulary.\n",
        "def convert_sentences(input_sentences, vocabulary):\n",
        "\n",
        "  # Output sentences.\n",
        "  output_sentences = []\n",
        "\n",
        "  # Converting input sentences.\n",
        "  for sentence in input_sentences:\n",
        "\n",
        "    # List to store the words' indexes.\n",
        "    sentence_indexes = []\n",
        "\n",
        "    # Corventing each word in sentence.\n",
        "    for word in sentence:\n",
        "\n",
        "      try:\n",
        "\n",
        "        # Computing index.\n",
        "        sentence_indexes.append(vocabulary[word.lower()])\n",
        "\n",
        "      except KeyError:\n",
        "\n",
        "        # Computing index.\n",
        "        sentence_indexes.append(vocabulary[\"OOV\"])\n",
        "\n",
        "    # Appending list of indexes to training set.\n",
        "    output_sentences.append(sentence_indexes)\n",
        "\n",
        "  # Returning output_sentences.\n",
        "  return output_sentences\n",
        "\n",
        "# Function used to transform list of tags into vectors of integers using the tag_to_index vocabulary.\n",
        "def convert_tags(input_tags, vocabulary):\n",
        "\n",
        "  # Output tags.\n",
        "  output_tags = []\n",
        "\n",
        "  # Converting input tags.\n",
        "  for tags_list in input_tags:\n",
        "\n",
        "    # Computing index.\n",
        "    output_tags.append([vocabulary[tag] for tag in tags_list])\n",
        "\n",
        "  # Returning output_tags.\n",
        "  return output_tags"
      ],
      "metadata": {
        "id": "Y0seXBQlfBOR"
      },
      "execution_count": 121,
      "outputs": []
    },
    {
      "cell_type": "code",
      "source": [
        "# Computing train sentences.\n",
        "train_sentences = convert_sentences(input_sentences = train[\"sentence\"].tolist(), vocabulary = word_to_index)\n",
        "\n",
        "# Computing validation sentences.\n",
        "validation_sentences = convert_sentences(input_sentences = validation[\"sentence\"].tolist(), vocabulary = word_to_index)\n",
        "\n",
        "# Computing test sentences.\n",
        "test_sentences = convert_sentences(input_sentences = test[\"sentence\"].tolist(), vocabulary = word_to_index)\n",
        "\n",
        "# Computing train tags.\n",
        "train_tags = convert_tags(input_tags = train[\"tags\"].tolist(), vocabulary = tag_to_index)\n",
        "\n",
        "# Computing validation tags.\n",
        "validation_tags = convert_tags(input_tags = validation[\"tags\"].tolist(), vocabulary = tag_to_index)\n",
        "\n",
        "# Computing test tags.\n",
        "test_tags = convert_tags(input_tags = test[\"tags\"].tolist(), vocabulary = tag_to_index)"
      ],
      "metadata": {
        "id": "BujC7ZowgV8u"
      },
      "execution_count": 122,
      "outputs": []
    },
    {
      "cell_type": "code",
      "source": [
        "print(train_sentences[0])\n",
        "print(train_tags[0])"
      ],
      "metadata": {
        "id": "CW2t3LRSoCX0",
        "colab": {
          "base_uri": "https://localhost:8080/"
        },
        "outputId": "69c489b1-86ba-4399-e326-43bb4aa93d87"
      },
      "execution_count": 123,
      "outputs": [
        {
          "output_type": "stream",
          "name": "stdout",
          "text": [
            "[199, 1888, 4322, 549, 1395, 5239, 4322, 4497, 4379, 723, 1131, 4980, 15, 3958, 1670, 7300, 7134, 2595]\n",
            "[22, 22, 7, 27, 20, 17, 7, 2, 44, 14, 38, 32, 14, 17, 38, 22, 27, 13]\n"
          ]
        }
      ]
    },
    {
      "cell_type": "code",
      "source": [
        "# Computing length of longest train sentence.\n",
        "MAX_LENGTH = len(max(train[\"sentence\"].tolist(), key = len))\n",
        "\n",
        "# Padding sets.\n",
        "train_sentences = pad_sequences(train_sentences, maxlen = MAX_LENGTH, padding = \"post\")\n",
        "validation_sentences = pad_sequences(validation_sentences, maxlen = MAX_LENGTH, padding = \"post\")\n",
        "test_sentences = pad_sequences(test_sentences, maxlen = MAX_LENGTH, padding = \"post\")\n",
        "train_tags = pad_sequences(train_tags, maxlen = MAX_LENGTH, padding = \"post\")\n",
        "validation_tags = pad_sequences(validation_tags, maxlen = MAX_LENGTH, padding = \"post\")\n",
        "test_tags = pad_sequences(test_tags, maxlen = MAX_LENGTH, padding = \"post\")"
      ],
      "metadata": {
        "id": "jTgbsNPNoI9g"
      },
      "execution_count": 124,
      "outputs": []
    },
    {
      "cell_type": "code",
      "source": [
        "# Number of converted words.\n",
        "hits = 0\n",
        "\n",
        "# Number of OOV words.\n",
        "misses = 0\n",
        "\n",
        "# Preparing embedding matrix so that OOV words will be assigned a vector of zeros.\n",
        "embedding_matrix = np.zeros((len(word_to_index), int(EMBEDDING_SIZE)))\n",
        "\n",
        "# Retrieving embedding vector for each word.\n",
        "for word, i in word_to_index.items():\n",
        "\n",
        "  # Computing vector.\n",
        "  vector = embedding_vocabulary.get(word)\n",
        "\n",
        "  # Checking vector.\n",
        "  if vector is not None:\n",
        "    \n",
        "    # Populating the embedding matrix.\n",
        "    embedding_matrix[i] = vector\n",
        "\n",
        "    # Increasing number of hits.\n",
        "    hits += 1\n",
        "\n",
        "  else:\n",
        "\n",
        "    # Increasing number of misses.\n",
        "    misses += 1\n",
        "\n",
        "# Printing number of hits and missed.\n",
        "print(f\"Converted {hits} words. Missed {misses} words.\")"
      ],
      "metadata": {
        "id": "v95jYDdDo4z-",
        "colab": {
          "base_uri": "https://localhost:8080/"
        },
        "outputId": "9a850e7e-bc7e-482b-9118-5268525d4556"
      },
      "execution_count": 125,
      "outputs": [
        {
          "output_type": "stream",
          "name": "stdout",
          "text": [
            "Converted 7045 words. Missed 361 words.\n"
          ]
        }
      ]
    },
    {
      "cell_type": "code",
      "source": [
        "embedding_matrix[word_to_index[\"the\"]]"
      ],
      "metadata": {
        "id": "9fyKXG_kq82j",
        "colab": {
          "base_uri": "https://localhost:8080/"
        },
        "outputId": "557d7cd1-af51-4e0c-9a23-a5c7cbdb02df"
      },
      "execution_count": 126,
      "outputs": [
        {
          "output_type": "execute_result",
          "data": {
            "text/plain": [
              "array([ 4.1800e-01,  2.4968e-01, -4.1242e-01,  1.2170e-01,  3.4527e-01,\n",
              "       -4.4457e-02, -4.9688e-01, -1.7862e-01, -6.6023e-04, -6.5660e-01,\n",
              "        2.7843e-01, -1.4767e-01, -5.5677e-01,  1.4658e-01, -9.5095e-03,\n",
              "        1.1658e-02,  1.0204e-01, -1.2792e-01, -8.4430e-01, -1.2181e-01,\n",
              "       -1.6801e-02, -3.3279e-01, -1.5520e-01, -2.3131e-01, -1.9181e-01,\n",
              "       -1.8823e+00, -7.6746e-01,  9.9051e-02, -4.2125e-01, -1.9526e-01,\n",
              "        4.0071e+00, -1.8594e-01, -5.2287e-01, -3.1681e-01,  5.9213e-04,\n",
              "        7.4449e-03,  1.7778e-01, -1.5897e-01,  1.2041e-02, -5.4223e-02,\n",
              "       -2.9871e-01, -1.5749e-01, -3.4758e-01, -4.5637e-02, -4.4251e-01,\n",
              "        1.8785e-01,  2.7849e-03, -1.8411e-01, -1.1514e-01, -7.8581e-01])"
            ]
          },
          "metadata": {},
          "execution_count": 126
        }
      ]
    },
    {
      "cell_type": "code",
      "source": [
        "# Function used to one hot encode tag lists.\n",
        "def one_hot_encoder(tags_lists, n_categories):\n",
        "\n",
        "  # List of encodings.\n",
        "  one_hot_encodings = []\n",
        "\n",
        "  # Iterating over lists of tags (e.g. train_tags).\n",
        "  for tags_list in tags_lists:\n",
        "\n",
        "    # One-hot encoding of the specific list.\n",
        "    one_hot_encoding = []\n",
        "\n",
        "    # Iterating over tags\n",
        "    for tag in tags_list:\n",
        "\n",
        "      # Creating vector of zeros.\n",
        "      one_hot_encoding.append(np.zeros(n_categories))\n",
        "\n",
        "      # Storing a one in the tag position.\n",
        "      one_hot_encoding[-1][tag] = 1.0\n",
        "\n",
        "    # Appending the one hot encoding.\n",
        "    one_hot_encodings.append(one_hot_encoding)\n",
        "  \n",
        "  # Returning the list of encodings.\n",
        "  return np.array(one_hot_encodings)"
      ],
      "metadata": {
        "id": "96dMsyQGsXqs"
      },
      "execution_count": 127,
      "outputs": []
    },
    {
      "cell_type": "code",
      "source": [
        "# One-hot encoding train tags.\n",
        "train_tags = one_hot_encoder(tags_lists = train_tags, n_categories = len(tag_to_index))\n",
        "\n",
        "# One-hot encoding validation tags.\n",
        "validation_tags = one_hot_encoder(tags_lists = validation_tags, n_categories = len(tag_to_index))\n",
        "\n",
        "# One-hot encoding test tags.\n",
        "test_tags = one_hot_encoder(tags_lists = test_tags, n_categories = len(tag_to_index))"
      ],
      "metadata": {
        "id": "VKI4zLaT0gCq"
      },
      "execution_count": 128,
      "outputs": []
    },
    {
      "cell_type": "markdown",
      "source": [
        "### Model Definition and Training"
      ],
      "metadata": {
        "id": "Eefy9o5A6e6x"
      }
    },
    {
      "cell_type": "code",
      "source": [
        "# Sequential model.\n",
        "model = Sequential()\n",
        "\n",
        "# Input layer.\n",
        "model.add(InputLayer(input_shape = (MAX_LENGTH,)))\n",
        "\n",
        "# Embedding layer defined by embedding_matrix.\n",
        "model.add(Embedding(len(word_to_index), EMBEDDING_SIZE, weights = [embedding_matrix], trainable = False))\n",
        "\n",
        "# Bi-LSTM.\n",
        "model.add(Bidirectional(LSTM(256, return_sequences = True)))\n",
        "\n",
        "# Dense layer.\n",
        "model.add(TimeDistributed(Dense(len(tag_to_index))))\n",
        "\n",
        "# Softmax.\n",
        "model.add(Activation(\"softmax\"))\n",
        "\n",
        "# Compiling.\n",
        "model.compile(loss = \"categorical_crossentropy\", optimizer = Adam(), metrics = [\"accuracy\"])\n",
        "\n",
        "# Printing summary.\n",
        "model.summary()"
      ],
      "metadata": {
        "id": "dltAFESHshTV",
        "colab": {
          "base_uri": "https://localhost:8080/"
        },
        "outputId": "0bd45bc9-747f-4a0c-a2bc-18cc42ef31cf"
      },
      "execution_count": 129,
      "outputs": [
        {
          "output_type": "stream",
          "name": "stdout",
          "text": [
            "Model: \"sequential_2\"\n",
            "_________________________________________________________________\n",
            " Layer (type)                Output Shape              Param #   \n",
            "=================================================================\n",
            " embedding_2 (Embedding)     (None, 249, 50)           370300    \n",
            "                                                                 \n",
            " bidirectional_2 (Bidirectio  (None, 249, 512)         628736    \n",
            " nal)                                                            \n",
            "                                                                 \n",
            " time_distributed_2 (TimeDis  (None, 249, 46)          23598     \n",
            " tributed)                                                       \n",
            "                                                                 \n",
            " activation_2 (Activation)   (None, 249, 46)           0         \n",
            "                                                                 \n",
            "=================================================================\n",
            "Total params: 1,022,634\n",
            "Trainable params: 652,334\n",
            "Non-trainable params: 370,300\n",
            "_________________________________________________________________\n"
          ]
        }
      ]
    },
    {
      "cell_type": "code",
      "source": [
        "# Fitting the model.\n",
        "model.fit(train_sentences, train_tags, batch_size = 256, epochs = 40, validation_data = (validation_sentences, validation_tags))"
      ],
      "metadata": {
        "id": "1sw2bOdjiaXz",
        "colab": {
          "base_uri": "https://localhost:8080/"
        },
        "outputId": "8455e012-7d97-4391-8a11-7981a455e5ef"
      },
      "execution_count": 130,
      "outputs": [
        {
          "output_type": "stream",
          "name": "stdout",
          "text": [
            "Epoch 1/40\n",
            "8/8 [==============================] - 5s 255ms/step - loss: 2.6722 - accuracy: 0.8685 - val_loss: 0.5056 - val_accuracy: 0.9080\n",
            "Epoch 2/40\n",
            "8/8 [==============================] - 1s 143ms/step - loss: 0.3916 - accuracy: 0.9135 - val_loss: 0.3293 - val_accuracy: 0.9197\n",
            "Epoch 3/40\n",
            "8/8 [==============================] - 1s 143ms/step - loss: 0.3086 - accuracy: 0.9176 - val_loss: 0.2917 - val_accuracy: 0.9226\n",
            "Epoch 4/40\n",
            "8/8 [==============================] - 1s 143ms/step - loss: 0.2795 - accuracy: 0.9233 - val_loss: 0.2712 - val_accuracy: 0.9256\n",
            "Epoch 5/40\n",
            "8/8 [==============================] - 1s 142ms/step - loss: 0.2608 - accuracy: 0.9285 - val_loss: 0.2561 - val_accuracy: 0.9284\n",
            "Epoch 6/40\n",
            "8/8 [==============================] - 1s 144ms/step - loss: 0.2463 - accuracy: 0.9325 - val_loss: 0.2431 - val_accuracy: 0.9369\n",
            "Epoch 7/40\n",
            "8/8 [==============================] - 1s 143ms/step - loss: 0.2328 - accuracy: 0.9395 - val_loss: 0.2301 - val_accuracy: 0.9409\n",
            "Epoch 8/40\n",
            "8/8 [==============================] - 1s 143ms/step - loss: 0.2192 - accuracy: 0.9441 - val_loss: 0.2175 - val_accuracy: 0.9450\n",
            "Epoch 9/40\n",
            "8/8 [==============================] - 1s 143ms/step - loss: 0.2060 - accuracy: 0.9476 - val_loss: 0.2048 - val_accuracy: 0.9476\n",
            "Epoch 10/40\n",
            "8/8 [==============================] - 1s 143ms/step - loss: 0.1931 - accuracy: 0.9505 - val_loss: 0.1931 - val_accuracy: 0.9502\n",
            "Epoch 11/40\n",
            "8/8 [==============================] - 1s 144ms/step - loss: 0.1808 - accuracy: 0.9537 - val_loss: 0.1821 - val_accuracy: 0.9531\n",
            "Epoch 12/40\n",
            "8/8 [==============================] - 1s 144ms/step - loss: 0.1695 - accuracy: 0.9570 - val_loss: 0.1719 - val_accuracy: 0.9554\n",
            "Epoch 13/40\n",
            "8/8 [==============================] - 1s 144ms/step - loss: 0.1588 - accuracy: 0.9594 - val_loss: 0.1625 - val_accuracy: 0.9575\n",
            "Epoch 14/40\n",
            "8/8 [==============================] - 1s 146ms/step - loss: 0.1493 - accuracy: 0.9620 - val_loss: 0.1546 - val_accuracy: 0.9590\n",
            "Epoch 15/40\n",
            "8/8 [==============================] - 1s 144ms/step - loss: 0.1407 - accuracy: 0.9639 - val_loss: 0.1472 - val_accuracy: 0.9608\n",
            "Epoch 16/40\n",
            "8/8 [==============================] - 1s 144ms/step - loss: 0.1331 - accuracy: 0.9658 - val_loss: 0.1406 - val_accuracy: 0.9628\n",
            "Epoch 17/40\n",
            "8/8 [==============================] - 1s 145ms/step - loss: 0.1264 - accuracy: 0.9675 - val_loss: 0.1353 - val_accuracy: 0.9640\n",
            "Epoch 18/40\n",
            "8/8 [==============================] - 1s 144ms/step - loss: 0.1205 - accuracy: 0.9690 - val_loss: 0.1302 - val_accuracy: 0.9652\n",
            "Epoch 19/40\n",
            "8/8 [==============================] - 1s 145ms/step - loss: 0.1153 - accuracy: 0.9701 - val_loss: 0.1257 - val_accuracy: 0.9658\n",
            "Epoch 20/40\n",
            "8/8 [==============================] - 1s 143ms/step - loss: 0.1107 - accuracy: 0.9709 - val_loss: 0.1218 - val_accuracy: 0.9668\n",
            "Epoch 21/40\n",
            "8/8 [==============================] - 1s 145ms/step - loss: 0.1065 - accuracy: 0.9719 - val_loss: 0.1178 - val_accuracy: 0.9673\n",
            "Epoch 22/40\n",
            "8/8 [==============================] - 1s 145ms/step - loss: 0.1028 - accuracy: 0.9726 - val_loss: 0.1146 - val_accuracy: 0.9683\n",
            "Epoch 23/40\n",
            "8/8 [==============================] - 1s 146ms/step - loss: 0.0994 - accuracy: 0.9735 - val_loss: 0.1118 - val_accuracy: 0.9688\n",
            "Epoch 24/40\n",
            "8/8 [==============================] - 1s 144ms/step - loss: 0.0963 - accuracy: 0.9741 - val_loss: 0.1090 - val_accuracy: 0.9695\n",
            "Epoch 25/40\n",
            "8/8 [==============================] - 1s 144ms/step - loss: 0.0934 - accuracy: 0.9748 - val_loss: 0.1068 - val_accuracy: 0.9700\n",
            "Epoch 26/40\n",
            "8/8 [==============================] - 1s 147ms/step - loss: 0.0909 - accuracy: 0.9753 - val_loss: 0.1047 - val_accuracy: 0.9706\n",
            "Epoch 27/40\n",
            "8/8 [==============================] - 1s 145ms/step - loss: 0.0886 - accuracy: 0.9759 - val_loss: 0.1020 - val_accuracy: 0.9713\n",
            "Epoch 28/40\n",
            "8/8 [==============================] - 1s 145ms/step - loss: 0.0864 - accuracy: 0.9763 - val_loss: 0.1000 - val_accuracy: 0.9717\n",
            "Epoch 29/40\n",
            "8/8 [==============================] - 1s 146ms/step - loss: 0.0843 - accuracy: 0.9769 - val_loss: 0.0982 - val_accuracy: 0.9723\n",
            "Epoch 30/40\n",
            "8/8 [==============================] - 1s 147ms/step - loss: 0.0824 - accuracy: 0.9774 - val_loss: 0.0972 - val_accuracy: 0.9724\n",
            "Epoch 31/40\n",
            "8/8 [==============================] - 1s 147ms/step - loss: 0.0807 - accuracy: 0.9777 - val_loss: 0.0951 - val_accuracy: 0.9729\n",
            "Epoch 32/40\n",
            "8/8 [==============================] - 1s 147ms/step - loss: 0.0790 - accuracy: 0.9782 - val_loss: 0.0939 - val_accuracy: 0.9730\n",
            "Epoch 33/40\n",
            "8/8 [==============================] - 1s 147ms/step - loss: 0.0774 - accuracy: 0.9785 - val_loss: 0.0927 - val_accuracy: 0.9733\n",
            "Epoch 34/40\n",
            "8/8 [==============================] - 1s 147ms/step - loss: 0.0759 - accuracy: 0.9790 - val_loss: 0.0906 - val_accuracy: 0.9742\n",
            "Epoch 35/40\n",
            "8/8 [==============================] - 1s 147ms/step - loss: 0.0746 - accuracy: 0.9793 - val_loss: 0.0893 - val_accuracy: 0.9745\n",
            "Epoch 36/40\n",
            "8/8 [==============================] - 1s 147ms/step - loss: 0.0733 - accuracy: 0.9797 - val_loss: 0.0879 - val_accuracy: 0.9747\n",
            "Epoch 37/40\n",
            "8/8 [==============================] - 1s 147ms/step - loss: 0.0719 - accuracy: 0.9800 - val_loss: 0.0868 - val_accuracy: 0.9749\n",
            "Epoch 38/40\n",
            "8/8 [==============================] - 1s 147ms/step - loss: 0.0707 - accuracy: 0.9804 - val_loss: 0.0855 - val_accuracy: 0.9752\n",
            "Epoch 39/40\n",
            "8/8 [==============================] - 1s 146ms/step - loss: 0.0694 - accuracy: 0.9807 - val_loss: 0.0847 - val_accuracy: 0.9754\n",
            "Epoch 40/40\n",
            "8/8 [==============================] - 1s 148ms/step - loss: 0.0683 - accuracy: 0.9809 - val_loss: 0.0837 - val_accuracy: 0.9757\n"
          ]
        },
        {
          "output_type": "execute_result",
          "data": {
            "text/plain": [
              "<keras.callbacks.History at 0x7f73877f3350>"
            ]
          },
          "metadata": {},
          "execution_count": 130
        }
      ]
    },
    {
      "cell_type": "code",
      "source": [
        "# Computing predictions.\n",
        "pred = model.predict(validation_sentences)\n",
        "\n",
        "# Computing classification report.\n",
        "report = classification_report(np.argmax(validation_tags, axis = 2).flatten(), \n",
        "                               np.argmax(pred, axis = 2).flatten(), \n",
        "                               labels = np.arange(0, 46, 1),\n",
        "                               target_names = list(tag_to_index.keys()),\n",
        "                               zero_division = 0,\n",
        "                               output_dict = True)"
      ],
      "metadata": {
        "id": "s3w5ghuE63ss",
        "colab": {
          "base_uri": "https://localhost:8080/"
        },
        "outputId": "4450885a-011e-481c-81d3-2243e024cc20"
      },
      "execution_count": 131,
      "outputs": [
        {
          "output_type": "stream",
          "name": "stdout",
          "text": [
            "41/41 [==============================] - 1s 12ms/step\n"
          ]
        }
      ]
    },
    {
      "cell_type": "code",
      "source": [
        "# Macro F1-score.\n",
        "print(\"Macro F1-score: {}.\".format(report[\"macro avg\"][\"f1-score\"]))"
      ],
      "metadata": {
        "colab": {
          "base_uri": "https://localhost:8080/"
        },
        "id": "FHDq2QJbFD4x",
        "outputId": "fb2303d2-c200-4321-d92e-41a0c8e0dd65"
      },
      "execution_count": 132,
      "outputs": [
        {
          "output_type": "stream",
          "name": "stdout",
          "text": [
            "Macro F1-score: 0.5188508124249759.\n"
          ]
        }
      ]
    },
    {
      "cell_type": "code",
      "source": [
        "# TODO: do not consider punctuation when computing macro F1-score."
      ],
      "metadata": {
        "id": "i4Be0kj6F85R"
      },
      "execution_count": 133,
      "outputs": []
    }
  ]
}