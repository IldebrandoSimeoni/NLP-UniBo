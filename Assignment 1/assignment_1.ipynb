{
  "nbformat": 4,
  "nbformat_minor": 0,
  "metadata": {
    "colab": {
      "provenance": [],
      "collapsed_sections": []
    },
    "kernelspec": {
      "name": "python3",
      "display_name": "Python 3"
    },
    "language_info": {
      "name": "python"
    },
    "accelerator": "GPU",
    "gpuClass": "standard"
  },
  "cells": [
    {
      "cell_type": "markdown",
      "source": [
        "### Libraries"
      ],
      "metadata": {
        "id": "6OBJyXJaTZzd"
      }
    },
    {
      "cell_type": "code",
      "execution_count": 1,
      "metadata": {
        "id": "C7sW4HdzTURu"
      },
      "outputs": [],
      "source": [
        "# Importing os.\n",
        "import os\n",
        "\n",
        "# Importing urllib.request.\n",
        "import urllib.request\n",
        "\n",
        "# Importing zipfile.\n",
        "import zipfile\n",
        "\n",
        "# Importing pandas.\n",
        "import pandas as pd\n",
        "\n",
        "# Importing numpy.\n",
        "import numpy as np\n",
        "\n",
        "# Importing random.\n",
        "import random\n",
        "\n",
        "# Importing tensorflow.\n",
        "import tensorflow as tf\n",
        "\n",
        "# Importing train_test_split.\n",
        "from sklearn.model_selection import train_test_split\n",
        "\n",
        "# Importing backend.\n",
        "from keras import backend\n",
        "\n",
        "# Importing set_random_seed.\n",
        "from keras.utils import set_random_seed\n",
        "\n",
        "# Importing pad_sequences.\n",
        "from keras_preprocessing.sequence import pad_sequences\n",
        "\n",
        "# Importing Sequential.\n",
        "from keras.models import Sequential\n",
        "\n",
        "# Importing Dense, LSTM, InputLayer, Bidirectional, TimeDistributed, Embedding, Activation.\n",
        "from keras.layers import Dense, LSTM, InputLayer, Bidirectional, TimeDistributed, Embedding, Activation\n",
        "\n",
        "# Importing Adam.\n",
        "from keras.optimizers import Adam\n",
        "\n",
        "# Importing classification_report.\n",
        "from sklearn.metrics import classification_report\n",
        "\n",
        "# Sets reproducibility.\n",
        "def set_reproducibility(seed):\n",
        "\n",
        "  # Setting seeds.\n",
        "  random.seed(seed)\n",
        "  np.random.seed(seed)\n",
        "  tf.random.set_seed(seed)\n",
        "  os.environ[\"TF_DETERMINISTIC_OPS\"] = \"1\"\n",
        "\n",
        "# Setting seed.\n",
        "set_reproducibility(seed = 42)"
      ]
    },
    {
      "cell_type": "markdown",
      "source": [
        "### Data Preprocessing"
      ],
      "metadata": {
        "id": "c9thEzbNTfiz"
      }
    },
    {
      "cell_type": "code",
      "source": [
        "# Function used to download .zips.\n",
        "def downloader(url, folder_name, filename):\n",
        "\n",
        "  # Defining data folder path.\n",
        "  data_path = os.path.join(os.getcwd(), folder_name)\n",
        "\n",
        "  # Creating data folder.\n",
        "  if not os.path.exists(data_path):\n",
        "      os.makedirs(data_path)\n",
        "\n",
        "  # Defining .zip file path.\n",
        "  zip_path = os.path.join(os.getcwd(), folder_name, filename)\n",
        "\n",
        "  # Requesting .zip file.\n",
        "  if not os.path.exists(zip_path):\n",
        "      urllib.request.urlretrieve(url, zip_path)\n",
        "\n",
        "  # Extracting data from .zip.\n",
        "  with zipfile.ZipFile(zip_path, \"r\") as zip_ref:\n",
        "      zip_ref.extractall(path = data_path)\n",
        "\n",
        "  # Returning data_path and zip_path.\n",
        "  return data_path, zip_path"
      ],
      "metadata": {
        "id": "hOWsBikzhqq8"
      },
      "execution_count": 2,
      "outputs": []
    },
    {
      "cell_type": "code",
      "source": [
        "# Downloading dataset.\n",
        "data_path, _ = downloader(url = \"https://raw.githubusercontent.com/nltk/nltk_data/gh-pages/packages/corpora/dependency_treebank.zip\", folder_name = \"data\", filename = \"dependency_treebank.zip\")\n",
        "\n",
        "# Downloading glove.\n",
        "glove_path, _ = downloader(url = \"https://nlp.stanford.edu/data/glove.6B.zip\", folder_name = \"glove\", filename = \"glove.6B.zip\")"
      ],
      "metadata": {
        "id": "7f3f0k3KTcr3"
      },
      "execution_count": 3,
      "outputs": []
    },
    {
      "cell_type": "code",
      "source": [
        "# Defining the dataset name.\n",
        "dataset_name = \"dependency_treebank\"\n",
        "\n",
        "# Defining path to first training sample.\n",
        "file_path = os.path.join(data_path, dataset_name, \"wsj_0001.dp\")\n",
        "\n",
        "# Reading first training sample.\n",
        "if os.path.isfile(file_path):\n",
        "\n",
        "  # Printing file.\n",
        "  with open(file_path, mode = \"r\") as text_file: print(text_file.read())"
      ],
      "metadata": {
        "id": "QZDEgowtTqYf",
        "colab": {
          "base_uri": "https://localhost:8080/"
        },
        "outputId": "274c3ae4-9526-41c8-eadf-808f7d40659e"
      },
      "execution_count": 4,
      "outputs": [
        {
          "output_type": "stream",
          "name": "stdout",
          "text": [
            "Pierre\tNNP\t2\n",
            "Vinken\tNNP\t8\n",
            ",\t,\t2\n",
            "61\tCD\t5\n",
            "years\tNNS\t6\n",
            "old\tJJ\t2\n",
            ",\t,\t2\n",
            "will\tMD\t0\n",
            "join\tVB\t8\n",
            "the\tDT\t11\n",
            "board\tNN\t9\n",
            "as\tIN\t9\n",
            "a\tDT\t15\n",
            "nonexecutive\tJJ\t15\n",
            "director\tNN\t12\n",
            "Nov.\tNNP\t9\n",
            "29\tCD\t16\n",
            ".\t.\t8\n",
            "\n",
            "Mr.\tNNP\t2\n",
            "Vinken\tNNP\t3\n",
            "is\tVBZ\t0\n",
            "chairman\tNN\t3\n",
            "of\tIN\t4\n",
            "Elsevier\tNNP\t7\n",
            "N.V.\tNNP\t12\n",
            ",\t,\t12\n",
            "the\tDT\t12\n",
            "Dutch\tNNP\t12\n",
            "publishing\tVBG\t12\n",
            "group\tNN\t5\n",
            ".\t.\t3\n",
            "\n"
          ]
        }
      ]
    },
    {
      "cell_type": "code",
      "source": [
        "# Defining embedding size.\n",
        "EMBEDDING_SIZE = 50\n",
        "\n",
        "# Defining specific glove's file path.\n",
        "glove_file = os.path.join(os.getcwd(), glove_path, f\"glove.6B.{str(EMBEDDING_SIZE)}d.txt\")\n",
        "\n",
        "# Reading lines of file.\n",
        "with open(glove_file, encoding = \"utf8\" ) as text_file: \n",
        "  lines = text_file.readlines()\n",
        "\n",
        "# Defining initial vocabulary.\n",
        "embedding_vocabulary = {}\n",
        "\n",
        "# Reading single lines.\n",
        "for line in lines:\n",
        "\n",
        "  # Splitting line.\n",
        "  splits = line.split()\n",
        "\n",
        "  # Storing line into vocabulary.\n",
        "  embedding_vocabulary[splits[0]] = np.array([float(val) for val in splits[1:]])\n",
        "\n",
        "# Printing one entry of the vocabulary.\n",
        "print(\"The embedding for 'the' is:\\n{}.\".format(embedding_vocabulary[\"the\"]))"
      ],
      "metadata": {
        "id": "TkeSn0ePqsG2",
        "colab": {
          "base_uri": "https://localhost:8080/"
        },
        "outputId": "ec66c216-89eb-49db-eda8-e1d5a29ff6cd"
      },
      "execution_count": 5,
      "outputs": [
        {
          "output_type": "stream",
          "name": "stdout",
          "text": [
            "The embedding for 'the' is:\n",
            "[ 4.1800e-01  2.4968e-01 -4.1242e-01  1.2170e-01  3.4527e-01 -4.4457e-02\n",
            " -4.9688e-01 -1.7862e-01 -6.6023e-04 -6.5660e-01  2.7843e-01 -1.4767e-01\n",
            " -5.5677e-01  1.4658e-01 -9.5095e-03  1.1658e-02  1.0204e-01 -1.2792e-01\n",
            " -8.4430e-01 -1.2181e-01 -1.6801e-02 -3.3279e-01 -1.5520e-01 -2.3131e-01\n",
            " -1.9181e-01 -1.8823e+00 -7.6746e-01  9.9051e-02 -4.2125e-01 -1.9526e-01\n",
            "  4.0071e+00 -1.8594e-01 -5.2287e-01 -3.1681e-01  5.9213e-04  7.4449e-03\n",
            "  1.7778e-01 -1.5897e-01  1.2041e-02 -5.4223e-02 -2.9871e-01 -1.5749e-01\n",
            " -3.4758e-01 -4.5637e-02 -4.4251e-01  1.8785e-01  2.7849e-03 -1.8411e-01\n",
            " -1.1514e-01 -7.8581e-01].\n"
          ]
        }
      ]
    },
    {
      "cell_type": "code",
      "source": [
        "# List containing dataframe rows.\n",
        "dataframe_rows = []\n",
        "\n",
        "# List containing words of a single sentence.\n",
        "row_words = []\n",
        "\n",
        "# List containing tags of a single sentence.\n",
        "row_tags = []\n",
        "\n",
        "# Defining data folder path.\n",
        "folder = os.path.join(data_path, dataset_name)\n",
        "\n",
        "# Storing rows.\n",
        "for filename in sorted(os.listdir(folder)):\n",
        "\n",
        "  # Computing path to file.\n",
        "  file_path = os.path.join(folder, filename)\n",
        "\n",
        "  # Checking existance of file.\n",
        "  if os.path.isfile(file_path):\n",
        "\n",
        "    # Opening the file.\n",
        "    with open(file_path, mode = \"r\") as text_file:\n",
        "\n",
        "      # Reading lines.\n",
        "      while True:\n",
        "\n",
        "        # Reading next line.\n",
        "        line = text_file.readline()\n",
        "\n",
        "        # Checking that line is different from \"\\n\" (empty line) and from last line (EOF).\n",
        "        if line and line != \"\\n\":\n",
        "\n",
        "          # Storing the word.\n",
        "          row_words.append(line.split()[0])\n",
        "\n",
        "          # Storing the POS tag.\n",
        "          row_tags.append(line.split()[1])\n",
        "\n",
        "        else:\n",
        "\n",
        "          # Creating a row.\n",
        "          dataframe_row = {\"file_id\": int(filename.split(\".\")[0].split(\"_\")[1]), \"sentence\": row_words, \"tags\": row_tags}\n",
        "\n",
        "          # Appending row.\n",
        "          dataframe_rows.append(dataframe_row)\n",
        "\n",
        "          # Resetting row_words list so to store a new sentence.\n",
        "          row_words = []\n",
        "\n",
        "          # Resetting row_tags list so to store a new sentence.\n",
        "          row_tags = []\n",
        "\n",
        "          # If, in particular, EOF is reached, then break the inner loop.\n",
        "          if not line: break\n",
        "\n",
        "# Creating pandas dataframe.\n",
        "dataframe = pd.DataFrame(dataframe_rows)\n",
        "\n",
        "# Printing dataframe head.\n",
        "dataframe.head()"
      ],
      "metadata": {
        "id": "KACvAIENUlQ2",
        "colab": {
          "base_uri": "https://localhost:8080/",
          "height": 206
        },
        "outputId": "48cd16a8-4878-491d-af3f-bd3965bb6e9f"
      },
      "execution_count": 6,
      "outputs": [
        {
          "output_type": "execute_result",
          "data": {
            "text/plain": [
              "   file_id                                           sentence  \\\n",
              "0        1  [Pierre, Vinken, ,, 61, years, old, ,, will, j...   \n",
              "1        1  [Mr., Vinken, is, chairman, of, Elsevier, N.V....   \n",
              "2        2  [Rudolph, Agnew, ,, 55, years, old, and, forme...   \n",
              "3        3  [A, form, of, asbestos, once, used, to, make, ...   \n",
              "4        3  [The, asbestos, fiber, ,, crocidolite, ,, is, ...   \n",
              "\n",
              "                                                tags  \n",
              "0  [NNP, NNP, ,, CD, NNS, JJ, ,, MD, VB, DT, NN, ...  \n",
              "1  [NNP, NNP, VBZ, NN, IN, NNP, NNP, ,, DT, NNP, ...  \n",
              "2  [NNP, NNP, ,, CD, NNS, JJ, CC, JJ, NN, IN, NNP...  \n",
              "3  [DT, NN, IN, NN, RB, VBN, TO, VB, NNP, NN, NNS...  \n",
              "4  [DT, NN, NN, ,, NN, ,, VBZ, RB, JJ, IN, PRP, V...  "
            ],
            "text/html": [
              "\n",
              "  <div id=\"df-c75514e1-060a-49f7-bfc0-055ba8395576\">\n",
              "    <div class=\"colab-df-container\">\n",
              "      <div>\n",
              "<style scoped>\n",
              "    .dataframe tbody tr th:only-of-type {\n",
              "        vertical-align: middle;\n",
              "    }\n",
              "\n",
              "    .dataframe tbody tr th {\n",
              "        vertical-align: top;\n",
              "    }\n",
              "\n",
              "    .dataframe thead th {\n",
              "        text-align: right;\n",
              "    }\n",
              "</style>\n",
              "<table border=\"1\" class=\"dataframe\">\n",
              "  <thead>\n",
              "    <tr style=\"text-align: right;\">\n",
              "      <th></th>\n",
              "      <th>file_id</th>\n",
              "      <th>sentence</th>\n",
              "      <th>tags</th>\n",
              "    </tr>\n",
              "  </thead>\n",
              "  <tbody>\n",
              "    <tr>\n",
              "      <th>0</th>\n",
              "      <td>1</td>\n",
              "      <td>[Pierre, Vinken, ,, 61, years, old, ,, will, j...</td>\n",
              "      <td>[NNP, NNP, ,, CD, NNS, JJ, ,, MD, VB, DT, NN, ...</td>\n",
              "    </tr>\n",
              "    <tr>\n",
              "      <th>1</th>\n",
              "      <td>1</td>\n",
              "      <td>[Mr., Vinken, is, chairman, of, Elsevier, N.V....</td>\n",
              "      <td>[NNP, NNP, VBZ, NN, IN, NNP, NNP, ,, DT, NNP, ...</td>\n",
              "    </tr>\n",
              "    <tr>\n",
              "      <th>2</th>\n",
              "      <td>2</td>\n",
              "      <td>[Rudolph, Agnew, ,, 55, years, old, and, forme...</td>\n",
              "      <td>[NNP, NNP, ,, CD, NNS, JJ, CC, JJ, NN, IN, NNP...</td>\n",
              "    </tr>\n",
              "    <tr>\n",
              "      <th>3</th>\n",
              "      <td>3</td>\n",
              "      <td>[A, form, of, asbestos, once, used, to, make, ...</td>\n",
              "      <td>[DT, NN, IN, NN, RB, VBN, TO, VB, NNP, NN, NNS...</td>\n",
              "    </tr>\n",
              "    <tr>\n",
              "      <th>4</th>\n",
              "      <td>3</td>\n",
              "      <td>[The, asbestos, fiber, ,, crocidolite, ,, is, ...</td>\n",
              "      <td>[DT, NN, NN, ,, NN, ,, VBZ, RB, JJ, IN, PRP, V...</td>\n",
              "    </tr>\n",
              "  </tbody>\n",
              "</table>\n",
              "</div>\n",
              "      <button class=\"colab-df-convert\" onclick=\"convertToInteractive('df-c75514e1-060a-49f7-bfc0-055ba8395576')\"\n",
              "              title=\"Convert this dataframe to an interactive table.\"\n",
              "              style=\"display:none;\">\n",
              "        \n",
              "  <svg xmlns=\"http://www.w3.org/2000/svg\" height=\"24px\"viewBox=\"0 0 24 24\"\n",
              "       width=\"24px\">\n",
              "    <path d=\"M0 0h24v24H0V0z\" fill=\"none\"/>\n",
              "    <path d=\"M18.56 5.44l.94 2.06.94-2.06 2.06-.94-2.06-.94-.94-2.06-.94 2.06-2.06.94zm-11 1L8.5 8.5l.94-2.06 2.06-.94-2.06-.94L8.5 2.5l-.94 2.06-2.06.94zm10 10l.94 2.06.94-2.06 2.06-.94-2.06-.94-.94-2.06-.94 2.06-2.06.94z\"/><path d=\"M17.41 7.96l-1.37-1.37c-.4-.4-.92-.59-1.43-.59-.52 0-1.04.2-1.43.59L10.3 9.45l-7.72 7.72c-.78.78-.78 2.05 0 2.83L4 21.41c.39.39.9.59 1.41.59.51 0 1.02-.2 1.41-.59l7.78-7.78 2.81-2.81c.8-.78.8-2.07 0-2.86zM5.41 20L4 18.59l7.72-7.72 1.47 1.35L5.41 20z\"/>\n",
              "  </svg>\n",
              "      </button>\n",
              "      \n",
              "  <style>\n",
              "    .colab-df-container {\n",
              "      display:flex;\n",
              "      flex-wrap:wrap;\n",
              "      gap: 12px;\n",
              "    }\n",
              "\n",
              "    .colab-df-convert {\n",
              "      background-color: #E8F0FE;\n",
              "      border: none;\n",
              "      border-radius: 50%;\n",
              "      cursor: pointer;\n",
              "      display: none;\n",
              "      fill: #1967D2;\n",
              "      height: 32px;\n",
              "      padding: 0 0 0 0;\n",
              "      width: 32px;\n",
              "    }\n",
              "\n",
              "    .colab-df-convert:hover {\n",
              "      background-color: #E2EBFA;\n",
              "      box-shadow: 0px 1px 2px rgba(60, 64, 67, 0.3), 0px 1px 3px 1px rgba(60, 64, 67, 0.15);\n",
              "      fill: #174EA6;\n",
              "    }\n",
              "\n",
              "    [theme=dark] .colab-df-convert {\n",
              "      background-color: #3B4455;\n",
              "      fill: #D2E3FC;\n",
              "    }\n",
              "\n",
              "    [theme=dark] .colab-df-convert:hover {\n",
              "      background-color: #434B5C;\n",
              "      box-shadow: 0px 1px 3px 1px rgba(0, 0, 0, 0.15);\n",
              "      filter: drop-shadow(0px 1px 2px rgba(0, 0, 0, 0.3));\n",
              "      fill: #FFFFFF;\n",
              "    }\n",
              "  </style>\n",
              "\n",
              "      <script>\n",
              "        const buttonEl =\n",
              "          document.querySelector('#df-c75514e1-060a-49f7-bfc0-055ba8395576 button.colab-df-convert');\n",
              "        buttonEl.style.display =\n",
              "          google.colab.kernel.accessAllowed ? 'block' : 'none';\n",
              "\n",
              "        async function convertToInteractive(key) {\n",
              "          const element = document.querySelector('#df-c75514e1-060a-49f7-bfc0-055ba8395576');\n",
              "          const dataTable =\n",
              "            await google.colab.kernel.invokeFunction('convertToInteractive',\n",
              "                                                     [key], {});\n",
              "          if (!dataTable) return;\n",
              "\n",
              "          const docLinkHtml = 'Like what you see? Visit the ' +\n",
              "            '<a target=\"_blank\" href=https://colab.research.google.com/notebooks/data_table.ipynb>data table notebook</a>'\n",
              "            + ' to learn more about interactive tables.';\n",
              "          element.innerHTML = '';\n",
              "          dataTable['output_type'] = 'display_data';\n",
              "          await google.colab.output.renderOutput(dataTable, element);\n",
              "          const docLink = document.createElement('div');\n",
              "          docLink.innerHTML = docLinkHtml;\n",
              "          element.appendChild(docLink);\n",
              "        }\n",
              "      </script>\n",
              "    </div>\n",
              "  </div>\n",
              "  "
            ]
          },
          "metadata": {},
          "execution_count": 6
        }
      ]
    },
    {
      "cell_type": "code",
      "source": [
        "# Defining training split.\n",
        "TRAINING_SPLIT = range(1, 101)\n",
        "\n",
        "# Defining validation split.\n",
        "VALIDATION_SPLIT = range(101, 151)\n",
        "\n",
        "# Defining test split.\n",
        "TEST_SPLIT = range(151, 200)\n",
        "\n",
        "# Computing train dataframe.\n",
        "train = dataframe.loc[dataframe[\"file_id\"].isin(TRAINING_SPLIT)]\n",
        "\n",
        "# Computing validation dataframe.\n",
        "validation = dataframe.loc[dataframe[\"file_id\"].isin(VALIDATION_SPLIT)]\n",
        "\n",
        "# Computing test dataframe.\n",
        "test = dataframe.loc[dataframe[\"file_id\"].isin(TEST_SPLIT)]"
      ],
      "metadata": {
        "id": "51jxVKeVa0C3"
      },
      "execution_count": 7,
      "outputs": []
    },
    {
      "cell_type": "code",
      "source": [
        "# Overall words.\n",
        "words = []\n",
        "\n",
        "# Overall tags.\n",
        "tags = []\n",
        "\n",
        "# Extending words with train words.\n",
        "words.extend([item.lower() for sublist in train[\"sentence\"].tolist() for item in sublist])\n",
        "\n",
        "# Extending words with validation words.\n",
        "words.extend([item.lower() for sublist in validation[\"sentence\"].tolist() for item in sublist])\n",
        "\n",
        "# Extending words with test words.\n",
        "words.extend([item.lower() for sublist in test[\"sentence\"].tolist() for item in sublist])\n",
        "\n",
        "# Extending tags with train tags.\n",
        "tags.extend([item for sublist in train[\"tags\"].tolist() for item in sublist])\n",
        "\n",
        "# Extending tags with validation tags.\n",
        "tags.extend([item for sublist in validation[\"tags\"].tolist() for item in sublist])\n",
        "\n",
        "# Extending tags with test tags.\n",
        "tags.extend([item for sublist in test[\"tags\"].tolist() for item in sublist])\n",
        "\n",
        "# Removing duplicates from words. By using a dict instead of a set I can get reproducible results.\n",
        "words = list(dict.fromkeys(words))\n",
        "\n",
        "# Removing duplicates from tags. By using a dict instead of a set I can get reproducible results.\n",
        "tags = list(dict.fromkeys(tags))\n",
        "\n",
        "# Building vocabulary for words.\n",
        "word_to_index = {}\n",
        "word_to_index[\"PAD\"] = 0\n",
        "word_to_index[\"OOV\"] = 1\n",
        "for i, word in enumerate(list(words)): word_to_index[word] = i + 2\n",
        "\n",
        "# Building vocabulary for tags.\n",
        "tag_to_index = {}\n",
        "tag_to_index[\"PAD\"] = 0\n",
        "for i, tag in enumerate(list(tags)): tag_to_index[tag] = i + 1"
      ],
      "metadata": {
        "id": "gzIGFLjNibLW"
      },
      "execution_count": 8,
      "outputs": []
    },
    {
      "cell_type": "code",
      "source": [
        "word_to_index[\"the\"]"
      ],
      "metadata": {
        "id": "-W2e8h_alXI4",
        "colab": {
          "base_uri": "https://localhost:8080/"
        },
        "outputId": "4715eecb-997f-41cc-9d78-06d04e811228"
      },
      "execution_count": 9,
      "outputs": [
        {
          "output_type": "execute_result",
          "data": {
            "text/plain": [
              "10"
            ]
          },
          "metadata": {},
          "execution_count": 9
        }
      ]
    },
    {
      "cell_type": "code",
      "source": [
        "# Function used to transform sentences into vectors of integers using the word_to_index vocabulary.\n",
        "def convert_sentences(input_sentences, vocabulary):\n",
        "\n",
        "  # Output sentences.\n",
        "  output_sentences = []\n",
        "\n",
        "  # Converting input sentences.\n",
        "  for sentence in input_sentences:\n",
        "\n",
        "    # List to store the words' indexes.\n",
        "    sentence_indexes = []\n",
        "\n",
        "    # Corventing each word in sentence.\n",
        "    for word in sentence:\n",
        "\n",
        "      try:\n",
        "\n",
        "        # Computing index.\n",
        "        sentence_indexes.append(vocabulary[word.lower()])\n",
        "\n",
        "      except KeyError:\n",
        "\n",
        "        # Computing index.\n",
        "        sentence_indexes.append(vocabulary[\"OOV\"])\n",
        "\n",
        "    # Appending list of indexes to training set.\n",
        "    output_sentences.append(sentence_indexes)\n",
        "\n",
        "  # Returning output_sentences.\n",
        "  return output_sentences\n",
        "\n",
        "# Function used to transform list of tags into vectors of integers using the tag_to_index vocabulary.\n",
        "def convert_tags(input_tags, vocabulary):\n",
        "\n",
        "  # Output tags.\n",
        "  output_tags = []\n",
        "\n",
        "  # Converting input tags.\n",
        "  for tags_list in input_tags:\n",
        "\n",
        "    # Computing index.\n",
        "    output_tags.append([vocabulary[tag] for tag in tags_list])\n",
        "\n",
        "  # Returning output_tags.\n",
        "  return output_tags"
      ],
      "metadata": {
        "id": "Y0seXBQlfBOR"
      },
      "execution_count": 10,
      "outputs": []
    },
    {
      "cell_type": "code",
      "source": [
        "# Computing train sentences.\n",
        "train_sentences = convert_sentences(input_sentences = train[\"sentence\"].tolist(), vocabulary = word_to_index)\n",
        "\n",
        "# Computing validation sentences.\n",
        "validation_sentences = convert_sentences(input_sentences = validation[\"sentence\"].tolist(), vocabulary = word_to_index)\n",
        "\n",
        "# Computing test sentences.\n",
        "test_sentences = convert_sentences(input_sentences = test[\"sentence\"].tolist(), vocabulary = word_to_index)\n",
        "\n",
        "# Computing train tags.\n",
        "train_tags = convert_tags(input_tags = train[\"tags\"].tolist(), vocabulary = tag_to_index)\n",
        "\n",
        "# Computing validation tags.\n",
        "validation_tags = convert_tags(input_tags = validation[\"tags\"].tolist(), vocabulary = tag_to_index)\n",
        "\n",
        "# Computing test tags.\n",
        "test_tags = convert_tags(input_tags = test[\"tags\"].tolist(), vocabulary = tag_to_index)"
      ],
      "metadata": {
        "id": "BujC7ZowgV8u"
      },
      "execution_count": 11,
      "outputs": []
    },
    {
      "cell_type": "code",
      "source": [
        "print(train_sentences[0])\n",
        "print(train_tags[0])"
      ],
      "metadata": {
        "id": "CW2t3LRSoCX0",
        "colab": {
          "base_uri": "https://localhost:8080/"
        },
        "outputId": "5612d88e-53bd-455a-c826-e8309dfb296e"
      },
      "execution_count": 12,
      "outputs": [
        {
          "output_type": "stream",
          "name": "stdout",
          "text": [
            "[2, 3, 4, 5, 6, 7, 4, 8, 9, 10, 11, 12, 13, 14, 15, 16, 17, 18]\n",
            "[1, 1, 2, 3, 4, 5, 2, 6, 7, 8, 9, 10, 8, 5, 9, 1, 3, 11]\n"
          ]
        }
      ]
    },
    {
      "cell_type": "code",
      "source": [
        "# Computing length of longest train sentence.\n",
        "MAX_LENGTH = len(max(max(train[\"sentence\"].tolist(), key = len), \n",
        "                     max(validation[\"sentence\"].tolist(), key = len), \n",
        "                     max(test[\"sentence\"].tolist(), key = len)))\n",
        "\n",
        "# Padding train sentences.\n",
        "train_sentences = pad_sequences(train_sentences, maxlen = MAX_LENGTH, padding = \"post\")\n",
        "\n",
        "# Padding validation sentences.\n",
        "validation_sentences = pad_sequences(validation_sentences, maxlen = MAX_LENGTH, padding = \"post\")\n",
        "\n",
        "# Padding test sentences.\n",
        "test_sentences = pad_sequences(test_sentences, maxlen = MAX_LENGTH, padding = \"post\")\n",
        "\n",
        "# Padding train tags.\n",
        "train_tags = pad_sequences(train_tags, maxlen = MAX_LENGTH, padding = \"post\")\n",
        "\n",
        "# Padding validation tags.\n",
        "validation_tags = pad_sequences(validation_tags, maxlen = MAX_LENGTH, padding = \"post\")\n",
        "\n",
        "# Padding test tags.\n",
        "test_tags = pad_sequences(test_tags, maxlen = MAX_LENGTH, padding = \"post\")"
      ],
      "metadata": {
        "id": "jTgbsNPNoI9g"
      },
      "execution_count": 47,
      "outputs": []
    },
    {
      "cell_type": "code",
      "source": [
        "# Number of converted words.\n",
        "hits = 0\n",
        "\n",
        "# Number of OOV words.\n",
        "misses = 0\n",
        "\n",
        "# Preparing embedding matrix so that OOV words will be assigned a vector of zeros.\n",
        "embedding_matrix = np.zeros((len(word_to_index), int(EMBEDDING_SIZE)))\n",
        "\n",
        "# Retrieving embedding vector for each word.\n",
        "for word, i in word_to_index.items():\n",
        "\n",
        "  # Computing vector.\n",
        "  vector = embedding_vocabulary.get(word)\n",
        "\n",
        "  # Checking vector.\n",
        "  if vector is not None:\n",
        "    \n",
        "    # Populating the embedding matrix.\n",
        "    embedding_matrix[i] = vector\n",
        "\n",
        "    # Increasing number of hits.\n",
        "    hits += 1\n",
        "\n",
        "  else:\n",
        "\n",
        "    # Increasing number of misses.\n",
        "    misses += 1\n",
        "\n",
        "# Printing number of hits and missed.\n",
        "print(f\"Converted {hits} words. Missed {misses} words.\")"
      ],
      "metadata": {
        "id": "v95jYDdDo4z-",
        "colab": {
          "base_uri": "https://localhost:8080/"
        },
        "outputId": "0ba31f42-47a7-435b-efc0-8220399f0a14"
      },
      "execution_count": 14,
      "outputs": [
        {
          "output_type": "stream",
          "name": "stdout",
          "text": [
            "Converted 10271 words. Missed 678 words.\n"
          ]
        }
      ]
    },
    {
      "cell_type": "code",
      "source": [
        "embedding_matrix[word_to_index[\"the\"]]"
      ],
      "metadata": {
        "id": "9fyKXG_kq82j",
        "colab": {
          "base_uri": "https://localhost:8080/"
        },
        "outputId": "93346ba2-479c-45f6-dcc0-aaf853140f7b"
      },
      "execution_count": 15,
      "outputs": [
        {
          "output_type": "execute_result",
          "data": {
            "text/plain": [
              "array([ 4.1800e-01,  2.4968e-01, -4.1242e-01,  1.2170e-01,  3.4527e-01,\n",
              "       -4.4457e-02, -4.9688e-01, -1.7862e-01, -6.6023e-04, -6.5660e-01,\n",
              "        2.7843e-01, -1.4767e-01, -5.5677e-01,  1.4658e-01, -9.5095e-03,\n",
              "        1.1658e-02,  1.0204e-01, -1.2792e-01, -8.4430e-01, -1.2181e-01,\n",
              "       -1.6801e-02, -3.3279e-01, -1.5520e-01, -2.3131e-01, -1.9181e-01,\n",
              "       -1.8823e+00, -7.6746e-01,  9.9051e-02, -4.2125e-01, -1.9526e-01,\n",
              "        4.0071e+00, -1.8594e-01, -5.2287e-01, -3.1681e-01,  5.9213e-04,\n",
              "        7.4449e-03,  1.7778e-01, -1.5897e-01,  1.2041e-02, -5.4223e-02,\n",
              "       -2.9871e-01, -1.5749e-01, -3.4758e-01, -4.5637e-02, -4.4251e-01,\n",
              "        1.8785e-01,  2.7849e-03, -1.8411e-01, -1.1514e-01, -7.8581e-01])"
            ]
          },
          "metadata": {},
          "execution_count": 15
        }
      ]
    },
    {
      "cell_type": "code",
      "source": [
        "# Function used to one hot encode tag lists.\n",
        "def one_hot_encoder(tags_lists, n_categories):\n",
        "\n",
        "  # List of encodings.\n",
        "  one_hot_encodings = []\n",
        "\n",
        "  # Iterating over lists of tags (e.g. train_tags).\n",
        "  for tags_list in tags_lists:\n",
        "\n",
        "    # One-hot encoding of the specific list.\n",
        "    one_hot_encoding = []\n",
        "\n",
        "    # Iterating over tags\n",
        "    for tag in tags_list:\n",
        "\n",
        "      # Creating vector of zeros.\n",
        "      one_hot_encoding.append(np.zeros(n_categories))\n",
        "\n",
        "      # Storing a one in the tag position.\n",
        "      one_hot_encoding[-1][tag] = 1.0\n",
        "\n",
        "    # Appending the one hot encoding.\n",
        "    one_hot_encodings.append(one_hot_encoding)\n",
        "  \n",
        "  # Returning the list of encodings.\n",
        "  return np.array(one_hot_encodings)"
      ],
      "metadata": {
        "id": "96dMsyQGsXqs"
      },
      "execution_count": 16,
      "outputs": []
    },
    {
      "cell_type": "code",
      "source": [
        "# One-hot encoding train tags.\n",
        "train_tags = one_hot_encoder(tags_lists = train_tags, n_categories = len(tag_to_index))\n",
        "\n",
        "# One-hot encoding validation tags.\n",
        "validation_tags = one_hot_encoder(tags_lists = validation_tags, n_categories = len(tag_to_index))\n",
        "\n",
        "# One-hot encoding test tags.\n",
        "test_tags = one_hot_encoder(tags_lists = test_tags, n_categories = len(tag_to_index))"
      ],
      "metadata": {
        "id": "VKI4zLaT0gCq"
      },
      "execution_count": 17,
      "outputs": []
    },
    {
      "cell_type": "markdown",
      "source": [
        "### Model Definition and Training"
      ],
      "metadata": {
        "id": "Eefy9o5A6e6x"
      }
    },
    {
      "cell_type": "code",
      "source": [
        "# Sequential model.\n",
        "model = Sequential()\n",
        "\n",
        "# Input layer.\n",
        "model.add(InputLayer(input_shape = (MAX_LENGTH,)))\n",
        "\n",
        "# Embedding layer defined by embedding_matrix.\n",
        "model.add(Embedding(len(word_to_index), EMBEDDING_SIZE, weights = [embedding_matrix], trainable = False))\n",
        "\n",
        "# Bi-LSTM.\n",
        "model.add(Bidirectional(LSTM(256, return_sequences = True)))\n",
        "\n",
        "# Dense layer.\n",
        "model.add(TimeDistributed(Dense(len(tag_to_index))))\n",
        "\n",
        "# Softmax.\n",
        "model.add(Activation(\"softmax\"))\n",
        "\n",
        "# Compiling.\n",
        "model.compile(loss = \"categorical_crossentropy\", optimizer = Adam(), metrics = [\"accuracy\"])\n",
        "\n",
        "# Printing summary.\n",
        "model.summary()"
      ],
      "metadata": {
        "id": "dltAFESHshTV",
        "colab": {
          "base_uri": "https://localhost:8080/"
        },
        "outputId": "384d3cb2-6f39-4440-91f2-6e35355918c2"
      },
      "execution_count": 18,
      "outputs": [
        {
          "output_type": "stream",
          "name": "stdout",
          "text": [
            "Model: \"sequential\"\n",
            "_________________________________________________________________\n",
            " Layer (type)                Output Shape              Param #   \n",
            "=================================================================\n",
            " embedding (Embedding)       (None, 249, 50)           547450    \n",
            "                                                                 \n",
            " bidirectional (Bidirectiona  (None, 249, 512)         628736    \n",
            " l)                                                              \n",
            "                                                                 \n",
            " time_distributed (TimeDistr  (None, 249, 46)          23598     \n",
            " ibuted)                                                         \n",
            "                                                                 \n",
            " activation (Activation)     (None, 249, 46)           0         \n",
            "                                                                 \n",
            "=================================================================\n",
            "Total params: 1,199,784\n",
            "Trainable params: 652,334\n",
            "Non-trainable params: 547,450\n",
            "_________________________________________________________________\n"
          ]
        }
      ]
    },
    {
      "cell_type": "code",
      "source": [
        "# Fitting the model.\n",
        "model.fit(train_sentences, train_tags, batch_size = 256, epochs = 40, validation_data = (validation_sentences, validation_tags))"
      ],
      "metadata": {
        "id": "1sw2bOdjiaXz",
        "colab": {
          "base_uri": "https://localhost:8080/"
        },
        "outputId": "17fd2de5-277e-4d45-9172-450691130915"
      },
      "execution_count": 19,
      "outputs": [
        {
          "output_type": "stream",
          "name": "stdout",
          "text": [
            "Epoch 1/40\n",
            "8/8 [==============================] - 7s 281ms/step - loss: 2.8638 - accuracy: 0.8613 - val_loss: 0.5109 - val_accuracy: 0.9072\n",
            "Epoch 2/40\n",
            "8/8 [==============================] - 1s 144ms/step - loss: 0.4114 - accuracy: 0.9113 - val_loss: 0.3403 - val_accuracy: 0.9146\n",
            "Epoch 3/40\n",
            "8/8 [==============================] - 1s 145ms/step - loss: 0.3217 - accuracy: 0.9175 - val_loss: 0.2973 - val_accuracy: 0.9223\n",
            "Epoch 4/40\n",
            "8/8 [==============================] - 1s 145ms/step - loss: 0.2869 - accuracy: 0.9234 - val_loss: 0.2746 - val_accuracy: 0.9241\n",
            "Epoch 5/40\n",
            "8/8 [==============================] - 1s 145ms/step - loss: 0.2679 - accuracy: 0.9276 - val_loss: 0.2601 - val_accuracy: 0.9321\n",
            "Epoch 6/40\n",
            "8/8 [==============================] - 1s 147ms/step - loss: 0.2548 - accuracy: 0.9325 - val_loss: 0.2475 - val_accuracy: 0.9350\n",
            "Epoch 7/40\n",
            "8/8 [==============================] - 1s 146ms/step - loss: 0.2424 - accuracy: 0.9373 - val_loss: 0.2355 - val_accuracy: 0.9407\n",
            "Epoch 8/40\n",
            "8/8 [==============================] - 1s 145ms/step - loss: 0.2305 - accuracy: 0.9413 - val_loss: 0.2238 - val_accuracy: 0.9436\n",
            "Epoch 9/40\n",
            "8/8 [==============================] - 1s 145ms/step - loss: 0.2191 - accuracy: 0.9441 - val_loss: 0.2126 - val_accuracy: 0.9463\n",
            "Epoch 10/40\n",
            "8/8 [==============================] - 1s 148ms/step - loss: 0.2076 - accuracy: 0.9464 - val_loss: 0.2018 - val_accuracy: 0.9477\n",
            "Epoch 11/40\n",
            "8/8 [==============================] - 1s 146ms/step - loss: 0.1968 - accuracy: 0.9486 - val_loss: 0.1913 - val_accuracy: 0.9506\n",
            "Epoch 12/40\n",
            "8/8 [==============================] - 1s 146ms/step - loss: 0.1862 - accuracy: 0.9514 - val_loss: 0.1815 - val_accuracy: 0.9527\n",
            "Epoch 13/40\n",
            "8/8 [==============================] - 1s 146ms/step - loss: 0.1760 - accuracy: 0.9539 - val_loss: 0.1720 - val_accuracy: 0.9554\n",
            "Epoch 14/40\n",
            "8/8 [==============================] - 1s 147ms/step - loss: 0.1664 - accuracy: 0.9569 - val_loss: 0.1633 - val_accuracy: 0.9575\n",
            "Epoch 15/40\n",
            "8/8 [==============================] - 1s 147ms/step - loss: 0.1576 - accuracy: 0.9590 - val_loss: 0.1552 - val_accuracy: 0.9596\n",
            "Epoch 16/40\n",
            "8/8 [==============================] - 1s 149ms/step - loss: 0.1494 - accuracy: 0.9616 - val_loss: 0.1476 - val_accuracy: 0.9614\n",
            "Epoch 17/40\n",
            "8/8 [==============================] - 1s 151ms/step - loss: 0.1419 - accuracy: 0.9633 - val_loss: 0.1408 - val_accuracy: 0.9633\n",
            "Epoch 18/40\n",
            "8/8 [==============================] - 1s 150ms/step - loss: 0.1350 - accuracy: 0.9651 - val_loss: 0.1345 - val_accuracy: 0.9649\n",
            "Epoch 19/40\n",
            "8/8 [==============================] - 1s 148ms/step - loss: 0.1288 - accuracy: 0.9668 - val_loss: 0.1288 - val_accuracy: 0.9662\n",
            "Epoch 20/40\n",
            "8/8 [==============================] - 1s 149ms/step - loss: 0.1231 - accuracy: 0.9682 - val_loss: 0.1236 - val_accuracy: 0.9673\n",
            "Epoch 21/40\n",
            "8/8 [==============================] - 1s 147ms/step - loss: 0.1179 - accuracy: 0.9695 - val_loss: 0.1190 - val_accuracy: 0.9683\n",
            "Epoch 22/40\n",
            "8/8 [==============================] - 1s 148ms/step - loss: 0.1133 - accuracy: 0.9703 - val_loss: 0.1146 - val_accuracy: 0.9693\n",
            "Epoch 23/40\n",
            "8/8 [==============================] - 1s 148ms/step - loss: 0.1090 - accuracy: 0.9714 - val_loss: 0.1108 - val_accuracy: 0.9701\n",
            "Epoch 24/40\n",
            "8/8 [==============================] - 1s 148ms/step - loss: 0.1051 - accuracy: 0.9723 - val_loss: 0.1072 - val_accuracy: 0.9711\n",
            "Epoch 25/40\n",
            "8/8 [==============================] - 1s 149ms/step - loss: 0.1016 - accuracy: 0.9730 - val_loss: 0.1040 - val_accuracy: 0.9718\n",
            "Epoch 26/40\n",
            "8/8 [==============================] - 1s 149ms/step - loss: 0.0984 - accuracy: 0.9739 - val_loss: 0.1010 - val_accuracy: 0.9725\n",
            "Epoch 27/40\n",
            "8/8 [==============================] - 1s 149ms/step - loss: 0.0953 - accuracy: 0.9744 - val_loss: 0.0983 - val_accuracy: 0.9731\n",
            "Epoch 28/40\n",
            "8/8 [==============================] - 1s 150ms/step - loss: 0.0926 - accuracy: 0.9752 - val_loss: 0.0958 - val_accuracy: 0.9737\n",
            "Epoch 29/40\n",
            "8/8 [==============================] - 1s 149ms/step - loss: 0.0900 - accuracy: 0.9757 - val_loss: 0.0935 - val_accuracy: 0.9744\n",
            "Epoch 30/40\n",
            "8/8 [==============================] - 1s 149ms/step - loss: 0.0876 - accuracy: 0.9764 - val_loss: 0.0914 - val_accuracy: 0.9747\n",
            "Epoch 31/40\n",
            "8/8 [==============================] - 1s 149ms/step - loss: 0.0855 - accuracy: 0.9768 - val_loss: 0.0893 - val_accuracy: 0.9752\n",
            "Epoch 32/40\n",
            "8/8 [==============================] - 1s 150ms/step - loss: 0.0833 - accuracy: 0.9773 - val_loss: 0.0876 - val_accuracy: 0.9756\n",
            "Epoch 33/40\n",
            "8/8 [==============================] - 1s 150ms/step - loss: 0.0814 - accuracy: 0.9778 - val_loss: 0.0858 - val_accuracy: 0.9761\n",
            "Epoch 34/40\n",
            "8/8 [==============================] - 1s 151ms/step - loss: 0.0796 - accuracy: 0.9783 - val_loss: 0.0841 - val_accuracy: 0.9765\n",
            "Epoch 35/40\n",
            "8/8 [==============================] - 1s 151ms/step - loss: 0.0779 - accuracy: 0.9785 - val_loss: 0.0827 - val_accuracy: 0.9768\n",
            "Epoch 36/40\n",
            "8/8 [==============================] - 1s 151ms/step - loss: 0.0764 - accuracy: 0.9790 - val_loss: 0.0812 - val_accuracy: 0.9771\n",
            "Epoch 37/40\n",
            "8/8 [==============================] - 1s 152ms/step - loss: 0.0748 - accuracy: 0.9793 - val_loss: 0.0799 - val_accuracy: 0.9775\n",
            "Epoch 38/40\n",
            "8/8 [==============================] - 1s 152ms/step - loss: 0.0734 - accuracy: 0.9797 - val_loss: 0.0785 - val_accuracy: 0.9778\n",
            "Epoch 39/40\n",
            "8/8 [==============================] - 1s 152ms/step - loss: 0.0720 - accuracy: 0.9800 - val_loss: 0.0774 - val_accuracy: 0.9780\n",
            "Epoch 40/40\n",
            "8/8 [==============================] - 1s 151ms/step - loss: 0.0707 - accuracy: 0.9802 - val_loss: 0.0763 - val_accuracy: 0.9783\n"
          ]
        },
        {
          "output_type": "execute_result",
          "data": {
            "text/plain": [
              "<keras.callbacks.History at 0x7f6dab404cd0>"
            ]
          },
          "metadata": {},
          "execution_count": 19
        }
      ]
    },
    {
      "cell_type": "code",
      "source": [
        "# Computing predictions.\n",
        "pred = model.predict(validation_sentences)\n",
        "\n",
        "# Computing classification report.\n",
        "report = classification_report(np.argmax(validation_tags, axis = 2).flatten(), \n",
        "                               np.argmax(pred, axis = 2).flatten(), \n",
        "                               labels = np.arange(0, 46, 1),\n",
        "                               target_names = list(tag_to_index.keys()),\n",
        "                               zero_division = 0,\n",
        "                               output_dict = True)\n",
        "\n",
        "# Macro F1-score without punctuation classes.\n",
        "macro_f1 = 0\n",
        "\n",
        "# Punctuation tag list.\n",
        "punctuation_tag_list = [\"PAD\", \",\", \".\", \"``\", \"''\", \":\", \"$\", \"#\"]\n",
        "\n",
        "# Iterating over classes.\n",
        "for tag in list(tag_to_index.keys()):\n",
        "\n",
        "  # Updating the macro F1-score.\n",
        "  if tag not in punctuation_tag_list: macro_f1 = macro_f1 + report[tag][\"f1-score\"]\n",
        "\n",
        "# Dividing macro F1-score with the number of non-punctuation classes.\n",
        "macro_f1 = macro_f1 / (len(list(tag_to_index.keys())) - len(punctuation_tag_list))\n",
        "\n",
        "# Macro F1-score.\n",
        "print(f\"Macro F1-score with no punctuation classes: {macro_f1}.\")"
      ],
      "metadata": {
        "id": "s3w5ghuE63ss",
        "colab": {
          "base_uri": "https://localhost:8080/"
        },
        "outputId": "2734b7a1-472a-4aa5-9abb-2087ec3a65cb"
      },
      "execution_count": 49,
      "outputs": [
        {
          "output_type": "stream",
          "name": "stdout",
          "text": [
            "41/41 [==============================] - 1s 16ms/step\n",
            "Macro F1-score with no punctuation classes: 0.4452328534748629.\n"
          ]
        }
      ]
    }
  ]
}