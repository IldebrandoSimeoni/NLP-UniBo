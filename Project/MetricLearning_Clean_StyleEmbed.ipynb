{
 "cells": [
  {
   "cell_type": "markdown",
   "metadata": {
    "id": "S5K-wU9_43SD"
   },
   "source": [
    "# Setup"
   ]
  },
  {
   "cell_type": "code",
   "execution_count": 1,
   "metadata": {
    "colab": {
     "base_uri": "https://localhost:8080/"
    },
    "execution": {
     "iopub.execute_input": "2022-12-18T13:16:02.745125Z",
     "iopub.status.busy": "2022-12-18T13:16:02.743912Z",
     "iopub.status.idle": "2022-12-18T13:16:18.963122Z",
     "shell.execute_reply": "2022-12-18T13:16:18.962022Z",
     "shell.execute_reply.started": "2022-12-18T13:16:02.744969Z"
    },
    "id": "l42regX-3cUb",
    "outputId": "66455d51-06d8-402a-e04a-c159987dd433"
   },
   "outputs": [
    {
     "name": "stdout",
     "output_type": "stream",
     "text": [
      "Requirement already satisfied: transformers in /usr/local/lib/python3.9/dist-packages (4.20.1)\n",
      "Requirement already satisfied: huggingface-hub<1.0,>=0.1.0 in /usr/local/lib/python3.9/dist-packages (from transformers) (0.8.1)\n",
      "Requirement already satisfied: packaging>=20.0 in /usr/local/lib/python3.9/dist-packages (from transformers) (21.3)\n",
      "Requirement already satisfied: requests in /usr/local/lib/python3.9/dist-packages (from transformers) (2.28.1)\n",
      "Requirement already satisfied: regex!=2019.12.17 in /usr/local/lib/python3.9/dist-packages (from transformers) (2022.7.9)\n",
      "Requirement already satisfied: numpy>=1.17 in /usr/local/lib/python3.9/dist-packages (from transformers) (1.23.1)\n",
      "Requirement already satisfied: tqdm>=4.27 in /usr/local/lib/python3.9/dist-packages (from transformers) (4.64.0)\n",
      "Requirement already satisfied: filelock in /usr/local/lib/python3.9/dist-packages (from transformers) (3.7.1)\n",
      "Requirement already satisfied: pyyaml>=5.1 in /usr/local/lib/python3.9/dist-packages (from transformers) (5.4.1)\n",
      "Requirement already satisfied: tokenizers!=0.11.3,<0.13,>=0.11.1 in /usr/local/lib/python3.9/dist-packages (from transformers) (0.12.1)\n",
      "Requirement already satisfied: typing-extensions>=3.7.4.3 in /usr/local/lib/python3.9/dist-packages (from huggingface-hub<1.0,>=0.1.0->transformers) (4.3.0)\n",
      "Requirement already satisfied: pyparsing!=3.0.5,>=2.0.2 in /usr/local/lib/python3.9/dist-packages (from packaging>=20.0->transformers) (3.0.9)\n",
      "Requirement already satisfied: urllib3<1.27,>=1.21.1 in /usr/local/lib/python3.9/dist-packages (from requests->transformers) (1.26.10)\n",
      "Requirement already satisfied: certifi>=2017.4.17 in /usr/lib/python3/dist-packages (from requests->transformers) (2019.11.28)\n",
      "Requirement already satisfied: idna<4,>=2.5 in /usr/lib/python3/dist-packages (from requests->transformers) (2.8)\n",
      "Requirement already satisfied: charset-normalizer<3,>=2 in /usr/local/lib/python3.9/dist-packages (from requests->transformers) (2.1.0)\n",
      "\u001b[33mWARNING: Running pip as the 'root' user can result in broken permissions and conflicting behaviour with the system package manager. It is recommended to use a virtual environment instead: https://pip.pypa.io/warnings/venv\u001b[0m\u001b[33m\n",
      "\u001b[0mRequirement already satisfied: datasets in /usr/local/lib/python3.9/dist-packages (2.3.2)\n",
      "Requirement already satisfied: pyarrow>=6.0.0 in /usr/local/lib/python3.9/dist-packages (from datasets) (8.0.0)\n",
      "Requirement already satisfied: fsspec[http]>=2021.05.0 in /usr/local/lib/python3.9/dist-packages (from datasets) (2022.5.0)\n",
      "Requirement already satisfied: pandas in /usr/local/lib/python3.9/dist-packages (from datasets) (1.4.3)\n",
      "Requirement already satisfied: dill<0.3.6 in /usr/local/lib/python3.9/dist-packages (from datasets) (0.3.5.1)\n",
      "Requirement already satisfied: requests>=2.19.0 in /usr/local/lib/python3.9/dist-packages (from datasets) (2.28.1)\n",
      "Requirement already satisfied: multiprocess in /usr/local/lib/python3.9/dist-packages (from datasets) (0.70.13)\n",
      "Requirement already satisfied: responses<0.19 in /usr/local/lib/python3.9/dist-packages (from datasets) (0.18.0)\n",
      "Requirement already satisfied: xxhash in /usr/local/lib/python3.9/dist-packages (from datasets) (3.0.0)\n",
      "Requirement already satisfied: huggingface-hub<1.0.0,>=0.1.0 in /usr/local/lib/python3.9/dist-packages (from datasets) (0.8.1)\n",
      "Requirement already satisfied: numpy>=1.17 in /usr/local/lib/python3.9/dist-packages (from datasets) (1.23.1)\n",
      "Requirement already satisfied: tqdm>=4.62.1 in /usr/local/lib/python3.9/dist-packages (from datasets) (4.64.0)\n",
      "Requirement already satisfied: packaging in /usr/local/lib/python3.9/dist-packages (from datasets) (21.3)\n",
      "Requirement already satisfied: aiohttp in /usr/local/lib/python3.9/dist-packages (from datasets) (3.8.1)\n",
      "Requirement already satisfied: filelock in /usr/local/lib/python3.9/dist-packages (from huggingface-hub<1.0.0,>=0.1.0->datasets) (3.7.1)\n",
      "Requirement already satisfied: pyyaml>=5.1 in /usr/local/lib/python3.9/dist-packages (from huggingface-hub<1.0.0,>=0.1.0->datasets) (5.4.1)\n",
      "Requirement already satisfied: typing-extensions>=3.7.4.3 in /usr/local/lib/python3.9/dist-packages (from huggingface-hub<1.0.0,>=0.1.0->datasets) (4.3.0)\n",
      "Requirement already satisfied: pyparsing!=3.0.5,>=2.0.2 in /usr/local/lib/python3.9/dist-packages (from packaging->datasets) (3.0.9)\n",
      "Requirement already satisfied: urllib3<1.27,>=1.21.1 in /usr/local/lib/python3.9/dist-packages (from requests>=2.19.0->datasets) (1.26.10)\n",
      "Requirement already satisfied: charset-normalizer<3,>=2 in /usr/local/lib/python3.9/dist-packages (from requests>=2.19.0->datasets) (2.1.0)\n",
      "Requirement already satisfied: certifi>=2017.4.17 in /usr/lib/python3/dist-packages (from requests>=2.19.0->datasets) (2019.11.28)\n",
      "Requirement already satisfied: idna<4,>=2.5 in /usr/lib/python3/dist-packages (from requests>=2.19.0->datasets) (2.8)\n",
      "Requirement already satisfied: frozenlist>=1.1.1 in /usr/local/lib/python3.9/dist-packages (from aiohttp->datasets) (1.3.0)\n",
      "Requirement already satisfied: async-timeout<5.0,>=4.0.0a3 in /usr/local/lib/python3.9/dist-packages (from aiohttp->datasets) (4.0.2)\n",
      "Requirement already satisfied: aiosignal>=1.1.2 in /usr/local/lib/python3.9/dist-packages (from aiohttp->datasets) (1.2.0)\n",
      "Requirement already satisfied: multidict<7.0,>=4.5 in /usr/local/lib/python3.9/dist-packages (from aiohttp->datasets) (6.0.2)\n",
      "Requirement already satisfied: attrs>=17.3.0 in /usr/local/lib/python3.9/dist-packages (from aiohttp->datasets) (18.2.0)\n",
      "Requirement already satisfied: yarl<2.0,>=1.0 in /usr/local/lib/python3.9/dist-packages (from aiohttp->datasets) (1.7.2)\n",
      "Requirement already satisfied: python-dateutil>=2.8.1 in /usr/local/lib/python3.9/dist-packages (from pandas->datasets) (2.8.2)\n",
      "Requirement already satisfied: pytz>=2020.1 in /usr/local/lib/python3.9/dist-packages (from pandas->datasets) (2022.1)\n",
      "Requirement already satisfied: six>=1.5 in /usr/lib/python3/dist-packages (from python-dateutil>=2.8.1->pandas->datasets) (1.14.0)\n",
      "\u001b[33mWARNING: Running pip as the 'root' user can result in broken permissions and conflicting behaviour with the system package manager. It is recommended to use a virtual environment instead: https://pip.pypa.io/warnings/venv\u001b[0m\u001b[33m\n",
      "\u001b[0mRequirement already satisfied: sentence_transformers in /usr/local/lib/python3.9/dist-packages (2.2.2)\n",
      "Requirement already satisfied: tqdm in /usr/local/lib/python3.9/dist-packages (from sentence_transformers) (4.64.0)\n",
      "Requirement already satisfied: huggingface-hub>=0.4.0 in /usr/local/lib/python3.9/dist-packages (from sentence_transformers) (0.8.1)\n",
      "Requirement already satisfied: scipy in /usr/local/lib/python3.9/dist-packages (from sentence_transformers) (1.8.1)\n",
      "Requirement already satisfied: numpy in /usr/local/lib/python3.9/dist-packages (from sentence_transformers) (1.23.1)\n",
      "Requirement already satisfied: transformers<5.0.0,>=4.6.0 in /usr/local/lib/python3.9/dist-packages (from sentence_transformers) (4.20.1)\n",
      "Requirement already satisfied: scikit-learn in /usr/local/lib/python3.9/dist-packages (from sentence_transformers) (1.1.1)\n",
      "Requirement already satisfied: torch>=1.6.0 in /usr/local/lib/python3.9/dist-packages (from sentence_transformers) (1.12.0+cu116)\n",
      "Requirement already satisfied: sentencepiece in /usr/local/lib/python3.9/dist-packages (from sentence_transformers) (0.1.96)\n",
      "Requirement already satisfied: torchvision in /usr/local/lib/python3.9/dist-packages (from sentence_transformers) (0.13.0+cu116)\n",
      "Requirement already satisfied: nltk in /usr/local/lib/python3.9/dist-packages (from sentence_transformers) (3.7)\n",
      "Requirement already satisfied: requests in /usr/local/lib/python3.9/dist-packages (from huggingface-hub>=0.4.0->sentence_transformers) (2.28.1)\n",
      "Requirement already satisfied: typing-extensions>=3.7.4.3 in /usr/local/lib/python3.9/dist-packages (from huggingface-hub>=0.4.0->sentence_transformers) (4.3.0)\n",
      "Requirement already satisfied: packaging>=20.9 in /usr/local/lib/python3.9/dist-packages (from huggingface-hub>=0.4.0->sentence_transformers) (21.3)\n",
      "Requirement already satisfied: filelock in /usr/local/lib/python3.9/dist-packages (from huggingface-hub>=0.4.0->sentence_transformers) (3.7.1)\n",
      "Requirement already satisfied: pyyaml>=5.1 in /usr/local/lib/python3.9/dist-packages (from huggingface-hub>=0.4.0->sentence_transformers) (5.4.1)\n",
      "Requirement already satisfied: regex!=2019.12.17 in /usr/local/lib/python3.9/dist-packages (from transformers<5.0.0,>=4.6.0->sentence_transformers) (2022.7.9)\n",
      "Requirement already satisfied: tokenizers!=0.11.3,<0.13,>=0.11.1 in /usr/local/lib/python3.9/dist-packages (from transformers<5.0.0,>=4.6.0->sentence_transformers) (0.12.1)\n",
      "Requirement already satisfied: click in /usr/local/lib/python3.9/dist-packages (from nltk->sentence_transformers) (8.1.3)\n",
      "Requirement already satisfied: joblib in /usr/local/lib/python3.9/dist-packages (from nltk->sentence_transformers) (1.1.0)\n",
      "Requirement already satisfied: threadpoolctl>=2.0.0 in /usr/local/lib/python3.9/dist-packages (from scikit-learn->sentence_transformers) (3.1.0)\n",
      "Requirement already satisfied: pillow!=8.3.*,>=5.3.0 in /usr/local/lib/python3.9/dist-packages (from torchvision->sentence_transformers) (9.2.0)\n",
      "Requirement already satisfied: pyparsing!=3.0.5,>=2.0.2 in /usr/local/lib/python3.9/dist-packages (from packaging>=20.9->huggingface-hub>=0.4.0->sentence_transformers) (3.0.9)\n",
      "Requirement already satisfied: certifi>=2017.4.17 in /usr/lib/python3/dist-packages (from requests->huggingface-hub>=0.4.0->sentence_transformers) (2019.11.28)\n",
      "Requirement already satisfied: idna<4,>=2.5 in /usr/lib/python3/dist-packages (from requests->huggingface-hub>=0.4.0->sentence_transformers) (2.8)\n",
      "Requirement already satisfied: charset-normalizer<3,>=2 in /usr/local/lib/python3.9/dist-packages (from requests->huggingface-hub>=0.4.0->sentence_transformers) (2.1.0)\n",
      "Requirement already satisfied: urllib3<1.27,>=1.21.1 in /usr/local/lib/python3.9/dist-packages (from requests->huggingface-hub>=0.4.0->sentence_transformers) (1.26.10)\n",
      "\u001b[33mWARNING: Running pip as the 'root' user can result in broken permissions and conflicting behaviour with the system package manager. It is recommended to use a virtual environment instead: https://pip.pypa.io/warnings/venv\u001b[0m\u001b[33m\n",
      "\u001b[0mCollecting wordcloud\n",
      "  Downloading wordcloud-1.8.2.2-cp39-cp39-manylinux_2_17_x86_64.manylinux2014_x86_64.whl (458 kB)\n",
      "\u001b[2K     \u001b[90m━━━━━━━━━━━━━━━━━━━━━━━━━━━━━━━━━━━━━━\u001b[0m \u001b[32m458.6/458.6 kB\u001b[0m \u001b[31m42.6 MB/s\u001b[0m eta \u001b[36m0:00:00\u001b[0m\n",
      "\u001b[?25hRequirement already satisfied: numpy>=1.6.1 in /usr/local/lib/python3.9/dist-packages (from wordcloud) (1.23.1)\n",
      "Requirement already satisfied: matplotlib in /usr/local/lib/python3.9/dist-packages (from wordcloud) (3.5.2)\n",
      "Requirement already satisfied: pillow in /usr/local/lib/python3.9/dist-packages (from wordcloud) (9.2.0)\n",
      "Requirement already satisfied: kiwisolver>=1.0.1 in /usr/local/lib/python3.9/dist-packages (from matplotlib->wordcloud) (1.4.3)\n",
      "Requirement already satisfied: fonttools>=4.22.0 in /usr/local/lib/python3.9/dist-packages (from matplotlib->wordcloud) (4.34.4)\n",
      "Requirement already satisfied: pyparsing>=2.2.1 in /usr/local/lib/python3.9/dist-packages (from matplotlib->wordcloud) (3.0.9)\n",
      "Requirement already satisfied: python-dateutil>=2.7 in /usr/local/lib/python3.9/dist-packages (from matplotlib->wordcloud) (2.8.2)\n",
      "Requirement already satisfied: packaging>=20.0 in /usr/local/lib/python3.9/dist-packages (from matplotlib->wordcloud) (21.3)\n",
      "Requirement already satisfied: cycler>=0.10 in /usr/local/lib/python3.9/dist-packages (from matplotlib->wordcloud) (0.11.0)\n",
      "Requirement already satisfied: six>=1.5 in /usr/lib/python3/dist-packages (from python-dateutil>=2.7->matplotlib->wordcloud) (1.14.0)\n",
      "Installing collected packages: wordcloud\n",
      "Successfully installed wordcloud-1.8.2.2\n",
      "\u001b[33mWARNING: Running pip as the 'root' user can result in broken permissions and conflicting behaviour with the system package manager. It is recommended to use a virtual environment instead: https://pip.pypa.io/warnings/venv\u001b[0m\u001b[33m\n",
      "\u001b[0mfatal: destination path 'pan-code' already exists and is not an empty directory.\n"
     ]
    }
   ],
   "source": [
    "!pip install transformers\n",
    "!pip install datasets\n",
    "!pip install sentence_transformers\n",
    "!pip install wordcloud\n",
    "!git clone https://github.com/pan-webis-de/pan-code.git"
   ]
  },
  {
   "cell_type": "code",
   "execution_count": 2,
   "metadata": {
    "execution": {
     "iopub.execute_input": "2022-12-18T13:16:18.965304Z",
     "iopub.status.busy": "2022-12-18T13:16:18.964990Z",
     "iopub.status.idle": "2022-12-18T13:16:18.970008Z",
     "shell.execute_reply": "2022-12-18T13:16:18.969281Z",
     "shell.execute_reply.started": "2022-12-18T13:16:18.965279Z"
    },
    "id": "dl5GYOw8l6-Q"
   },
   "outputs": [],
   "source": [
    "base_seed = 42"
   ]
  },
  {
   "cell_type": "code",
   "execution_count": 3,
   "metadata": {
    "execution": {
     "iopub.execute_input": "2022-12-18T13:16:18.971424Z",
     "iopub.status.busy": "2022-12-18T13:16:18.971197Z",
     "iopub.status.idle": "2022-12-18T13:16:22.856899Z",
     "shell.execute_reply": "2022-12-18T13:16:22.855916Z",
     "shell.execute_reply.started": "2022-12-18T13:16:18.971404Z"
    },
    "id": "OTUSTPKm45zH"
   },
   "outputs": [],
   "source": [
    "import os\n",
    "import pandas as pd\n",
    "import json\n",
    "from pandas import json_normalize\n",
    "import re\n",
    "import matplotlib.pyplot as plt\n",
    "import numpy as np\n",
    "from sklearn.metrics import classification_report\n",
    "from sklearn.metrics.pairwise import cosine_distances\n",
    "import sys\n",
    "\n",
    "import torch\n",
    "\n",
    "import os\n",
    "sys.path.append(os.path.abspath(\"pan-code/clef22/style-change-detection/evaluator\"))\n",
    "from evaluator import *\n",
    "from sentence_transformers import SentenceTransformer, InputExample, util, losses\n",
    "from torch.utils.data import Dataset, DataLoader\n",
    "import random\n",
    "import math\n",
    "\n",
    "\n"
   ]
  },
  {
   "cell_type": "code",
   "execution_count": 4,
   "metadata": {
    "execution": {
     "iopub.execute_input": "2022-12-16T12:25:09.586711Z",
     "iopub.status.busy": "2022-12-16T12:25:09.586130Z",
     "iopub.status.idle": "2022-12-16T12:25:09.590233Z",
     "shell.execute_reply": "2022-12-16T12:25:09.589379Z",
     "shell.execute_reply.started": "2022-12-16T12:25:09.586690Z"
    },
    "id": "iknl4m6W5AJ3"
   },
   "outputs": [],
   "source": [
    "#!unzip pan22.zip\n"
   ]
  },
  {
   "cell_type": "markdown",
   "metadata": {
    "id": "waLaH04b5acW"
   },
   "source": [
    "#  Data management"
   ]
  },
  {
   "cell_type": "code",
   "execution_count": 4,
   "metadata": {
    "execution": {
     "iopub.execute_input": "2022-12-18T13:16:22.859803Z",
     "iopub.status.busy": "2022-12-18T13:16:22.859070Z",
     "iopub.status.idle": "2022-12-18T13:16:22.870549Z",
     "shell.execute_reply": "2022-12-18T13:16:22.869878Z",
     "shell.execute_reply.started": "2022-12-18T13:16:22.859768Z"
    },
    "id": "x3VMjBTq5f-b"
   },
   "outputs": [],
   "source": [
    "def create_dataframe(directory):\n",
    "  train_set = []\n",
    "  for filename in os.listdir(directory):\n",
    "      f = os.path.join(directory, filename)\n",
    "      if f.endswith('.json'):\n",
    "            train_set.append(f)\n",
    "\n",
    "  train_set.sort(key=lambda f: int(re.sub('\\D', '', f))) #sorting alphabetically files by name in order to have the correct order\n",
    "\n",
    "  data = []\n",
    "  for name in train_set:\n",
    "    with open(name) as json_data:\n",
    "      data_dict = json.load(json_data)\n",
    "      data.append(data_dict)\n",
    "\n",
    "  df = json_normalize(data)\n",
    "  \n",
    "  train_set_text = []\n",
    "  for filename in os.listdir(directory):\n",
    "      f = os.path.join(directory, filename)\n",
    "      if f.endswith('.txt'):\n",
    "            train_set_text.append(f)\n",
    "\n",
    "  train_set_text.sort(key=lambda f: int(re.sub('\\D', '', f)))\n",
    "\n",
    "  text_list = []\n",
    "  for file in train_set_text:\n",
    "    with open(file) as f:\n",
    "      content = f.read()\n",
    "      text_list.append(content)\n",
    "\n",
    "  df['input_text'] = text_list\n",
    "\n",
    "  splitted_text = []\n",
    "  for text in df['input_text']:\n",
    "    split = text.splitlines()\n",
    "    splitted_text.append(split)\n",
    "\n",
    "  df['splitted_text'] = pd.Series(splitted_text)\n",
    "\n",
    "  #Sanity check, checking if we have splitted correctly (according to the datset) the input text \n",
    "  for i in range(len(df.index)):\n",
    "    if len(df['splitted_text'].iloc[i]) != len(df['paragraph-authors'].iloc[i]):\n",
    "      print(\"we have a problem at row: \",i)\n",
    "    \n",
    "  return df"
   ]
  },
  {
   "cell_type": "code",
   "execution_count": 5,
   "metadata": {
    "execution": {
     "iopub.execute_input": "2022-12-18T13:16:22.872354Z",
     "iopub.status.busy": "2022-12-18T13:16:22.871584Z",
     "iopub.status.idle": "2022-12-18T13:16:22.875954Z",
     "shell.execute_reply": "2022-12-18T13:16:22.875428Z",
     "shell.execute_reply.started": "2022-12-18T13:16:22.872323Z"
    },
    "id": "tErOjgmyEBRl"
   },
   "outputs": [],
   "source": [
    "device = torch.device(\"cuda\") if torch.cuda.is_available() else torch.device(\"cpu\")\n"
   ]
  },
  {
   "cell_type": "markdown",
   "metadata": {
    "id": "bTcl2Wh33uEf"
   },
   "source": [
    "# Utility functions"
   ]
  },
  {
   "cell_type": "code",
   "execution_count": 6,
   "metadata": {
    "execution": {
     "iopub.execute_input": "2022-12-18T13:16:22.877395Z",
     "iopub.status.busy": "2022-12-18T13:16:22.876831Z",
     "iopub.status.idle": "2022-12-18T13:16:22.880751Z",
     "shell.execute_reply": "2022-12-18T13:16:22.880270Z",
     "shell.execute_reply.started": "2022-12-18T13:16:22.877372Z"
    },
    "id": "6Lyavd_illKM"
   },
   "outputs": [],
   "source": [
    "def set_reproducibility(seed):\n",
    "  random.seed(seed)\n",
    "  np.random.seed(seed)\n",
    "  \n",
    "  # Pytorch\n",
    "  torch.use_deterministic_algorithms(False)\n",
    "  torch.manual_seed(seed)"
   ]
  },
  {
   "cell_type": "code",
   "execution_count": 7,
   "metadata": {
    "execution": {
     "iopub.execute_input": "2022-12-18T13:16:22.882182Z",
     "iopub.status.busy": "2022-12-18T13:16:22.881626Z",
     "iopub.status.idle": "2022-12-18T13:16:22.890408Z",
     "shell.execute_reply": "2022-12-18T13:16:22.889780Z",
     "shell.execute_reply.started": "2022-12-18T13:16:22.882159Z"
    },
    "id": "fFQT7Xql3yOI"
   },
   "outputs": [],
   "source": [
    "def create_contrastive_examples(documents, authors, tokenizer, max_length, max_samples):\n",
    "    rows = []\n",
    "    # Splitting data.\n",
    "    for document, author in zip(documents, authors):\n",
    "      if len(author) != len(document):\n",
    "        continue\n",
    "      for i in range(len(document)):\n",
    "        for j in range(len(document)):\n",
    "          if i != j:\n",
    "            new_row = {}\n",
    "\n",
    "            text1 = document[i][:sum([len(t) + 1 for t in tokenizer.tokenize(document[i])[:max_length]])]\n",
    "            text2 = document[j][:sum([len(t) + 1 for t in tokenizer.tokenize(document[j])[:max_length]])]\n",
    "\n",
    "            new_row[\"text1\"] = text1\n",
    "            new_row[\"text2\"] = text2\n",
    "\n",
    "            if author[i] != author[j]:\n",
    "              new_row[\"label\"] = 0 # 0 if different\n",
    "            else:\n",
    "              new_row[\"label\"] = 1 # 1 if same\n",
    "\n",
    "            rows.append(new_row)\n",
    "\n",
    "    df = pd.DataFrame(rows, columns=['text1', 'text2', 'label'])\n",
    "\n",
    "    # Sample the required positive and negative samples\n",
    "\n",
    "    pos_samples = df[df[\"label\"] == 1]\n",
    "    neg_samples = df[df[\"label\"] == 0]\n",
    "    print(len(pos_samples))\n",
    "    print(len(neg_samples))\n",
    "    if len(pos_samples) > max_samples//2:\n",
    "        pos_samples = pos_samples.sample(max_samples//2)\n",
    "    if len(neg_samples) > max_samples//2:\n",
    "        neg_samples = neg_samples.sample(max_samples//2)    \n",
    "\n",
    "    df = pd.concat([pos_samples, neg_samples], axis=0, ignore_index=True).sample(frac=1)\n",
    "\n",
    "    # From this create a dataset which can be handled by sentence-transformers\n",
    "    train_examples = []\n",
    "    for i, row in df.iterrows():\n",
    "      train_examples.append(InputExample(texts=[row[\"text1\"], row[\"text2\"]], label=row[\"label\"]))\n",
    "    \n",
    "    return np.array(train_examples)"
   ]
  },
  {
   "cell_type": "code",
   "execution_count": 8,
   "metadata": {
    "execution": {
     "iopub.execute_input": "2022-12-18T13:16:22.892060Z",
     "iopub.status.busy": "2022-12-18T13:16:22.891576Z",
     "iopub.status.idle": "2022-12-18T13:16:22.907782Z",
     "shell.execute_reply": "2022-12-18T13:16:22.907309Z",
     "shell.execute_reply.started": "2022-12-18T13:16:22.892036Z"
    },
    "id": "pajDaJa9B2Pe"
   },
   "outputs": [],
   "source": [
    "# Semi hard/hard negative mining\n",
    "# Create triplet dataset\n",
    "def create_triplet_examples(documents, authors, tokenizer, max_length, n_per_document, max_samples, model, margin, mine_all=True, mine_hard=False, mine_semihard = False, is_task1 = False):\n",
    "  rows = []\n",
    "  rows_hard = []\n",
    "  rows_shard = []\n",
    "  # Splitting data.\n",
    "  for document, author in zip(documents, authors):\n",
    "    used_idxs = []\n",
    "    n_remaining = n_per_document\n",
    "    \n",
    "    # Get the indexes of each author\n",
    "    author_idxs = {}\n",
    "    for index, value in enumerate(author):\n",
    "      if value not in author_idxs:\n",
    "          author_idxs[value] = []\n",
    "      author_idxs[value].append(index)\n",
    "    \n",
    "    if is_task1:\n",
    "      # Take the hard example (the change one)\n",
    "      changes = [int(author[i] == author[i+1]) for i in range(len(author)-1)]\n",
    "      change_idx = changes.index(0)\n",
    "\n",
    "      try:\n",
    "        a_idx = random.choice([x for x in author_idxs[author[change_idx]] if x != change_idx])\n",
    "      except IndexError:\n",
    "        continue\n",
    "      pos_idx = change_idx\n",
    "      neg_idx = change_idx+1\n",
    "\n",
    "      new_row = {}\n",
    "\n",
    "      new_row[\"anchor\"] = document[a_idx][:sum([len(t) + 1 for t in tokenizer.tokenize(document[a_idx])[:max_length]])]\n",
    "      new_row[\"pos\"] = document[pos_idx][:sum([len(t) + 1 for t in tokenizer.tokenize(document[pos_idx])[:max_length]])]\n",
    "      new_row[\"neg\"] = document[neg_idx][:sum([len(t) + 1 for t in tokenizer.tokenize(document[neg_idx])[:max_length]])]\n",
    "\n",
    "      rows_sh.append(new_row)\n",
    "      used_idxs.append((a_idx, pos_idx, neg_idx))\n",
    "\n",
    "      n_remaining -= 1\n",
    "    else:\n",
    "      if all([len(author_idxs[k])==1 for k in author_idxs]):\n",
    "          continue\n",
    "\n",
    "    # I could compute how many combinations are possible but it's too hard\n",
    "    idx_errors = 0\n",
    "    while n_remaining > 0:\n",
    "      if idx_errors > 5:\n",
    "        break\n",
    "      try:\n",
    "        # Sample a random author\n",
    "        anchor_author = random.choice(list(author_idxs.keys()))\n",
    "\n",
    "        # Get a paragraph from that author (anchor)\n",
    "        a_idx = random.choice(author_idxs[anchor_author])\n",
    "\n",
    "        # Get another paragraph from the same author\n",
    "        pos_idx = random.choice([x for x in author_idxs[anchor_author] if x != a_idx])\n",
    "\n",
    "        # Sample another author\n",
    "        neg_author = random.choice([x for x in list(author_idxs.keys()) if x != anchor_author])\n",
    "\n",
    "        # Get a paragraph from that author\n",
    "        neg_idx = random.choice(author_idxs[neg_author])\n",
    "      except IndexError:\n",
    "        idx_errors += 1\n",
    "        continue\n",
    "\n",
    "      if (a_idx, pos_idx, neg_idx) in used_idxs:\n",
    "        idx_errors += 1\n",
    "        continue\n",
    "\n",
    "      else:\n",
    "        used_idxs.append((a_idx, pos_idx, neg_idx))\n",
    "        new_row = {}\n",
    "\n",
    "        new_row[\"anchor\"] = document[a_idx][:sum([len(t) + 1 for t in tokenizer.tokenize(document[a_idx])[:max_length]])]\n",
    "        new_row[\"pos\"] = document[pos_idx][:sum([len(t) + 1 for t in tokenizer.tokenize(document[pos_idx])[:max_length]])]\n",
    "        new_row[\"neg\"] = document[neg_idx][:sum([len(t) + 1 for t in tokenizer.tokenize(document[neg_idx])[:max_length]])]\n",
    "\n",
    "        if mine_hard or mine_semihard:\n",
    "          # Compute embeddings\n",
    "          a_embedding = model.encode([new_row[\"anchor\"]], convert_to_tensor=True)\n",
    "          p_embedding = model.encode([new_row[\"pos\"]], convert_to_tensor=True)\n",
    "          n_embedding = model.encode([new_row[\"neg\"]], convert_to_tensor=True)\n",
    "\n",
    "          # Compute distance between anchor and positive\n",
    "          a_p_dist = 1 - util.cos_sim(a_embedding, p_embedding).cpu().item()\n",
    "          # Compute distance between anchor and negative\n",
    "          a_n_dist = 1 - util.cos_sim(a_embedding, n_embedding).cpu().item()\n",
    "\n",
    "          if a_n_dist < a_p_dist:\n",
    "            # Hard example\n",
    "            if mine_hard:\n",
    "              rows_hard.append(new_row)\n",
    "          elif a_n_dist < a_p_dist + margin and a_n_dist > a_p_dist:\n",
    "            # Semi hard example\n",
    "            if mine_semihard:\n",
    "              rows_shard.append(new_row)\n",
    "          else:\n",
    "            if mine_all:\n",
    "              rows.append(new_row)\n",
    "          n_remaining -= 1\n",
    "        else:\n",
    "          rows.append(new_row)\n",
    "          n_remaining -= 1\n",
    "  print(f\"N easy:{len(rows)}, N hard: {len(rows_hard)}, N semihard:{len(rows_shard)}\")\n",
    "  random.shuffle(rows_shard)\n",
    "  random.shuffle(rows_hard)\n",
    "  random.shuffle(rows)\n",
    "\n",
    "  all_rows = [*rows_shard, *rows_hard, *rows]\n",
    "  if len(all_rows) < max_samples:\n",
    "    all_rows = all_rows[:max_samples]\n",
    "  print(len(all_rows))\n",
    "\n",
    "  df = pd.DataFrame(all_rows, columns=['anchor', 'pos', 'neg'])\n",
    "\n",
    "  # From this create a dataset which can be handled by sentence-transformers\n",
    "  train_examples = []\n",
    "  for i, row in df.iterrows():\n",
    "    train_examples.append(InputExample(texts=[row[\"anchor\"], row[\"pos\"], row[\"neg\"]]))\n",
    "  \n",
    "  return np.array(train_examples)"
   ]
  },
  {
   "cell_type": "code",
   "execution_count": 9,
   "metadata": {
    "execution": {
     "iopub.execute_input": "2022-12-18T13:16:23.128033Z",
     "iopub.status.busy": "2022-12-18T13:16:23.127124Z",
     "iopub.status.idle": "2022-12-18T13:16:23.136538Z",
     "shell.execute_reply": "2022-12-18T13:16:23.136052Z",
     "shell.execute_reply.started": "2022-12-18T13:16:23.127999Z"
    },
    "id": "aDR4Tq1oDwL3"
   },
   "outputs": [],
   "source": [
    "# Compute Same class / Diff class similarities\n",
    "\n",
    "def compute_same_diff_contrastive(model, dataloader):\n",
    "  model = model.to(device)\n",
    "  model.eval()\n",
    "  same_sims = []\n",
    "  diff_sims = []\n",
    "\n",
    "  for idx, batch in enumerate(dataloader):\n",
    "      author_info = batch[1]\n",
    "\n",
    "      with torch.no_grad():\n",
    "          text1 = {k:batch[0][0][k].to(device) for k in batch[0][0]}\n",
    "          embeddings1 = model(text1)[\"sentence_embedding\"]\n",
    "\n",
    "          text2 = {k:batch[0][1][k].to(device) for k in batch[0][1]}\n",
    "          embeddings2 = model(text2)[\"sentence_embedding\"]\n",
    "          \n",
    "      \n",
    "      for i in range(len(author_info)):\n",
    "          same = author_info[i]\n",
    "          sim = util.cos_sim(embeddings1[i], embeddings2[i]).cpu().item()\n",
    "          if same == 1:\n",
    "              same_sims.append(sim)\n",
    "          else:\n",
    "              diff_sims.append(sim)\n",
    "  return same_sims, diff_sims\n",
    "\n",
    "def compute_same_diff_triplet(model, dataloader):\n",
    "  model.eval()\n",
    "  same_sims = []\n",
    "  diff_sims = []\n",
    "\n",
    "  for idx, batch in enumerate(dataloader):\n",
    "      with torch.no_grad():\n",
    "          anchor = {k:batch[0][0][k].to(device) for k in batch[0][0]}\n",
    "          embeddings_a = model(anchor)[\"sentence_embedding\"]\n",
    "\n",
    "          pos = {k:batch[0][1][k].to(device) for k in batch[0][1]}\n",
    "          embeddings_p = model(pos)[\"sentence_embedding\"]\n",
    "\n",
    "          neg = {k:batch[0][2][k].to(device) for k in batch[0][2]}\n",
    "          embeddings_n = model(neg)[\"sentence_embedding\"]\n",
    "\n",
    "      for i in range(anchor[\"input_ids\"].shape[0]):\n",
    "\n",
    "          sim_pos = util.cos_sim(embeddings_a[i], embeddings_p[i]).cpu().item()\n",
    "          sim_neg = util.cos_sim(embeddings_a[i], embeddings_n[i]).cpu().item()\n",
    "\n",
    "          same_sims.append(sim_pos)\n",
    "          \n",
    "          diff_sims.append(sim_neg)\n",
    "  return same_sims, diff_sims"
   ]
  },
  {
   "cell_type": "markdown",
   "metadata": {
    "id": "0EK6Vg7s7Uj0"
   },
   "source": [
    "# Task 1"
   ]
  },
  {
   "cell_type": "code",
   "execution_count": 18,
   "metadata": {
    "colab": {
     "base_uri": "https://localhost:8080/",
     "height": 206
    },
    "execution": {
     "iopub.execute_input": "2022-12-17T15:49:17.512905Z",
     "iopub.status.busy": "2022-12-17T15:49:17.512374Z",
     "iopub.status.idle": "2022-12-17T15:49:27.157608Z",
     "shell.execute_reply": "2022-12-17T15:49:27.156633Z",
     "shell.execute_reply.started": "2022-12-17T15:49:17.512865Z"
    },
    "id": "vclzpkhN7WEQ",
    "outputId": "bc88a409-1926-44f2-d9fc-539fc6219fa0"
   },
   "outputs": [
    {
     "data": {
      "text/html": [
       "<div>\n",
       "<style scoped>\n",
       "    .dataframe tbody tr th:only-of-type {\n",
       "        vertical-align: middle;\n",
       "    }\n",
       "\n",
       "    .dataframe tbody tr th {\n",
       "        vertical-align: top;\n",
       "    }\n",
       "\n",
       "    .dataframe thead th {\n",
       "        text-align: right;\n",
       "    }\n",
       "</style>\n",
       "<table border=\"1\" class=\"dataframe\">\n",
       "  <thead>\n",
       "    <tr style=\"text-align: right;\">\n",
       "      <th></th>\n",
       "      <th>authors</th>\n",
       "      <th>site</th>\n",
       "      <th>multi-author</th>\n",
       "      <th>changes</th>\n",
       "      <th>paragraph-authors</th>\n",
       "      <th>input_text</th>\n",
       "      <th>splitted_text</th>\n",
       "    </tr>\n",
       "  </thead>\n",
       "  <tbody>\n",
       "    <tr>\n",
       "      <th>0</th>\n",
       "      <td>2</td>\n",
       "      <td>serverfault.com.7z</td>\n",
       "      <td>1</td>\n",
       "      <td>[0, 0, 1, 0, 0]</td>\n",
       "      <td>[1, 1, 1, 2, 2, 2]</td>\n",
       "      <td>If you can handle a slight delay in the data y...</td>\n",
       "      <td>[If you can handle a slight delay in the data ...</td>\n",
       "    </tr>\n",
       "    <tr>\n",
       "      <th>1</th>\n",
       "      <td>2</td>\n",
       "      <td>serverfault.com.7z</td>\n",
       "      <td>1</td>\n",
       "      <td>[0, 1, 0, 0, 0, 0]</td>\n",
       "      <td>[1, 1, 2, 2, 2, 2, 2]</td>\n",
       "      <td>I figured i'd share my method which worked to ...</td>\n",
       "      <td>[I figured i'd share my method which worked to...</td>\n",
       "    </tr>\n",
       "    <tr>\n",
       "      <th>2</th>\n",
       "      <td>2</td>\n",
       "      <td>networkengineering.stackexchange.com.7z</td>\n",
       "      <td>1</td>\n",
       "      <td>[1, 0, 0, 0]</td>\n",
       "      <td>[1, 2, 2, 2, 2]</td>\n",
       "      <td>This is not possible the way I want to impleme...</td>\n",
       "      <td>[This is not possible the way I want to implem...</td>\n",
       "    </tr>\n",
       "    <tr>\n",
       "      <th>3</th>\n",
       "      <td>2</td>\n",
       "      <td>serverfault.com.7z</td>\n",
       "      <td>1</td>\n",
       "      <td>[0, 0, 0, 0, 1, 0, 0, 0, 0]</td>\n",
       "      <td>[1, 1, 1, 1, 1, 2, 2, 2, 2, 2]</td>\n",
       "      <td>We have central HQ building and a lot of small...</td>\n",
       "      <td>[We have central HQ building and a lot of smal...</td>\n",
       "    </tr>\n",
       "    <tr>\n",
       "      <th>4</th>\n",
       "      <td>2</td>\n",
       "      <td>cstheory.stackexchange.com.7z</td>\n",
       "      <td>1</td>\n",
       "      <td>[1, 0, 0]</td>\n",
       "      <td>[1, 2, 2, 2]</td>\n",
       "      <td>Moser's proof of the constructive Lovasz Local...</td>\n",
       "      <td>[Moser's proof of the constructive Lovasz Loca...</td>\n",
       "    </tr>\n",
       "  </tbody>\n",
       "</table>\n",
       "</div>"
      ],
      "text/plain": [
       "   authors                                     site  multi-author  \\\n",
       "0        2                       serverfault.com.7z             1   \n",
       "1        2                       serverfault.com.7z             1   \n",
       "2        2  networkengineering.stackexchange.com.7z             1   \n",
       "3        2                       serverfault.com.7z             1   \n",
       "4        2            cstheory.stackexchange.com.7z             1   \n",
       "\n",
       "                       changes               paragraph-authors  \\\n",
       "0              [0, 0, 1, 0, 0]              [1, 1, 1, 2, 2, 2]   \n",
       "1           [0, 1, 0, 0, 0, 0]           [1, 1, 2, 2, 2, 2, 2]   \n",
       "2                 [1, 0, 0, 0]                 [1, 2, 2, 2, 2]   \n",
       "3  [0, 0, 0, 0, 1, 0, 0, 0, 0]  [1, 1, 1, 1, 1, 2, 2, 2, 2, 2]   \n",
       "4                    [1, 0, 0]                    [1, 2, 2, 2]   \n",
       "\n",
       "                                          input_text  \\\n",
       "0  If you can handle a slight delay in the data y...   \n",
       "1  I figured i'd share my method which worked to ...   \n",
       "2  This is not possible the way I want to impleme...   \n",
       "3  We have central HQ building and a lot of small...   \n",
       "4  Moser's proof of the constructive Lovasz Local...   \n",
       "\n",
       "                                       splitted_text  \n",
       "0  [If you can handle a slight delay in the data ...  \n",
       "1  [I figured i'd share my method which worked to...  \n",
       "2  [This is not possible the way I want to implem...  \n",
       "3  [We have central HQ building and a lot of smal...  \n",
       "4  [Moser's proof of the constructive Lovasz Loca...  "
      ]
     },
     "execution_count": 18,
     "metadata": {},
     "output_type": "execute_result"
    }
   ],
   "source": [
    "train_directory = './dataset1/train'\n",
    "df_train = create_dataframe(train_directory)\n",
    "df_train.head()\n",
    "\n",
    "valid_directory = './dataset1/validation'\n",
    "df_valid = create_dataframe(valid_directory)\n",
    "df_valid.head()"
   ]
  },
  {
   "cell_type": "code",
   "execution_count": 24,
   "metadata": {
    "execution": {
     "iopub.execute_input": "2022-12-17T16:20:05.851214Z",
     "iopub.status.busy": "2022-12-17T16:20:05.850852Z",
     "iopub.status.idle": "2022-12-17T16:20:05.858123Z",
     "shell.execute_reply": "2022-12-17T16:20:05.857275Z",
     "shell.execute_reply.started": "2022-12-17T16:20:05.851187Z"
    },
    "id": "wYrxQNi14oIq"
   },
   "outputs": [],
   "source": [
    "def prediction_task1(model, sentences):\n",
    "  # Get metric embeddings\n",
    "  embeddings = model.encode(sentences, convert_to_tensor=True)\n",
    "\n",
    "  similarity_scores = []\n",
    "  # For each successive embedding find their similarity\n",
    "  for i in range(len(sentences)-1):\n",
    "    sim = util.cos_sim(embeddings[i], embeddings[i+1])\n",
    "    similarity_scores.append(sim.item()) \n",
    "  \n",
    "  # Puy the change at the position where similarity is lowest\n",
    "  change_idx = np.argmin(similarity_scores)\n",
    "\n",
    "  out_changes = np.zeros(len(similarity_scores))\n",
    "  out_changes[change_idx] = 1\n",
    "  return out_changes\n",
    "\n",
    "# Evaluator function\n",
    "def evaluate_mmodel_task1(model : SentenceTransformer, df):\n",
    "\n",
    "  valid_labels = []\n",
    "  y_preds = []\n",
    "\n",
    "  for i, row in df.iterrows():\n",
    "    sentences = row[\"splitted_text\"]\n",
    "\n",
    "    out_changes = prediction_task1(model, sentences)\n",
    "    valid_labels += row[\"changes\"]\n",
    "\n",
    "    y_preds += list(out_changes)\n",
    "\n",
    "\n",
    "  print(classification_report(valid_labels, y_preds))\n"
   ]
  },
  {
   "cell_type": "markdown",
   "metadata": {
    "id": "YuuBWHGN_u6q"
   },
   "source": [
    "## Model 1 - Frozen Sbert + cosine sim"
   ]
  },
  {
   "cell_type": "code",
   "execution_count": 13,
   "metadata": {
    "colab": {
     "base_uri": "https://localhost:8080/",
     "height": 465,
     "referenced_widgets": [
      "a85ea6b8ff37469e802145dd0eb816d4",
      "89c7435da38144f7866bddd0e0db94a1",
      "8ee2db40d81648838dd224c2f2386a07",
      "1a501ec05d91415682a79d309ed89eba",
      "3e8a7642d73142dc971a1110c30112f3",
      "a57fc66bfac041b4a6abe4d7cccd18ba",
      "ea5f353c259443ddaf33d787e8530539",
      "4a2b83c8105a4b81840bc786073041f6",
      "50c79f6aaed1410286cc72259e159ee3",
      "2b4aedf885ac4e40879c9e029d34ef14",
      "c5b7ae7a0f2d4007860a2434806df136",
      "c70cb9e020a84770ab2eab97cbc78b41",
      "ef522b143c1447c6847719f9cd1db842",
      "637c87d353fb4bfe86ba5f67c0a1138a",
      "62efd31af9514cc09c030ffae3b4b102",
      "85e1200f74574203a0beff16c4edaabc",
      "733f56fd0c164c1bb8a7623b85119a7f",
      "a61bf713218c4b39a1bd4267d6a08b53",
      "64ea861ebce64d8c9ce308e2b896d79d",
      "bfbfd375465347e08d49a36db8296de3",
      "996330a6d99e4a59b16d8cf733ebf7d6",
      "b4db306c9c90428b83f75f4276f251ae",
      "db074187964e40fa827d66a7bd5d6294",
      "53078649f1574dd08538ad7c0905b16d",
      "b153579a6aae40638c360fb7676ed983",
      "14247a238e6c41e2b6ca4cd7f8e1add1",
      "6eb3686660a544ef911362ef660c9564",
      "4cb5a57fed9b494bacec41489987d5ef",
      "7e2c68117a6c46628848f911a7d259aa",
      "2abf4126780e4cf4a309ac0dc53dcb50",
      "04cf085d1d3441e783a8c0c03871e2ea",
      "daee45ee830b4dfd8e77c4da44be25d4",
      "9c9b68a2fc7b479b95ef9a54f0e99b2e",
      "490d5e05ec9048f8b276b8ecc40bccee",
      "29f01a07069146e0a858cda4dd88a416",
      "9687a5bdae1e4ca5acef9f04df1177dc",
      "518739c1e2614dbea2f90f0c3090ccd3",
      "fc3fa4566c764a15a865ca88a6c41191",
      "2789c60bcd514ef4a9d39370ed9a77bc",
      "17770de2a1de4e768b72659bbf31096a",
      "c69281f4a3614ee28dd08df3428af390",
      "106a18a2d2484613ba2ecabc0502d5e7",
      "fc5fc4092ddd4345a22db7f42dcfa536",
      "59190915ea1a4dc1bf4dd34e3698012f",
      "f396f8255de44f3bbe3cb6a980126b29",
      "81020f23684d47af8d09e93102554995",
      "110bf3fe83364de3a1da8544c3bbf5e8",
      "3386db6b16154ed18d9333f6335f591c",
      "788ae4c45bdc4bd8a11aaf3f1e1d04b5",
      "8da3885f2c65444a88d4ccc2f1d0c236",
      "36880c7dffba4909800ca533b712e4f9",
      "d32467ec5923474e98ada09fb2c4eaaf",
      "286ee582f11b46dd92b16b9b09c487ae",
      "4d4177bde7ce46cf9967f9ab0821d496",
      "0aa2abbb6f6a4a58a6922f23bc37ba0f",
      "dce8f9ebfaad47ffbe45883eb2671999",
      "86ef3cd68ca74108ae1f97e0c41096dc",
      "8a59aa2e3193427ab577b1d7b2cd05f2",
      "59221f85df194182903560ee4024d74d",
      "1c2de46ee5e14d15b7848f2e7e2772aa",
      "64b90473a6b84a76935e67f19631979e",
      "e5c72c33209a4e23b54a8927cb39c1a6",
      "f6d0cf46b1694df3856557108466e522",
      "110eacaab4514d2db8bab91ffd6a804b",
      "af554e7599c34a44aa8458280e819b50",
      "a0caa97acfef47b3aa2fc888acebfe0e",
      "7c9f8e4c886e4a3cb4bf3449dc2e929a",
      "adb10ac3dff6437080820b40355c82ab",
      "4299e5cc698b4f629d3373b05035c390",
      "ad950623d8444d4387492707b5a575f7",
      "372a49d3c7ad41bbbf91f5a3fb33494e",
      "87b3621d421f41ed9f4881895e0936f4",
      "80469b04c16f477193e90865f8b74f9f",
      "ce5ba905214c4040b64db1218877ebdc",
      "034c1379f1ca45ddb7e97765d50e175b",
      "cdc9e00c513f40e28530fb513381fc93",
      "acb1dca963a84e1491e1e4f5dc028b48",
      "07f8c84a5e514dc9b6e01f04cd66fa10",
      "cf38c7c4a8c14722b3905526e69fec3f",
      "c603f9531b74486db7d127d266010460",
      "0b5d60162a44480dbc8c54a532d0ac09",
      "80340d4b52ba47b6857b954ed7df57ef",
      "473bf2410ed5481f84d46440bc6d6b40",
      "8cd66f46cc5e4aadbcefc6b66e1da827",
      "38fbd0b828a54aad8e03a37f06121c69",
      "c2f2711297bb402b912cb8615191c29e",
      "9da6bd2fe76348ecaacd5e67f3d2becb",
      "86f3c150536a47d2b3d7d2e0f8ec6071",
      "2c1757f6d276496696446608578cc93e",
      "99f2cae8e0ca4aaa887e89345ebc41e2",
      "5ab3707bbc0041998f7134d04524a3b0",
      "cc850c3b160f4128a8e5e9f7ee22dedc",
      "d023515abcdd416c9cb438718ce6ca6c",
      "d3e9d43d7c1545b39b9553c700e8eb50",
      "a648b5afb3c8401883350103b9d2363c",
      "d1b8cf7dd7bb4a2897ac2c5fbc100493",
      "bed4ecb34ba74060831965b69a8b07a9",
      "97b5a7d0c5c44bf488da5782785ef6d9",
      "b381bfebad204c6bbb0216b8d639030b",
      "db8c3ff7fb624dd6a16bb3f02c7acf80",
      "251b3bca77184beaaf1680f337b9b256",
      "5653387fc5034607a20773a5c2bc8470",
      "bb33f426d9e647d2ace329238c689107",
      "dc676d5d76314eef9a7431a85d922d80",
      "6942bf18ca0444958cfedc2eb1c20562",
      "0877469f37274e6da8d1a47f1f4445bf",
      "209286a9ca19401f859256e8104b172c",
      "00016a68631849498f9acb980b225093",
      "bb2895b90629492c843ce60ddd943f84",
      "142dd0be953a49bc8c8383d758d1f091",
      "b5b64a260040465e874c0aed609a37f4",
      "2860d7afa0814b4e9741f98339ca9398",
      "b5acf8385f4a4df481c063919e479068",
      "7d5b9ac2fae64e31b2048eaaba24de8a",
      "1b269cf903fd4eb9b8d73a7fc28e1301",
      "c81da6a1e8704e05bbdbd6b1a600a8be",
      "de10da25d9854cc494cf3f155f749bec",
      "d74e6e1052fa4cb0bbec40b231805dd0",
      "f3ec18cf6a534d539267ee4e1924199e",
      "062acd8166644460bb3d2123d8dc1869",
      "2392e8e923a5422d8fd3695986b79155",
      "e380c73f31d34e5ba66a970e3362b415",
      "5be3911f3eb54a428eaf3ddd7c8375b7",
      "721128e3f9cf442fba8526709e7c8466",
      "c3ac5ec3baa24a5f93f2a0c9ab15e41d",
      "cd9831a2b79645539d0efead42cb0074",
      "b31cf622aed04aeea39f8cb0ecd8d6a2",
      "fe91ce9085f9420f8464117f469da4e2",
      "c2258698eea54577912599e40a787e89",
      "75803c306356419da8715ce72855324f",
      "a0703bd52927432dbc426cc7d6aaba38",
      "586d3677f0754e9b8420691418e40f04",
      "7dd0dd93ee6b4253aa8eea6728d2115b",
      "f2132acbb2c14db5a2cdb2ec9f6572cf",
      "a8dce392afa1483eb58ffacee5137ef2",
      "40a7b26652a2492a9cb4457c7be3e8bd",
      "4d60c42feca84300acd4fdc760df637a",
      "7767b41f665c4107b85671062e2df5c4",
      "c3f81efe62a845f3a0d81420c4131133",
      "0cae6d9d24324fca8a7902cbf5bdd925",
      "9dc1d2e981064619b86d386b5c1be62c",
      "a183002eca0a450eb0d477435433495a",
      "1ed09d81727e43529d793439206ebab1",
      "f5b2778961b24d29bbc01e318c7ab0e0",
      "b1e6237129f34af9a825c19c867da6fb",
      "37dd366b166c47de904b49f88f6e4d8e",
      "831399f9d4a2412aad2a064b0e602542",
      "aa699898a59d4525969ea056dc1f4c1e",
      "e7ec766325324819b8e05bc1f5eeba7d",
      "eb32d954fd664af497b741d5110fe319",
      "4daace9161c94384bcb728388c8de57a",
      "bad03d6466684e97993e84e5605fb0f6",
      "7d09cd2cd58c414b867703f16f603e49",
      "9a914527b65f441f83ef4c230d2bf66c"
     ]
    },
    "execution": {
     "iopub.execute_input": "2022-12-16T12:25:09.772341Z",
     "iopub.status.busy": "2022-12-16T12:25:09.772182Z",
     "iopub.status.idle": "2022-12-16T12:25:11.012863Z",
     "shell.execute_reply": "2022-12-16T12:25:11.012246Z",
     "shell.execute_reply.started": "2022-12-16T12:25:09.772327Z"
    },
    "id": "buUTkjJeveRc",
    "outputId": "2db594c8-899f-47ed-a732-386c013067e5"
   },
   "outputs": [],
   "source": [
    "set_reproducibility(base_seed)\n",
    "# Instantiate model\n",
    "#model_type = \"all-mpnet-base-v2\"\n",
    "model_type = 'AnnaWegmann/Style-Embedding'\n",
    "\n",
    "model = SentenceTransformer(model_type)\n"
   ]
  },
  {
   "cell_type": "code",
   "execution_count": 14,
   "metadata": {
    "colab": {
     "base_uri": "https://localhost:8080/"
    },
    "execution": {
     "iopub.execute_input": "2022-12-16T12:25:11.013850Z",
     "iopub.status.busy": "2022-12-16T12:25:11.013668Z",
     "iopub.status.idle": "2022-12-16T12:25:19.649116Z",
     "shell.execute_reply": "2022-12-16T12:25:19.648489Z",
     "shell.execute_reply.started": "2022-12-16T12:25:11.013833Z"
    },
    "id": "d-EBEGGKwIdR",
    "outputId": "be11858b-1c06-44f5-b2ba-29408411db7b"
   },
   "outputs": [
    {
     "name": "stdout",
     "output_type": "stream",
     "text": [
      "              precision    recall  f1-score   support\n",
      "\n",
      "           0       0.91      0.91      0.91      1841\n",
      "           1       0.48      0.48      0.48       300\n",
      "\n",
      "    accuracy                           0.85      2141\n",
      "   macro avg       0.70      0.70      0.70      2141\n",
      "weighted avg       0.85      0.85      0.85      2141\n",
      "\n"
     ]
    }
   ],
   "source": [
    "evaluate_mmodel_task1(model, df_valid)"
   ]
  },
  {
   "cell_type": "markdown",
   "metadata": {
    "id": "pZl-4KF-_2B4"
   },
   "source": [
    "## Model 2 - Trained SBERT with contrastive loss "
   ]
  },
  {
   "cell_type": "code",
   "execution_count": 15,
   "metadata": {
    "execution": {
     "iopub.execute_input": "2022-12-16T12:25:19.650410Z",
     "iopub.status.busy": "2022-12-16T12:25:19.650233Z",
     "iopub.status.idle": "2022-12-16T12:25:20.756976Z",
     "shell.execute_reply": "2022-12-16T12:25:20.756382Z",
     "shell.execute_reply.started": "2022-12-16T12:25:19.650395Z"
    },
    "id": "mq5UvyxUAXXg"
   },
   "outputs": [],
   "source": [
    "set_reproducibility(base_seed)\n",
    "# Instantiate model\n",
    "\n",
    "#model_type = \"all-mpnet-base-v2\"\n",
    "model_type = 'AnnaWegmann/Style-Embedding'\n",
    "\n",
    "model = SentenceTransformer(model_type)"
   ]
  },
  {
   "cell_type": "code",
   "execution_count": 16,
   "metadata": {
    "execution": {
     "iopub.execute_input": "2022-12-16T12:25:20.758219Z",
     "iopub.status.busy": "2022-12-16T12:25:20.758043Z",
     "iopub.status.idle": "2022-12-16T12:38:37.965855Z",
     "shell.execute_reply": "2022-12-16T12:38:37.965410Z",
     "shell.execute_reply.started": "2022-12-16T12:25:20.758203Z"
    },
    "id": "K9OqOZDC_4ZR"
   },
   "outputs": [
    {
     "name": "stdout",
     "output_type": "stream",
     "text": [
      "62682\n",
      "39578\n",
      "Dataset size: 20000\n"
     ]
    },
    {
     "data": {
      "application/vnd.jupyter.widget-view+json": {
       "model_id": "5ede8c0c3fe9438c9748fa084b674619",
       "version_major": 2,
       "version_minor": 0
      },
      "text/plain": [
       "Epoch:   0%|          | 0/2 [00:00<?, ?it/s]"
      ]
     },
     "metadata": {},
     "output_type": "display_data"
    },
    {
     "data": {
      "application/vnd.jupyter.widget-view+json": {
       "model_id": "467814c4f3564f2bb7bf08394f907757",
       "version_major": 2,
       "version_minor": 0
      },
      "text/plain": [
       "Iteration:   0%|          | 0/2500 [00:00<?, ?it/s]"
      ]
     },
     "metadata": {},
     "output_type": "display_data"
    },
    {
     "data": {
      "application/vnd.jupyter.widget-view+json": {
       "model_id": "e1b81839cd9748e8b1ac2cc979518f1f",
       "version_major": 2,
       "version_minor": 0
      },
      "text/plain": [
       "Iteration:   0%|          | 0/2500 [00:00<?, ?it/s]"
      ]
     },
     "metadata": {},
     "output_type": "display_data"
    }
   ],
   "source": [
    "max_length = 128\n",
    "train_ds = create_contrastive_examples(df_train[\"splitted_text\"].values, df_train[\"paragraph-authors\"].values, model.tokenizer, max_length, max_samples = 20000)\n",
    "print(\"Dataset size:\", len(train_ds))\n",
    "\n",
    "train_dl = DataLoader(train_ds,\n",
    "                      shuffle=True,\n",
    "                      batch_size=8,\n",
    "                      collate_fn=model.smart_batching_collate)\n",
    "\n",
    "# Define contrastive loss\n",
    "contrastive_loss = losses.ContrastiveLoss(model=model, distance_metric=losses.SiameseDistanceMetric.COSINE_DISTANCE, margin=0.6)\n",
    "epochs = 2\n",
    "\n",
    "# Train\n",
    "model.fit(train_objectives=[(train_dl, contrastive_loss)],\n",
    "                       epochs=epochs,\n",
    "                       warmup_steps=math.ceil(len(train_dl) * epochs * 0.1),\n",
    "                       optimizer_params={\n",
    "                           'lr': 2e-5,\n",
    "                       }\n",
    "        )\n"
   ]
  },
  {
   "cell_type": "code",
   "execution_count": 17,
   "metadata": {
    "execution": {
     "iopub.execute_input": "2022-12-16T12:38:37.967385Z",
     "iopub.status.busy": "2022-12-16T12:38:37.966535Z",
     "iopub.status.idle": "2022-12-16T12:38:44.964461Z",
     "shell.execute_reply": "2022-12-16T12:38:44.963942Z",
     "shell.execute_reply.started": "2022-12-16T12:38:37.967362Z"
    },
    "id": "pIvYBM1NBoLt",
    "outputId": "8eb28fb1-b50a-4b83-9014-57db21fd0141"
   },
   "outputs": [
    {
     "name": "stdout",
     "output_type": "stream",
     "text": [
      "              precision    recall  f1-score   support\n",
      "\n",
      "           0       0.94      0.94      0.94      1841\n",
      "           1       0.63      0.63      0.63       300\n",
      "\n",
      "    accuracy                           0.90      2141\n",
      "   macro avg       0.78      0.78      0.78      2141\n",
      "weighted avg       0.90      0.90      0.90      2141\n",
      "\n"
     ]
    }
   ],
   "source": [
    "evaluate_mmodel_task1(model, df_valid)"
   ]
  },
  {
   "cell_type": "markdown",
   "metadata": {
    "id": "tTKaPvLxlBH1"
   },
   "source": [
    "## Model 3 - Trained SBERT with triplet loss"
   ]
  },
  {
   "cell_type": "code",
   "execution_count": 18,
   "metadata": {
    "execution": {
     "iopub.execute_input": "2022-12-16T12:38:44.965358Z",
     "iopub.status.busy": "2022-12-16T12:38:44.965179Z",
     "iopub.status.idle": "2022-12-16T12:38:46.122435Z",
     "shell.execute_reply": "2022-12-16T12:38:46.121914Z",
     "shell.execute_reply.started": "2022-12-16T12:38:44.965342Z"
    },
    "id": "x1U00R2XU45h"
   },
   "outputs": [],
   "source": [
    "set_reproducibility(base_seed)\n",
    "\n",
    "# Instantiate model\n",
    "\n",
    "#model_type = \"all-mpnet-base-v2\"\n",
    "model_type = 'AnnaWegmann/Style-Embedding'\n",
    "\n",
    "model = SentenceTransformer(model_type)"
   ]
  },
  {
   "cell_type": "code",
   "execution_count": 19,
   "metadata": {
    "colab": {
     "base_uri": "https://localhost:8080/"
    },
    "execution": {
     "iopub.execute_input": "2022-12-16T12:38:46.123765Z",
     "iopub.status.busy": "2022-12-16T12:38:46.123177Z",
     "iopub.status.idle": "2022-12-16T12:56:00.383884Z",
     "shell.execute_reply": "2022-12-16T12:56:00.383306Z",
     "shell.execute_reply.started": "2022-12-16T12:38:46.123744Z"
    },
    "id": "8FkgEJ2XY5cn",
    "outputId": "ad9d0230-3ac8-45bf-d58e-09984ad6442a"
   },
   "outputs": [
    {
     "name": "stdout",
     "output_type": "stream",
     "text": [
      "18493\n",
      "Dataset size: 18493\n"
     ]
    },
    {
     "data": {
      "application/vnd.jupyter.widget-view+json": {
       "model_id": "744c9a8fbf9d4b73945e945c6e07e8fb",
       "version_major": 2,
       "version_minor": 0
      },
      "text/plain": [
       "Epoch:   0%|          | 0/2 [00:00<?, ?it/s]"
      ]
     },
     "metadata": {},
     "output_type": "display_data"
    },
    {
     "data": {
      "application/vnd.jupyter.widget-view+json": {
       "model_id": "1e93a3141f8b4a40b6286967abacee61",
       "version_major": 2,
       "version_minor": 0
      },
      "text/plain": [
       "Iteration:   0%|          | 0/2312 [00:00<?, ?it/s]"
      ]
     },
     "metadata": {},
     "output_type": "display_data"
    },
    {
     "data": {
      "application/vnd.jupyter.widget-view+json": {
       "model_id": "9bb97edf562241d0909d8f357b15b529",
       "version_major": 2,
       "version_minor": 0
      },
      "text/plain": [
       "Iteration:   0%|          | 0/2312 [00:00<?, ?it/s]"
      ]
     },
     "metadata": {},
     "output_type": "display_data"
    }
   ],
   "source": [
    "max_length = 128\n",
    "train_ds = create_triplet_examples(df_train[\"splitted_text\"].values, df_train[\"paragraph-authors\"].values, model.tokenizer, \n",
    "                                   max_length, n_per_document=20, max_samples = 20000, model=model, margin=0.6, is_task1=True)\n",
    "print(\"Dataset size:\", len(train_ds))\n",
    "train_dl = DataLoader(train_ds,\n",
    "                      shuffle=True,\n",
    "                      batch_size=8,\n",
    "                      collate_fn=model.smart_batching_collate)\n",
    "\n",
    "# Define triplet loss\n",
    "triplet_loss = losses.TripletLoss(model=model, triplet_margin=0.6, distance_metric=losses.TripletDistanceMetric.COSINE)\n",
    "epochs = 2\n",
    "\n",
    "# Train\n",
    "model.fit(train_objectives=[(train_dl, triplet_loss)],\n",
    "                       epochs=epochs,\n",
    "                       warmup_steps=math.ceil(len(train_dl) * epochs * 0.1),\n",
    "                       optimizer_params={\n",
    "                           'lr': 2e-5,\n",
    "                       })"
   ]
  },
  {
   "cell_type": "code",
   "execution_count": 20,
   "metadata": {
    "execution": {
     "iopub.execute_input": "2022-12-16T12:56:00.385759Z",
     "iopub.status.busy": "2022-12-16T12:56:00.385240Z",
     "iopub.status.idle": "2022-12-16T12:56:07.377637Z",
     "shell.execute_reply": "2022-12-16T12:56:07.377098Z",
     "shell.execute_reply.started": "2022-12-16T12:56:00.385741Z"
    },
    "id": "yvthgSs5Zxql",
    "outputId": "d992f38f-802d-40aa-e168-385e8a1ecc34"
   },
   "outputs": [
    {
     "name": "stdout",
     "output_type": "stream",
     "text": [
      "              precision    recall  f1-score   support\n",
      "\n",
      "           0       0.94      0.94      0.94      1841\n",
      "           1       0.62      0.62      0.62       300\n",
      "\n",
      "    accuracy                           0.89      2141\n",
      "   macro avg       0.78      0.78      0.78      2141\n",
      "weighted avg       0.89      0.89      0.89      2141\n",
      "\n"
     ]
    }
   ],
   "source": [
    "evaluate_mmodel_task1(model, df_valid)"
   ]
  },
  {
   "cell_type": "markdown",
   "metadata": {
    "id": "PNx9Kuu6657s"
   },
   "source": [
    "## Model 4 - Trained SBERT with triplet Loss, semi hard mining"
   ]
  },
  {
   "cell_type": "code",
   "execution_count": 21,
   "metadata": {
    "execution": {
     "iopub.execute_input": "2022-12-17T15:49:40.676090Z",
     "iopub.status.busy": "2022-12-17T15:49:40.674939Z",
     "iopub.status.idle": "2022-12-17T15:49:42.337543Z",
     "shell.execute_reply": "2022-12-17T15:49:42.336608Z",
     "shell.execute_reply.started": "2022-12-17T15:49:40.676053Z"
    },
    "id": "nhJ21vq5CYSf"
   },
   "outputs": [],
   "source": [
    "set_reproducibility(base_seed)\n",
    "# Instantiate model\n",
    "\n",
    "#model_type = \"all-mpnet-base-v2\"\n",
    "model_type = 'AnnaWegmann/Style-Embedding'\n",
    "\n",
    "model = SentenceTransformer(model_type)"
   ]
  },
  {
   "cell_type": "code",
   "execution_count": 22,
   "metadata": {
    "execution": {
     "iopub.execute_input": "2022-12-17T15:49:42.339121Z",
     "iopub.status.busy": "2022-12-17T15:49:42.338861Z",
     "iopub.status.idle": "2022-12-17T16:19:53.153935Z",
     "shell.execute_reply": "2022-12-17T16:19:53.152857Z",
     "shell.execute_reply.started": "2022-12-17T15:49:42.339096Z"
    },
    "id": "IjaUKHYHCYbY"
   },
   "outputs": [
    {
     "name": "stdout",
     "output_type": "stream",
     "text": [
      "N easy:0, N hard: 3402, N semihard:5365\n",
      "8767\n"
     ]
    },
    {
     "data": {
      "application/vnd.jupyter.widget-view+json": {
       "model_id": "452446a5f123452aaadd2abfb5876702",
       "version_major": 2,
       "version_minor": 0
      },
      "text/plain": [
       "Epoch:   0%|          | 0/3 [00:00<?, ?it/s]"
      ]
     },
     "metadata": {},
     "output_type": "display_data"
    },
    {
     "data": {
      "application/vnd.jupyter.widget-view+json": {
       "model_id": "91b5e7d08e734edcaf2f2edf9d710ffe",
       "version_major": 2,
       "version_minor": 0
      },
      "text/plain": [
       "Iteration:   0%|          | 0/1096 [00:00<?, ?it/s]"
      ]
     },
     "metadata": {},
     "output_type": "display_data"
    },
    {
     "data": {
      "application/vnd.jupyter.widget-view+json": {
       "model_id": "59967644aa8b49be9593251fce6b1d02",
       "version_major": 2,
       "version_minor": 0
      },
      "text/plain": [
       "Iteration:   0%|          | 0/1096 [00:00<?, ?it/s]"
      ]
     },
     "metadata": {},
     "output_type": "display_data"
    },
    {
     "data": {
      "application/vnd.jupyter.widget-view+json": {
       "model_id": "973755f3c0bf4d48917486ff9d9ab826",
       "version_major": 2,
       "version_minor": 0
      },
      "text/plain": [
       "Iteration:   0%|          | 0/1096 [00:00<?, ?it/s]"
      ]
     },
     "metadata": {},
     "output_type": "display_data"
    }
   ],
   "source": [
    "# Define triplet loss\n",
    "triplet_loss = losses.TripletLoss(model=model, triplet_margin=0.6, distance_metric=losses.TripletDistanceMetric.COSINE)\n",
    "\n",
    "model.eval()\n",
    "train_ds = create_triplet_examples(df_train[\"splitted_text\"].values, df_train[\"paragraph-authors\"].values, model.tokenizer, \n",
    "                                            max_length, n_per_document=10, max_samples = 50000, model=model, margin=0.6, \n",
    "                                 mine_all=False, mine_semihard=True, mine_hard=True)\n",
    "train_dl = DataLoader(train_ds,\n",
    "                  shuffle=True,\n",
    "                  batch_size=8,\n",
    "                  collate_fn=model.smart_batching_collate)\n",
    "\n",
    "epochs = 3\n",
    "model.train()\n",
    "# Train\n",
    "model.fit(train_objectives=[(train_dl, triplet_loss)],\n",
    "                       epochs=epochs,\n",
    "                       warmup_steps=math.ceil(len(train_dl) * epochs * 0.1),\n",
    "                       optimizer_params={\n",
    "                           'lr': 2e-5,\n",
    "                       })"
   ]
  },
  {
   "cell_type": "code",
   "execution_count": 25,
   "metadata": {
    "execution": {
     "iopub.execute_input": "2022-12-17T16:20:13.560512Z",
     "iopub.status.busy": "2022-12-17T16:20:13.560112Z",
     "iopub.status.idle": "2022-12-17T16:20:29.008786Z",
     "shell.execute_reply": "2022-12-17T16:20:29.007107Z",
     "shell.execute_reply.started": "2022-12-17T16:20:13.560484Z"
    },
    "id": "2vFllVVOCYjp"
   },
   "outputs": [
    {
     "name": "stdout",
     "output_type": "stream",
     "text": [
      "              precision    recall  f1-score   support\n",
      "\n",
      "           0       0.94      0.94      0.94      1841\n",
      "           1       0.65      0.65      0.65       300\n",
      "\n",
      "    accuracy                           0.90      2141\n",
      "   macro avg       0.80      0.80      0.80      2141\n",
      "weighted avg       0.90      0.90      0.90      2141\n",
      "\n"
     ]
    }
   ],
   "source": [
    "evaluate_mmodel_task1(model, df_valid)"
   ]
  },
  {
   "cell_type": "markdown",
   "metadata": {
    "id": "4eU4D7gu3q4c"
   },
   "source": [
    "# Task 2"
   ]
  },
  {
   "cell_type": "code",
   "execution_count": 10,
   "metadata": {
    "execution": {
     "iopub.execute_input": "2022-12-18T13:16:29.526087Z",
     "iopub.status.busy": "2022-12-18T13:16:29.525275Z",
     "iopub.status.idle": "2022-12-18T13:17:16.940355Z",
     "shell.execute_reply": "2022-12-18T13:17:16.939314Z",
     "shell.execute_reply.started": "2022-12-18T13:16:29.526056Z"
    },
    "id": "3FDmiXdV3q4d",
    "outputId": "98886313-3ef4-48fb-d235-a1d08c94de80"
   },
   "outputs": [
    {
     "name": "stdout",
     "output_type": "stream",
     "text": [
      "   authors                site  multi-author  \\\n",
      "0        3  serverfault.com.7z             1   \n",
      "1        5  serverfault.com.7z             1   \n",
      "2        5    superuser.com.7z             1   \n",
      "3        3  serverfault.com.7z             1   \n",
      "4        1  serverfault.com.7z             0   \n",
      "\n",
      "                                changes  \\\n",
      "0  [1, 1, 1, 1, 1, 0, 1, 1, 0, 1, 0, 1]   \n",
      "1                    [1, 1, 1, 1, 1, 1]   \n",
      "2              [1, 0, 1, 1, 0, 1, 1, 1]   \n",
      "3                       [1, 1, 1, 0, 1]   \n",
      "4                             [0, 0, 0]   \n",
      "\n",
      "                         paragraph-authors  \\\n",
      "0  [1, 2, 3, 2, 1, 2, 2, 1, 3, 3, 1, 1, 3]   \n",
      "1                    [1, 2, 3, 4, 5, 2, 3]   \n",
      "2              [1, 2, 2, 3, 2, 2, 4, 3, 5]   \n",
      "3                       [1, 2, 3, 1, 1, 2]   \n",
      "4                             [1, 1, 1, 1]   \n",
      "\n",
      "                                          input_text  \\\n",
      "0  Small Business Server (SBS) would seem to be a...   \n",
      "1  None of the suggested key combinations bring m...   \n",
      "2  If you are using the ext3 filesystem, then ext...   \n",
      "3  The sites are backed by a WCMS, so there is a ...   \n",
      "4  I had a similar problem. I needed to delete a ...   \n",
      "\n",
      "                                       splitted_text  \n",
      "0  [Small Business Server (SBS) would seem to be ...  \n",
      "1  [None of the suggested key combinations bring ...  \n",
      "2  [If you are using the ext3 filesystem, then ex...  \n",
      "3  [The sites are backed by a WCMS, so there is a...  \n",
      "4  [I had a similar problem. I needed to delete a...  \n",
      "   authors                           site  multi-author  \\\n",
      "0        5             serverfault.com.7z             1   \n",
      "1        5             serverfault.com.7z             1   \n",
      "2        1             serverfault.com.7z             0   \n",
      "3        1  cstheory.stackexchange.com.7z             0   \n",
      "4        4   gamedev.stackexchange.com.7z             1   \n",
      "\n",
      "                                         changes  \\\n",
      "0                                [1, 0, 1, 1, 1]   \n",
      "1                       [1, 1, 1, 1, 1, 1, 1, 1]   \n",
      "2                                         [0, 0]   \n",
      "3                                            [0]   \n",
      "4  [1, 1, 1, 0, 0, 0, 1, 1, 1, 0, 1, 1, 1, 0, 1]   \n",
      "\n",
      "                                  paragraph-authors  \\\n",
      "0                                [1, 2, 2, 3, 4, 5]   \n",
      "1                       [1, 2, 3, 1, 4, 1, 4, 5, 4]   \n",
      "2                                         [1, 1, 1]   \n",
      "3                                            [1, 1]   \n",
      "4  [1, 2, 3, 1, 1, 1, 1, 3, 1, 3, 3, 2, 4, 2, 2, 1]   \n",
      "\n",
      "                                          input_text  \\\n",
      "0  Force detach the system volume.  Then you will...   \n",
      "1  At any rate, I suspect that these applications...   \n",
      "2  I'm trying to understand the hype around cloud...   \n",
      "3  I think one issue is that we need to fix the \"...   \n",
      "4  Keep in mind that AI/effects that happen on a ...   \n",
      "\n",
      "                                       splitted_text  \n",
      "0  [Force detach the system volume.  Then you wil...  \n",
      "1  [At any rate, I suspect that these application...  \n",
      "2  [I'm trying to understand the hype around clou...  \n",
      "3  [I think one issue is that we need to fix the ...  \n",
      "4  [Keep in mind that AI/effects that happen on a...  \n"
     ]
    }
   ],
   "source": [
    "train_directory = './dataset2/train'\n",
    "df_train = create_dataframe(train_directory)\n",
    "print(df_train.head())\n",
    "\n",
    "valid_directory = './dataset2/validation'\n",
    "df_valid = create_dataframe(valid_directory)\n",
    "print(df_valid.head())"
   ]
  },
  {
   "cell_type": "code",
   "execution_count": 11,
   "metadata": {
    "execution": {
     "iopub.execute_input": "2022-12-18T13:17:16.942895Z",
     "iopub.status.busy": "2022-12-18T13:17:16.942521Z",
     "iopub.status.idle": "2022-12-18T13:17:17.093911Z",
     "shell.execute_reply": "2022-12-18T13:17:17.093010Z",
     "shell.execute_reply.started": "2022-12-18T13:17:16.942863Z"
    },
    "id": "kwhRWoCEFCbG"
   },
   "outputs": [],
   "source": [
    "from sklearn.cluster import AgglomerativeClustering, DBSCAN\n",
    "from sklearn.metrics.pairwise import cosine_distances\n",
    "\n",
    "def prediction_task2_threshold(model, sentences, threshold):\n",
    "  embeddings = model.encode(sentences, convert_to_tensor=True)\n",
    "\n",
    "  pred_authors = [1]\n",
    "  for i in range(1, len(sentences)):\n",
    "    similarity_scores = []\n",
    "    for j in range(i):\n",
    "        sim = util.cos_sim(embeddings[i], embeddings[j])\n",
    "        similarity_scores.append(sim.item()) \n",
    "    changes = [s > threshold for s in similarity_scores]\n",
    "    \n",
    "    if all(x == 0 for x in changes):\n",
    "        # New author\n",
    "        new_auth = max(pred_authors)+1\n",
    "        if new_auth > 5:\n",
    "            most_similar = pred_authors[np.argmax(similarity_scores)]\n",
    "            pred_authors.append(most_similar)\n",
    "        else:\n",
    "            pred_authors.append(new_auth)\n",
    "    else:\n",
    "        # Find most similar\n",
    "        most_similar = pred_authors[np.argmax(similarity_scores)]\n",
    "        pred_authors.append(most_similar)\n",
    "  return pred_authors\n",
    "\n",
    "def prediction_task2_unsupervised(model, sentences):\n",
    "  embeddings = model.encode(sentences, convert_to_tensor=False)\n",
    "\n",
    "  # Compute all pairwise cosine similarities\n",
    "  sim = cosine_distances(embeddings, embeddings)\n",
    "  \n",
    "  documents = np.arange(len(embeddings)).reshape(-1,1)\n",
    "  clustered = DBSCAN(metric=\"precomputed\", eps=0.5, min_samples=1).fit(sim)\n",
    "  #clustered = AgglomerativeClustering(affinity=\"precomputed\", n_clusters=row[\"authors\"], linkage=\"average\").fit(sim)\n",
    "  \n",
    "  y_pred = [x for x in clustered.labels_]\n",
    "  y_pred_constr = []\n",
    "  \n",
    "  for idx1, el1 in enumerate(y_pred):\n",
    "    if el1 < 5:\n",
    "      y_pred_constr.append(el1+1)\n",
    "    else:\n",
    "      distance_dict = {}\n",
    "      for idx2, el2 in enumerate(y_pred):\n",
    "        if el2 >= 5 or idx1 == idx2:\n",
    "          continue\n",
    "        if el2 not in distance_dict:\n",
    "          distance_dict[el2] = [sim[idx1,idx2]]\n",
    "        else:\n",
    "          distance_dict[el2].append(sim[idx1,idx2])\n",
    "        \n",
    "      distance_dict = {k:np.mean(distance_dict[k]) for k in distance_dict}\n",
    "      new_label = min(distance_dict, key=distance_dict.get)\n",
    "      y_pred_constr.append(new_label+1)\n",
    "        \n",
    "  return y_pred_constr\n",
    "    \n",
    "def evaluate_mmodel_task2(model, df, threshold):\n",
    "  valid_labels = []\n",
    "  y_preds = []\n",
    "\n",
    "  for i, row in df.iterrows():\n",
    "    sentences = row[\"splitted_text\"]\n",
    "    \n",
    "    if threshold is None:\n",
    "      pred_authors = prediction_task2_unsupervised(model, sentences)\n",
    "    else:\n",
    "      pred_authors = prediction_task2_threshold(model, sentences, threshold)\n",
    "\n",
    "    valid_labels += row[\"paragraph-authors\"]\n",
    "    y_preds += pred_authors\n",
    "\n",
    "  print(classification_report(valid_labels, y_preds))\n"
   ]
  },
  {
   "cell_type": "markdown",
   "metadata": {
    "id": "d4LHZL-wBXEX"
   },
   "source": [
    "## Model 1 - Frozen SBERT"
   ]
  },
  {
   "cell_type": "code",
   "execution_count": 25,
   "metadata": {
    "execution": {
     "iopub.execute_input": "2022-12-18T12:03:42.163889Z",
     "iopub.status.busy": "2022-12-18T12:03:42.163617Z",
     "iopub.status.idle": "2022-12-18T12:03:43.658990Z",
     "shell.execute_reply": "2022-12-18T12:03:43.658254Z",
     "shell.execute_reply.started": "2022-12-18T12:03:42.163867Z"
    },
    "id": "XOPnESbOm79k"
   },
   "outputs": [],
   "source": [
    "set_reproducibility(base_seed)\n",
    "\n",
    "#model_type = \"all-mpnet-base-v2\"\n",
    "model_type = 'AnnaWegmann/Style-Embedding'\n",
    "\n",
    "model = SentenceTransformer(model_type)"
   ]
  },
  {
   "cell_type": "code",
   "execution_count": 26,
   "metadata": {
    "execution": {
     "iopub.execute_input": "2022-12-18T12:03:43.660926Z",
     "iopub.status.busy": "2022-12-18T12:03:43.660684Z",
     "iopub.status.idle": "2022-12-18T12:15:17.850868Z",
     "shell.execute_reply": "2022-12-18T12:15:17.849955Z",
     "shell.execute_reply.started": "2022-12-18T12:03:43.660906Z"
    },
    "id": "Qcm5N6cTm8Gw"
   },
   "outputs": [
    {
     "name": "stdout",
     "output_type": "stream",
     "text": [
      "154108\n",
      "272236\n",
      "Dataset size: 50000\n",
      "Using 0.43099294799502624 as threshold\n",
      "              precision    recall  f1-score   support\n",
      "\n",
      "           1       0.64      0.77      0.70      5098\n",
      "           2       0.44      0.49      0.46      2828\n",
      "           3       0.33      0.26      0.29      1701\n",
      "           4       0.29      0.11      0.16       978\n",
      "           5       0.16      0.03      0.04       432\n",
      "\n",
      "    accuracy                           0.53     11037\n",
      "   macro avg       0.37      0.33      0.33     11037\n",
      "weighted avg       0.49      0.53      0.50     11037\n",
      "\n",
      "Unsupervised clustering\n",
      "              precision    recall  f1-score   support\n",
      "\n",
      "           1       0.59      0.83      0.69      5098\n",
      "           2       0.44      0.39      0.41      2828\n",
      "           3       0.32      0.19      0.24      1701\n",
      "           4       0.29      0.10      0.14       978\n",
      "           5       0.15      0.03      0.05       432\n",
      "\n",
      "    accuracy                           0.52     11037\n",
      "   macro avg       0.36      0.31      0.31     11037\n",
      "weighted avg       0.47      0.52      0.48     11037\n",
      "\n"
     ]
    }
   ],
   "source": [
    "# Create a training DS just to calibrate the threshold\n",
    "max_length = 128\n",
    "train_ds = create_contrastive_examples(df_train[\"splitted_text\"].values, df_train[\"paragraph-authors\"].values, model.tokenizer, \n",
    "                                       max_length, max_samples = 50000)\n",
    "print(\"Dataset size:\", len(train_ds))\n",
    "train_dl = DataLoader(train_ds,\n",
    "                      shuffle=True,\n",
    "                      batch_size=8,\n",
    "                      collate_fn=model.smart_batching_collate)\n",
    "\n",
    "model.eval()\n",
    "# Compute the threshold\n",
    "same_sims, diff_sims = compute_same_diff_contrastive(model, train_dl)\n",
    "th = np.mean([np.mean(same_sims)-2*np.std(same_sims), np.mean(diff_sims)+2*np.std(diff_sims)])\n",
    "\n",
    "print(f\"Using {th} as threshold\")\n",
    "evaluate_mmodel_task2(model, df_valid, th)\n",
    "\n",
    "print(f\"Unsupervised clustering\")\n",
    "evaluate_mmodel_task2(model, df_valid, None)"
   ]
  },
  {
   "cell_type": "markdown",
   "metadata": {
    "id": "6nlAVJ-sBazS"
   },
   "source": [
    "## Model 2 - Trained SBERT with contrastive loss"
   ]
  },
  {
   "cell_type": "code",
   "execution_count": 12,
   "metadata": {
    "execution": {
     "iopub.execute_input": "2022-12-18T13:17:17.095399Z",
     "iopub.status.busy": "2022-12-18T13:17:17.095079Z",
     "iopub.status.idle": "2022-12-18T13:17:30.182973Z",
     "shell.execute_reply": "2022-12-18T13:17:30.182238Z",
     "shell.execute_reply.started": "2022-12-18T13:17:17.095367Z"
    },
    "id": "bpTVBNfsBuSu"
   },
   "outputs": [
    {
     "data": {
      "application/vnd.jupyter.widget-view+json": {
       "model_id": "6053b00da3c743838f8640e828a67320",
       "version_major": 2,
       "version_minor": 0
      },
      "text/plain": [
       "Downloading:   0%|          | 0.00/1.17k [00:00<?, ?B/s]"
      ]
     },
     "metadata": {},
     "output_type": "display_data"
    },
    {
     "data": {
      "application/vnd.jupyter.widget-view+json": {
       "model_id": "106d9bc8d9df4e3db7c1f0526f679c6a",
       "version_major": 2,
       "version_minor": 0
      },
      "text/plain": [
       "Downloading:   0%|          | 0.00/190 [00:00<?, ?B/s]"
      ]
     },
     "metadata": {},
     "output_type": "display_data"
    },
    {
     "data": {
      "application/vnd.jupyter.widget-view+json": {
       "model_id": "4215fbca84314eef8b3c2b9816f81e11",
       "version_major": 2,
       "version_minor": 0
      },
      "text/plain": [
       "Downloading:   0%|          | 0.00/3.96k [00:00<?, ?B/s]"
      ]
     },
     "metadata": {},
     "output_type": "display_data"
    },
    {
     "data": {
      "application/vnd.jupyter.widget-view+json": {
       "model_id": "8f13a0fc77fd4ae699594b5c39107a12",
       "version_major": 2,
       "version_minor": 0
      },
      "text/plain": [
       "Downloading:   0%|          | 0.00/718 [00:00<?, ?B/s]"
      ]
     },
     "metadata": {},
     "output_type": "display_data"
    },
    {
     "data": {
      "application/vnd.jupyter.widget-view+json": {
       "model_id": "5e2e5f65798048f98216b00264ef2222",
       "version_major": 2,
       "version_minor": 0
      },
      "text/plain": [
       "Downloading:   0%|          | 0.00/117 [00:00<?, ?B/s]"
      ]
     },
     "metadata": {},
     "output_type": "display_data"
    },
    {
     "data": {
      "application/vnd.jupyter.widget-view+json": {
       "model_id": "b6c1c2a56a95404b8362ba1b5898182d",
       "version_major": 2,
       "version_minor": 0
      },
      "text/plain": [
       "Downloading:   0%|          | 0.00/659 [00:00<?, ?B/s]"
      ]
     },
     "metadata": {},
     "output_type": "display_data"
    },
    {
     "data": {
      "application/vnd.jupyter.widget-view+json": {
       "model_id": "cb6050b1fc3c48d7987638b2ca57a2c5",
       "version_major": 2,
       "version_minor": 0
      },
      "text/plain": [
       "Downloading:   0%|          | 0.00/456k [00:00<?, ?B/s]"
      ]
     },
     "metadata": {},
     "output_type": "display_data"
    },
    {
     "data": {
      "application/vnd.jupyter.widget-view+json": {
       "model_id": "ad2a4721797e4d99b34ab283c8325b54",
       "version_major": 2,
       "version_minor": 0
      },
      "text/plain": [
       "Downloading:   0%|          | 0.00/499M [00:00<?, ?B/s]"
      ]
     },
     "metadata": {},
     "output_type": "display_data"
    },
    {
     "data": {
      "application/vnd.jupyter.widget-view+json": {
       "model_id": "1b5b76fdf55c4738a116ccd032dba874",
       "version_major": 2,
       "version_minor": 0
      },
      "text/plain": [
       "Downloading:   0%|          | 0.00/53.0 [00:00<?, ?B/s]"
      ]
     },
     "metadata": {},
     "output_type": "display_data"
    },
    {
     "data": {
      "application/vnd.jupyter.widget-view+json": {
       "model_id": "b93e8b16dc644961b889fcba546d6a2f",
       "version_major": 2,
       "version_minor": 0
      },
      "text/plain": [
       "Downloading:   0%|          | 0.00/239 [00:00<?, ?B/s]"
      ]
     },
     "metadata": {},
     "output_type": "display_data"
    },
    {
     "data": {
      "application/vnd.jupyter.widget-view+json": {
       "model_id": "8b30836e64c04202a238273ffb399917",
       "version_major": 2,
       "version_minor": 0
      },
      "text/plain": [
       "Downloading:   0%|          | 0.00/1.36M [00:00<?, ?B/s]"
      ]
     },
     "metadata": {},
     "output_type": "display_data"
    },
    {
     "data": {
      "application/vnd.jupyter.widget-view+json": {
       "model_id": "1f6ab1d2bb464c7b99dfae0e99c478e6",
       "version_major": 2,
       "version_minor": 0
      },
      "text/plain": [
       "Downloading:   0%|          | 0.00/354 [00:00<?, ?B/s]"
      ]
     },
     "metadata": {},
     "output_type": "display_data"
    },
    {
     "data": {
      "application/vnd.jupyter.widget-view+json": {
       "model_id": "6766a21c9500467293687329728a1f22",
       "version_major": 2,
       "version_minor": 0
      },
      "text/plain": [
       "Downloading:   0%|          | 0.00/798k [00:00<?, ?B/s]"
      ]
     },
     "metadata": {},
     "output_type": "display_data"
    },
    {
     "data": {
      "application/vnd.jupyter.widget-view+json": {
       "model_id": "9a1b50b9ad8e4177908bdc8d444a3c5c",
       "version_major": 2,
       "version_minor": 0
      },
      "text/plain": [
       "Downloading:   0%|          | 0.00/229 [00:00<?, ?B/s]"
      ]
     },
     "metadata": {},
     "output_type": "display_data"
    }
   ],
   "source": [
    "set_reproducibility(base_seed)\n",
    "\n",
    "#model_type = \"all-mpnet-base-v2\"\n",
    "model_type = 'AnnaWegmann/Style-Embedding'\n",
    "\n",
    "model = SentenceTransformer(model_type)"
   ]
  },
  {
   "cell_type": "code",
   "execution_count": 13,
   "metadata": {
    "execution": {
     "iopub.execute_input": "2022-12-18T13:17:30.185406Z",
     "iopub.status.busy": "2022-12-18T13:17:30.184420Z",
     "iopub.status.idle": "2022-12-18T13:55:59.671109Z",
     "shell.execute_reply": "2022-12-18T13:55:59.670272Z",
     "shell.execute_reply.started": "2022-12-18T13:17:30.185378Z"
    },
    "id": "q5RzHXv43q4d"
   },
   "outputs": [
    {
     "name": "stdout",
     "output_type": "stream",
     "text": [
      "154108\n",
      "272236\n",
      "Dataset size: 50000\n"
     ]
    },
    {
     "data": {
      "application/vnd.jupyter.widget-view+json": {
       "model_id": "58e72144145c4eb2b13f5accaf2ae415",
       "version_major": 2,
       "version_minor": 0
      },
      "text/plain": [
       "Epoch:   0%|          | 0/2 [00:00<?, ?it/s]"
      ]
     },
     "metadata": {},
     "output_type": "display_data"
    },
    {
     "data": {
      "application/vnd.jupyter.widget-view+json": {
       "model_id": "415d4bb1b074430ca60c824c091755a6",
       "version_major": 2,
       "version_minor": 0
      },
      "text/plain": [
       "Iteration:   0%|          | 0/6250 [00:00<?, ?it/s]"
      ]
     },
     "metadata": {},
     "output_type": "display_data"
    },
    {
     "data": {
      "application/vnd.jupyter.widget-view+json": {
       "model_id": "673f52a9226e4eb29b822fee4c876774",
       "version_major": 2,
       "version_minor": 0
      },
      "text/plain": [
       "Iteration:   0%|          | 0/6250 [00:00<?, ?it/s]"
      ]
     },
     "metadata": {},
     "output_type": "display_data"
    }
   ],
   "source": [
    "max_length = 128\n",
    "train_ds = create_contrastive_examples(df_train[\"splitted_text\"].values, df_train[\"paragraph-authors\"].values, model.tokenizer, \n",
    "                                       max_length, max_samples = 50000)\n",
    "print(\"Dataset size:\", len(train_ds))\n",
    "train_dl = DataLoader(train_ds,\n",
    "                      shuffle=True,\n",
    "                      batch_size=8,\n",
    "                      collate_fn=model.smart_batching_collate)\n",
    "\n",
    "# Define contrastive loss\n",
    "contrastive_loss = losses.ContrastiveLoss(model=model, distance_metric=losses.SiameseDistanceMetric.COSINE_DISTANCE, margin=0.6)\n",
    "epochs = 2\n",
    "\n",
    "# Train\n",
    "model.fit(train_objectives=[(train_dl, contrastive_loss)],\n",
    "                       epochs=epochs,\n",
    "                       warmup_steps=math.ceil(len(train_dl) * epochs * 0.1),\n",
    "                       optimizer_params={\n",
    "                           'lr': 2e-5,\n",
    "                       }\n",
    "        )"
   ]
  },
  {
   "cell_type": "code",
   "execution_count": 14,
   "metadata": {
    "execution": {
     "iopub.execute_input": "2022-12-18T13:55:59.673338Z",
     "iopub.status.busy": "2022-12-18T13:55:59.672810Z",
     "iopub.status.idle": "2022-12-18T14:03:06.884988Z",
     "shell.execute_reply": "2022-12-18T14:03:06.884054Z",
     "shell.execute_reply.started": "2022-12-18T13:55:59.673307Z"
    },
    "id": "AjwpsgydG6m-"
   },
   "outputs": [
    {
     "name": "stdout",
     "output_type": "stream",
     "text": [
      "Using 0.7385238137675535 as threshold\n",
      "              precision    recall  f1-score   support\n",
      "\n",
      "           1       0.74      0.78      0.76      5098\n",
      "           2       0.56      0.59      0.57      2828\n",
      "           3       0.40      0.39      0.40      1701\n",
      "           4       0.33      0.25      0.29       978\n",
      "           5       0.24      0.17      0.20       432\n",
      "\n",
      "    accuracy                           0.60     11037\n",
      "   macro avg       0.45      0.44      0.44     11037\n",
      "weighted avg       0.59      0.60      0.59     11037\n",
      "\n",
      "Using margin(0.6) as threshold\n",
      "              precision    recall  f1-score   support\n",
      "\n",
      "           1       0.62      0.91      0.74      5098\n",
      "           2       0.52      0.49      0.51      2828\n",
      "           3       0.43      0.19      0.26      1701\n",
      "           4       0.39      0.04      0.08       978\n",
      "           5       0.43      0.01      0.01       432\n",
      "\n",
      "    accuracy                           0.58     11037\n",
      "   macro avg       0.48      0.33      0.32     11037\n",
      "weighted avg       0.54      0.58      0.52     11037\n",
      "\n",
      "Unsupervised clustering\n",
      "              precision    recall  f1-score   support\n",
      "\n",
      "           1       0.49      1.00      0.65      5098\n",
      "           2       0.56      0.12      0.19      2828\n",
      "           3       0.49      0.01      0.02      1701\n",
      "           4       0.00      0.00      0.00       978\n",
      "           5       0.00      0.00      0.00       432\n",
      "\n",
      "    accuracy                           0.49     11037\n",
      "   macro avg       0.31      0.22      0.17     11037\n",
      "weighted avg       0.45      0.49      0.36     11037\n",
      "\n"
     ]
    },
    {
     "name": "stderr",
     "output_type": "stream",
     "text": [
      "/usr/local/lib/python3.9/dist-packages/sklearn/metrics/_classification.py:1327: UndefinedMetricWarning: Precision and F-score are ill-defined and being set to 0.0 in labels with no predicted samples. Use `zero_division` parameter to control this behavior.\n",
      "  _warn_prf(average, modifier, msg_start, len(result))\n",
      "/usr/local/lib/python3.9/dist-packages/sklearn/metrics/_classification.py:1327: UndefinedMetricWarning: Precision and F-score are ill-defined and being set to 0.0 in labels with no predicted samples. Use `zero_division` parameter to control this behavior.\n",
      "  _warn_prf(average, modifier, msg_start, len(result))\n",
      "/usr/local/lib/python3.9/dist-packages/sklearn/metrics/_classification.py:1327: UndefinedMetricWarning: Precision and F-score are ill-defined and being set to 0.0 in labels with no predicted samples. Use `zero_division` parameter to control this behavior.\n",
      "  _warn_prf(average, modifier, msg_start, len(result))\n"
     ]
    }
   ],
   "source": [
    "model.eval()\n",
    "# Compute the threshold\n",
    "same_sims, diff_sims = compute_same_diff_contrastive(model, train_dl)\n",
    "th = np.mean([np.mean(same_sims)-2*np.std(same_sims), np.mean(diff_sims)+2*np.std(diff_sims)])\n",
    "\n",
    "print(f\"Using {th} as threshold\")\n",
    "evaluate_mmodel_task2(model, df_valid, th)\n",
    "\n",
    "th = 0.6\n",
    "\n",
    "print(f\"Using margin({th}) as threshold\")\n",
    "evaluate_mmodel_task2(model, df_valid, th)\n",
    "\n",
    "print(f\"Unsupervised clustering\")\n",
    "evaluate_mmodel_task2(model, df_valid, None)"
   ]
  },
  {
   "cell_type": "markdown",
   "metadata": {
    "id": "NvK8A-vsH7c8"
   },
   "source": [
    "## Model 3 - Trained SBERT with triplet loss"
   ]
  },
  {
   "cell_type": "code",
   "execution_count": 15,
   "metadata": {
    "execution": {
     "iopub.execute_input": "2022-12-18T14:03:06.886370Z",
     "iopub.status.busy": "2022-12-18T14:03:06.886119Z",
     "iopub.status.idle": "2022-12-18T14:03:08.466114Z",
     "shell.execute_reply": "2022-12-18T14:03:08.465240Z",
     "shell.execute_reply.started": "2022-12-18T14:03:06.886348Z"
    },
    "id": "baBHs1T7IubH"
   },
   "outputs": [],
   "source": [
    "set_reproducibility(base_seed)\n",
    "\n",
    "#model_type = \"all-mpnet-base-v2\"\n",
    "model_type = 'AnnaWegmann/Style-Embedding'\n",
    "\n",
    "model = SentenceTransformer(model_type)"
   ]
  },
  {
   "cell_type": "code",
   "execution_count": 16,
   "metadata": {
    "colab": {
     "referenced_widgets": [
      "e43cdf7493294e1f9570ce04180263d0",
      "b476f766425d4569ba52d32d7012ef4d",
      "26ddf08b2d684237b073f142280a5ed0"
     ]
    },
    "execution": {
     "iopub.execute_input": "2022-12-18T14:03:08.467414Z",
     "iopub.status.busy": "2022-12-18T14:03:08.467177Z",
     "iopub.status.idle": "2022-12-18T14:51:45.861236Z",
     "shell.execute_reply": "2022-12-18T14:51:45.860225Z",
     "shell.execute_reply.started": "2022-12-18T14:03:08.467393Z"
    },
    "id": "1ZxGOR-z3q4h",
    "outputId": "9c1d2051-5f64-4125-a401-8c5dc0304f86"
   },
   "outputs": [
    {
     "name": "stdout",
     "output_type": "stream",
     "text": [
      "N easy:49349, N hard: 0, N semihard:0\n",
      "49349\n"
     ]
    },
    {
     "data": {
      "application/vnd.jupyter.widget-view+json": {
       "model_id": "606e877cbb7141cc8113bd6210518a2e",
       "version_major": 2,
       "version_minor": 0
      },
      "text/plain": [
       "Epoch:   0%|          | 0/2 [00:00<?, ?it/s]"
      ]
     },
     "metadata": {},
     "output_type": "display_data"
    },
    {
     "data": {
      "application/vnd.jupyter.widget-view+json": {
       "model_id": "0ea5c9c7a8ff4ddebb30ffe8be6be95a",
       "version_major": 2,
       "version_minor": 0
      },
      "text/plain": [
       "Iteration:   0%|          | 0/6169 [00:00<?, ?it/s]"
      ]
     },
     "metadata": {},
     "output_type": "display_data"
    },
    {
     "data": {
      "application/vnd.jupyter.widget-view+json": {
       "model_id": "85008bcf3ccd452883f70137ae5268b7",
       "version_major": 2,
       "version_minor": 0
      },
      "text/plain": [
       "Iteration:   0%|          | 0/6169 [00:00<?, ?it/s]"
      ]
     },
     "metadata": {},
     "output_type": "display_data"
    }
   ],
   "source": [
    "max_length = 128\n",
    "train_ds = create_triplet_examples(df_train[\"splitted_text\"].values, df_train[\"paragraph-authors\"].values, model.tokenizer, \n",
    "                                            max_length, n_per_document=20, max_samples = 50000, model=model, margin=0.6)\n",
    "train_dl = DataLoader(train_ds,\n",
    "                      shuffle=True,\n",
    "                      batch_size=8,\n",
    "                      collate_fn=model.smart_batching_collate)\n",
    "\n",
    "# Define triplet loss\n",
    "triplet_loss = losses.TripletLoss(model=model, triplet_margin=0.6, distance_metric=losses.TripletDistanceMetric.COSINE)\n",
    "epochs = 2\n",
    "\n",
    "# Train\n",
    "model.fit(train_objectives=[(train_dl, triplet_loss)],\n",
    "                       epochs=epochs,\n",
    "                       warmup_steps=math.ceil(len(train_dl) * epochs * 0.1),\n",
    "                       optimizer_params={\n",
    "                           'lr': 2e-5,\n",
    "                       })"
   ]
  },
  {
   "cell_type": "code",
   "execution_count": 17,
   "metadata": {
    "execution": {
     "iopub.execute_input": "2022-12-18T14:51:45.863812Z",
     "iopub.status.busy": "2022-12-18T14:51:45.863549Z",
     "iopub.status.idle": "2022-12-18T15:01:13.496367Z",
     "shell.execute_reply": "2022-12-18T15:01:13.495350Z",
     "shell.execute_reply.started": "2022-12-18T14:51:45.863789Z"
    },
    "id": "s6mRY9RMIvPl"
   },
   "outputs": [
    {
     "name": "stdout",
     "output_type": "stream",
     "text": [
      "Using 0.37117809966651494 as threshold\n",
      "              precision    recall  f1-score   support\n",
      "\n",
      "           1       0.70      0.79      0.74      5098\n",
      "           2       0.53      0.60      0.56      2828\n",
      "           3       0.37      0.32      0.35      1701\n",
      "           4       0.31      0.16      0.21       978\n",
      "           5       0.19      0.05      0.08       432\n",
      "\n",
      "    accuracy                           0.58     11037\n",
      "   macro avg       0.42      0.38      0.39     11037\n",
      "weighted avg       0.55      0.58      0.56     11037\n",
      "\n",
      "Using margin(0.6) as threshold\n",
      "              precision    recall  f1-score   support\n",
      "\n",
      "           1       0.78      0.66      0.72      5098\n",
      "           2       0.53      0.55      0.54      2828\n",
      "           3       0.36      0.41      0.38      1701\n",
      "           4       0.26      0.30      0.28       978\n",
      "           5       0.15      0.24      0.19       432\n",
      "\n",
      "    accuracy                           0.55     11037\n",
      "   macro avg       0.42      0.43      0.42     11037\n",
      "weighted avg       0.58      0.55      0.56     11037\n",
      "\n",
      "Unsupervised clustering\n",
      "              precision    recall  f1-score   support\n",
      "\n",
      "           1       0.66      0.80      0.72      5098\n",
      "           2       0.52      0.53      0.53      2828\n",
      "           3       0.38      0.28      0.32      1701\n",
      "           4       0.31      0.16      0.21       978\n",
      "           5       0.21      0.08      0.12       432\n",
      "\n",
      "    accuracy                           0.57     11037\n",
      "   macro avg       0.41      0.37      0.38     11037\n",
      "weighted avg       0.53      0.57      0.54     11037\n",
      "\n"
     ]
    }
   ],
   "source": [
    "model.eval()\n",
    "\n",
    "# Compute the threshold\n",
    "same_sims, diff_sims = compute_same_diff_triplet(model, train_dl)\n",
    "th = np.mean([np.mean(same_sims)-2*np.std(same_sims), np.mean(diff_sims)+2*np.std(diff_sims)])\n",
    "#th = 0.6\n",
    "\n",
    "print(f\"Using {th} as threshold\")\n",
    "evaluate_mmodel_task2(model, df_valid, th)\n",
    "\n",
    "th = 0.6\n",
    "\n",
    "print(f\"Using margin({th}) as threshold\")\n",
    "evaluate_mmodel_task2(model, df_valid, th)\n",
    "\n",
    "print(f\"Unsupervised clustering\")\n",
    "evaluate_mmodel_task2(model, df_valid, None)"
   ]
  },
  {
   "cell_type": "markdown",
   "metadata": {
    "id": "DURc1zIdH7mH"
   },
   "source": [
    "## Model 4 - Trained SBERT with triplet loss and semi hard negative mining"
   ]
  },
  {
   "cell_type": "code",
   "execution_count": 28,
   "metadata": {
    "execution": {
     "iopub.execute_input": "2022-12-17T16:21:36.017957Z",
     "iopub.status.busy": "2022-12-17T16:21:36.017593Z",
     "iopub.status.idle": "2022-12-17T16:21:37.673600Z",
     "shell.execute_reply": "2022-12-17T16:21:37.672652Z",
     "shell.execute_reply.started": "2022-12-17T16:21:36.017930Z"
    },
    "id": "qY8JmUfnJDwt"
   },
   "outputs": [],
   "source": [
    "set_reproducibility(base_seed)\n",
    "\n",
    "#model_type = \"all-mpnet-base-v2\"\n",
    "model_type = 'AnnaWegmann/Style-Embedding'\n",
    "\n",
    "model = SentenceTransformer(model_type)"
   ]
  },
  {
   "cell_type": "code",
   "execution_count": 29,
   "metadata": {
    "colab": {
     "referenced_widgets": [
      "02a5cd993a2b4878b492a15dc5f7fb07",
      "b951262d99514d7aaa0ff7c7c52fc113",
      "8a1d3d7483ad4757a6ef02203451f0f6",
      "d289fa83628c4e37a50908bbd0984244",
      "ca68f5fc9a87475f84c1822b63029b75",
      "0145e9fb383448c2bd15aebb535817d3",
      "069f62ddc7aa4856a58de8b1eedffa9c",
      "ba7bb80aaf9e4bc4a3a3b1085ee31d33",
      "d9bb77f2be4f40e29b2e0650b4aabc41",
      "4dce1d8d2f32410ab3d606ba4dd401c9"
     ]
    },
    "execution": {
     "iopub.execute_input": "2022-12-17T16:21:37.676942Z",
     "iopub.status.busy": "2022-12-17T16:21:37.676335Z",
     "iopub.status.idle": "2022-12-17T17:56:39.148229Z",
     "shell.execute_reply": "2022-12-17T17:56:39.147289Z",
     "shell.execute_reply.started": "2022-12-17T16:21:37.676892Z"
    },
    "id": "kb2w_IyS3q4m",
    "outputId": "4ce805ea-0820-4c61-dc3a-4909c8750dc8"
   },
   "outputs": [
    {
     "name": "stdout",
     "output_type": "stream",
     "text": [
      "N easy:0, N hard: 9773, N semihard:16076\n",
      "25849\n"
     ]
    },
    {
     "data": {
      "application/vnd.jupyter.widget-view+json": {
       "model_id": "3ff01d71a7524f9dab4ed064cf17ff7f",
       "version_major": 2,
       "version_minor": 0
      },
      "text/plain": [
       "Epoch:   0%|          | 0/3 [00:00<?, ?it/s]"
      ]
     },
     "metadata": {},
     "output_type": "display_data"
    },
    {
     "data": {
      "application/vnd.jupyter.widget-view+json": {
       "model_id": "5161881767464a30bd72b681910704f1",
       "version_major": 2,
       "version_minor": 0
      },
      "text/plain": [
       "Iteration:   0%|          | 0/3232 [00:00<?, ?it/s]"
      ]
     },
     "metadata": {},
     "output_type": "display_data"
    },
    {
     "data": {
      "application/vnd.jupyter.widget-view+json": {
       "model_id": "b4d349f8129a4356babfd55731910e64",
       "version_major": 2,
       "version_minor": 0
      },
      "text/plain": [
       "Iteration:   0%|          | 0/3232 [00:00<?, ?it/s]"
      ]
     },
     "metadata": {},
     "output_type": "display_data"
    },
    {
     "data": {
      "application/vnd.jupyter.widget-view+json": {
       "model_id": "abeb5127e1bb401fae2fd2ae008f2c4a",
       "version_major": 2,
       "version_minor": 0
      },
      "text/plain": [
       "Iteration:   0%|          | 0/3232 [00:00<?, ?it/s]"
      ]
     },
     "metadata": {},
     "output_type": "display_data"
    }
   ],
   "source": [
    "# Define triplet loss\n",
    "triplet_loss = losses.TripletLoss(model=model, triplet_margin=0.6, distance_metric=losses.TripletDistanceMetric.COSINE)\n",
    "model.eval()\n",
    "train_ds = create_triplet_examples(df_train[\"splitted_text\"].values, df_train[\"paragraph-authors\"].values, model.tokenizer, \n",
    "                                            max_length, n_per_document=10, max_samples = 50000, model=model, margin=0.6, \n",
    "                                 mine_all=False, mine_semihard=True, mine_hard=True)\n",
    "train_dl = DataLoader(train_ds,\n",
    "                  shuffle=True,\n",
    "                  batch_size=8,\n",
    "                  collate_fn=model.smart_batching_collate)\n",
    "\n",
    "epochs = 3\n",
    "model.train()\n",
    "# Train\n",
    "model.fit(train_objectives=[(train_dl, triplet_loss)],\n",
    "                       epochs=epochs,\n",
    "                       warmup_steps=math.ceil(len(train_dl) * epochs * 0.1),\n",
    "                       optimizer_params={\n",
    "                           'lr': 2e-5,\n",
    "                       })"
   ]
  },
  {
   "cell_type": "code",
   "execution_count": 35,
   "metadata": {
    "execution": {
     "iopub.execute_input": "2022-12-17T18:25:54.367134Z",
     "iopub.status.busy": "2022-12-17T18:25:54.366786Z",
     "iopub.status.idle": "2022-12-17T18:30:07.771262Z",
     "shell.execute_reply": "2022-12-17T18:30:07.770183Z",
     "shell.execute_reply.started": "2022-12-17T18:25:54.367108Z"
    },
    "id": "GAKO7usHJTr4"
   },
   "outputs": [
    {
     "name": "stdout",
     "output_type": "stream",
     "text": [
      "Using 0.3 as threshold\n",
      "              precision    recall  f1-score   support\n",
      "\n",
      "           1       0.68      0.79      0.73      5098\n",
      "           2       0.51      0.59      0.55      2828\n",
      "           3       0.36      0.29      0.32      1701\n",
      "           4       0.24      0.09      0.13       978\n",
      "           5       0.33      0.04      0.07       432\n",
      "\n",
      "    accuracy                           0.57     11037\n",
      "   macro avg       0.42      0.36      0.36     11037\n",
      "weighted avg       0.53      0.57      0.54     11037\n",
      "\n",
      "Using margin(0.6) as threshold\n",
      "              precision    recall  f1-score   support\n",
      "\n",
      "           1       0.79      0.61      0.69      5098\n",
      "           2       0.53      0.54      0.53      2828\n",
      "           3       0.35      0.41      0.38      1701\n",
      "           4       0.22      0.31      0.25       978\n",
      "           5       0.13      0.25      0.17       432\n",
      "\n",
      "    accuracy                           0.52     11037\n",
      "   macro avg       0.40      0.42      0.41     11037\n",
      "weighted avg       0.58      0.52      0.54     11037\n",
      "\n",
      "Unsupervised clustering\n",
      "              precision    recall  f1-score   support\n",
      "\n",
      "           1       0.67      0.77      0.72      5098\n",
      "           2       0.52      0.52      0.52      2828\n",
      "           3       0.36      0.30      0.33      1701\n",
      "           4       0.27      0.19      0.22       978\n",
      "           5       0.15      0.09      0.11       432\n",
      "\n",
      "    accuracy                           0.56     11037\n",
      "   macro avg       0.39      0.37      0.38     11037\n",
      "weighted avg       0.53      0.56      0.54     11037\n",
      "\n"
     ]
    }
   ],
   "source": [
    "model.eval()\n",
    "same_sims, diff_sims = compute_same_diff_triplet(model, train_dl)\n",
    "th = np.mean([np.mean(same_sims)-2*np.std(same_sims), np.mean(diff_sims)+2*np.std(diff_sims)])\n",
    "\n",
    "print(f\"Using {th} as threshold\")\n",
    "evaluate_mmodel_task2(model, df_valid, th)\n",
    "\n",
    "th = 0.6\n",
    "\n",
    "print(f\"Using margin({th}) as threshold\")\n",
    "evaluate_mmodel_task2(model, df_valid, th)\n",
    "\n",
    "print(f\"Unsupervised clustering\")\n",
    "evaluate_mmodel_task2(model, df_valid, None)"
   ]
  },
  {
   "cell_type": "markdown",
   "metadata": {
    "id": "ADd2-O-T3q4o"
   },
   "source": [
    "# Task 3"
   ]
  },
  {
   "cell_type": "code",
   "execution_count": 12,
   "metadata": {
    "execution": {
     "iopub.execute_input": "2022-12-18T08:54:11.119796Z",
     "iopub.status.busy": "2022-12-18T08:54:11.118943Z",
     "iopub.status.idle": "2022-12-18T08:54:57.387279Z",
     "shell.execute_reply": "2022-12-18T08:54:57.386525Z",
     "shell.execute_reply.started": "2022-12-18T08:54:11.119767Z"
    },
    "id": "-URahl713q4p",
    "outputId": "f032b092-21c7-47ab-9f12-69221c6ddadc"
   },
   "outputs": [
    {
     "name": "stdout",
     "output_type": "stream",
     "text": [
      "we have a problem at row:  1194\n",
      "   authors                                   site  multi-author  \\\n",
      "0        5                     serverfault.com.7z             1   \n",
      "1        1           gamedev.stackexchange.com.7z             0   \n",
      "2        5                       superuser.com.7z             1   \n",
      "3        1  computergraphics.stackexchange.com.7z             0   \n",
      "4        3                       superuser.com.7z             1   \n",
      "\n",
      "                                             changes  \\\n",
      "0                  [1, 1, 0, 1, 1, 0, 1, 1, 1, 0, 1]   \n",
      "1  [0, 0, 0, 0, 0, 0, 0, 0, 0, 0, 0, 0, 0, 0, 0, ...   \n",
      "2         [1, 1, 1, 0, 1, 1, 0, 1, 1, 0, 1, 0, 0, 1]   \n",
      "3                                 [0, 0, 0, 0, 0, 0]   \n",
      "4  [1, 1, 1, 1, 0, 1, 0, 1, 0, 1, 1, 0, 0, 1, 1, ...   \n",
      "\n",
      "                                   paragraph-authors  \\\n",
      "0               [1, 2, 1, 1, 3, 2, 2, 3, 4, 5, 5, 2]   \n",
      "1  [1, 1, 1, 1, 1, 1, 1, 1, 1, 1, 1, 1, 1, 1, 1, ...   \n",
      "2      [1, 2, 3, 1, 1, 4, 5, 5, 1, 3, 3, 2, 2, 2, 1]   \n",
      "3                              [1, 1, 1, 1, 1, 1, 1]   \n",
      "4  [1, 2, 1, 3, 2, 2, 3, 3, 2, 2, 1, 2, 2, 2, 3, ...   \n",
      "\n",
      "                                          input_text  \\\n",
      "0  Everything else equals I would say it being mo...   \n",
      "1  I also apologize for the lack of a 'decent' ti...   \n",
      "2  And updates should not need to touch /home/ an...   \n",
      "3  But v1,v2,v4 and v5 would have non-zero normal...   \n",
      "4  Now run this command to stop Windows from inst...   \n",
      "\n",
      "                                       splitted_text  \n",
      "0  [Everything else equals I would say it being m...  \n",
      "1  [I also apologize for the lack of a 'decent' t...  \n",
      "2  [And updates should not need to touch /home/ a...  \n",
      "3  [But v1,v2,v4 and v5 would have non-zero norma...  \n",
      "4  [Now run this command to stop Windows from ins...  \n",
      "   authors                site  multi-author  \\\n",
      "0        4  serverfault.com.7z             1   \n",
      "1        2    superuser.com.7z             1   \n",
      "2        3    superuser.com.7z             1   \n",
      "3        2    superuser.com.7z             1   \n",
      "4        4    superuser.com.7z             1   \n",
      "\n",
      "                                             changes  \\\n",
      "0      [1, 1, 1, 0, 0, 1, 1, 1, 0, 1, 1, 1, 1, 0, 1]   \n",
      "1                              [1, 1, 1, 0, 0, 1, 0]   \n",
      "2  [0, 0, 0, 0, 0, 1, 1, 0, 0, 0, 0, 0, 0, 1, 0, ...   \n",
      "3                              [1, 0, 0, 0, 1, 1, 0]   \n",
      "4  [0, 1, 1, 1, 1, 1, 1, 1, 1, 0, 1, 1, 1, 1, 0, ...   \n",
      "\n",
      "                                   paragraph-authors  \\\n",
      "0   [1, 2, 1, 3, 3, 3, 1, 3, 4, 4, 1, 2, 3, 1, 1, 4]   \n",
      "1                           [1, 2, 1, 2, 2, 2, 1, 1]   \n",
      "2  [1, 1, 1, 1, 1, 1, 2, 1, 1, 1, 1, 1, 1, 1, 3, ...   \n",
      "3                           [1, 2, 2, 2, 2, 1, 2, 2]   \n",
      "4  [1, 1, 2, 1, 3, 4, 1, 2, 3, 1, 1, 2, 1, 3, 1, ...   \n",
      "\n",
      "                                          input_text  \\\n",
      "0  And here is the question: why do I have to use...   \n",
      "1  Remove the Day column and combine the Date and...   \n",
      "2  (I will use the \"&\" to execute the command in ...   \n",
      "3  In the advanced settings of openvpn i have cho...   \n",
      "4  Every single device does not exceed the limit ...   \n",
      "\n",
      "                                       splitted_text  \n",
      "0  [And here is the question: why do I have to us...  \n",
      "1  [Remove the Day column and combine the Date an...  \n",
      "2  [(I will use the \"&\" to execute the command in...  \n",
      "3  [In the advanced settings of openvpn i have ch...  \n",
      "4  [Every single device does not exceed the limit...  \n"
     ]
    }
   ],
   "source": [
    "train_directory = './dataset3/train'\n",
    "df_train = create_dataframe(train_directory)\n",
    "print(df_train.head())\n",
    "\n",
    "valid_directory = './dataset3/validation'\n",
    "df_valid = create_dataframe(valid_directory)\n",
    "print(df_valid.head())"
   ]
  },
  {
   "cell_type": "code",
   "execution_count": 13,
   "metadata": {
    "execution": {
     "iopub.execute_input": "2022-12-18T08:54:57.389133Z",
     "iopub.status.busy": "2022-12-18T08:54:57.388801Z",
     "iopub.status.idle": "2022-12-18T08:54:57.395720Z",
     "shell.execute_reply": "2022-12-18T08:54:57.395036Z",
     "shell.execute_reply.started": "2022-12-18T08:54:57.389110Z"
    },
    "id": "yPoC4romsiWd"
   },
   "outputs": [],
   "source": [
    "def prediction_task3_threshold(model, sentences, threshold):\n",
    "  embeddings = model.encode(sentences, convert_to_tensor=True)\n",
    "\n",
    "  similarity_scores = []\n",
    "\n",
    "  for i in range(len(sentences)-1):\n",
    "    sim = util.cos_sim(embeddings[i], embeddings[i+1])\n",
    "    similarity_scores.append(sim.item()) \n",
    "  \n",
    "  pred_changes = [1 if sim < th else 0 for sim in similarity_scores]\n",
    "  return pred_changes\n",
    "    \n",
    "def evaluate_mmodel_task3(model, df, threshold):\n",
    "  valid_labels = []\n",
    "  y_preds = []\n",
    "\n",
    "  for i, row in df.iterrows():\n",
    "    sentences = row[\"splitted_text\"]\n",
    "    \n",
    "    pred_authors = prediction_task3_threshold(model, sentences, threshold)\n",
    "\n",
    "    valid_labels += row[\"changes\"]\n",
    "    y_preds += pred_authors\n",
    "\n",
    "  print(classification_report(valid_labels, y_preds))"
   ]
  },
  {
   "cell_type": "markdown",
   "metadata": {
    "id": "EmBcrX3ArVik"
   },
   "source": [
    "## Model 1 - Frozen SBERT"
   ]
  },
  {
   "cell_type": "code",
   "execution_count": 13,
   "metadata": {
    "execution": {
     "iopub.execute_input": "2022-12-17T23:15:32.968678Z",
     "iopub.status.busy": "2022-12-17T23:15:32.968265Z",
     "iopub.status.idle": "2022-12-17T23:15:34.988297Z",
     "shell.execute_reply": "2022-12-17T23:15:34.986977Z",
     "shell.execute_reply.started": "2022-12-17T23:15:32.968652Z"
    },
    "id": "_NlWAYxNrVil"
   },
   "outputs": [],
   "source": [
    "set_reproducibility(base_seed)\n",
    "\n",
    "#model_type = \"all-mpnet-base-v2\"\n",
    "model_type = 'AnnaWegmann/Style-Embedding'\n",
    "\n",
    "model = SentenceTransformer(model_type)"
   ]
  },
  {
   "cell_type": "code",
   "execution_count": 14,
   "metadata": {
    "execution": {
     "iopub.execute_input": "2022-12-17T23:15:35.234560Z",
     "iopub.status.busy": "2022-12-17T23:15:35.234192Z",
     "iopub.status.idle": "2022-12-18T00:19:13.103917Z",
     "shell.execute_reply": "2022-12-18T00:19:13.102578Z",
     "shell.execute_reply.started": "2022-12-17T23:15:35.234534Z"
    },
    "id": "DIVx7R5wrVil"
   },
   "outputs": [
    {
     "name": "stdout",
     "output_type": "stream",
     "text": [
      "928658\n",
      "1186486\n",
      "Dataset size: 500000\n",
      "Using 0.3619453541844835 as threshold\n",
      "              precision    recall  f1-score   support\n",
      "\n",
      "           0       0.53      0.65      0.59     10043\n",
      "           1       0.64      0.53      0.58     12062\n",
      "\n",
      "    accuracy                           0.58     22105\n",
      "   macro avg       0.59      0.59      0.58     22105\n",
      "weighted avg       0.59      0.58      0.58     22105\n",
      "\n"
     ]
    }
   ],
   "source": [
    "# Create a training DS just to calibrate the threshold\n",
    "max_length = 32\n",
    "train_ds = create_contrastive_examples(df_train[\"splitted_text\"].values, df_train[\"paragraph-authors\"].values, model.tokenizer,\n",
    "                                       max_length, max_samples = 500000)\n",
    "print(\"Dataset size:\", len(train_ds))\n",
    "train_dl = DataLoader(train_ds,\n",
    "                      shuffle=True,\n",
    "                      batch_size=8,\n",
    "                      collate_fn=model.smart_batching_collate)\n",
    "\n",
    "model.eval()\n",
    "# Compute the threshold\n",
    "same_sims, diff_sims = compute_same_diff_contrastive(model, train_dl)\n",
    "th = np.mean([np.mean(same_sims)-2*np.std(same_sims), np.mean(diff_sims)+2*np.std(diff_sims)])\n",
    "\n",
    "print(f\"Using {th} as threshold\")\n",
    "evaluate_mmodel_task3(model, df_valid, th)\n"
   ]
  },
  {
   "cell_type": "markdown",
   "metadata": {
    "id": "bLh7SiXFrVil"
   },
   "source": [
    "## Model 2 - Trained SBERT with contrastive loss"
   ]
  },
  {
   "cell_type": "code",
   "execution_count": 14,
   "metadata": {
    "execution": {
     "iopub.execute_input": "2022-12-18T08:54:57.397092Z",
     "iopub.status.busy": "2022-12-18T08:54:57.396789Z",
     "iopub.status.idle": "2022-12-18T08:55:14.085065Z",
     "shell.execute_reply": "2022-12-18T08:55:14.084323Z",
     "shell.execute_reply.started": "2022-12-18T08:54:57.397071Z"
    },
    "id": "6RTQ8RzCrVim"
   },
   "outputs": [
    {
     "data": {
      "application/vnd.jupyter.widget-view+json": {
       "model_id": "376fde23748c421597a0e549f953accc",
       "version_major": 2,
       "version_minor": 0
      },
      "text/plain": [
       "Downloading:   0%|          | 0.00/1.17k [00:00<?, ?B/s]"
      ]
     },
     "metadata": {},
     "output_type": "display_data"
    },
    {
     "data": {
      "application/vnd.jupyter.widget-view+json": {
       "model_id": "4c9ce3953c5f4ecaa1def80b3759e2a6",
       "version_major": 2,
       "version_minor": 0
      },
      "text/plain": [
       "Downloading:   0%|          | 0.00/190 [00:00<?, ?B/s]"
      ]
     },
     "metadata": {},
     "output_type": "display_data"
    },
    {
     "data": {
      "application/vnd.jupyter.widget-view+json": {
       "model_id": "ad0058d74b7640cebf7daed5d2ea2a35",
       "version_major": 2,
       "version_minor": 0
      },
      "text/plain": [
       "Downloading:   0%|          | 0.00/3.96k [00:00<?, ?B/s]"
      ]
     },
     "metadata": {},
     "output_type": "display_data"
    },
    {
     "data": {
      "application/vnd.jupyter.widget-view+json": {
       "model_id": "1cf95047035942359c3f87a310ab9371",
       "version_major": 2,
       "version_minor": 0
      },
      "text/plain": [
       "Downloading:   0%|          | 0.00/718 [00:00<?, ?B/s]"
      ]
     },
     "metadata": {},
     "output_type": "display_data"
    },
    {
     "data": {
      "application/vnd.jupyter.widget-view+json": {
       "model_id": "ce18151c3b8c4624b31d5cad13a44c22",
       "version_major": 2,
       "version_minor": 0
      },
      "text/plain": [
       "Downloading:   0%|          | 0.00/117 [00:00<?, ?B/s]"
      ]
     },
     "metadata": {},
     "output_type": "display_data"
    },
    {
     "data": {
      "application/vnd.jupyter.widget-view+json": {
       "model_id": "b261b60c888b4294a01988317faba648",
       "version_major": 2,
       "version_minor": 0
      },
      "text/plain": [
       "Downloading:   0%|          | 0.00/659 [00:00<?, ?B/s]"
      ]
     },
     "metadata": {},
     "output_type": "display_data"
    },
    {
     "data": {
      "application/vnd.jupyter.widget-view+json": {
       "model_id": "2cb6c8a488144b8fa7bae14fe4552347",
       "version_major": 2,
       "version_minor": 0
      },
      "text/plain": [
       "Downloading:   0%|          | 0.00/456k [00:00<?, ?B/s]"
      ]
     },
     "metadata": {},
     "output_type": "display_data"
    },
    {
     "data": {
      "application/vnd.jupyter.widget-view+json": {
       "model_id": "63b490c063014b2aa37946470282d238",
       "version_major": 2,
       "version_minor": 0
      },
      "text/plain": [
       "Downloading:   0%|          | 0.00/499M [00:00<?, ?B/s]"
      ]
     },
     "metadata": {},
     "output_type": "display_data"
    },
    {
     "data": {
      "application/vnd.jupyter.widget-view+json": {
       "model_id": "f5124bf2574a4a9eac9aafa69425e826",
       "version_major": 2,
       "version_minor": 0
      },
      "text/plain": [
       "Downloading:   0%|          | 0.00/53.0 [00:00<?, ?B/s]"
      ]
     },
     "metadata": {},
     "output_type": "display_data"
    },
    {
     "data": {
      "application/vnd.jupyter.widget-view+json": {
       "model_id": "a532bc73084d4937b2280ceb5ff4157d",
       "version_major": 2,
       "version_minor": 0
      },
      "text/plain": [
       "Downloading:   0%|          | 0.00/239 [00:00<?, ?B/s]"
      ]
     },
     "metadata": {},
     "output_type": "display_data"
    },
    {
     "data": {
      "application/vnd.jupyter.widget-view+json": {
       "model_id": "5edc85bd13684753a21907cff19fdc66",
       "version_major": 2,
       "version_minor": 0
      },
      "text/plain": [
       "Downloading:   0%|          | 0.00/1.36M [00:00<?, ?B/s]"
      ]
     },
     "metadata": {},
     "output_type": "display_data"
    },
    {
     "data": {
      "application/vnd.jupyter.widget-view+json": {
       "model_id": "c9277e356a5644dd8503e75c8ac43c1f",
       "version_major": 2,
       "version_minor": 0
      },
      "text/plain": [
       "Downloading:   0%|          | 0.00/354 [00:00<?, ?B/s]"
      ]
     },
     "metadata": {},
     "output_type": "display_data"
    },
    {
     "data": {
      "application/vnd.jupyter.widget-view+json": {
       "model_id": "7d22ef07a2a741d3bb227ccb3febcc4a",
       "version_major": 2,
       "version_minor": 0
      },
      "text/plain": [
       "Downloading:   0%|          | 0.00/798k [00:00<?, ?B/s]"
      ]
     },
     "metadata": {},
     "output_type": "display_data"
    },
    {
     "data": {
      "application/vnd.jupyter.widget-view+json": {
       "model_id": "27f68bb9e4044947802e83a6284557ca",
       "version_major": 2,
       "version_minor": 0
      },
      "text/plain": [
       "Downloading:   0%|          | 0.00/229 [00:00<?, ?B/s]"
      ]
     },
     "metadata": {},
     "output_type": "display_data"
    }
   ],
   "source": [
    "set_reproducibility(base_seed)\n",
    "\n",
    "#model_type = \"all-mpnet-base-v2\"\n",
    "model_type = 'AnnaWegmann/Style-Embedding'\n",
    "\n",
    "model = SentenceTransformer(model_type)"
   ]
  },
  {
   "cell_type": "code",
   "execution_count": 15,
   "metadata": {
    "execution": {
     "iopub.execute_input": "2022-12-18T08:55:14.087319Z",
     "iopub.status.busy": "2022-12-18T08:55:14.086829Z",
     "iopub.status.idle": "2022-12-18T09:53:58.159158Z",
     "shell.execute_reply": "2022-12-18T09:53:58.158163Z",
     "shell.execute_reply.started": "2022-12-18T08:55:14.087295Z"
    },
    "id": "iYzbxiMtrVim"
   },
   "outputs": [
    {
     "name": "stdout",
     "output_type": "stream",
     "text": [
      "928658\n",
      "1186486\n",
      "Dataset size: 100000\n"
     ]
    },
    {
     "data": {
      "application/vnd.jupyter.widget-view+json": {
       "model_id": "7dc1f27960da409abb5067ce5574e7e4",
       "version_major": 2,
       "version_minor": 0
      },
      "text/plain": [
       "Epoch:   0%|          | 0/2 [00:00<?, ?it/s]"
      ]
     },
     "metadata": {},
     "output_type": "display_data"
    },
    {
     "data": {
      "application/vnd.jupyter.widget-view+json": {
       "model_id": "53fe856f13d541e3bc8cdadf9e225d60",
       "version_major": 2,
       "version_minor": 0
      },
      "text/plain": [
       "Iteration:   0%|          | 0/12500 [00:00<?, ?it/s]"
      ]
     },
     "metadata": {},
     "output_type": "display_data"
    },
    {
     "data": {
      "application/vnd.jupyter.widget-view+json": {
       "model_id": "c5a196eeace942dcae2eb8b5cbc919ff",
       "version_major": 2,
       "version_minor": 0
      },
      "text/plain": [
       "Iteration:   0%|          | 0/12500 [00:00<?, ?it/s]"
      ]
     },
     "metadata": {},
     "output_type": "display_data"
    }
   ],
   "source": [
    "max_length = 32\n",
    "train_ds = create_contrastive_examples(df_train[\"splitted_text\"].values, df_train[\"paragraph-authors\"].values, model.tokenizer, \n",
    "                                       max_length, max_samples = 100000)\n",
    "print(\"Dataset size:\", len(train_ds))\n",
    "train_dl = DataLoader(train_ds,\n",
    "                      shuffle=True,\n",
    "                      batch_size=8,\n",
    "                      collate_fn=model.smart_batching_collate)\n",
    "\n",
    "# Define contrastive loss\n",
    "contrastive_loss = losses.ContrastiveLoss(model=model, distance_metric=losses.SiameseDistanceMetric.COSINE_DISTANCE, margin=0.6)\n",
    "epochs = 2\n",
    "\n",
    "# Train\n",
    "model.fit(train_objectives=[(train_dl, contrastive_loss)],\n",
    "                       epochs=epochs,\n",
    "                       warmup_steps=math.ceil(len(train_dl) * epochs * 0.1),\n",
    "                       optimizer_params={\n",
    "                           'lr': 2e-5,\n",
    "                       }\n",
    "        )"
   ]
  },
  {
   "cell_type": "code",
   "execution_count": 16,
   "metadata": {
    "execution": {
     "iopub.execute_input": "2022-12-18T09:53:58.162952Z",
     "iopub.status.busy": "2022-12-18T09:53:58.162725Z",
     "iopub.status.idle": "2022-12-18T10:01:57.498125Z",
     "shell.execute_reply": "2022-12-18T10:01:57.497226Z",
     "shell.execute_reply.started": "2022-12-18T09:53:58.162924Z"
    },
    "id": "ZWAjqRjhrVim"
   },
   "outputs": [
    {
     "name": "stdout",
     "output_type": "stream",
     "text": [
      "Using 0.6878071384977197 as threshold\n",
      "              precision    recall  f1-score   support\n",
      "\n",
      "           0       0.65      0.63      0.64     10043\n",
      "           1       0.70      0.71      0.71     12062\n",
      "\n",
      "    accuracy                           0.68     22105\n",
      "   macro avg       0.67      0.67      0.67     22105\n",
      "weighted avg       0.68      0.68      0.68     22105\n",
      "\n",
      "Using margin(0.6) as threshold\n",
      "              precision    recall  f1-score   support\n",
      "\n",
      "           0       0.58      0.81      0.68     10043\n",
      "           1       0.76      0.51      0.61     12062\n",
      "\n",
      "    accuracy                           0.65     22105\n",
      "   macro avg       0.67      0.66      0.64     22105\n",
      "weighted avg       0.68      0.65      0.64     22105\n",
      "\n"
     ]
    }
   ],
   "source": [
    "model.eval()\n",
    "# Compute the threshold\n",
    "same_sims, diff_sims = compute_same_diff_contrastive(model, train_dl)\n",
    "th = np.mean([np.mean(same_sims)-2*np.std(same_sims), np.mean(diff_sims)+2*np.std(diff_sims)])\n",
    "\n",
    "print(f\"Using {th} as threshold\")\n",
    "evaluate_mmodel_task3(model, df_valid, th)\n",
    "\n",
    "th = 0.6\n",
    "\n",
    "print(f\"Using margin({th}) as threshold\")\n",
    "evaluate_mmodel_task3(model, df_valid, th)\n"
   ]
  },
  {
   "cell_type": "markdown",
   "metadata": {
    "id": "urBfYcDIrVim"
   },
   "source": [
    "## Model 3 - Trained SBERT with triplet loss"
   ]
  },
  {
   "cell_type": "code",
   "execution_count": 20,
   "metadata": {
    "execution": {
     "iopub.execute_input": "2022-12-18T10:39:59.292518Z",
     "iopub.status.busy": "2022-12-18T10:39:59.292170Z",
     "iopub.status.idle": "2022-12-18T10:40:00.679714Z",
     "shell.execute_reply": "2022-12-18T10:40:00.678769Z",
     "shell.execute_reply.started": "2022-12-18T10:39:59.292491Z"
    },
    "id": "6pCIKcZZrVim"
   },
   "outputs": [],
   "source": [
    "set_reproducibility(base_seed)\n",
    "\n",
    "#model_type = \"all-mpnet-base-v2\"\n",
    "model_type = 'AnnaWegmann/Style-Embedding'\n",
    "\n",
    "model = SentenceTransformer(model_type)"
   ]
  },
  {
   "cell_type": "code",
   "execution_count": 21,
   "metadata": {
    "colab": {
     "referenced_widgets": [
      "e43cdf7493294e1f9570ce04180263d0",
      "b476f766425d4569ba52d32d7012ef4d",
      "26ddf08b2d684237b073f142280a5ed0"
     ]
    },
    "execution": {
     "iopub.execute_input": "2022-12-18T10:40:00.709976Z",
     "iopub.status.busy": "2022-12-18T10:40:00.709701Z",
     "iopub.status.idle": "2022-12-18T11:47:07.962613Z",
     "shell.execute_reply": "2022-12-18T11:47:07.962020Z",
     "shell.execute_reply.started": "2022-12-18T10:40:00.709954Z"
    },
    "id": "F_6TmUKFrVim",
    "outputId": "9c1d2051-5f64-4125-a401-8c5dc0304f86"
   },
   "outputs": [
    {
     "name": "stdout",
     "output_type": "stream",
     "text": [
      "N easy:96005, N hard: 0, N semihard:0\n",
      "96005\n"
     ]
    },
    {
     "data": {
      "application/vnd.jupyter.widget-view+json": {
       "model_id": "52a249a14096445883a001d0024932e0",
       "version_major": 2,
       "version_minor": 0
      },
      "text/plain": [
       "Epoch:   0%|          | 0/2 [00:00<?, ?it/s]"
      ]
     },
     "metadata": {},
     "output_type": "display_data"
    },
    {
     "data": {
      "application/vnd.jupyter.widget-view+json": {
       "model_id": "063e343428d34fe9823b00c70e9db941",
       "version_major": 2,
       "version_minor": 0
      },
      "text/plain": [
       "Iteration:   0%|          | 0/12001 [00:00<?, ?it/s]"
      ]
     },
     "metadata": {},
     "output_type": "display_data"
    },
    {
     "data": {
      "application/vnd.jupyter.widget-view+json": {
       "model_id": "0484ab2361c44c33bf664c47c6994ced",
       "version_major": 2,
       "version_minor": 0
      },
      "text/plain": [
       "Iteration:   0%|          | 0/12001 [00:00<?, ?it/s]"
      ]
     },
     "metadata": {},
     "output_type": "display_data"
    }
   ],
   "source": [
    "max_length = 32\n",
    "train_ds = create_triplet_examples(df_train[\"splitted_text\"].values, df_train[\"paragraph-authors\"].values, model.tokenizer, \n",
    "                                            max_length, n_per_document=20, max_samples = 100000, model=model, margin=0.6)\n",
    "train_dl = DataLoader(train_ds,\n",
    "                      shuffle=True,\n",
    "                      batch_size=8,\n",
    "                      collate_fn=model.smart_batching_collate)\n",
    "\n",
    "# Define triplet loss\n",
    "triplet_loss = losses.TripletLoss(model=model, triplet_margin=0.6, distance_metric=losses.TripletDistanceMetric.COSINE)\n",
    "epochs = 2\n",
    "\n",
    "# Train\n",
    "model.fit(train_objectives=[(train_dl, triplet_loss)],\n",
    "                       epochs=epochs,\n",
    "                       warmup_steps=math.ceil(len(train_dl) * epochs * 0.1),\n",
    "                       optimizer_params={\n",
    "                           'lr': 2e-5,\n",
    "                       })"
   ]
  },
  {
   "cell_type": "code",
   "execution_count": 22,
   "metadata": {
    "execution": {
     "iopub.execute_input": "2022-12-18T11:47:07.964895Z",
     "iopub.status.busy": "2022-12-18T11:47:07.964377Z",
     "iopub.status.idle": "2022-12-18T11:57:52.109103Z",
     "shell.execute_reply": "2022-12-18T11:57:52.108411Z",
     "shell.execute_reply.started": "2022-12-18T11:47:07.964871Z"
    },
    "id": "ByNWr4a3rVin"
   },
   "outputs": [
    {
     "name": "stdout",
     "output_type": "stream",
     "text": [
      "Using 0.2701155882739125 as threshold\n",
      "              precision    recall  f1-score   support\n",
      "\n",
      "           0       0.62      0.63      0.63     10043\n",
      "           1       0.69      0.68      0.68     12062\n",
      "\n",
      "    accuracy                           0.66     22105\n",
      "   macro avg       0.66      0.66      0.66     22105\n",
      "weighted avg       0.66      0.66      0.66     22105\n",
      "\n",
      "Using margin(0.6) as threshold\n",
      "              precision    recall  f1-score   support\n",
      "\n",
      "           0       0.71      0.37      0.48     10043\n",
      "           1       0.62      0.88      0.73     12062\n",
      "\n",
      "    accuracy                           0.64     22105\n",
      "   macro avg       0.67      0.62      0.61     22105\n",
      "weighted avg       0.66      0.64      0.62     22105\n",
      "\n"
     ]
    }
   ],
   "source": [
    "model.eval()\n",
    "\n",
    "# Compute the threshold\n",
    "same_sims, diff_sims = compute_same_diff_triplet(model, train_dl)\n",
    "th = np.mean([np.mean(same_sims)-2*np.std(same_sims), np.mean(diff_sims)+2*np.std(diff_sims)])\n",
    "\n",
    "print(f\"Using {th} as threshold\")\n",
    "evaluate_mmodel_task3(model, df_valid, th)\n",
    "\n",
    "th = 0.6\n",
    "\n",
    "print(f\"Using margin({th}) as threshold\")\n",
    "evaluate_mmodel_task3(model, df_valid, th)\n"
   ]
  },
  {
   "cell_type": "markdown",
   "metadata": {
    "id": "QvRNCaKGrVin"
   },
   "source": [
    "## Model 4 - Trained SBERT with triplet loss and semi hard negative mining"
   ]
  },
  {
   "cell_type": "code",
   "execution_count": 16,
   "metadata": {
    "execution": {
     "iopub.execute_input": "2022-12-17T18:47:09.225895Z",
     "iopub.status.busy": "2022-12-17T18:47:09.224783Z",
     "iopub.status.idle": "2022-12-17T18:47:11.267383Z",
     "shell.execute_reply": "2022-12-17T18:47:11.266268Z",
     "shell.execute_reply.started": "2022-12-17T18:47:09.225864Z"
    },
    "id": "DKhBv5_wrVin"
   },
   "outputs": [],
   "source": [
    "set_reproducibility(base_seed)\n",
    "\n",
    "#model_type = \"all-mpnet-base-v2\"\n",
    "model_type = 'AnnaWegmann/Style-Embedding'\n",
    "\n",
    "model = SentenceTransformer(model_type)"
   ]
  },
  {
   "cell_type": "code",
   "execution_count": 17,
   "metadata": {
    "colab": {
     "referenced_widgets": [
      "02a5cd993a2b4878b492a15dc5f7fb07",
      "b951262d99514d7aaa0ff7c7c52fc113",
      "8a1d3d7483ad4757a6ef02203451f0f6",
      "d289fa83628c4e37a50908bbd0984244",
      "ca68f5fc9a87475f84c1822b63029b75",
      "0145e9fb383448c2bd15aebb535817d3",
      "069f62ddc7aa4856a58de8b1eedffa9c",
      "ba7bb80aaf9e4bc4a3a3b1085ee31d33",
      "d9bb77f2be4f40e29b2e0650b4aabc41",
      "4dce1d8d2f32410ab3d606ba4dd401c9"
     ]
    },
    "execution": {
     "iopub.execute_input": "2022-12-17T18:47:11.269087Z",
     "iopub.status.busy": "2022-12-17T18:47:11.268809Z",
     "iopub.status.idle": "2022-12-17T20:26:46.451507Z",
     "shell.execute_reply": "2022-12-17T20:26:46.450396Z",
     "shell.execute_reply.started": "2022-12-17T18:47:11.269061Z"
    },
    "id": "2MiuBRwarVin",
    "outputId": "4ce805ea-0820-4c61-dc3a-4909c8750dc8"
   },
   "outputs": [
    {
     "name": "stdout",
     "output_type": "stream",
     "text": [
      "N easy:0, N hard: 20598, N semihard:24095\n",
      "44693\n"
     ]
    },
    {
     "data": {
      "application/vnd.jupyter.widget-view+json": {
       "model_id": "8c67175787bf4df2acef06a66fc048b3",
       "version_major": 2,
       "version_minor": 0
      },
      "text/plain": [
       "Epoch:   0%|          | 0/3 [00:00<?, ?it/s]"
      ]
     },
     "metadata": {},
     "output_type": "display_data"
    },
    {
     "data": {
      "application/vnd.jupyter.widget-view+json": {
       "model_id": "6e60491f490e404ca2fbac38aa3a802e",
       "version_major": 2,
       "version_minor": 0
      },
      "text/plain": [
       "Iteration:   0%|          | 0/5587 [00:00<?, ?it/s]"
      ]
     },
     "metadata": {},
     "output_type": "display_data"
    },
    {
     "data": {
      "application/vnd.jupyter.widget-view+json": {
       "model_id": "b2ff7528a14a408f854f8fd6f1802c22",
       "version_major": 2,
       "version_minor": 0
      },
      "text/plain": [
       "Iteration:   0%|          | 0/5587 [00:00<?, ?it/s]"
      ]
     },
     "metadata": {},
     "output_type": "display_data"
    },
    {
     "data": {
      "application/vnd.jupyter.widget-view+json": {
       "model_id": "453c4913b70f438792ce854e1e914cd7",
       "version_major": 2,
       "version_minor": 0
      },
      "text/plain": [
       "Iteration:   0%|          | 0/5587 [00:00<?, ?it/s]"
      ]
     },
     "metadata": {},
     "output_type": "display_data"
    }
   ],
   "source": [
    "# Define triplet loss\n",
    "triplet_loss = losses.TripletLoss(model=model, triplet_margin=0.6, distance_metric=losses.TripletDistanceMetric.COSINE)\n",
    "\n",
    "max_length = 32\n",
    "train_ds = create_triplet_examples(df_train[\"splitted_text\"].values, df_train[\"paragraph-authors\"].values, model.tokenizer, \n",
    "                                            max_length, n_per_document=10, max_samples = 100000, model=model, margin=0.6, \n",
    "                                 mine_all=False, mine_semihard=True, mine_hard=True)\n",
    "train_dl = DataLoader(train_ds,\n",
    "                  shuffle=True,\n",
    "                  batch_size=16,\n",
    "                  collate_fn=model.smart_batching_collate)\n",
    "\n",
    "epochs = 3\n",
    "\n",
    "# Train\n",
    "model.fit(train_objectives=[(train_dl, triplet_loss)],\n",
    "                       epochs=epochs,\n",
    "                       warmup_steps=math.ceil(len(train_dl) * epochs * 0.1),\n",
    "                       optimizer_params={\n",
    "                           'lr': 2e-5,\n",
    "                       })"
   ]
  },
  {
   "cell_type": "code",
   "execution_count": 18,
   "metadata": {
    "execution": {
     "iopub.execute_input": "2022-12-17T20:26:46.453843Z",
     "iopub.status.busy": "2022-12-17T20:26:46.453302Z",
     "iopub.status.idle": "2022-12-17T20:36:09.979821Z",
     "shell.execute_reply": "2022-12-17T20:36:09.978834Z",
     "shell.execute_reply.started": "2022-12-17T20:26:46.453818Z"
    },
    "id": "JA5jal2IrVio"
   },
   "outputs": [
    {
     "name": "stdout",
     "output_type": "stream",
     "text": [
      "Using 0.23284846905517453 as threshold\n",
      "              precision    recall  f1-score   support\n",
      "\n",
      "           0       0.60      0.62      0.61     10043\n",
      "           1       0.68      0.66      0.67     12062\n",
      "\n",
      "    accuracy                           0.64     22105\n",
      "   macro avg       0.64      0.64      0.64     22105\n",
      "weighted avg       0.64      0.64      0.64     22105\n",
      "\n",
      "Using margin(0.6) as threshold\n",
      "              precision    recall  f1-score   support\n",
      "\n",
      "           0       0.71      0.33      0.45     10043\n",
      "           1       0.61      0.89      0.73     12062\n",
      "\n",
      "    accuracy                           0.63     22105\n",
      "   macro avg       0.66      0.61      0.59     22105\n",
      "weighted avg       0.66      0.63      0.60     22105\n",
      "\n"
     ]
    }
   ],
   "source": [
    "model.eval()\n",
    "same_sims, diff_sims = compute_same_diff_triplet(model, train_dl)\n",
    "th = np.mean([np.mean(same_sims)-2*np.std(same_sims), np.mean(diff_sims)+2*np.std(diff_sims)])\n",
    "#th = 0.6\n",
    "\n",
    "print(f\"Using {th} as threshold\")\n",
    "evaluate_mmodel_task3(model, df_valid, th)\n",
    "\n",
    "th = 0.6\n",
    "\n",
    "print(f\"Using margin({th}) as threshold\")\n",
    "evaluate_mmodel_task3(model, df_valid, th)"
   ]
  }
 ],
 "metadata": {
  "colab": {
   "collapsed_sections": [
    "waLaH04b5acW",
    "YuuBWHGN_u6q",
    "pZl-4KF-_2B4"
   ],
   "provenance": []
  },
  "gpuClass": "standard",
  "kernelspec": {
   "display_name": "Python 3 (ipykernel)",
   "language": "python",
   "name": "python3"
  },
  "language_info": {
   "codemirror_mode": {
    "name": "ipython",
    "version": 3
   },
   "file_extension": ".py",
   "mimetype": "text/x-python",
   "name": "python",
   "nbconvert_exporter": "python",
   "pygments_lexer": "ipython3",
   "version": "3.9.13"
  },
  "widgets": {
   "application/vnd.jupyter.widget-state+json": {
    "00016a68631849498f9acb980b225093": {
     "model_module": "@jupyter-widgets/controls",
     "model_module_version": "1.5.0",
     "model_name": "ProgressStyleModel",
     "state": {
      "_model_module": "@jupyter-widgets/controls",
      "_model_module_version": "1.5.0",
      "_model_name": "ProgressStyleModel",
      "_view_count": null,
      "_view_module": "@jupyter-widgets/base",
      "_view_module_version": "1.2.0",
      "_view_name": "StyleView",
      "bar_color": null,
      "description_width": ""
     }
    },
    "034c1379f1ca45ddb7e97765d50e175b": {
     "model_module": "@jupyter-widgets/controls",
     "model_module_version": "1.5.0",
     "model_name": "ProgressStyleModel",
     "state": {
      "_model_module": "@jupyter-widgets/controls",
      "_model_module_version": "1.5.0",
      "_model_name": "ProgressStyleModel",
      "_view_count": null,
      "_view_module": "@jupyter-widgets/base",
      "_view_module_version": "1.2.0",
      "_view_name": "StyleView",
      "bar_color": null,
      "description_width": ""
     }
    },
    "04cf085d1d3441e783a8c0c03871e2ea": {
     "model_module": "@jupyter-widgets/controls",
     "model_module_version": "1.5.0",
     "model_name": "ProgressStyleModel",
     "state": {
      "_model_module": "@jupyter-widgets/controls",
      "_model_module_version": "1.5.0",
      "_model_name": "ProgressStyleModel",
      "_view_count": null,
      "_view_module": "@jupyter-widgets/base",
      "_view_module_version": "1.2.0",
      "_view_name": "StyleView",
      "bar_color": null,
      "description_width": ""
     }
    },
    "062acd8166644460bb3d2123d8dc1869": {
     "model_module": "@jupyter-widgets/base",
     "model_module_version": "1.2.0",
     "model_name": "LayoutModel",
     "state": {
      "_model_module": "@jupyter-widgets/base",
      "_model_module_version": "1.2.0",
      "_model_name": "LayoutModel",
      "_view_count": null,
      "_view_module": "@jupyter-widgets/base",
      "_view_module_version": "1.2.0",
      "_view_name": "LayoutView",
      "align_content": null,
      "align_items": null,
      "align_self": null,
      "border": null,
      "bottom": null,
      "display": null,
      "flex": null,
      "flex_flow": null,
      "grid_area": null,
      "grid_auto_columns": null,
      "grid_auto_flow": null,
      "grid_auto_rows": null,
      "grid_column": null,
      "grid_gap": null,
      "grid_row": null,
      "grid_template_areas": null,
      "grid_template_columns": null,
      "grid_template_rows": null,
      "height": null,
      "justify_content": null,
      "justify_items": null,
      "left": null,
      "margin": null,
      "max_height": null,
      "max_width": null,
      "min_height": null,
      "min_width": null,
      "object_fit": null,
      "object_position": null,
      "order": null,
      "overflow": null,
      "overflow_x": null,
      "overflow_y": null,
      "padding": null,
      "right": null,
      "top": null,
      "visibility": null,
      "width": null
     }
    },
    "07f8c84a5e514dc9b6e01f04cd66fa10": {
     "model_module": "@jupyter-widgets/controls",
     "model_module_version": "1.5.0",
     "model_name": "HBoxModel",
     "state": {
      "_dom_classes": [],
      "_model_module": "@jupyter-widgets/controls",
      "_model_module_version": "1.5.0",
      "_model_name": "HBoxModel",
      "_view_count": null,
      "_view_module": "@jupyter-widgets/controls",
      "_view_module_version": "1.5.0",
      "_view_name": "HBoxView",
      "box_style": "",
      "children": [
       "IPY_MODEL_cf38c7c4a8c14722b3905526e69fec3f",
       "IPY_MODEL_c603f9531b74486db7d127d266010460",
       "IPY_MODEL_0b5d60162a44480dbc8c54a532d0ac09"
      ],
      "layout": "IPY_MODEL_80340d4b52ba47b6857b954ed7df57ef"
     }
    },
    "0877469f37274e6da8d1a47f1f4445bf": {
     "model_module": "@jupyter-widgets/controls",
     "model_module_version": "1.5.0",
     "model_name": "DescriptionStyleModel",
     "state": {
      "_model_module": "@jupyter-widgets/controls",
      "_model_module_version": "1.5.0",
      "_model_name": "DescriptionStyleModel",
      "_view_count": null,
      "_view_module": "@jupyter-widgets/base",
      "_view_module_version": "1.2.0",
      "_view_name": "StyleView",
      "description_width": ""
     }
    },
    "0aa2abbb6f6a4a58a6922f23bc37ba0f": {
     "model_module": "@jupyter-widgets/controls",
     "model_module_version": "1.5.0",
     "model_name": "DescriptionStyleModel",
     "state": {
      "_model_module": "@jupyter-widgets/controls",
      "_model_module_version": "1.5.0",
      "_model_name": "DescriptionStyleModel",
      "_view_count": null,
      "_view_module": "@jupyter-widgets/base",
      "_view_module_version": "1.2.0",
      "_view_name": "StyleView",
      "description_width": ""
     }
    },
    "0b5d60162a44480dbc8c54a532d0ac09": {
     "model_module": "@jupyter-widgets/controls",
     "model_module_version": "1.5.0",
     "model_name": "HTMLModel",
     "state": {
      "_dom_classes": [],
      "_model_module": "@jupyter-widgets/controls",
      "_model_module_version": "1.5.0",
      "_model_name": "HTMLModel",
      "_view_count": null,
      "_view_module": "@jupyter-widgets/controls",
      "_view_module_version": "1.5.0",
      "_view_name": "HTMLView",
      "description": "",
      "description_tooltip": null,
      "layout": "IPY_MODEL_9da6bd2fe76348ecaacd5e67f3d2becb",
      "placeholder": "​",
      "style": "IPY_MODEL_86f3c150536a47d2b3d7d2e0f8ec6071",
      "value": " 53.0/53.0 [00:00&lt;00:00, 1.88kB/s]"
     }
    },
    "0cae6d9d24324fca8a7902cbf5bdd925": {
     "model_module": "@jupyter-widgets/base",
     "model_module_version": "1.2.0",
     "model_name": "LayoutModel",
     "state": {
      "_model_module": "@jupyter-widgets/base",
      "_model_module_version": "1.2.0",
      "_model_name": "LayoutModel",
      "_view_count": null,
      "_view_module": "@jupyter-widgets/base",
      "_view_module_version": "1.2.0",
      "_view_name": "LayoutView",
      "align_content": null,
      "align_items": null,
      "align_self": null,
      "border": null,
      "bottom": null,
      "display": null,
      "flex": null,
      "flex_flow": null,
      "grid_area": null,
      "grid_auto_columns": null,
      "grid_auto_flow": null,
      "grid_auto_rows": null,
      "grid_column": null,
      "grid_gap": null,
      "grid_row": null,
      "grid_template_areas": null,
      "grid_template_columns": null,
      "grid_template_rows": null,
      "height": null,
      "justify_content": null,
      "justify_items": null,
      "left": null,
      "margin": null,
      "max_height": null,
      "max_width": null,
      "min_height": null,
      "min_width": null,
      "object_fit": null,
      "object_position": null,
      "order": null,
      "overflow": null,
      "overflow_x": null,
      "overflow_y": null,
      "padding": null,
      "right": null,
      "top": null,
      "visibility": null,
      "width": null
     }
    },
    "106a18a2d2484613ba2ecabc0502d5e7": {
     "model_module": "@jupyter-widgets/controls",
     "model_module_version": "1.5.0",
     "model_name": "ProgressStyleModel",
     "state": {
      "_model_module": "@jupyter-widgets/controls",
      "_model_module_version": "1.5.0",
      "_model_name": "ProgressStyleModel",
      "_view_count": null,
      "_view_module": "@jupyter-widgets/base",
      "_view_module_version": "1.2.0",
      "_view_name": "StyleView",
      "bar_color": null,
      "description_width": ""
     }
    },
    "110bf3fe83364de3a1da8544c3bbf5e8": {
     "model_module": "@jupyter-widgets/controls",
     "model_module_version": "1.5.0",
     "model_name": "FloatProgressModel",
     "state": {
      "_dom_classes": [],
      "_model_module": "@jupyter-widgets/controls",
      "_model_module_version": "1.5.0",
      "_model_name": "FloatProgressModel",
      "_view_count": null,
      "_view_module": "@jupyter-widgets/controls",
      "_view_module_version": "1.5.0",
      "_view_name": "ProgressView",
      "bar_style": "success",
      "description": "",
      "description_tooltip": null,
      "layout": "IPY_MODEL_d32467ec5923474e98ada09fb2c4eaaf",
      "max": 116,
      "min": 0,
      "orientation": "horizontal",
      "style": "IPY_MODEL_286ee582f11b46dd92b16b9b09c487ae",
      "value": 116
     }
    },
    "110eacaab4514d2db8bab91ffd6a804b": {
     "model_module": "@jupyter-widgets/controls",
     "model_module_version": "1.5.0",
     "model_name": "ProgressStyleModel",
     "state": {
      "_model_module": "@jupyter-widgets/controls",
      "_model_module_version": "1.5.0",
      "_model_name": "ProgressStyleModel",
      "_view_count": null,
      "_view_module": "@jupyter-widgets/base",
      "_view_module_version": "1.2.0",
      "_view_name": "StyleView",
      "bar_color": null,
      "description_width": ""
     }
    },
    "14247a238e6c41e2b6ca4cd7f8e1add1": {
     "model_module": "@jupyter-widgets/controls",
     "model_module_version": "1.5.0",
     "model_name": "HTMLModel",
     "state": {
      "_dom_classes": [],
      "_model_module": "@jupyter-widgets/controls",
      "_model_module_version": "1.5.0",
      "_model_name": "HTMLModel",
      "_view_count": null,
      "_view_module": "@jupyter-widgets/controls",
      "_view_module_version": "1.5.0",
      "_view_name": "HTMLView",
      "description": "",
      "description_tooltip": null,
      "layout": "IPY_MODEL_daee45ee830b4dfd8e77c4da44be25d4",
      "placeholder": "​",
      "style": "IPY_MODEL_9c9b68a2fc7b479b95ef9a54f0e99b2e",
      "value": " 10.6k/10.6k [00:00&lt;00:00, 380kB/s]"
     }
    },
    "142dd0be953a49bc8c8383d758d1f091": {
     "model_module": "@jupyter-widgets/controls",
     "model_module_version": "1.5.0",
     "model_name": "DescriptionStyleModel",
     "state": {
      "_model_module": "@jupyter-widgets/controls",
      "_model_module_version": "1.5.0",
      "_model_name": "DescriptionStyleModel",
      "_view_count": null,
      "_view_module": "@jupyter-widgets/base",
      "_view_module_version": "1.2.0",
      "_view_name": "StyleView",
      "description_width": ""
     }
    },
    "17770de2a1de4e768b72659bbf31096a": {
     "model_module": "@jupyter-widgets/controls",
     "model_module_version": "1.5.0",
     "model_name": "DescriptionStyleModel",
     "state": {
      "_model_module": "@jupyter-widgets/controls",
      "_model_module_version": "1.5.0",
      "_model_name": "DescriptionStyleModel",
      "_view_count": null,
      "_view_module": "@jupyter-widgets/base",
      "_view_module_version": "1.2.0",
      "_view_name": "StyleView",
      "description_width": ""
     }
    },
    "1a501ec05d91415682a79d309ed89eba": {
     "model_module": "@jupyter-widgets/controls",
     "model_module_version": "1.5.0",
     "model_name": "HTMLModel",
     "state": {
      "_dom_classes": [],
      "_model_module": "@jupyter-widgets/controls",
      "_model_module_version": "1.5.0",
      "_model_name": "HTMLModel",
      "_view_count": null,
      "_view_module": "@jupyter-widgets/controls",
      "_view_module_version": "1.5.0",
      "_view_name": "HTMLView",
      "description": "",
      "description_tooltip": null,
      "layout": "IPY_MODEL_2b4aedf885ac4e40879c9e029d34ef14",
      "placeholder": "​",
      "style": "IPY_MODEL_c5b7ae7a0f2d4007860a2434806df136",
      "value": " 1.18k/1.18k [00:00&lt;00:00, 32.0kB/s]"
     }
    },
    "1b269cf903fd4eb9b8d73a7fc28e1301": {
     "model_module": "@jupyter-widgets/base",
     "model_module_version": "1.2.0",
     "model_name": "LayoutModel",
     "state": {
      "_model_module": "@jupyter-widgets/base",
      "_model_module_version": "1.2.0",
      "_model_name": "LayoutModel",
      "_view_count": null,
      "_view_module": "@jupyter-widgets/base",
      "_view_module_version": "1.2.0",
      "_view_name": "LayoutView",
      "align_content": null,
      "align_items": null,
      "align_self": null,
      "border": null,
      "bottom": null,
      "display": null,
      "flex": null,
      "flex_flow": null,
      "grid_area": null,
      "grid_auto_columns": null,
      "grid_auto_flow": null,
      "grid_auto_rows": null,
      "grid_column": null,
      "grid_gap": null,
      "grid_row": null,
      "grid_template_areas": null,
      "grid_template_columns": null,
      "grid_template_rows": null,
      "height": null,
      "justify_content": null,
      "justify_items": null,
      "left": null,
      "margin": null,
      "max_height": null,
      "max_width": null,
      "min_height": null,
      "min_width": null,
      "object_fit": null,
      "object_position": null,
      "order": null,
      "overflow": null,
      "overflow_x": null,
      "overflow_y": null,
      "padding": null,
      "right": null,
      "top": null,
      "visibility": null,
      "width": null
     }
    },
    "1c2de46ee5e14d15b7848f2e7e2772aa": {
     "model_module": "@jupyter-widgets/base",
     "model_module_version": "1.2.0",
     "model_name": "LayoutModel",
     "state": {
      "_model_module": "@jupyter-widgets/base",
      "_model_module_version": "1.2.0",
      "_model_name": "LayoutModel",
      "_view_count": null,
      "_view_module": "@jupyter-widgets/base",
      "_view_module_version": "1.2.0",
      "_view_name": "LayoutView",
      "align_content": null,
      "align_items": null,
      "align_self": null,
      "border": null,
      "bottom": null,
      "display": null,
      "flex": null,
      "flex_flow": null,
      "grid_area": null,
      "grid_auto_columns": null,
      "grid_auto_flow": null,
      "grid_auto_rows": null,
      "grid_column": null,
      "grid_gap": null,
      "grid_row": null,
      "grid_template_areas": null,
      "grid_template_columns": null,
      "grid_template_rows": null,
      "height": null,
      "justify_content": null,
      "justify_items": null,
      "left": null,
      "margin": null,
      "max_height": null,
      "max_width": null,
      "min_height": null,
      "min_width": null,
      "object_fit": null,
      "object_position": null,
      "order": null,
      "overflow": null,
      "overflow_x": null,
      "overflow_y": null,
      "padding": null,
      "right": null,
      "top": null,
      "visibility": null,
      "width": null
     }
    },
    "1ed09d81727e43529d793439206ebab1": {
     "model_module": "@jupyter-widgets/controls",
     "model_module_version": "1.5.0",
     "model_name": "DescriptionStyleModel",
     "state": {
      "_model_module": "@jupyter-widgets/controls",
      "_model_module_version": "1.5.0",
      "_model_name": "DescriptionStyleModel",
      "_view_count": null,
      "_view_module": "@jupyter-widgets/base",
      "_view_module_version": "1.2.0",
      "_view_name": "StyleView",
      "description_width": ""
     }
    },
    "209286a9ca19401f859256e8104b172c": {
     "model_module": "@jupyter-widgets/base",
     "model_module_version": "1.2.0",
     "model_name": "LayoutModel",
     "state": {
      "_model_module": "@jupyter-widgets/base",
      "_model_module_version": "1.2.0",
      "_model_name": "LayoutModel",
      "_view_count": null,
      "_view_module": "@jupyter-widgets/base",
      "_view_module_version": "1.2.0",
      "_view_name": "LayoutView",
      "align_content": null,
      "align_items": null,
      "align_self": null,
      "border": null,
      "bottom": null,
      "display": null,
      "flex": null,
      "flex_flow": null,
      "grid_area": null,
      "grid_auto_columns": null,
      "grid_auto_flow": null,
      "grid_auto_rows": null,
      "grid_column": null,
      "grid_gap": null,
      "grid_row": null,
      "grid_template_areas": null,
      "grid_template_columns": null,
      "grid_template_rows": null,
      "height": null,
      "justify_content": null,
      "justify_items": null,
      "left": null,
      "margin": null,
      "max_height": null,
      "max_width": null,
      "min_height": null,
      "min_width": null,
      "object_fit": null,
      "object_position": null,
      "order": null,
      "overflow": null,
      "overflow_x": null,
      "overflow_y": null,
      "padding": null,
      "right": null,
      "top": null,
      "visibility": null,
      "width": null
     }
    },
    "2392e8e923a5422d8fd3695986b79155": {
     "model_module": "@jupyter-widgets/controls",
     "model_module_version": "1.5.0",
     "model_name": "DescriptionStyleModel",
     "state": {
      "_model_module": "@jupyter-widgets/controls",
      "_model_module_version": "1.5.0",
      "_model_name": "DescriptionStyleModel",
      "_view_count": null,
      "_view_module": "@jupyter-widgets/base",
      "_view_module_version": "1.2.0",
      "_view_name": "StyleView",
      "description_width": ""
     }
    },
    "251b3bca77184beaaf1680f337b9b256": {
     "model_module": "@jupyter-widgets/controls",
     "model_module_version": "1.5.0",
     "model_name": "HTMLModel",
     "state": {
      "_dom_classes": [],
      "_model_module": "@jupyter-widgets/controls",
      "_model_module_version": "1.5.0",
      "_model_name": "HTMLModel",
      "_view_count": null,
      "_view_module": "@jupyter-widgets/controls",
      "_view_module_version": "1.5.0",
      "_view_name": "HTMLView",
      "description": "",
      "description_tooltip": null,
      "layout": "IPY_MODEL_6942bf18ca0444958cfedc2eb1c20562",
      "placeholder": "​",
      "style": "IPY_MODEL_0877469f37274e6da8d1a47f1f4445bf",
      "value": "Downloading: 100%"
     }
    },
    "2789c60bcd514ef4a9d39370ed9a77bc": {
     "model_module": "@jupyter-widgets/base",
     "model_module_version": "1.2.0",
     "model_name": "LayoutModel",
     "state": {
      "_model_module": "@jupyter-widgets/base",
      "_model_module_version": "1.2.0",
      "_model_name": "LayoutModel",
      "_view_count": null,
      "_view_module": "@jupyter-widgets/base",
      "_view_module_version": "1.2.0",
      "_view_name": "LayoutView",
      "align_content": null,
      "align_items": null,
      "align_self": null,
      "border": null,
      "bottom": null,
      "display": null,
      "flex": null,
      "flex_flow": null,
      "grid_area": null,
      "grid_auto_columns": null,
      "grid_auto_flow": null,
      "grid_auto_rows": null,
      "grid_column": null,
      "grid_gap": null,
      "grid_row": null,
      "grid_template_areas": null,
      "grid_template_columns": null,
      "grid_template_rows": null,
      "height": null,
      "justify_content": null,
      "justify_items": null,
      "left": null,
      "margin": null,
      "max_height": null,
      "max_width": null,
      "min_height": null,
      "min_width": null,
      "object_fit": null,
      "object_position": null,
      "order": null,
      "overflow": null,
      "overflow_x": null,
      "overflow_y": null,
      "padding": null,
      "right": null,
      "top": null,
      "visibility": null,
      "width": null
     }
    },
    "2860d7afa0814b4e9741f98339ca9398": {
     "model_module": "@jupyter-widgets/controls",
     "model_module_version": "1.5.0",
     "model_name": "HTMLModel",
     "state": {
      "_dom_classes": [],
      "_model_module": "@jupyter-widgets/controls",
      "_model_module_version": "1.5.0",
      "_model_name": "HTMLModel",
      "_view_count": null,
      "_view_module": "@jupyter-widgets/controls",
      "_view_module_version": "1.5.0",
      "_view_name": "HTMLView",
      "description": "",
      "description_tooltip": null,
      "layout": "IPY_MODEL_c81da6a1e8704e05bbdbd6b1a600a8be",
      "placeholder": "​",
      "style": "IPY_MODEL_de10da25d9854cc494cf3f155f749bec",
      "value": "Downloading: 100%"
     }
    },
    "286ee582f11b46dd92b16b9b09c487ae": {
     "model_module": "@jupyter-widgets/controls",
     "model_module_version": "1.5.0",
     "model_name": "ProgressStyleModel",
     "state": {
      "_model_module": "@jupyter-widgets/controls",
      "_model_module_version": "1.5.0",
      "_model_name": "ProgressStyleModel",
      "_view_count": null,
      "_view_module": "@jupyter-widgets/base",
      "_view_module_version": "1.2.0",
      "_view_name": "StyleView",
      "bar_color": null,
      "description_width": ""
     }
    },
    "29f01a07069146e0a858cda4dd88a416": {
     "model_module": "@jupyter-widgets/controls",
     "model_module_version": "1.5.0",
     "model_name": "HTMLModel",
     "state": {
      "_dom_classes": [],
      "_model_module": "@jupyter-widgets/controls",
      "_model_module_version": "1.5.0",
      "_model_name": "HTMLModel",
      "_view_count": null,
      "_view_module": "@jupyter-widgets/controls",
      "_view_module_version": "1.5.0",
      "_view_name": "HTMLView",
      "description": "",
      "description_tooltip": null,
      "layout": "IPY_MODEL_2789c60bcd514ef4a9d39370ed9a77bc",
      "placeholder": "​",
      "style": "IPY_MODEL_17770de2a1de4e768b72659bbf31096a",
      "value": "Downloading: 100%"
     }
    },
    "2abf4126780e4cf4a309ac0dc53dcb50": {
     "model_module": "@jupyter-widgets/base",
     "model_module_version": "1.2.0",
     "model_name": "LayoutModel",
     "state": {
      "_model_module": "@jupyter-widgets/base",
      "_model_module_version": "1.2.0",
      "_model_name": "LayoutModel",
      "_view_count": null,
      "_view_module": "@jupyter-widgets/base",
      "_view_module_version": "1.2.0",
      "_view_name": "LayoutView",
      "align_content": null,
      "align_items": null,
      "align_self": null,
      "border": null,
      "bottom": null,
      "display": null,
      "flex": null,
      "flex_flow": null,
      "grid_area": null,
      "grid_auto_columns": null,
      "grid_auto_flow": null,
      "grid_auto_rows": null,
      "grid_column": null,
      "grid_gap": null,
      "grid_row": null,
      "grid_template_areas": null,
      "grid_template_columns": null,
      "grid_template_rows": null,
      "height": null,
      "justify_content": null,
      "justify_items": null,
      "left": null,
      "margin": null,
      "max_height": null,
      "max_width": null,
      "min_height": null,
      "min_width": null,
      "object_fit": null,
      "object_position": null,
      "order": null,
      "overflow": null,
      "overflow_x": null,
      "overflow_y": null,
      "padding": null,
      "right": null,
      "top": null,
      "visibility": null,
      "width": null
     }
    },
    "2b4aedf885ac4e40879c9e029d34ef14": {
     "model_module": "@jupyter-widgets/base",
     "model_module_version": "1.2.0",
     "model_name": "LayoutModel",
     "state": {
      "_model_module": "@jupyter-widgets/base",
      "_model_module_version": "1.2.0",
      "_model_name": "LayoutModel",
      "_view_count": null,
      "_view_module": "@jupyter-widgets/base",
      "_view_module_version": "1.2.0",
      "_view_name": "LayoutView",
      "align_content": null,
      "align_items": null,
      "align_self": null,
      "border": null,
      "bottom": null,
      "display": null,
      "flex": null,
      "flex_flow": null,
      "grid_area": null,
      "grid_auto_columns": null,
      "grid_auto_flow": null,
      "grid_auto_rows": null,
      "grid_column": null,
      "grid_gap": null,
      "grid_row": null,
      "grid_template_areas": null,
      "grid_template_columns": null,
      "grid_template_rows": null,
      "height": null,
      "justify_content": null,
      "justify_items": null,
      "left": null,
      "margin": null,
      "max_height": null,
      "max_width": null,
      "min_height": null,
      "min_width": null,
      "object_fit": null,
      "object_position": null,
      "order": null,
      "overflow": null,
      "overflow_x": null,
      "overflow_y": null,
      "padding": null,
      "right": null,
      "top": null,
      "visibility": null,
      "width": null
     }
    },
    "2c1757f6d276496696446608578cc93e": {
     "model_module": "@jupyter-widgets/controls",
     "model_module_version": "1.5.0",
     "model_name": "HBoxModel",
     "state": {
      "_dom_classes": [],
      "_model_module": "@jupyter-widgets/controls",
      "_model_module_version": "1.5.0",
      "_model_name": "HBoxModel",
      "_view_count": null,
      "_view_module": "@jupyter-widgets/controls",
      "_view_module_version": "1.5.0",
      "_view_name": "HBoxView",
      "box_style": "",
      "children": [
       "IPY_MODEL_99f2cae8e0ca4aaa887e89345ebc41e2",
       "IPY_MODEL_5ab3707bbc0041998f7134d04524a3b0",
       "IPY_MODEL_cc850c3b160f4128a8e5e9f7ee22dedc"
      ],
      "layout": "IPY_MODEL_d023515abcdd416c9cb438718ce6ca6c"
     }
    },
    "3386db6b16154ed18d9333f6335f591c": {
     "model_module": "@jupyter-widgets/controls",
     "model_module_version": "1.5.0",
     "model_name": "HTMLModel",
     "state": {
      "_dom_classes": [],
      "_model_module": "@jupyter-widgets/controls",
      "_model_module_version": "1.5.0",
      "_model_name": "HTMLModel",
      "_view_count": null,
      "_view_module": "@jupyter-widgets/controls",
      "_view_module_version": "1.5.0",
      "_view_name": "HTMLView",
      "description": "",
      "description_tooltip": null,
      "layout": "IPY_MODEL_4d4177bde7ce46cf9967f9ab0821d496",
      "placeholder": "​",
      "style": "IPY_MODEL_0aa2abbb6f6a4a58a6922f23bc37ba0f",
      "value": " 116/116 [00:00&lt;00:00, 4.03kB/s]"
     }
    },
    "36880c7dffba4909800ca533b712e4f9": {
     "model_module": "@jupyter-widgets/controls",
     "model_module_version": "1.5.0",
     "model_name": "DescriptionStyleModel",
     "state": {
      "_model_module": "@jupyter-widgets/controls",
      "_model_module_version": "1.5.0",
      "_model_name": "DescriptionStyleModel",
      "_view_count": null,
      "_view_module": "@jupyter-widgets/base",
      "_view_module_version": "1.2.0",
      "_view_name": "StyleView",
      "description_width": ""
     }
    },
    "372a49d3c7ad41bbbf91f5a3fb33494e": {
     "model_module": "@jupyter-widgets/base",
     "model_module_version": "1.2.0",
     "model_name": "LayoutModel",
     "state": {
      "_model_module": "@jupyter-widgets/base",
      "_model_module_version": "1.2.0",
      "_model_name": "LayoutModel",
      "_view_count": null,
      "_view_module": "@jupyter-widgets/base",
      "_view_module_version": "1.2.0",
      "_view_name": "LayoutView",
      "align_content": null,
      "align_items": null,
      "align_self": null,
      "border": null,
      "bottom": null,
      "display": null,
      "flex": null,
      "flex_flow": null,
      "grid_area": null,
      "grid_auto_columns": null,
      "grid_auto_flow": null,
      "grid_auto_rows": null,
      "grid_column": null,
      "grid_gap": null,
      "grid_row": null,
      "grid_template_areas": null,
      "grid_template_columns": null,
      "grid_template_rows": null,
      "height": null,
      "justify_content": null,
      "justify_items": null,
      "left": null,
      "margin": null,
      "max_height": null,
      "max_width": null,
      "min_height": null,
      "min_width": null,
      "object_fit": null,
      "object_position": null,
      "order": null,
      "overflow": null,
      "overflow_x": null,
      "overflow_y": null,
      "padding": null,
      "right": null,
      "top": null,
      "visibility": null,
      "width": null
     }
    },
    "37dd366b166c47de904b49f88f6e4d8e": {
     "model_module": "@jupyter-widgets/controls",
     "model_module_version": "1.5.0",
     "model_name": "FloatProgressModel",
     "state": {
      "_dom_classes": [],
      "_model_module": "@jupyter-widgets/controls",
      "_model_module_version": "1.5.0",
      "_model_name": "FloatProgressModel",
      "_view_count": null,
      "_view_module": "@jupyter-widgets/controls",
      "_view_module_version": "1.5.0",
      "_view_name": "ProgressView",
      "bar_style": "success",
      "description": "",
      "description_tooltip": null,
      "layout": "IPY_MODEL_4daace9161c94384bcb728388c8de57a",
      "max": 349,
      "min": 0,
      "orientation": "horizontal",
      "style": "IPY_MODEL_bad03d6466684e97993e84e5605fb0f6",
      "value": 349
     }
    },
    "38fbd0b828a54aad8e03a37f06121c69": {
     "model_module": "@jupyter-widgets/base",
     "model_module_version": "1.2.0",
     "model_name": "LayoutModel",
     "state": {
      "_model_module": "@jupyter-widgets/base",
      "_model_module_version": "1.2.0",
      "_model_name": "LayoutModel",
      "_view_count": null,
      "_view_module": "@jupyter-widgets/base",
      "_view_module_version": "1.2.0",
      "_view_name": "LayoutView",
      "align_content": null,
      "align_items": null,
      "align_self": null,
      "border": null,
      "bottom": null,
      "display": null,
      "flex": null,
      "flex_flow": null,
      "grid_area": null,
      "grid_auto_columns": null,
      "grid_auto_flow": null,
      "grid_auto_rows": null,
      "grid_column": null,
      "grid_gap": null,
      "grid_row": null,
      "grid_template_areas": null,
      "grid_template_columns": null,
      "grid_template_rows": null,
      "height": null,
      "justify_content": null,
      "justify_items": null,
      "left": null,
      "margin": null,
      "max_height": null,
      "max_width": null,
      "min_height": null,
      "min_width": null,
      "object_fit": null,
      "object_position": null,
      "order": null,
      "overflow": null,
      "overflow_x": null,
      "overflow_y": null,
      "padding": null,
      "right": null,
      "top": null,
      "visibility": null,
      "width": null
     }
    },
    "3e8a7642d73142dc971a1110c30112f3": {
     "model_module": "@jupyter-widgets/base",
     "model_module_version": "1.2.0",
     "model_name": "LayoutModel",
     "state": {
      "_model_module": "@jupyter-widgets/base",
      "_model_module_version": "1.2.0",
      "_model_name": "LayoutModel",
      "_view_count": null,
      "_view_module": "@jupyter-widgets/base",
      "_view_module_version": "1.2.0",
      "_view_name": "LayoutView",
      "align_content": null,
      "align_items": null,
      "align_self": null,
      "border": null,
      "bottom": null,
      "display": null,
      "flex": null,
      "flex_flow": null,
      "grid_area": null,
      "grid_auto_columns": null,
      "grid_auto_flow": null,
      "grid_auto_rows": null,
      "grid_column": null,
      "grid_gap": null,
      "grid_row": null,
      "grid_template_areas": null,
      "grid_template_columns": null,
      "grid_template_rows": null,
      "height": null,
      "justify_content": null,
      "justify_items": null,
      "left": null,
      "margin": null,
      "max_height": null,
      "max_width": null,
      "min_height": null,
      "min_width": null,
      "object_fit": null,
      "object_position": null,
      "order": null,
      "overflow": null,
      "overflow_x": null,
      "overflow_y": null,
      "padding": null,
      "right": null,
      "top": null,
      "visibility": null,
      "width": null
     }
    },
    "40a7b26652a2492a9cb4457c7be3e8bd": {
     "model_module": "@jupyter-widgets/controls",
     "model_module_version": "1.5.0",
     "model_name": "HTMLModel",
     "state": {
      "_dom_classes": [],
      "_model_module": "@jupyter-widgets/controls",
      "_model_module_version": "1.5.0",
      "_model_name": "HTMLModel",
      "_view_count": null,
      "_view_module": "@jupyter-widgets/controls",
      "_view_module_version": "1.5.0",
      "_view_name": "HTMLView",
      "description": "",
      "description_tooltip": null,
      "layout": "IPY_MODEL_a183002eca0a450eb0d477435433495a",
      "placeholder": "​",
      "style": "IPY_MODEL_1ed09d81727e43529d793439206ebab1",
      "value": " 232k/232k [00:00&lt;00:00, 2.99MB/s]"
     }
    },
    "4299e5cc698b4f629d3373b05035c390": {
     "model_module": "@jupyter-widgets/controls",
     "model_module_version": "1.5.0",
     "model_name": "FloatProgressModel",
     "state": {
      "_dom_classes": [],
      "_model_module": "@jupyter-widgets/controls",
      "_model_module_version": "1.5.0",
      "_model_name": "FloatProgressModel",
      "_view_count": null,
      "_view_module": "@jupyter-widgets/controls",
      "_view_module_version": "1.5.0",
      "_view_name": "ProgressView",
      "bar_style": "success",
      "description": "",
      "description_tooltip": null,
      "layout": "IPY_MODEL_ce5ba905214c4040b64db1218877ebdc",
      "max": 90888945,
      "min": 0,
      "orientation": "horizontal",
      "style": "IPY_MODEL_034c1379f1ca45ddb7e97765d50e175b",
      "value": 90888945
     }
    },
    "473bf2410ed5481f84d46440bc6d6b40": {
     "model_module": "@jupyter-widgets/base",
     "model_module_version": "1.2.0",
     "model_name": "LayoutModel",
     "state": {
      "_model_module": "@jupyter-widgets/base",
      "_model_module_version": "1.2.0",
      "_model_name": "LayoutModel",
      "_view_count": null,
      "_view_module": "@jupyter-widgets/base",
      "_view_module_version": "1.2.0",
      "_view_name": "LayoutView",
      "align_content": null,
      "align_items": null,
      "align_self": null,
      "border": null,
      "bottom": null,
      "display": null,
      "flex": null,
      "flex_flow": null,
      "grid_area": null,
      "grid_auto_columns": null,
      "grid_auto_flow": null,
      "grid_auto_rows": null,
      "grid_column": null,
      "grid_gap": null,
      "grid_row": null,
      "grid_template_areas": null,
      "grid_template_columns": null,
      "grid_template_rows": null,
      "height": null,
      "justify_content": null,
      "justify_items": null,
      "left": null,
      "margin": null,
      "max_height": null,
      "max_width": null,
      "min_height": null,
      "min_width": null,
      "object_fit": null,
      "object_position": null,
      "order": null,
      "overflow": null,
      "overflow_x": null,
      "overflow_y": null,
      "padding": null,
      "right": null,
      "top": null,
      "visibility": null,
      "width": null
     }
    },
    "490d5e05ec9048f8b276b8ecc40bccee": {
     "model_module": "@jupyter-widgets/controls",
     "model_module_version": "1.5.0",
     "model_name": "HBoxModel",
     "state": {
      "_dom_classes": [],
      "_model_module": "@jupyter-widgets/controls",
      "_model_module_version": "1.5.0",
      "_model_name": "HBoxModel",
      "_view_count": null,
      "_view_module": "@jupyter-widgets/controls",
      "_view_module_version": "1.5.0",
      "_view_name": "HBoxView",
      "box_style": "",
      "children": [
       "IPY_MODEL_29f01a07069146e0a858cda4dd88a416",
       "IPY_MODEL_9687a5bdae1e4ca5acef9f04df1177dc",
       "IPY_MODEL_518739c1e2614dbea2f90f0c3090ccd3"
      ],
      "layout": "IPY_MODEL_fc3fa4566c764a15a865ca88a6c41191"
     }
    },
    "4a2b83c8105a4b81840bc786073041f6": {
     "model_module": "@jupyter-widgets/base",
     "model_module_version": "1.2.0",
     "model_name": "LayoutModel",
     "state": {
      "_model_module": "@jupyter-widgets/base",
      "_model_module_version": "1.2.0",
      "_model_name": "LayoutModel",
      "_view_count": null,
      "_view_module": "@jupyter-widgets/base",
      "_view_module_version": "1.2.0",
      "_view_name": "LayoutView",
      "align_content": null,
      "align_items": null,
      "align_self": null,
      "border": null,
      "bottom": null,
      "display": null,
      "flex": null,
      "flex_flow": null,
      "grid_area": null,
      "grid_auto_columns": null,
      "grid_auto_flow": null,
      "grid_auto_rows": null,
      "grid_column": null,
      "grid_gap": null,
      "grid_row": null,
      "grid_template_areas": null,
      "grid_template_columns": null,
      "grid_template_rows": null,
      "height": null,
      "justify_content": null,
      "justify_items": null,
      "left": null,
      "margin": null,
      "max_height": null,
      "max_width": null,
      "min_height": null,
      "min_width": null,
      "object_fit": null,
      "object_position": null,
      "order": null,
      "overflow": null,
      "overflow_x": null,
      "overflow_y": null,
      "padding": null,
      "right": null,
      "top": null,
      "visibility": null,
      "width": null
     }
    },
    "4cb5a57fed9b494bacec41489987d5ef": {
     "model_module": "@jupyter-widgets/base",
     "model_module_version": "1.2.0",
     "model_name": "LayoutModel",
     "state": {
      "_model_module": "@jupyter-widgets/base",
      "_model_module_version": "1.2.0",
      "_model_name": "LayoutModel",
      "_view_count": null,
      "_view_module": "@jupyter-widgets/base",
      "_view_module_version": "1.2.0",
      "_view_name": "LayoutView",
      "align_content": null,
      "align_items": null,
      "align_self": null,
      "border": null,
      "bottom": null,
      "display": null,
      "flex": null,
      "flex_flow": null,
      "grid_area": null,
      "grid_auto_columns": null,
      "grid_auto_flow": null,
      "grid_auto_rows": null,
      "grid_column": null,
      "grid_gap": null,
      "grid_row": null,
      "grid_template_areas": null,
      "grid_template_columns": null,
      "grid_template_rows": null,
      "height": null,
      "justify_content": null,
      "justify_items": null,
      "left": null,
      "margin": null,
      "max_height": null,
      "max_width": null,
      "min_height": null,
      "min_width": null,
      "object_fit": null,
      "object_position": null,
      "order": null,
      "overflow": null,
      "overflow_x": null,
      "overflow_y": null,
      "padding": null,
      "right": null,
      "top": null,
      "visibility": null,
      "width": null
     }
    },
    "4d4177bde7ce46cf9967f9ab0821d496": {
     "model_module": "@jupyter-widgets/base",
     "model_module_version": "1.2.0",
     "model_name": "LayoutModel",
     "state": {
      "_model_module": "@jupyter-widgets/base",
      "_model_module_version": "1.2.0",
      "_model_name": "LayoutModel",
      "_view_count": null,
      "_view_module": "@jupyter-widgets/base",
      "_view_module_version": "1.2.0",
      "_view_name": "LayoutView",
      "align_content": null,
      "align_items": null,
      "align_self": null,
      "border": null,
      "bottom": null,
      "display": null,
      "flex": null,
      "flex_flow": null,
      "grid_area": null,
      "grid_auto_columns": null,
      "grid_auto_flow": null,
      "grid_auto_rows": null,
      "grid_column": null,
      "grid_gap": null,
      "grid_row": null,
      "grid_template_areas": null,
      "grid_template_columns": null,
      "grid_template_rows": null,
      "height": null,
      "justify_content": null,
      "justify_items": null,
      "left": null,
      "margin": null,
      "max_height": null,
      "max_width": null,
      "min_height": null,
      "min_width": null,
      "object_fit": null,
      "object_position": null,
      "order": null,
      "overflow": null,
      "overflow_x": null,
      "overflow_y": null,
      "padding": null,
      "right": null,
      "top": null,
      "visibility": null,
      "width": null
     }
    },
    "4d60c42feca84300acd4fdc760df637a": {
     "model_module": "@jupyter-widgets/base",
     "model_module_version": "1.2.0",
     "model_name": "LayoutModel",
     "state": {
      "_model_module": "@jupyter-widgets/base",
      "_model_module_version": "1.2.0",
      "_model_name": "LayoutModel",
      "_view_count": null,
      "_view_module": "@jupyter-widgets/base",
      "_view_module_version": "1.2.0",
      "_view_name": "LayoutView",
      "align_content": null,
      "align_items": null,
      "align_self": null,
      "border": null,
      "bottom": null,
      "display": null,
      "flex": null,
      "flex_flow": null,
      "grid_area": null,
      "grid_auto_columns": null,
      "grid_auto_flow": null,
      "grid_auto_rows": null,
      "grid_column": null,
      "grid_gap": null,
      "grid_row": null,
      "grid_template_areas": null,
      "grid_template_columns": null,
      "grid_template_rows": null,
      "height": null,
      "justify_content": null,
      "justify_items": null,
      "left": null,
      "margin": null,
      "max_height": null,
      "max_width": null,
      "min_height": null,
      "min_width": null,
      "object_fit": null,
      "object_position": null,
      "order": null,
      "overflow": null,
      "overflow_x": null,
      "overflow_y": null,
      "padding": null,
      "right": null,
      "top": null,
      "visibility": null,
      "width": null
     }
    },
    "4daace9161c94384bcb728388c8de57a": {
     "model_module": "@jupyter-widgets/base",
     "model_module_version": "1.2.0",
     "model_name": "LayoutModel",
     "state": {
      "_model_module": "@jupyter-widgets/base",
      "_model_module_version": "1.2.0",
      "_model_name": "LayoutModel",
      "_view_count": null,
      "_view_module": "@jupyter-widgets/base",
      "_view_module_version": "1.2.0",
      "_view_name": "LayoutView",
      "align_content": null,
      "align_items": null,
      "align_self": null,
      "border": null,
      "bottom": null,
      "display": null,
      "flex": null,
      "flex_flow": null,
      "grid_area": null,
      "grid_auto_columns": null,
      "grid_auto_flow": null,
      "grid_auto_rows": null,
      "grid_column": null,
      "grid_gap": null,
      "grid_row": null,
      "grid_template_areas": null,
      "grid_template_columns": null,
      "grid_template_rows": null,
      "height": null,
      "justify_content": null,
      "justify_items": null,
      "left": null,
      "margin": null,
      "max_height": null,
      "max_width": null,
      "min_height": null,
      "min_width": null,
      "object_fit": null,
      "object_position": null,
      "order": null,
      "overflow": null,
      "overflow_x": null,
      "overflow_y": null,
      "padding": null,
      "right": null,
      "top": null,
      "visibility": null,
      "width": null
     }
    },
    "50c79f6aaed1410286cc72259e159ee3": {
     "model_module": "@jupyter-widgets/controls",
     "model_module_version": "1.5.0",
     "model_name": "ProgressStyleModel",
     "state": {
      "_model_module": "@jupyter-widgets/controls",
      "_model_module_version": "1.5.0",
      "_model_name": "ProgressStyleModel",
      "_view_count": null,
      "_view_module": "@jupyter-widgets/base",
      "_view_module_version": "1.2.0",
      "_view_name": "StyleView",
      "bar_color": null,
      "description_width": ""
     }
    },
    "518739c1e2614dbea2f90f0c3090ccd3": {
     "model_module": "@jupyter-widgets/controls",
     "model_module_version": "1.5.0",
     "model_name": "HTMLModel",
     "state": {
      "_dom_classes": [],
      "_model_module": "@jupyter-widgets/controls",
      "_model_module_version": "1.5.0",
      "_model_name": "HTMLModel",
      "_view_count": null,
      "_view_module": "@jupyter-widgets/controls",
      "_view_module_version": "1.5.0",
      "_view_name": "HTMLView",
      "description": "",
      "description_tooltip": null,
      "layout": "IPY_MODEL_fc5fc4092ddd4345a22db7f42dcfa536",
      "placeholder": "​",
      "style": "IPY_MODEL_59190915ea1a4dc1bf4dd34e3698012f",
      "value": " 612/612 [00:00&lt;00:00, 20.6kB/s]"
     }
    },
    "53078649f1574dd08538ad7c0905b16d": {
     "model_module": "@jupyter-widgets/controls",
     "model_module_version": "1.5.0",
     "model_name": "HTMLModel",
     "state": {
      "_dom_classes": [],
      "_model_module": "@jupyter-widgets/controls",
      "_model_module_version": "1.5.0",
      "_model_name": "HTMLModel",
      "_view_count": null,
      "_view_module": "@jupyter-widgets/controls",
      "_view_module_version": "1.5.0",
      "_view_name": "HTMLView",
      "description": "",
      "description_tooltip": null,
      "layout": "IPY_MODEL_4cb5a57fed9b494bacec41489987d5ef",
      "placeholder": "​",
      "style": "IPY_MODEL_7e2c68117a6c46628848f911a7d259aa",
      "value": "Downloading: 100%"
     }
    },
    "5653387fc5034607a20773a5c2bc8470": {
     "model_module": "@jupyter-widgets/controls",
     "model_module_version": "1.5.0",
     "model_name": "FloatProgressModel",
     "state": {
      "_dom_classes": [],
      "_model_module": "@jupyter-widgets/controls",
      "_model_module_version": "1.5.0",
      "_model_name": "FloatProgressModel",
      "_view_count": null,
      "_view_module": "@jupyter-widgets/controls",
      "_view_module_version": "1.5.0",
      "_view_name": "ProgressView",
      "bar_style": "success",
      "description": "",
      "description_tooltip": null,
      "layout": "IPY_MODEL_209286a9ca19401f859256e8104b172c",
      "max": 466247,
      "min": 0,
      "orientation": "horizontal",
      "style": "IPY_MODEL_00016a68631849498f9acb980b225093",
      "value": 466247
     }
    },
    "586d3677f0754e9b8420691418e40f04": {
     "model_module": "@jupyter-widgets/controls",
     "model_module_version": "1.5.0",
     "model_name": "DescriptionStyleModel",
     "state": {
      "_model_module": "@jupyter-widgets/controls",
      "_model_module_version": "1.5.0",
      "_model_name": "DescriptionStyleModel",
      "_view_count": null,
      "_view_module": "@jupyter-widgets/base",
      "_view_module_version": "1.2.0",
      "_view_name": "StyleView",
      "description_width": ""
     }
    },
    "59190915ea1a4dc1bf4dd34e3698012f": {
     "model_module": "@jupyter-widgets/controls",
     "model_module_version": "1.5.0",
     "model_name": "DescriptionStyleModel",
     "state": {
      "_model_module": "@jupyter-widgets/controls",
      "_model_module_version": "1.5.0",
      "_model_name": "DescriptionStyleModel",
      "_view_count": null,
      "_view_module": "@jupyter-widgets/base",
      "_view_module_version": "1.2.0",
      "_view_name": "StyleView",
      "description_width": ""
     }
    },
    "59221f85df194182903560ee4024d74d": {
     "model_module": "@jupyter-widgets/controls",
     "model_module_version": "1.5.0",
     "model_name": "HTMLModel",
     "state": {
      "_dom_classes": [],
      "_model_module": "@jupyter-widgets/controls",
      "_model_module_version": "1.5.0",
      "_model_name": "HTMLModel",
      "_view_count": null,
      "_view_module": "@jupyter-widgets/controls",
      "_view_module_version": "1.5.0",
      "_view_name": "HTMLView",
      "description": "",
      "description_tooltip": null,
      "layout": "IPY_MODEL_af554e7599c34a44aa8458280e819b50",
      "placeholder": "​",
      "style": "IPY_MODEL_a0caa97acfef47b3aa2fc888acebfe0e",
      "value": " 39.3k/39.3k [00:00&lt;00:00, 1.24MB/s]"
     }
    },
    "5ab3707bbc0041998f7134d04524a3b0": {
     "model_module": "@jupyter-widgets/controls",
     "model_module_version": "1.5.0",
     "model_name": "FloatProgressModel",
     "state": {
      "_dom_classes": [],
      "_model_module": "@jupyter-widgets/controls",
      "_model_module_version": "1.5.0",
      "_model_name": "FloatProgressModel",
      "_view_count": null,
      "_view_module": "@jupyter-widgets/controls",
      "_view_module_version": "1.5.0",
      "_view_name": "ProgressView",
      "bar_style": "success",
      "description": "",
      "description_tooltip": null,
      "layout": "IPY_MODEL_d1b8cf7dd7bb4a2897ac2c5fbc100493",
      "max": 112,
      "min": 0,
      "orientation": "horizontal",
      "style": "IPY_MODEL_bed4ecb34ba74060831965b69a8b07a9",
      "value": 112
     }
    },
    "5be3911f3eb54a428eaf3ddd7c8375b7": {
     "model_module": "@jupyter-widgets/controls",
     "model_module_version": "1.5.0",
     "model_name": "HTMLModel",
     "state": {
      "_dom_classes": [],
      "_model_module": "@jupyter-widgets/controls",
      "_model_module_version": "1.5.0",
      "_model_name": "HTMLModel",
      "_view_count": null,
      "_view_module": "@jupyter-widgets/controls",
      "_view_module_version": "1.5.0",
      "_view_name": "HTMLView",
      "description": "",
      "description_tooltip": null,
      "layout": "IPY_MODEL_b31cf622aed04aeea39f8cb0ecd8d6a2",
      "placeholder": "​",
      "style": "IPY_MODEL_fe91ce9085f9420f8464117f469da4e2",
      "value": "Downloading: 100%"
     }
    },
    "62efd31af9514cc09c030ffae3b4b102": {
     "model_module": "@jupyter-widgets/controls",
     "model_module_version": "1.5.0",
     "model_name": "HTMLModel",
     "state": {
      "_dom_classes": [],
      "_model_module": "@jupyter-widgets/controls",
      "_model_module_version": "1.5.0",
      "_model_name": "HTMLModel",
      "_view_count": null,
      "_view_module": "@jupyter-widgets/controls",
      "_view_module_version": "1.5.0",
      "_view_name": "HTMLView",
      "description": "",
      "description_tooltip": null,
      "layout": "IPY_MODEL_996330a6d99e4a59b16d8cf733ebf7d6",
      "placeholder": "​",
      "style": "IPY_MODEL_b4db306c9c90428b83f75f4276f251ae",
      "value": " 190/190 [00:00&lt;00:00, 6.74kB/s]"
     }
    },
    "637c87d353fb4bfe86ba5f67c0a1138a": {
     "model_module": "@jupyter-widgets/controls",
     "model_module_version": "1.5.0",
     "model_name": "FloatProgressModel",
     "state": {
      "_dom_classes": [],
      "_model_module": "@jupyter-widgets/controls",
      "_model_module_version": "1.5.0",
      "_model_name": "FloatProgressModel",
      "_view_count": null,
      "_view_module": "@jupyter-widgets/controls",
      "_view_module_version": "1.5.0",
      "_view_name": "ProgressView",
      "bar_style": "success",
      "description": "",
      "description_tooltip": null,
      "layout": "IPY_MODEL_64ea861ebce64d8c9ce308e2b896d79d",
      "max": 190,
      "min": 0,
      "orientation": "horizontal",
      "style": "IPY_MODEL_bfbfd375465347e08d49a36db8296de3",
      "value": 190
     }
    },
    "64b90473a6b84a76935e67f19631979e": {
     "model_module": "@jupyter-widgets/base",
     "model_module_version": "1.2.0",
     "model_name": "LayoutModel",
     "state": {
      "_model_module": "@jupyter-widgets/base",
      "_model_module_version": "1.2.0",
      "_model_name": "LayoutModel",
      "_view_count": null,
      "_view_module": "@jupyter-widgets/base",
      "_view_module_version": "1.2.0",
      "_view_name": "LayoutView",
      "align_content": null,
      "align_items": null,
      "align_self": null,
      "border": null,
      "bottom": null,
      "display": null,
      "flex": null,
      "flex_flow": null,
      "grid_area": null,
      "grid_auto_columns": null,
      "grid_auto_flow": null,
      "grid_auto_rows": null,
      "grid_column": null,
      "grid_gap": null,
      "grid_row": null,
      "grid_template_areas": null,
      "grid_template_columns": null,
      "grid_template_rows": null,
      "height": null,
      "justify_content": null,
      "justify_items": null,
      "left": null,
      "margin": null,
      "max_height": null,
      "max_width": null,
      "min_height": null,
      "min_width": null,
      "object_fit": null,
      "object_position": null,
      "order": null,
      "overflow": null,
      "overflow_x": null,
      "overflow_y": null,
      "padding": null,
      "right": null,
      "top": null,
      "visibility": null,
      "width": null
     }
    },
    "64ea861ebce64d8c9ce308e2b896d79d": {
     "model_module": "@jupyter-widgets/base",
     "model_module_version": "1.2.0",
     "model_name": "LayoutModel",
     "state": {
      "_model_module": "@jupyter-widgets/base",
      "_model_module_version": "1.2.0",
      "_model_name": "LayoutModel",
      "_view_count": null,
      "_view_module": "@jupyter-widgets/base",
      "_view_module_version": "1.2.0",
      "_view_name": "LayoutView",
      "align_content": null,
      "align_items": null,
      "align_self": null,
      "border": null,
      "bottom": null,
      "display": null,
      "flex": null,
      "flex_flow": null,
      "grid_area": null,
      "grid_auto_columns": null,
      "grid_auto_flow": null,
      "grid_auto_rows": null,
      "grid_column": null,
      "grid_gap": null,
      "grid_row": null,
      "grid_template_areas": null,
      "grid_template_columns": null,
      "grid_template_rows": null,
      "height": null,
      "justify_content": null,
      "justify_items": null,
      "left": null,
      "margin": null,
      "max_height": null,
      "max_width": null,
      "min_height": null,
      "min_width": null,
      "object_fit": null,
      "object_position": null,
      "order": null,
      "overflow": null,
      "overflow_x": null,
      "overflow_y": null,
      "padding": null,
      "right": null,
      "top": null,
      "visibility": null,
      "width": null
     }
    },
    "6942bf18ca0444958cfedc2eb1c20562": {
     "model_module": "@jupyter-widgets/base",
     "model_module_version": "1.2.0",
     "model_name": "LayoutModel",
     "state": {
      "_model_module": "@jupyter-widgets/base",
      "_model_module_version": "1.2.0",
      "_model_name": "LayoutModel",
      "_view_count": null,
      "_view_module": "@jupyter-widgets/base",
      "_view_module_version": "1.2.0",
      "_view_name": "LayoutView",
      "align_content": null,
      "align_items": null,
      "align_self": null,
      "border": null,
      "bottom": null,
      "display": null,
      "flex": null,
      "flex_flow": null,
      "grid_area": null,
      "grid_auto_columns": null,
      "grid_auto_flow": null,
      "grid_auto_rows": null,
      "grid_column": null,
      "grid_gap": null,
      "grid_row": null,
      "grid_template_areas": null,
      "grid_template_columns": null,
      "grid_template_rows": null,
      "height": null,
      "justify_content": null,
      "justify_items": null,
      "left": null,
      "margin": null,
      "max_height": null,
      "max_width": null,
      "min_height": null,
      "min_width": null,
      "object_fit": null,
      "object_position": null,
      "order": null,
      "overflow": null,
      "overflow_x": null,
      "overflow_y": null,
      "padding": null,
      "right": null,
      "top": null,
      "visibility": null,
      "width": null
     }
    },
    "6eb3686660a544ef911362ef660c9564": {
     "model_module": "@jupyter-widgets/base",
     "model_module_version": "1.2.0",
     "model_name": "LayoutModel",
     "state": {
      "_model_module": "@jupyter-widgets/base",
      "_model_module_version": "1.2.0",
      "_model_name": "LayoutModel",
      "_view_count": null,
      "_view_module": "@jupyter-widgets/base",
      "_view_module_version": "1.2.0",
      "_view_name": "LayoutView",
      "align_content": null,
      "align_items": null,
      "align_self": null,
      "border": null,
      "bottom": null,
      "display": null,
      "flex": null,
      "flex_flow": null,
      "grid_area": null,
      "grid_auto_columns": null,
      "grid_auto_flow": null,
      "grid_auto_rows": null,
      "grid_column": null,
      "grid_gap": null,
      "grid_row": null,
      "grid_template_areas": null,
      "grid_template_columns": null,
      "grid_template_rows": null,
      "height": null,
      "justify_content": null,
      "justify_items": null,
      "left": null,
      "margin": null,
      "max_height": null,
      "max_width": null,
      "min_height": null,
      "min_width": null,
      "object_fit": null,
      "object_position": null,
      "order": null,
      "overflow": null,
      "overflow_x": null,
      "overflow_y": null,
      "padding": null,
      "right": null,
      "top": null,
      "visibility": null,
      "width": null
     }
    },
    "721128e3f9cf442fba8526709e7c8466": {
     "model_module": "@jupyter-widgets/controls",
     "model_module_version": "1.5.0",
     "model_name": "FloatProgressModel",
     "state": {
      "_dom_classes": [],
      "_model_module": "@jupyter-widgets/controls",
      "_model_module_version": "1.5.0",
      "_model_name": "FloatProgressModel",
      "_view_count": null,
      "_view_module": "@jupyter-widgets/controls",
      "_view_module_version": "1.5.0",
      "_view_name": "ProgressView",
      "bar_style": "success",
      "description": "",
      "description_tooltip": null,
      "layout": "IPY_MODEL_c2258698eea54577912599e40a787e89",
      "max": 13156,
      "min": 0,
      "orientation": "horizontal",
      "style": "IPY_MODEL_75803c306356419da8715ce72855324f",
      "value": 13156
     }
    },
    "733f56fd0c164c1bb8a7623b85119a7f": {
     "model_module": "@jupyter-widgets/base",
     "model_module_version": "1.2.0",
     "model_name": "LayoutModel",
     "state": {
      "_model_module": "@jupyter-widgets/base",
      "_model_module_version": "1.2.0",
      "_model_name": "LayoutModel",
      "_view_count": null,
      "_view_module": "@jupyter-widgets/base",
      "_view_module_version": "1.2.0",
      "_view_name": "LayoutView",
      "align_content": null,
      "align_items": null,
      "align_self": null,
      "border": null,
      "bottom": null,
      "display": null,
      "flex": null,
      "flex_flow": null,
      "grid_area": null,
      "grid_auto_columns": null,
      "grid_auto_flow": null,
      "grid_auto_rows": null,
      "grid_column": null,
      "grid_gap": null,
      "grid_row": null,
      "grid_template_areas": null,
      "grid_template_columns": null,
      "grid_template_rows": null,
      "height": null,
      "justify_content": null,
      "justify_items": null,
      "left": null,
      "margin": null,
      "max_height": null,
      "max_width": null,
      "min_height": null,
      "min_width": null,
      "object_fit": null,
      "object_position": null,
      "order": null,
      "overflow": null,
      "overflow_x": null,
      "overflow_y": null,
      "padding": null,
      "right": null,
      "top": null,
      "visibility": null,
      "width": null
     }
    },
    "75803c306356419da8715ce72855324f": {
     "model_module": "@jupyter-widgets/controls",
     "model_module_version": "1.5.0",
     "model_name": "ProgressStyleModel",
     "state": {
      "_model_module": "@jupyter-widgets/controls",
      "_model_module_version": "1.5.0",
      "_model_name": "ProgressStyleModel",
      "_view_count": null,
      "_view_module": "@jupyter-widgets/base",
      "_view_module_version": "1.2.0",
      "_view_name": "StyleView",
      "bar_color": null,
      "description_width": ""
     }
    },
    "7767b41f665c4107b85671062e2df5c4": {
     "model_module": "@jupyter-widgets/base",
     "model_module_version": "1.2.0",
     "model_name": "LayoutModel",
     "state": {
      "_model_module": "@jupyter-widgets/base",
      "_model_module_version": "1.2.0",
      "_model_name": "LayoutModel",
      "_view_count": null,
      "_view_module": "@jupyter-widgets/base",
      "_view_module_version": "1.2.0",
      "_view_name": "LayoutView",
      "align_content": null,
      "align_items": null,
      "align_self": null,
      "border": null,
      "bottom": null,
      "display": null,
      "flex": null,
      "flex_flow": null,
      "grid_area": null,
      "grid_auto_columns": null,
      "grid_auto_flow": null,
      "grid_auto_rows": null,
      "grid_column": null,
      "grid_gap": null,
      "grid_row": null,
      "grid_template_areas": null,
      "grid_template_columns": null,
      "grid_template_rows": null,
      "height": null,
      "justify_content": null,
      "justify_items": null,
      "left": null,
      "margin": null,
      "max_height": null,
      "max_width": null,
      "min_height": null,
      "min_width": null,
      "object_fit": null,
      "object_position": null,
      "order": null,
      "overflow": null,
      "overflow_x": null,
      "overflow_y": null,
      "padding": null,
      "right": null,
      "top": null,
      "visibility": null,
      "width": null
     }
    },
    "788ae4c45bdc4bd8a11aaf3f1e1d04b5": {
     "model_module": "@jupyter-widgets/base",
     "model_module_version": "1.2.0",
     "model_name": "LayoutModel",
     "state": {
      "_model_module": "@jupyter-widgets/base",
      "_model_module_version": "1.2.0",
      "_model_name": "LayoutModel",
      "_view_count": null,
      "_view_module": "@jupyter-widgets/base",
      "_view_module_version": "1.2.0",
      "_view_name": "LayoutView",
      "align_content": null,
      "align_items": null,
      "align_self": null,
      "border": null,
      "bottom": null,
      "display": null,
      "flex": null,
      "flex_flow": null,
      "grid_area": null,
      "grid_auto_columns": null,
      "grid_auto_flow": null,
      "grid_auto_rows": null,
      "grid_column": null,
      "grid_gap": null,
      "grid_row": null,
      "grid_template_areas": null,
      "grid_template_columns": null,
      "grid_template_rows": null,
      "height": null,
      "justify_content": null,
      "justify_items": null,
      "left": null,
      "margin": null,
      "max_height": null,
      "max_width": null,
      "min_height": null,
      "min_width": null,
      "object_fit": null,
      "object_position": null,
      "order": null,
      "overflow": null,
      "overflow_x": null,
      "overflow_y": null,
      "padding": null,
      "right": null,
      "top": null,
      "visibility": null,
      "width": null
     }
    },
    "7c9f8e4c886e4a3cb4bf3449dc2e929a": {
     "model_module": "@jupyter-widgets/controls",
     "model_module_version": "1.5.0",
     "model_name": "HBoxModel",
     "state": {
      "_dom_classes": [],
      "_model_module": "@jupyter-widgets/controls",
      "_model_module_version": "1.5.0",
      "_model_name": "HBoxModel",
      "_view_count": null,
      "_view_module": "@jupyter-widgets/controls",
      "_view_module_version": "1.5.0",
      "_view_name": "HBoxView",
      "box_style": "",
      "children": [
       "IPY_MODEL_adb10ac3dff6437080820b40355c82ab",
       "IPY_MODEL_4299e5cc698b4f629d3373b05035c390",
       "IPY_MODEL_ad950623d8444d4387492707b5a575f7"
      ],
      "layout": "IPY_MODEL_372a49d3c7ad41bbbf91f5a3fb33494e"
     }
    },
    "7d09cd2cd58c414b867703f16f603e49": {
     "model_module": "@jupyter-widgets/base",
     "model_module_version": "1.2.0",
     "model_name": "LayoutModel",
     "state": {
      "_model_module": "@jupyter-widgets/base",
      "_model_module_version": "1.2.0",
      "_model_name": "LayoutModel",
      "_view_count": null,
      "_view_module": "@jupyter-widgets/base",
      "_view_module_version": "1.2.0",
      "_view_name": "LayoutView",
      "align_content": null,
      "align_items": null,
      "align_self": null,
      "border": null,
      "bottom": null,
      "display": null,
      "flex": null,
      "flex_flow": null,
      "grid_area": null,
      "grid_auto_columns": null,
      "grid_auto_flow": null,
      "grid_auto_rows": null,
      "grid_column": null,
      "grid_gap": null,
      "grid_row": null,
      "grid_template_areas": null,
      "grid_template_columns": null,
      "grid_template_rows": null,
      "height": null,
      "justify_content": null,
      "justify_items": null,
      "left": null,
      "margin": null,
      "max_height": null,
      "max_width": null,
      "min_height": null,
      "min_width": null,
      "object_fit": null,
      "object_position": null,
      "order": null,
      "overflow": null,
      "overflow_x": null,
      "overflow_y": null,
      "padding": null,
      "right": null,
      "top": null,
      "visibility": null,
      "width": null
     }
    },
    "7d5b9ac2fae64e31b2048eaaba24de8a": {
     "model_module": "@jupyter-widgets/controls",
     "model_module_version": "1.5.0",
     "model_name": "HTMLModel",
     "state": {
      "_dom_classes": [],
      "_model_module": "@jupyter-widgets/controls",
      "_model_module_version": "1.5.0",
      "_model_name": "HTMLModel",
      "_view_count": null,
      "_view_module": "@jupyter-widgets/controls",
      "_view_module_version": "1.5.0",
      "_view_name": "HTMLView",
      "description": "",
      "description_tooltip": null,
      "layout": "IPY_MODEL_062acd8166644460bb3d2123d8dc1869",
      "placeholder": "​",
      "style": "IPY_MODEL_2392e8e923a5422d8fd3695986b79155",
      "value": " 350/350 [00:00&lt;00:00, 12.1kB/s]"
     }
    },
    "7dd0dd93ee6b4253aa8eea6728d2115b": {
     "model_module": "@jupyter-widgets/controls",
     "model_module_version": "1.5.0",
     "model_name": "HBoxModel",
     "state": {
      "_dom_classes": [],
      "_model_module": "@jupyter-widgets/controls",
      "_model_module_version": "1.5.0",
      "_model_name": "HBoxModel",
      "_view_count": null,
      "_view_module": "@jupyter-widgets/controls",
      "_view_module_version": "1.5.0",
      "_view_name": "HBoxView",
      "box_style": "",
      "children": [
       "IPY_MODEL_f2132acbb2c14db5a2cdb2ec9f6572cf",
       "IPY_MODEL_a8dce392afa1483eb58ffacee5137ef2",
       "IPY_MODEL_40a7b26652a2492a9cb4457c7be3e8bd"
      ],
      "layout": "IPY_MODEL_4d60c42feca84300acd4fdc760df637a"
     }
    },
    "7e2c68117a6c46628848f911a7d259aa": {
     "model_module": "@jupyter-widgets/controls",
     "model_module_version": "1.5.0",
     "model_name": "DescriptionStyleModel",
     "state": {
      "_model_module": "@jupyter-widgets/controls",
      "_model_module_version": "1.5.0",
      "_model_name": "DescriptionStyleModel",
      "_view_count": null,
      "_view_module": "@jupyter-widgets/base",
      "_view_module_version": "1.2.0",
      "_view_name": "StyleView",
      "description_width": ""
     }
    },
    "80340d4b52ba47b6857b954ed7df57ef": {
     "model_module": "@jupyter-widgets/base",
     "model_module_version": "1.2.0",
     "model_name": "LayoutModel",
     "state": {
      "_model_module": "@jupyter-widgets/base",
      "_model_module_version": "1.2.0",
      "_model_name": "LayoutModel",
      "_view_count": null,
      "_view_module": "@jupyter-widgets/base",
      "_view_module_version": "1.2.0",
      "_view_name": "LayoutView",
      "align_content": null,
      "align_items": null,
      "align_self": null,
      "border": null,
      "bottom": null,
      "display": null,
      "flex": null,
      "flex_flow": null,
      "grid_area": null,
      "grid_auto_columns": null,
      "grid_auto_flow": null,
      "grid_auto_rows": null,
      "grid_column": null,
      "grid_gap": null,
      "grid_row": null,
      "grid_template_areas": null,
      "grid_template_columns": null,
      "grid_template_rows": null,
      "height": null,
      "justify_content": null,
      "justify_items": null,
      "left": null,
      "margin": null,
      "max_height": null,
      "max_width": null,
      "min_height": null,
      "min_width": null,
      "object_fit": null,
      "object_position": null,
      "order": null,
      "overflow": null,
      "overflow_x": null,
      "overflow_y": null,
      "padding": null,
      "right": null,
      "top": null,
      "visibility": null,
      "width": null
     }
    },
    "80469b04c16f477193e90865f8b74f9f": {
     "model_module": "@jupyter-widgets/controls",
     "model_module_version": "1.5.0",
     "model_name": "DescriptionStyleModel",
     "state": {
      "_model_module": "@jupyter-widgets/controls",
      "_model_module_version": "1.5.0",
      "_model_name": "DescriptionStyleModel",
      "_view_count": null,
      "_view_module": "@jupyter-widgets/base",
      "_view_module_version": "1.2.0",
      "_view_name": "StyleView",
      "description_width": ""
     }
    },
    "81020f23684d47af8d09e93102554995": {
     "model_module": "@jupyter-widgets/controls",
     "model_module_version": "1.5.0",
     "model_name": "HTMLModel",
     "state": {
      "_dom_classes": [],
      "_model_module": "@jupyter-widgets/controls",
      "_model_module_version": "1.5.0",
      "_model_name": "HTMLModel",
      "_view_count": null,
      "_view_module": "@jupyter-widgets/controls",
      "_view_module_version": "1.5.0",
      "_view_name": "HTMLView",
      "description": "",
      "description_tooltip": null,
      "layout": "IPY_MODEL_8da3885f2c65444a88d4ccc2f1d0c236",
      "placeholder": "​",
      "style": "IPY_MODEL_36880c7dffba4909800ca533b712e4f9",
      "value": "Downloading: 100%"
     }
    },
    "831399f9d4a2412aad2a064b0e602542": {
     "model_module": "@jupyter-widgets/controls",
     "model_module_version": "1.5.0",
     "model_name": "HTMLModel",
     "state": {
      "_dom_classes": [],
      "_model_module": "@jupyter-widgets/controls",
      "_model_module_version": "1.5.0",
      "_model_name": "HTMLModel",
      "_view_count": null,
      "_view_module": "@jupyter-widgets/controls",
      "_view_module_version": "1.5.0",
      "_view_name": "HTMLView",
      "description": "",
      "description_tooltip": null,
      "layout": "IPY_MODEL_7d09cd2cd58c414b867703f16f603e49",
      "placeholder": "​",
      "style": "IPY_MODEL_9a914527b65f441f83ef4c230d2bf66c",
      "value": " 349/349 [00:00&lt;00:00, 13.1kB/s]"
     }
    },
    "85e1200f74574203a0beff16c4edaabc": {
     "model_module": "@jupyter-widgets/base",
     "model_module_version": "1.2.0",
     "model_name": "LayoutModel",
     "state": {
      "_model_module": "@jupyter-widgets/base",
      "_model_module_version": "1.2.0",
      "_model_name": "LayoutModel",
      "_view_count": null,
      "_view_module": "@jupyter-widgets/base",
      "_view_module_version": "1.2.0",
      "_view_name": "LayoutView",
      "align_content": null,
      "align_items": null,
      "align_self": null,
      "border": null,
      "bottom": null,
      "display": null,
      "flex": null,
      "flex_flow": null,
      "grid_area": null,
      "grid_auto_columns": null,
      "grid_auto_flow": null,
      "grid_auto_rows": null,
      "grid_column": null,
      "grid_gap": null,
      "grid_row": null,
      "grid_template_areas": null,
      "grid_template_columns": null,
      "grid_template_rows": null,
      "height": null,
      "justify_content": null,
      "justify_items": null,
      "left": null,
      "margin": null,
      "max_height": null,
      "max_width": null,
      "min_height": null,
      "min_width": null,
      "object_fit": null,
      "object_position": null,
      "order": null,
      "overflow": null,
      "overflow_x": null,
      "overflow_y": null,
      "padding": null,
      "right": null,
      "top": null,
      "visibility": null,
      "width": null
     }
    },
    "86ef3cd68ca74108ae1f97e0c41096dc": {
     "model_module": "@jupyter-widgets/controls",
     "model_module_version": "1.5.0",
     "model_name": "HTMLModel",
     "state": {
      "_dom_classes": [],
      "_model_module": "@jupyter-widgets/controls",
      "_model_module_version": "1.5.0",
      "_model_name": "HTMLModel",
      "_view_count": null,
      "_view_module": "@jupyter-widgets/controls",
      "_view_module_version": "1.5.0",
      "_view_name": "HTMLView",
      "description": "",
      "description_tooltip": null,
      "layout": "IPY_MODEL_64b90473a6b84a76935e67f19631979e",
      "placeholder": "​",
      "style": "IPY_MODEL_e5c72c33209a4e23b54a8927cb39c1a6",
      "value": "Downloading: 100%"
     }
    },
    "86f3c150536a47d2b3d7d2e0f8ec6071": {
     "model_module": "@jupyter-widgets/controls",
     "model_module_version": "1.5.0",
     "model_name": "DescriptionStyleModel",
     "state": {
      "_model_module": "@jupyter-widgets/controls",
      "_model_module_version": "1.5.0",
      "_model_name": "DescriptionStyleModel",
      "_view_count": null,
      "_view_module": "@jupyter-widgets/base",
      "_view_module_version": "1.2.0",
      "_view_name": "StyleView",
      "description_width": ""
     }
    },
    "87b3621d421f41ed9f4881895e0936f4": {
     "model_module": "@jupyter-widgets/base",
     "model_module_version": "1.2.0",
     "model_name": "LayoutModel",
     "state": {
      "_model_module": "@jupyter-widgets/base",
      "_model_module_version": "1.2.0",
      "_model_name": "LayoutModel",
      "_view_count": null,
      "_view_module": "@jupyter-widgets/base",
      "_view_module_version": "1.2.0",
      "_view_name": "LayoutView",
      "align_content": null,
      "align_items": null,
      "align_self": null,
      "border": null,
      "bottom": null,
      "display": null,
      "flex": null,
      "flex_flow": null,
      "grid_area": null,
      "grid_auto_columns": null,
      "grid_auto_flow": null,
      "grid_auto_rows": null,
      "grid_column": null,
      "grid_gap": null,
      "grid_row": null,
      "grid_template_areas": null,
      "grid_template_columns": null,
      "grid_template_rows": null,
      "height": null,
      "justify_content": null,
      "justify_items": null,
      "left": null,
      "margin": null,
      "max_height": null,
      "max_width": null,
      "min_height": null,
      "min_width": null,
      "object_fit": null,
      "object_position": null,
      "order": null,
      "overflow": null,
      "overflow_x": null,
      "overflow_y": null,
      "padding": null,
      "right": null,
      "top": null,
      "visibility": null,
      "width": null
     }
    },
    "89c7435da38144f7866bddd0e0db94a1": {
     "model_module": "@jupyter-widgets/controls",
     "model_module_version": "1.5.0",
     "model_name": "HTMLModel",
     "state": {
      "_dom_classes": [],
      "_model_module": "@jupyter-widgets/controls",
      "_model_module_version": "1.5.0",
      "_model_name": "HTMLModel",
      "_view_count": null,
      "_view_module": "@jupyter-widgets/controls",
      "_view_module_version": "1.5.0",
      "_view_name": "HTMLView",
      "description": "",
      "description_tooltip": null,
      "layout": "IPY_MODEL_a57fc66bfac041b4a6abe4d7cccd18ba",
      "placeholder": "​",
      "style": "IPY_MODEL_ea5f353c259443ddaf33d787e8530539",
      "value": "Downloading: 100%"
     }
    },
    "8a59aa2e3193427ab577b1d7b2cd05f2": {
     "model_module": "@jupyter-widgets/controls",
     "model_module_version": "1.5.0",
     "model_name": "FloatProgressModel",
     "state": {
      "_dom_classes": [],
      "_model_module": "@jupyter-widgets/controls",
      "_model_module_version": "1.5.0",
      "_model_name": "FloatProgressModel",
      "_view_count": null,
      "_view_module": "@jupyter-widgets/controls",
      "_view_module_version": "1.5.0",
      "_view_name": "ProgressView",
      "bar_style": "success",
      "description": "",
      "description_tooltip": null,
      "layout": "IPY_MODEL_f6d0cf46b1694df3856557108466e522",
      "max": 39265,
      "min": 0,
      "orientation": "horizontal",
      "style": "IPY_MODEL_110eacaab4514d2db8bab91ffd6a804b",
      "value": 39265
     }
    },
    "8cd66f46cc5e4aadbcefc6b66e1da827": {
     "model_module": "@jupyter-widgets/controls",
     "model_module_version": "1.5.0",
     "model_name": "DescriptionStyleModel",
     "state": {
      "_model_module": "@jupyter-widgets/controls",
      "_model_module_version": "1.5.0",
      "_model_name": "DescriptionStyleModel",
      "_view_count": null,
      "_view_module": "@jupyter-widgets/base",
      "_view_module_version": "1.2.0",
      "_view_name": "StyleView",
      "description_width": ""
     }
    },
    "8da3885f2c65444a88d4ccc2f1d0c236": {
     "model_module": "@jupyter-widgets/base",
     "model_module_version": "1.2.0",
     "model_name": "LayoutModel",
     "state": {
      "_model_module": "@jupyter-widgets/base",
      "_model_module_version": "1.2.0",
      "_model_name": "LayoutModel",
      "_view_count": null,
      "_view_module": "@jupyter-widgets/base",
      "_view_module_version": "1.2.0",
      "_view_name": "LayoutView",
      "align_content": null,
      "align_items": null,
      "align_self": null,
      "border": null,
      "bottom": null,
      "display": null,
      "flex": null,
      "flex_flow": null,
      "grid_area": null,
      "grid_auto_columns": null,
      "grid_auto_flow": null,
      "grid_auto_rows": null,
      "grid_column": null,
      "grid_gap": null,
      "grid_row": null,
      "grid_template_areas": null,
      "grid_template_columns": null,
      "grid_template_rows": null,
      "height": null,
      "justify_content": null,
      "justify_items": null,
      "left": null,
      "margin": null,
      "max_height": null,
      "max_width": null,
      "min_height": null,
      "min_width": null,
      "object_fit": null,
      "object_position": null,
      "order": null,
      "overflow": null,
      "overflow_x": null,
      "overflow_y": null,
      "padding": null,
      "right": null,
      "top": null,
      "visibility": null,
      "width": null
     }
    },
    "8ee2db40d81648838dd224c2f2386a07": {
     "model_module": "@jupyter-widgets/controls",
     "model_module_version": "1.5.0",
     "model_name": "FloatProgressModel",
     "state": {
      "_dom_classes": [],
      "_model_module": "@jupyter-widgets/controls",
      "_model_module_version": "1.5.0",
      "_model_name": "FloatProgressModel",
      "_view_count": null,
      "_view_module": "@jupyter-widgets/controls",
      "_view_module_version": "1.5.0",
      "_view_name": "ProgressView",
      "bar_style": "success",
      "description": "",
      "description_tooltip": null,
      "layout": "IPY_MODEL_4a2b83c8105a4b81840bc786073041f6",
      "max": 1175,
      "min": 0,
      "orientation": "horizontal",
      "style": "IPY_MODEL_50c79f6aaed1410286cc72259e159ee3",
      "value": 1175
     }
    },
    "9687a5bdae1e4ca5acef9f04df1177dc": {
     "model_module": "@jupyter-widgets/controls",
     "model_module_version": "1.5.0",
     "model_name": "FloatProgressModel",
     "state": {
      "_dom_classes": [],
      "_model_module": "@jupyter-widgets/controls",
      "_model_module_version": "1.5.0",
      "_model_name": "FloatProgressModel",
      "_view_count": null,
      "_view_module": "@jupyter-widgets/controls",
      "_view_module_version": "1.5.0",
      "_view_name": "ProgressView",
      "bar_style": "success",
      "description": "",
      "description_tooltip": null,
      "layout": "IPY_MODEL_c69281f4a3614ee28dd08df3428af390",
      "max": 612,
      "min": 0,
      "orientation": "horizontal",
      "style": "IPY_MODEL_106a18a2d2484613ba2ecabc0502d5e7",
      "value": 612
     }
    },
    "97b5a7d0c5c44bf488da5782785ef6d9": {
     "model_module": "@jupyter-widgets/base",
     "model_module_version": "1.2.0",
     "model_name": "LayoutModel",
     "state": {
      "_model_module": "@jupyter-widgets/base",
      "_model_module_version": "1.2.0",
      "_model_name": "LayoutModel",
      "_view_count": null,
      "_view_module": "@jupyter-widgets/base",
      "_view_module_version": "1.2.0",
      "_view_name": "LayoutView",
      "align_content": null,
      "align_items": null,
      "align_self": null,
      "border": null,
      "bottom": null,
      "display": null,
      "flex": null,
      "flex_flow": null,
      "grid_area": null,
      "grid_auto_columns": null,
      "grid_auto_flow": null,
      "grid_auto_rows": null,
      "grid_column": null,
      "grid_gap": null,
      "grid_row": null,
      "grid_template_areas": null,
      "grid_template_columns": null,
      "grid_template_rows": null,
      "height": null,
      "justify_content": null,
      "justify_items": null,
      "left": null,
      "margin": null,
      "max_height": null,
      "max_width": null,
      "min_height": null,
      "min_width": null,
      "object_fit": null,
      "object_position": null,
      "order": null,
      "overflow": null,
      "overflow_x": null,
      "overflow_y": null,
      "padding": null,
      "right": null,
      "top": null,
      "visibility": null,
      "width": null
     }
    },
    "996330a6d99e4a59b16d8cf733ebf7d6": {
     "model_module": "@jupyter-widgets/base",
     "model_module_version": "1.2.0",
     "model_name": "LayoutModel",
     "state": {
      "_model_module": "@jupyter-widgets/base",
      "_model_module_version": "1.2.0",
      "_model_name": "LayoutModel",
      "_view_count": null,
      "_view_module": "@jupyter-widgets/base",
      "_view_module_version": "1.2.0",
      "_view_name": "LayoutView",
      "align_content": null,
      "align_items": null,
      "align_self": null,
      "border": null,
      "bottom": null,
      "display": null,
      "flex": null,
      "flex_flow": null,
      "grid_area": null,
      "grid_auto_columns": null,
      "grid_auto_flow": null,
      "grid_auto_rows": null,
      "grid_column": null,
      "grid_gap": null,
      "grid_row": null,
      "grid_template_areas": null,
      "grid_template_columns": null,
      "grid_template_rows": null,
      "height": null,
      "justify_content": null,
      "justify_items": null,
      "left": null,
      "margin": null,
      "max_height": null,
      "max_width": null,
      "min_height": null,
      "min_width": null,
      "object_fit": null,
      "object_position": null,
      "order": null,
      "overflow": null,
      "overflow_x": null,
      "overflow_y": null,
      "padding": null,
      "right": null,
      "top": null,
      "visibility": null,
      "width": null
     }
    },
    "99f2cae8e0ca4aaa887e89345ebc41e2": {
     "model_module": "@jupyter-widgets/controls",
     "model_module_version": "1.5.0",
     "model_name": "HTMLModel",
     "state": {
      "_dom_classes": [],
      "_model_module": "@jupyter-widgets/controls",
      "_model_module_version": "1.5.0",
      "_model_name": "HTMLModel",
      "_view_count": null,
      "_view_module": "@jupyter-widgets/controls",
      "_view_module_version": "1.5.0",
      "_view_name": "HTMLView",
      "description": "",
      "description_tooltip": null,
      "layout": "IPY_MODEL_d3e9d43d7c1545b39b9553c700e8eb50",
      "placeholder": "​",
      "style": "IPY_MODEL_a648b5afb3c8401883350103b9d2363c",
      "value": "Downloading: 100%"
     }
    },
    "9a914527b65f441f83ef4c230d2bf66c": {
     "model_module": "@jupyter-widgets/controls",
     "model_module_version": "1.5.0",
     "model_name": "DescriptionStyleModel",
     "state": {
      "_model_module": "@jupyter-widgets/controls",
      "_model_module_version": "1.5.0",
      "_model_name": "DescriptionStyleModel",
      "_view_count": null,
      "_view_module": "@jupyter-widgets/base",
      "_view_module_version": "1.2.0",
      "_view_name": "StyleView",
      "description_width": ""
     }
    },
    "9c9b68a2fc7b479b95ef9a54f0e99b2e": {
     "model_module": "@jupyter-widgets/controls",
     "model_module_version": "1.5.0",
     "model_name": "DescriptionStyleModel",
     "state": {
      "_model_module": "@jupyter-widgets/controls",
      "_model_module_version": "1.5.0",
      "_model_name": "DescriptionStyleModel",
      "_view_count": null,
      "_view_module": "@jupyter-widgets/base",
      "_view_module_version": "1.2.0",
      "_view_name": "StyleView",
      "description_width": ""
     }
    },
    "9da6bd2fe76348ecaacd5e67f3d2becb": {
     "model_module": "@jupyter-widgets/base",
     "model_module_version": "1.2.0",
     "model_name": "LayoutModel",
     "state": {
      "_model_module": "@jupyter-widgets/base",
      "_model_module_version": "1.2.0",
      "_model_name": "LayoutModel",
      "_view_count": null,
      "_view_module": "@jupyter-widgets/base",
      "_view_module_version": "1.2.0",
      "_view_name": "LayoutView",
      "align_content": null,
      "align_items": null,
      "align_self": null,
      "border": null,
      "bottom": null,
      "display": null,
      "flex": null,
      "flex_flow": null,
      "grid_area": null,
      "grid_auto_columns": null,
      "grid_auto_flow": null,
      "grid_auto_rows": null,
      "grid_column": null,
      "grid_gap": null,
      "grid_row": null,
      "grid_template_areas": null,
      "grid_template_columns": null,
      "grid_template_rows": null,
      "height": null,
      "justify_content": null,
      "justify_items": null,
      "left": null,
      "margin": null,
      "max_height": null,
      "max_width": null,
      "min_height": null,
      "min_width": null,
      "object_fit": null,
      "object_position": null,
      "order": null,
      "overflow": null,
      "overflow_x": null,
      "overflow_y": null,
      "padding": null,
      "right": null,
      "top": null,
      "visibility": null,
      "width": null
     }
    },
    "9dc1d2e981064619b86d386b5c1be62c": {
     "model_module": "@jupyter-widgets/controls",
     "model_module_version": "1.5.0",
     "model_name": "ProgressStyleModel",
     "state": {
      "_model_module": "@jupyter-widgets/controls",
      "_model_module_version": "1.5.0",
      "_model_name": "ProgressStyleModel",
      "_view_count": null,
      "_view_module": "@jupyter-widgets/base",
      "_view_module_version": "1.2.0",
      "_view_name": "StyleView",
      "bar_color": null,
      "description_width": ""
     }
    },
    "a0703bd52927432dbc426cc7d6aaba38": {
     "model_module": "@jupyter-widgets/base",
     "model_module_version": "1.2.0",
     "model_name": "LayoutModel",
     "state": {
      "_model_module": "@jupyter-widgets/base",
      "_model_module_version": "1.2.0",
      "_model_name": "LayoutModel",
      "_view_count": null,
      "_view_module": "@jupyter-widgets/base",
      "_view_module_version": "1.2.0",
      "_view_name": "LayoutView",
      "align_content": null,
      "align_items": null,
      "align_self": null,
      "border": null,
      "bottom": null,
      "display": null,
      "flex": null,
      "flex_flow": null,
      "grid_area": null,
      "grid_auto_columns": null,
      "grid_auto_flow": null,
      "grid_auto_rows": null,
      "grid_column": null,
      "grid_gap": null,
      "grid_row": null,
      "grid_template_areas": null,
      "grid_template_columns": null,
      "grid_template_rows": null,
      "height": null,
      "justify_content": null,
      "justify_items": null,
      "left": null,
      "margin": null,
      "max_height": null,
      "max_width": null,
      "min_height": null,
      "min_width": null,
      "object_fit": null,
      "object_position": null,
      "order": null,
      "overflow": null,
      "overflow_x": null,
      "overflow_y": null,
      "padding": null,
      "right": null,
      "top": null,
      "visibility": null,
      "width": null
     }
    },
    "a0caa97acfef47b3aa2fc888acebfe0e": {
     "model_module": "@jupyter-widgets/controls",
     "model_module_version": "1.5.0",
     "model_name": "DescriptionStyleModel",
     "state": {
      "_model_module": "@jupyter-widgets/controls",
      "_model_module_version": "1.5.0",
      "_model_name": "DescriptionStyleModel",
      "_view_count": null,
      "_view_module": "@jupyter-widgets/base",
      "_view_module_version": "1.2.0",
      "_view_name": "StyleView",
      "description_width": ""
     }
    },
    "a183002eca0a450eb0d477435433495a": {
     "model_module": "@jupyter-widgets/base",
     "model_module_version": "1.2.0",
     "model_name": "LayoutModel",
     "state": {
      "_model_module": "@jupyter-widgets/base",
      "_model_module_version": "1.2.0",
      "_model_name": "LayoutModel",
      "_view_count": null,
      "_view_module": "@jupyter-widgets/base",
      "_view_module_version": "1.2.0",
      "_view_name": "LayoutView",
      "align_content": null,
      "align_items": null,
      "align_self": null,
      "border": null,
      "bottom": null,
      "display": null,
      "flex": null,
      "flex_flow": null,
      "grid_area": null,
      "grid_auto_columns": null,
      "grid_auto_flow": null,
      "grid_auto_rows": null,
      "grid_column": null,
      "grid_gap": null,
      "grid_row": null,
      "grid_template_areas": null,
      "grid_template_columns": null,
      "grid_template_rows": null,
      "height": null,
      "justify_content": null,
      "justify_items": null,
      "left": null,
      "margin": null,
      "max_height": null,
      "max_width": null,
      "min_height": null,
      "min_width": null,
      "object_fit": null,
      "object_position": null,
      "order": null,
      "overflow": null,
      "overflow_x": null,
      "overflow_y": null,
      "padding": null,
      "right": null,
      "top": null,
      "visibility": null,
      "width": null
     }
    },
    "a57fc66bfac041b4a6abe4d7cccd18ba": {
     "model_module": "@jupyter-widgets/base",
     "model_module_version": "1.2.0",
     "model_name": "LayoutModel",
     "state": {
      "_model_module": "@jupyter-widgets/base",
      "_model_module_version": "1.2.0",
      "_model_name": "LayoutModel",
      "_view_count": null,
      "_view_module": "@jupyter-widgets/base",
      "_view_module_version": "1.2.0",
      "_view_name": "LayoutView",
      "align_content": null,
      "align_items": null,
      "align_self": null,
      "border": null,
      "bottom": null,
      "display": null,
      "flex": null,
      "flex_flow": null,
      "grid_area": null,
      "grid_auto_columns": null,
      "grid_auto_flow": null,
      "grid_auto_rows": null,
      "grid_column": null,
      "grid_gap": null,
      "grid_row": null,
      "grid_template_areas": null,
      "grid_template_columns": null,
      "grid_template_rows": null,
      "height": null,
      "justify_content": null,
      "justify_items": null,
      "left": null,
      "margin": null,
      "max_height": null,
      "max_width": null,
      "min_height": null,
      "min_width": null,
      "object_fit": null,
      "object_position": null,
      "order": null,
      "overflow": null,
      "overflow_x": null,
      "overflow_y": null,
      "padding": null,
      "right": null,
      "top": null,
      "visibility": null,
      "width": null
     }
    },
    "a61bf713218c4b39a1bd4267d6a08b53": {
     "model_module": "@jupyter-widgets/controls",
     "model_module_version": "1.5.0",
     "model_name": "DescriptionStyleModel",
     "state": {
      "_model_module": "@jupyter-widgets/controls",
      "_model_module_version": "1.5.0",
      "_model_name": "DescriptionStyleModel",
      "_view_count": null,
      "_view_module": "@jupyter-widgets/base",
      "_view_module_version": "1.2.0",
      "_view_name": "StyleView",
      "description_width": ""
     }
    },
    "a648b5afb3c8401883350103b9d2363c": {
     "model_module": "@jupyter-widgets/controls",
     "model_module_version": "1.5.0",
     "model_name": "DescriptionStyleModel",
     "state": {
      "_model_module": "@jupyter-widgets/controls",
      "_model_module_version": "1.5.0",
      "_model_name": "DescriptionStyleModel",
      "_view_count": null,
      "_view_module": "@jupyter-widgets/base",
      "_view_module_version": "1.2.0",
      "_view_name": "StyleView",
      "description_width": ""
     }
    },
    "a85ea6b8ff37469e802145dd0eb816d4": {
     "model_module": "@jupyter-widgets/controls",
     "model_module_version": "1.5.0",
     "model_name": "HBoxModel",
     "state": {
      "_dom_classes": [],
      "_model_module": "@jupyter-widgets/controls",
      "_model_module_version": "1.5.0",
      "_model_name": "HBoxModel",
      "_view_count": null,
      "_view_module": "@jupyter-widgets/controls",
      "_view_module_version": "1.5.0",
      "_view_name": "HBoxView",
      "box_style": "",
      "children": [
       "IPY_MODEL_89c7435da38144f7866bddd0e0db94a1",
       "IPY_MODEL_8ee2db40d81648838dd224c2f2386a07",
       "IPY_MODEL_1a501ec05d91415682a79d309ed89eba"
      ],
      "layout": "IPY_MODEL_3e8a7642d73142dc971a1110c30112f3"
     }
    },
    "a8dce392afa1483eb58ffacee5137ef2": {
     "model_module": "@jupyter-widgets/controls",
     "model_module_version": "1.5.0",
     "model_name": "FloatProgressModel",
     "state": {
      "_dom_classes": [],
      "_model_module": "@jupyter-widgets/controls",
      "_model_module_version": "1.5.0",
      "_model_name": "FloatProgressModel",
      "_view_count": null,
      "_view_module": "@jupyter-widgets/controls",
      "_view_module_version": "1.5.0",
      "_view_name": "ProgressView",
      "bar_style": "success",
      "description": "",
      "description_tooltip": null,
      "layout": "IPY_MODEL_0cae6d9d24324fca8a7902cbf5bdd925",
      "max": 231508,
      "min": 0,
      "orientation": "horizontal",
      "style": "IPY_MODEL_9dc1d2e981064619b86d386b5c1be62c",
      "value": 231508
     }
    },
    "aa699898a59d4525969ea056dc1f4c1e": {
     "model_module": "@jupyter-widgets/base",
     "model_module_version": "1.2.0",
     "model_name": "LayoutModel",
     "state": {
      "_model_module": "@jupyter-widgets/base",
      "_model_module_version": "1.2.0",
      "_model_name": "LayoutModel",
      "_view_count": null,
      "_view_module": "@jupyter-widgets/base",
      "_view_module_version": "1.2.0",
      "_view_name": "LayoutView",
      "align_content": null,
      "align_items": null,
      "align_self": null,
      "border": null,
      "bottom": null,
      "display": null,
      "flex": null,
      "flex_flow": null,
      "grid_area": null,
      "grid_auto_columns": null,
      "grid_auto_flow": null,
      "grid_auto_rows": null,
      "grid_column": null,
      "grid_gap": null,
      "grid_row": null,
      "grid_template_areas": null,
      "grid_template_columns": null,
      "grid_template_rows": null,
      "height": null,
      "justify_content": null,
      "justify_items": null,
      "left": null,
      "margin": null,
      "max_height": null,
      "max_width": null,
      "min_height": null,
      "min_width": null,
      "object_fit": null,
      "object_position": null,
      "order": null,
      "overflow": null,
      "overflow_x": null,
      "overflow_y": null,
      "padding": null,
      "right": null,
      "top": null,
      "visibility": null,
      "width": null
     }
    },
    "acb1dca963a84e1491e1e4f5dc028b48": {
     "model_module": "@jupyter-widgets/controls",
     "model_module_version": "1.5.0",
     "model_name": "DescriptionStyleModel",
     "state": {
      "_model_module": "@jupyter-widgets/controls",
      "_model_module_version": "1.5.0",
      "_model_name": "DescriptionStyleModel",
      "_view_count": null,
      "_view_module": "@jupyter-widgets/base",
      "_view_module_version": "1.2.0",
      "_view_name": "StyleView",
      "description_width": ""
     }
    },
    "ad950623d8444d4387492707b5a575f7": {
     "model_module": "@jupyter-widgets/controls",
     "model_module_version": "1.5.0",
     "model_name": "HTMLModel",
     "state": {
      "_dom_classes": [],
      "_model_module": "@jupyter-widgets/controls",
      "_model_module_version": "1.5.0",
      "_model_name": "HTMLModel",
      "_view_count": null,
      "_view_module": "@jupyter-widgets/controls",
      "_view_module_version": "1.5.0",
      "_view_name": "HTMLView",
      "description": "",
      "description_tooltip": null,
      "layout": "IPY_MODEL_cdc9e00c513f40e28530fb513381fc93",
      "placeholder": "​",
      "style": "IPY_MODEL_acb1dca963a84e1491e1e4f5dc028b48",
      "value": " 90.9M/90.9M [00:01&lt;00:00, 74.5MB/s]"
     }
    },
    "adb10ac3dff6437080820b40355c82ab": {
     "model_module": "@jupyter-widgets/controls",
     "model_module_version": "1.5.0",
     "model_name": "HTMLModel",
     "state": {
      "_dom_classes": [],
      "_model_module": "@jupyter-widgets/controls",
      "_model_module_version": "1.5.0",
      "_model_name": "HTMLModel",
      "_view_count": null,
      "_view_module": "@jupyter-widgets/controls",
      "_view_module_version": "1.5.0",
      "_view_name": "HTMLView",
      "description": "",
      "description_tooltip": null,
      "layout": "IPY_MODEL_87b3621d421f41ed9f4881895e0936f4",
      "placeholder": "​",
      "style": "IPY_MODEL_80469b04c16f477193e90865f8b74f9f",
      "value": "Downloading: 100%"
     }
    },
    "af554e7599c34a44aa8458280e819b50": {
     "model_module": "@jupyter-widgets/base",
     "model_module_version": "1.2.0",
     "model_name": "LayoutModel",
     "state": {
      "_model_module": "@jupyter-widgets/base",
      "_model_module_version": "1.2.0",
      "_model_name": "LayoutModel",
      "_view_count": null,
      "_view_module": "@jupyter-widgets/base",
      "_view_module_version": "1.2.0",
      "_view_name": "LayoutView",
      "align_content": null,
      "align_items": null,
      "align_self": null,
      "border": null,
      "bottom": null,
      "display": null,
      "flex": null,
      "flex_flow": null,
      "grid_area": null,
      "grid_auto_columns": null,
      "grid_auto_flow": null,
      "grid_auto_rows": null,
      "grid_column": null,
      "grid_gap": null,
      "grid_row": null,
      "grid_template_areas": null,
      "grid_template_columns": null,
      "grid_template_rows": null,
      "height": null,
      "justify_content": null,
      "justify_items": null,
      "left": null,
      "margin": null,
      "max_height": null,
      "max_width": null,
      "min_height": null,
      "min_width": null,
      "object_fit": null,
      "object_position": null,
      "order": null,
      "overflow": null,
      "overflow_x": null,
      "overflow_y": null,
      "padding": null,
      "right": null,
      "top": null,
      "visibility": null,
      "width": null
     }
    },
    "b153579a6aae40638c360fb7676ed983": {
     "model_module": "@jupyter-widgets/controls",
     "model_module_version": "1.5.0",
     "model_name": "FloatProgressModel",
     "state": {
      "_dom_classes": [],
      "_model_module": "@jupyter-widgets/controls",
      "_model_module_version": "1.5.0",
      "_model_name": "FloatProgressModel",
      "_view_count": null,
      "_view_module": "@jupyter-widgets/controls",
      "_view_module_version": "1.5.0",
      "_view_name": "ProgressView",
      "bar_style": "success",
      "description": "",
      "description_tooltip": null,
      "layout": "IPY_MODEL_2abf4126780e4cf4a309ac0dc53dcb50",
      "max": 10610,
      "min": 0,
      "orientation": "horizontal",
      "style": "IPY_MODEL_04cf085d1d3441e783a8c0c03871e2ea",
      "value": 10610
     }
    },
    "b1e6237129f34af9a825c19c867da6fb": {
     "model_module": "@jupyter-widgets/controls",
     "model_module_version": "1.5.0",
     "model_name": "HTMLModel",
     "state": {
      "_dom_classes": [],
      "_model_module": "@jupyter-widgets/controls",
      "_model_module_version": "1.5.0",
      "_model_name": "HTMLModel",
      "_view_count": null,
      "_view_module": "@jupyter-widgets/controls",
      "_view_module_version": "1.5.0",
      "_view_name": "HTMLView",
      "description": "",
      "description_tooltip": null,
      "layout": "IPY_MODEL_e7ec766325324819b8e05bc1f5eeba7d",
      "placeholder": "​",
      "style": "IPY_MODEL_eb32d954fd664af497b741d5110fe319",
      "value": "Downloading: 100%"
     }
    },
    "b31cf622aed04aeea39f8cb0ecd8d6a2": {
     "model_module": "@jupyter-widgets/base",
     "model_module_version": "1.2.0",
     "model_name": "LayoutModel",
     "state": {
      "_model_module": "@jupyter-widgets/base",
      "_model_module_version": "1.2.0",
      "_model_name": "LayoutModel",
      "_view_count": null,
      "_view_module": "@jupyter-widgets/base",
      "_view_module_version": "1.2.0",
      "_view_name": "LayoutView",
      "align_content": null,
      "align_items": null,
      "align_self": null,
      "border": null,
      "bottom": null,
      "display": null,
      "flex": null,
      "flex_flow": null,
      "grid_area": null,
      "grid_auto_columns": null,
      "grid_auto_flow": null,
      "grid_auto_rows": null,
      "grid_column": null,
      "grid_gap": null,
      "grid_row": null,
      "grid_template_areas": null,
      "grid_template_columns": null,
      "grid_template_rows": null,
      "height": null,
      "justify_content": null,
      "justify_items": null,
      "left": null,
      "margin": null,
      "max_height": null,
      "max_width": null,
      "min_height": null,
      "min_width": null,
      "object_fit": null,
      "object_position": null,
      "order": null,
      "overflow": null,
      "overflow_x": null,
      "overflow_y": null,
      "padding": null,
      "right": null,
      "top": null,
      "visibility": null,
      "width": null
     }
    },
    "b381bfebad204c6bbb0216b8d639030b": {
     "model_module": "@jupyter-widgets/controls",
     "model_module_version": "1.5.0",
     "model_name": "DescriptionStyleModel",
     "state": {
      "_model_module": "@jupyter-widgets/controls",
      "_model_module_version": "1.5.0",
      "_model_name": "DescriptionStyleModel",
      "_view_count": null,
      "_view_module": "@jupyter-widgets/base",
      "_view_module_version": "1.2.0",
      "_view_name": "StyleView",
      "description_width": ""
     }
    },
    "b4db306c9c90428b83f75f4276f251ae": {
     "model_module": "@jupyter-widgets/controls",
     "model_module_version": "1.5.0",
     "model_name": "DescriptionStyleModel",
     "state": {
      "_model_module": "@jupyter-widgets/controls",
      "_model_module_version": "1.5.0",
      "_model_name": "DescriptionStyleModel",
      "_view_count": null,
      "_view_module": "@jupyter-widgets/base",
      "_view_module_version": "1.2.0",
      "_view_name": "StyleView",
      "description_width": ""
     }
    },
    "b5acf8385f4a4df481c063919e479068": {
     "model_module": "@jupyter-widgets/controls",
     "model_module_version": "1.5.0",
     "model_name": "FloatProgressModel",
     "state": {
      "_dom_classes": [],
      "_model_module": "@jupyter-widgets/controls",
      "_model_module_version": "1.5.0",
      "_model_name": "FloatProgressModel",
      "_view_count": null,
      "_view_module": "@jupyter-widgets/controls",
      "_view_module_version": "1.5.0",
      "_view_name": "ProgressView",
      "bar_style": "success",
      "description": "",
      "description_tooltip": null,
      "layout": "IPY_MODEL_d74e6e1052fa4cb0bbec40b231805dd0",
      "max": 350,
      "min": 0,
      "orientation": "horizontal",
      "style": "IPY_MODEL_f3ec18cf6a534d539267ee4e1924199e",
      "value": 350
     }
    },
    "b5b64a260040465e874c0aed609a37f4": {
     "model_module": "@jupyter-widgets/controls",
     "model_module_version": "1.5.0",
     "model_name": "HBoxModel",
     "state": {
      "_dom_classes": [],
      "_model_module": "@jupyter-widgets/controls",
      "_model_module_version": "1.5.0",
      "_model_name": "HBoxModel",
      "_view_count": null,
      "_view_module": "@jupyter-widgets/controls",
      "_view_module_version": "1.5.0",
      "_view_name": "HBoxView",
      "box_style": "",
      "children": [
       "IPY_MODEL_2860d7afa0814b4e9741f98339ca9398",
       "IPY_MODEL_b5acf8385f4a4df481c063919e479068",
       "IPY_MODEL_7d5b9ac2fae64e31b2048eaaba24de8a"
      ],
      "layout": "IPY_MODEL_1b269cf903fd4eb9b8d73a7fc28e1301"
     }
    },
    "bad03d6466684e97993e84e5605fb0f6": {
     "model_module": "@jupyter-widgets/controls",
     "model_module_version": "1.5.0",
     "model_name": "ProgressStyleModel",
     "state": {
      "_model_module": "@jupyter-widgets/controls",
      "_model_module_version": "1.5.0",
      "_model_name": "ProgressStyleModel",
      "_view_count": null,
      "_view_module": "@jupyter-widgets/base",
      "_view_module_version": "1.2.0",
      "_view_name": "StyleView",
      "bar_color": null,
      "description_width": ""
     }
    },
    "bb2895b90629492c843ce60ddd943f84": {
     "model_module": "@jupyter-widgets/base",
     "model_module_version": "1.2.0",
     "model_name": "LayoutModel",
     "state": {
      "_model_module": "@jupyter-widgets/base",
      "_model_module_version": "1.2.0",
      "_model_name": "LayoutModel",
      "_view_count": null,
      "_view_module": "@jupyter-widgets/base",
      "_view_module_version": "1.2.0",
      "_view_name": "LayoutView",
      "align_content": null,
      "align_items": null,
      "align_self": null,
      "border": null,
      "bottom": null,
      "display": null,
      "flex": null,
      "flex_flow": null,
      "grid_area": null,
      "grid_auto_columns": null,
      "grid_auto_flow": null,
      "grid_auto_rows": null,
      "grid_column": null,
      "grid_gap": null,
      "grid_row": null,
      "grid_template_areas": null,
      "grid_template_columns": null,
      "grid_template_rows": null,
      "height": null,
      "justify_content": null,
      "justify_items": null,
      "left": null,
      "margin": null,
      "max_height": null,
      "max_width": null,
      "min_height": null,
      "min_width": null,
      "object_fit": null,
      "object_position": null,
      "order": null,
      "overflow": null,
      "overflow_x": null,
      "overflow_y": null,
      "padding": null,
      "right": null,
      "top": null,
      "visibility": null,
      "width": null
     }
    },
    "bb33f426d9e647d2ace329238c689107": {
     "model_module": "@jupyter-widgets/controls",
     "model_module_version": "1.5.0",
     "model_name": "HTMLModel",
     "state": {
      "_dom_classes": [],
      "_model_module": "@jupyter-widgets/controls",
      "_model_module_version": "1.5.0",
      "_model_name": "HTMLModel",
      "_view_count": null,
      "_view_module": "@jupyter-widgets/controls",
      "_view_module_version": "1.5.0",
      "_view_name": "HTMLView",
      "description": "",
      "description_tooltip": null,
      "layout": "IPY_MODEL_bb2895b90629492c843ce60ddd943f84",
      "placeholder": "​",
      "style": "IPY_MODEL_142dd0be953a49bc8c8383d758d1f091",
      "value": " 466k/466k [00:00&lt;00:00, 1.77MB/s]"
     }
    },
    "bed4ecb34ba74060831965b69a8b07a9": {
     "model_module": "@jupyter-widgets/controls",
     "model_module_version": "1.5.0",
     "model_name": "ProgressStyleModel",
     "state": {
      "_model_module": "@jupyter-widgets/controls",
      "_model_module_version": "1.5.0",
      "_model_name": "ProgressStyleModel",
      "_view_count": null,
      "_view_module": "@jupyter-widgets/base",
      "_view_module_version": "1.2.0",
      "_view_name": "StyleView",
      "bar_color": null,
      "description_width": ""
     }
    },
    "bfbfd375465347e08d49a36db8296de3": {
     "model_module": "@jupyter-widgets/controls",
     "model_module_version": "1.5.0",
     "model_name": "ProgressStyleModel",
     "state": {
      "_model_module": "@jupyter-widgets/controls",
      "_model_module_version": "1.5.0",
      "_model_name": "ProgressStyleModel",
      "_view_count": null,
      "_view_module": "@jupyter-widgets/base",
      "_view_module_version": "1.2.0",
      "_view_name": "StyleView",
      "bar_color": null,
      "description_width": ""
     }
    },
    "c2258698eea54577912599e40a787e89": {
     "model_module": "@jupyter-widgets/base",
     "model_module_version": "1.2.0",
     "model_name": "LayoutModel",
     "state": {
      "_model_module": "@jupyter-widgets/base",
      "_model_module_version": "1.2.0",
      "_model_name": "LayoutModel",
      "_view_count": null,
      "_view_module": "@jupyter-widgets/base",
      "_view_module_version": "1.2.0",
      "_view_name": "LayoutView",
      "align_content": null,
      "align_items": null,
      "align_self": null,
      "border": null,
      "bottom": null,
      "display": null,
      "flex": null,
      "flex_flow": null,
      "grid_area": null,
      "grid_auto_columns": null,
      "grid_auto_flow": null,
      "grid_auto_rows": null,
      "grid_column": null,
      "grid_gap": null,
      "grid_row": null,
      "grid_template_areas": null,
      "grid_template_columns": null,
      "grid_template_rows": null,
      "height": null,
      "justify_content": null,
      "justify_items": null,
      "left": null,
      "margin": null,
      "max_height": null,
      "max_width": null,
      "min_height": null,
      "min_width": null,
      "object_fit": null,
      "object_position": null,
      "order": null,
      "overflow": null,
      "overflow_x": null,
      "overflow_y": null,
      "padding": null,
      "right": null,
      "top": null,
      "visibility": null,
      "width": null
     }
    },
    "c2f2711297bb402b912cb8615191c29e": {
     "model_module": "@jupyter-widgets/controls",
     "model_module_version": "1.5.0",
     "model_name": "ProgressStyleModel",
     "state": {
      "_model_module": "@jupyter-widgets/controls",
      "_model_module_version": "1.5.0",
      "_model_name": "ProgressStyleModel",
      "_view_count": null,
      "_view_module": "@jupyter-widgets/base",
      "_view_module_version": "1.2.0",
      "_view_name": "StyleView",
      "bar_color": null,
      "description_width": ""
     }
    },
    "c3ac5ec3baa24a5f93f2a0c9ab15e41d": {
     "model_module": "@jupyter-widgets/controls",
     "model_module_version": "1.5.0",
     "model_name": "HTMLModel",
     "state": {
      "_dom_classes": [],
      "_model_module": "@jupyter-widgets/controls",
      "_model_module_version": "1.5.0",
      "_model_name": "HTMLModel",
      "_view_count": null,
      "_view_module": "@jupyter-widgets/controls",
      "_view_module_version": "1.5.0",
      "_view_name": "HTMLView",
      "description": "",
      "description_tooltip": null,
      "layout": "IPY_MODEL_a0703bd52927432dbc426cc7d6aaba38",
      "placeholder": "​",
      "style": "IPY_MODEL_586d3677f0754e9b8420691418e40f04",
      "value": " 13.2k/13.2k [00:00&lt;00:00, 320kB/s]"
     }
    },
    "c3f81efe62a845f3a0d81420c4131133": {
     "model_module": "@jupyter-widgets/controls",
     "model_module_version": "1.5.0",
     "model_name": "DescriptionStyleModel",
     "state": {
      "_model_module": "@jupyter-widgets/controls",
      "_model_module_version": "1.5.0",
      "_model_name": "DescriptionStyleModel",
      "_view_count": null,
      "_view_module": "@jupyter-widgets/base",
      "_view_module_version": "1.2.0",
      "_view_name": "StyleView",
      "description_width": ""
     }
    },
    "c5b7ae7a0f2d4007860a2434806df136": {
     "model_module": "@jupyter-widgets/controls",
     "model_module_version": "1.5.0",
     "model_name": "DescriptionStyleModel",
     "state": {
      "_model_module": "@jupyter-widgets/controls",
      "_model_module_version": "1.5.0",
      "_model_name": "DescriptionStyleModel",
      "_view_count": null,
      "_view_module": "@jupyter-widgets/base",
      "_view_module_version": "1.2.0",
      "_view_name": "StyleView",
      "description_width": ""
     }
    },
    "c603f9531b74486db7d127d266010460": {
     "model_module": "@jupyter-widgets/controls",
     "model_module_version": "1.5.0",
     "model_name": "FloatProgressModel",
     "state": {
      "_dom_classes": [],
      "_model_module": "@jupyter-widgets/controls",
      "_model_module_version": "1.5.0",
      "_model_name": "FloatProgressModel",
      "_view_count": null,
      "_view_module": "@jupyter-widgets/controls",
      "_view_module_version": "1.5.0",
      "_view_name": "ProgressView",
      "bar_style": "success",
      "description": "",
      "description_tooltip": null,
      "layout": "IPY_MODEL_38fbd0b828a54aad8e03a37f06121c69",
      "max": 53,
      "min": 0,
      "orientation": "horizontal",
      "style": "IPY_MODEL_c2f2711297bb402b912cb8615191c29e",
      "value": 53
     }
    },
    "c69281f4a3614ee28dd08df3428af390": {
     "model_module": "@jupyter-widgets/base",
     "model_module_version": "1.2.0",
     "model_name": "LayoutModel",
     "state": {
      "_model_module": "@jupyter-widgets/base",
      "_model_module_version": "1.2.0",
      "_model_name": "LayoutModel",
      "_view_count": null,
      "_view_module": "@jupyter-widgets/base",
      "_view_module_version": "1.2.0",
      "_view_name": "LayoutView",
      "align_content": null,
      "align_items": null,
      "align_self": null,
      "border": null,
      "bottom": null,
      "display": null,
      "flex": null,
      "flex_flow": null,
      "grid_area": null,
      "grid_auto_columns": null,
      "grid_auto_flow": null,
      "grid_auto_rows": null,
      "grid_column": null,
      "grid_gap": null,
      "grid_row": null,
      "grid_template_areas": null,
      "grid_template_columns": null,
      "grid_template_rows": null,
      "height": null,
      "justify_content": null,
      "justify_items": null,
      "left": null,
      "margin": null,
      "max_height": null,
      "max_width": null,
      "min_height": null,
      "min_width": null,
      "object_fit": null,
      "object_position": null,
      "order": null,
      "overflow": null,
      "overflow_x": null,
      "overflow_y": null,
      "padding": null,
      "right": null,
      "top": null,
      "visibility": null,
      "width": null
     }
    },
    "c70cb9e020a84770ab2eab97cbc78b41": {
     "model_module": "@jupyter-widgets/controls",
     "model_module_version": "1.5.0",
     "model_name": "HBoxModel",
     "state": {
      "_dom_classes": [],
      "_model_module": "@jupyter-widgets/controls",
      "_model_module_version": "1.5.0",
      "_model_name": "HBoxModel",
      "_view_count": null,
      "_view_module": "@jupyter-widgets/controls",
      "_view_module_version": "1.5.0",
      "_view_name": "HBoxView",
      "box_style": "",
      "children": [
       "IPY_MODEL_ef522b143c1447c6847719f9cd1db842",
       "IPY_MODEL_637c87d353fb4bfe86ba5f67c0a1138a",
       "IPY_MODEL_62efd31af9514cc09c030ffae3b4b102"
      ],
      "layout": "IPY_MODEL_85e1200f74574203a0beff16c4edaabc"
     }
    },
    "c81da6a1e8704e05bbdbd6b1a600a8be": {
     "model_module": "@jupyter-widgets/base",
     "model_module_version": "1.2.0",
     "model_name": "LayoutModel",
     "state": {
      "_model_module": "@jupyter-widgets/base",
      "_model_module_version": "1.2.0",
      "_model_name": "LayoutModel",
      "_view_count": null,
      "_view_module": "@jupyter-widgets/base",
      "_view_module_version": "1.2.0",
      "_view_name": "LayoutView",
      "align_content": null,
      "align_items": null,
      "align_self": null,
      "border": null,
      "bottom": null,
      "display": null,
      "flex": null,
      "flex_flow": null,
      "grid_area": null,
      "grid_auto_columns": null,
      "grid_auto_flow": null,
      "grid_auto_rows": null,
      "grid_column": null,
      "grid_gap": null,
      "grid_row": null,
      "grid_template_areas": null,
      "grid_template_columns": null,
      "grid_template_rows": null,
      "height": null,
      "justify_content": null,
      "justify_items": null,
      "left": null,
      "margin": null,
      "max_height": null,
      "max_width": null,
      "min_height": null,
      "min_width": null,
      "object_fit": null,
      "object_position": null,
      "order": null,
      "overflow": null,
      "overflow_x": null,
      "overflow_y": null,
      "padding": null,
      "right": null,
      "top": null,
      "visibility": null,
      "width": null
     }
    },
    "cc850c3b160f4128a8e5e9f7ee22dedc": {
     "model_module": "@jupyter-widgets/controls",
     "model_module_version": "1.5.0",
     "model_name": "HTMLModel",
     "state": {
      "_dom_classes": [],
      "_model_module": "@jupyter-widgets/controls",
      "_model_module_version": "1.5.0",
      "_model_name": "HTMLModel",
      "_view_count": null,
      "_view_module": "@jupyter-widgets/controls",
      "_view_module_version": "1.5.0",
      "_view_name": "HTMLView",
      "description": "",
      "description_tooltip": null,
      "layout": "IPY_MODEL_97b5a7d0c5c44bf488da5782785ef6d9",
      "placeholder": "​",
      "style": "IPY_MODEL_b381bfebad204c6bbb0216b8d639030b",
      "value": " 112/112 [00:00&lt;00:00, 3.39kB/s]"
     }
    },
    "cd9831a2b79645539d0efead42cb0074": {
     "model_module": "@jupyter-widgets/base",
     "model_module_version": "1.2.0",
     "model_name": "LayoutModel",
     "state": {
      "_model_module": "@jupyter-widgets/base",
      "_model_module_version": "1.2.0",
      "_model_name": "LayoutModel",
      "_view_count": null,
      "_view_module": "@jupyter-widgets/base",
      "_view_module_version": "1.2.0",
      "_view_name": "LayoutView",
      "align_content": null,
      "align_items": null,
      "align_self": null,
      "border": null,
      "bottom": null,
      "display": null,
      "flex": null,
      "flex_flow": null,
      "grid_area": null,
      "grid_auto_columns": null,
      "grid_auto_flow": null,
      "grid_auto_rows": null,
      "grid_column": null,
      "grid_gap": null,
      "grid_row": null,
      "grid_template_areas": null,
      "grid_template_columns": null,
      "grid_template_rows": null,
      "height": null,
      "justify_content": null,
      "justify_items": null,
      "left": null,
      "margin": null,
      "max_height": null,
      "max_width": null,
      "min_height": null,
      "min_width": null,
      "object_fit": null,
      "object_position": null,
      "order": null,
      "overflow": null,
      "overflow_x": null,
      "overflow_y": null,
      "padding": null,
      "right": null,
      "top": null,
      "visibility": null,
      "width": null
     }
    },
    "cdc9e00c513f40e28530fb513381fc93": {
     "model_module": "@jupyter-widgets/base",
     "model_module_version": "1.2.0",
     "model_name": "LayoutModel",
     "state": {
      "_model_module": "@jupyter-widgets/base",
      "_model_module_version": "1.2.0",
      "_model_name": "LayoutModel",
      "_view_count": null,
      "_view_module": "@jupyter-widgets/base",
      "_view_module_version": "1.2.0",
      "_view_name": "LayoutView",
      "align_content": null,
      "align_items": null,
      "align_self": null,
      "border": null,
      "bottom": null,
      "display": null,
      "flex": null,
      "flex_flow": null,
      "grid_area": null,
      "grid_auto_columns": null,
      "grid_auto_flow": null,
      "grid_auto_rows": null,
      "grid_column": null,
      "grid_gap": null,
      "grid_row": null,
      "grid_template_areas": null,
      "grid_template_columns": null,
      "grid_template_rows": null,
      "height": null,
      "justify_content": null,
      "justify_items": null,
      "left": null,
      "margin": null,
      "max_height": null,
      "max_width": null,
      "min_height": null,
      "min_width": null,
      "object_fit": null,
      "object_position": null,
      "order": null,
      "overflow": null,
      "overflow_x": null,
      "overflow_y": null,
      "padding": null,
      "right": null,
      "top": null,
      "visibility": null,
      "width": null
     }
    },
    "ce5ba905214c4040b64db1218877ebdc": {
     "model_module": "@jupyter-widgets/base",
     "model_module_version": "1.2.0",
     "model_name": "LayoutModel",
     "state": {
      "_model_module": "@jupyter-widgets/base",
      "_model_module_version": "1.2.0",
      "_model_name": "LayoutModel",
      "_view_count": null,
      "_view_module": "@jupyter-widgets/base",
      "_view_module_version": "1.2.0",
      "_view_name": "LayoutView",
      "align_content": null,
      "align_items": null,
      "align_self": null,
      "border": null,
      "bottom": null,
      "display": null,
      "flex": null,
      "flex_flow": null,
      "grid_area": null,
      "grid_auto_columns": null,
      "grid_auto_flow": null,
      "grid_auto_rows": null,
      "grid_column": null,
      "grid_gap": null,
      "grid_row": null,
      "grid_template_areas": null,
      "grid_template_columns": null,
      "grid_template_rows": null,
      "height": null,
      "justify_content": null,
      "justify_items": null,
      "left": null,
      "margin": null,
      "max_height": null,
      "max_width": null,
      "min_height": null,
      "min_width": null,
      "object_fit": null,
      "object_position": null,
      "order": null,
      "overflow": null,
      "overflow_x": null,
      "overflow_y": null,
      "padding": null,
      "right": null,
      "top": null,
      "visibility": null,
      "width": null
     }
    },
    "cf38c7c4a8c14722b3905526e69fec3f": {
     "model_module": "@jupyter-widgets/controls",
     "model_module_version": "1.5.0",
     "model_name": "HTMLModel",
     "state": {
      "_dom_classes": [],
      "_model_module": "@jupyter-widgets/controls",
      "_model_module_version": "1.5.0",
      "_model_name": "HTMLModel",
      "_view_count": null,
      "_view_module": "@jupyter-widgets/controls",
      "_view_module_version": "1.5.0",
      "_view_name": "HTMLView",
      "description": "",
      "description_tooltip": null,
      "layout": "IPY_MODEL_473bf2410ed5481f84d46440bc6d6b40",
      "placeholder": "​",
      "style": "IPY_MODEL_8cd66f46cc5e4aadbcefc6b66e1da827",
      "value": "Downloading: 100%"
     }
    },
    "d023515abcdd416c9cb438718ce6ca6c": {
     "model_module": "@jupyter-widgets/base",
     "model_module_version": "1.2.0",
     "model_name": "LayoutModel",
     "state": {
      "_model_module": "@jupyter-widgets/base",
      "_model_module_version": "1.2.0",
      "_model_name": "LayoutModel",
      "_view_count": null,
      "_view_module": "@jupyter-widgets/base",
      "_view_module_version": "1.2.0",
      "_view_name": "LayoutView",
      "align_content": null,
      "align_items": null,
      "align_self": null,
      "border": null,
      "bottom": null,
      "display": null,
      "flex": null,
      "flex_flow": null,
      "grid_area": null,
      "grid_auto_columns": null,
      "grid_auto_flow": null,
      "grid_auto_rows": null,
      "grid_column": null,
      "grid_gap": null,
      "grid_row": null,
      "grid_template_areas": null,
      "grid_template_columns": null,
      "grid_template_rows": null,
      "height": null,
      "justify_content": null,
      "justify_items": null,
      "left": null,
      "margin": null,
      "max_height": null,
      "max_width": null,
      "min_height": null,
      "min_width": null,
      "object_fit": null,
      "object_position": null,
      "order": null,
      "overflow": null,
      "overflow_x": null,
      "overflow_y": null,
      "padding": null,
      "right": null,
      "top": null,
      "visibility": null,
      "width": null
     }
    },
    "d1b8cf7dd7bb4a2897ac2c5fbc100493": {
     "model_module": "@jupyter-widgets/base",
     "model_module_version": "1.2.0",
     "model_name": "LayoutModel",
     "state": {
      "_model_module": "@jupyter-widgets/base",
      "_model_module_version": "1.2.0",
      "_model_name": "LayoutModel",
      "_view_count": null,
      "_view_module": "@jupyter-widgets/base",
      "_view_module_version": "1.2.0",
      "_view_name": "LayoutView",
      "align_content": null,
      "align_items": null,
      "align_self": null,
      "border": null,
      "bottom": null,
      "display": null,
      "flex": null,
      "flex_flow": null,
      "grid_area": null,
      "grid_auto_columns": null,
      "grid_auto_flow": null,
      "grid_auto_rows": null,
      "grid_column": null,
      "grid_gap": null,
      "grid_row": null,
      "grid_template_areas": null,
      "grid_template_columns": null,
      "grid_template_rows": null,
      "height": null,
      "justify_content": null,
      "justify_items": null,
      "left": null,
      "margin": null,
      "max_height": null,
      "max_width": null,
      "min_height": null,
      "min_width": null,
      "object_fit": null,
      "object_position": null,
      "order": null,
      "overflow": null,
      "overflow_x": null,
      "overflow_y": null,
      "padding": null,
      "right": null,
      "top": null,
      "visibility": null,
      "width": null
     }
    },
    "d32467ec5923474e98ada09fb2c4eaaf": {
     "model_module": "@jupyter-widgets/base",
     "model_module_version": "1.2.0",
     "model_name": "LayoutModel",
     "state": {
      "_model_module": "@jupyter-widgets/base",
      "_model_module_version": "1.2.0",
      "_model_name": "LayoutModel",
      "_view_count": null,
      "_view_module": "@jupyter-widgets/base",
      "_view_module_version": "1.2.0",
      "_view_name": "LayoutView",
      "align_content": null,
      "align_items": null,
      "align_self": null,
      "border": null,
      "bottom": null,
      "display": null,
      "flex": null,
      "flex_flow": null,
      "grid_area": null,
      "grid_auto_columns": null,
      "grid_auto_flow": null,
      "grid_auto_rows": null,
      "grid_column": null,
      "grid_gap": null,
      "grid_row": null,
      "grid_template_areas": null,
      "grid_template_columns": null,
      "grid_template_rows": null,
      "height": null,
      "justify_content": null,
      "justify_items": null,
      "left": null,
      "margin": null,
      "max_height": null,
      "max_width": null,
      "min_height": null,
      "min_width": null,
      "object_fit": null,
      "object_position": null,
      "order": null,
      "overflow": null,
      "overflow_x": null,
      "overflow_y": null,
      "padding": null,
      "right": null,
      "top": null,
      "visibility": null,
      "width": null
     }
    },
    "d3e9d43d7c1545b39b9553c700e8eb50": {
     "model_module": "@jupyter-widgets/base",
     "model_module_version": "1.2.0",
     "model_name": "LayoutModel",
     "state": {
      "_model_module": "@jupyter-widgets/base",
      "_model_module_version": "1.2.0",
      "_model_name": "LayoutModel",
      "_view_count": null,
      "_view_module": "@jupyter-widgets/base",
      "_view_module_version": "1.2.0",
      "_view_name": "LayoutView",
      "align_content": null,
      "align_items": null,
      "align_self": null,
      "border": null,
      "bottom": null,
      "display": null,
      "flex": null,
      "flex_flow": null,
      "grid_area": null,
      "grid_auto_columns": null,
      "grid_auto_flow": null,
      "grid_auto_rows": null,
      "grid_column": null,
      "grid_gap": null,
      "grid_row": null,
      "grid_template_areas": null,
      "grid_template_columns": null,
      "grid_template_rows": null,
      "height": null,
      "justify_content": null,
      "justify_items": null,
      "left": null,
      "margin": null,
      "max_height": null,
      "max_width": null,
      "min_height": null,
      "min_width": null,
      "object_fit": null,
      "object_position": null,
      "order": null,
      "overflow": null,
      "overflow_x": null,
      "overflow_y": null,
      "padding": null,
      "right": null,
      "top": null,
      "visibility": null,
      "width": null
     }
    },
    "d74e6e1052fa4cb0bbec40b231805dd0": {
     "model_module": "@jupyter-widgets/base",
     "model_module_version": "1.2.0",
     "model_name": "LayoutModel",
     "state": {
      "_model_module": "@jupyter-widgets/base",
      "_model_module_version": "1.2.0",
      "_model_name": "LayoutModel",
      "_view_count": null,
      "_view_module": "@jupyter-widgets/base",
      "_view_module_version": "1.2.0",
      "_view_name": "LayoutView",
      "align_content": null,
      "align_items": null,
      "align_self": null,
      "border": null,
      "bottom": null,
      "display": null,
      "flex": null,
      "flex_flow": null,
      "grid_area": null,
      "grid_auto_columns": null,
      "grid_auto_flow": null,
      "grid_auto_rows": null,
      "grid_column": null,
      "grid_gap": null,
      "grid_row": null,
      "grid_template_areas": null,
      "grid_template_columns": null,
      "grid_template_rows": null,
      "height": null,
      "justify_content": null,
      "justify_items": null,
      "left": null,
      "margin": null,
      "max_height": null,
      "max_width": null,
      "min_height": null,
      "min_width": null,
      "object_fit": null,
      "object_position": null,
      "order": null,
      "overflow": null,
      "overflow_x": null,
      "overflow_y": null,
      "padding": null,
      "right": null,
      "top": null,
      "visibility": null,
      "width": null
     }
    },
    "daee45ee830b4dfd8e77c4da44be25d4": {
     "model_module": "@jupyter-widgets/base",
     "model_module_version": "1.2.0",
     "model_name": "LayoutModel",
     "state": {
      "_model_module": "@jupyter-widgets/base",
      "_model_module_version": "1.2.0",
      "_model_name": "LayoutModel",
      "_view_count": null,
      "_view_module": "@jupyter-widgets/base",
      "_view_module_version": "1.2.0",
      "_view_name": "LayoutView",
      "align_content": null,
      "align_items": null,
      "align_self": null,
      "border": null,
      "bottom": null,
      "display": null,
      "flex": null,
      "flex_flow": null,
      "grid_area": null,
      "grid_auto_columns": null,
      "grid_auto_flow": null,
      "grid_auto_rows": null,
      "grid_column": null,
      "grid_gap": null,
      "grid_row": null,
      "grid_template_areas": null,
      "grid_template_columns": null,
      "grid_template_rows": null,
      "height": null,
      "justify_content": null,
      "justify_items": null,
      "left": null,
      "margin": null,
      "max_height": null,
      "max_width": null,
      "min_height": null,
      "min_width": null,
      "object_fit": null,
      "object_position": null,
      "order": null,
      "overflow": null,
      "overflow_x": null,
      "overflow_y": null,
      "padding": null,
      "right": null,
      "top": null,
      "visibility": null,
      "width": null
     }
    },
    "db074187964e40fa827d66a7bd5d6294": {
     "model_module": "@jupyter-widgets/controls",
     "model_module_version": "1.5.0",
     "model_name": "HBoxModel",
     "state": {
      "_dom_classes": [],
      "_model_module": "@jupyter-widgets/controls",
      "_model_module_version": "1.5.0",
      "_model_name": "HBoxModel",
      "_view_count": null,
      "_view_module": "@jupyter-widgets/controls",
      "_view_module_version": "1.5.0",
      "_view_name": "HBoxView",
      "box_style": "",
      "children": [
       "IPY_MODEL_53078649f1574dd08538ad7c0905b16d",
       "IPY_MODEL_b153579a6aae40638c360fb7676ed983",
       "IPY_MODEL_14247a238e6c41e2b6ca4cd7f8e1add1"
      ],
      "layout": "IPY_MODEL_6eb3686660a544ef911362ef660c9564"
     }
    },
    "db8c3ff7fb624dd6a16bb3f02c7acf80": {
     "model_module": "@jupyter-widgets/controls",
     "model_module_version": "1.5.0",
     "model_name": "HBoxModel",
     "state": {
      "_dom_classes": [],
      "_model_module": "@jupyter-widgets/controls",
      "_model_module_version": "1.5.0",
      "_model_name": "HBoxModel",
      "_view_count": null,
      "_view_module": "@jupyter-widgets/controls",
      "_view_module_version": "1.5.0",
      "_view_name": "HBoxView",
      "box_style": "",
      "children": [
       "IPY_MODEL_251b3bca77184beaaf1680f337b9b256",
       "IPY_MODEL_5653387fc5034607a20773a5c2bc8470",
       "IPY_MODEL_bb33f426d9e647d2ace329238c689107"
      ],
      "layout": "IPY_MODEL_dc676d5d76314eef9a7431a85d922d80"
     }
    },
    "dc676d5d76314eef9a7431a85d922d80": {
     "model_module": "@jupyter-widgets/base",
     "model_module_version": "1.2.0",
     "model_name": "LayoutModel",
     "state": {
      "_model_module": "@jupyter-widgets/base",
      "_model_module_version": "1.2.0",
      "_model_name": "LayoutModel",
      "_view_count": null,
      "_view_module": "@jupyter-widgets/base",
      "_view_module_version": "1.2.0",
      "_view_name": "LayoutView",
      "align_content": null,
      "align_items": null,
      "align_self": null,
      "border": null,
      "bottom": null,
      "display": null,
      "flex": null,
      "flex_flow": null,
      "grid_area": null,
      "grid_auto_columns": null,
      "grid_auto_flow": null,
      "grid_auto_rows": null,
      "grid_column": null,
      "grid_gap": null,
      "grid_row": null,
      "grid_template_areas": null,
      "grid_template_columns": null,
      "grid_template_rows": null,
      "height": null,
      "justify_content": null,
      "justify_items": null,
      "left": null,
      "margin": null,
      "max_height": null,
      "max_width": null,
      "min_height": null,
      "min_width": null,
      "object_fit": null,
      "object_position": null,
      "order": null,
      "overflow": null,
      "overflow_x": null,
      "overflow_y": null,
      "padding": null,
      "right": null,
      "top": null,
      "visibility": null,
      "width": null
     }
    },
    "dce8f9ebfaad47ffbe45883eb2671999": {
     "model_module": "@jupyter-widgets/controls",
     "model_module_version": "1.5.0",
     "model_name": "HBoxModel",
     "state": {
      "_dom_classes": [],
      "_model_module": "@jupyter-widgets/controls",
      "_model_module_version": "1.5.0",
      "_model_name": "HBoxModel",
      "_view_count": null,
      "_view_module": "@jupyter-widgets/controls",
      "_view_module_version": "1.5.0",
      "_view_name": "HBoxView",
      "box_style": "",
      "children": [
       "IPY_MODEL_86ef3cd68ca74108ae1f97e0c41096dc",
       "IPY_MODEL_8a59aa2e3193427ab577b1d7b2cd05f2",
       "IPY_MODEL_59221f85df194182903560ee4024d74d"
      ],
      "layout": "IPY_MODEL_1c2de46ee5e14d15b7848f2e7e2772aa"
     }
    },
    "de10da25d9854cc494cf3f155f749bec": {
     "model_module": "@jupyter-widgets/controls",
     "model_module_version": "1.5.0",
     "model_name": "DescriptionStyleModel",
     "state": {
      "_model_module": "@jupyter-widgets/controls",
      "_model_module_version": "1.5.0",
      "_model_name": "DescriptionStyleModel",
      "_view_count": null,
      "_view_module": "@jupyter-widgets/base",
      "_view_module_version": "1.2.0",
      "_view_name": "StyleView",
      "description_width": ""
     }
    },
    "e380c73f31d34e5ba66a970e3362b415": {
     "model_module": "@jupyter-widgets/controls",
     "model_module_version": "1.5.0",
     "model_name": "HBoxModel",
     "state": {
      "_dom_classes": [],
      "_model_module": "@jupyter-widgets/controls",
      "_model_module_version": "1.5.0",
      "_model_name": "HBoxModel",
      "_view_count": null,
      "_view_module": "@jupyter-widgets/controls",
      "_view_module_version": "1.5.0",
      "_view_name": "HBoxView",
      "box_style": "",
      "children": [
       "IPY_MODEL_5be3911f3eb54a428eaf3ddd7c8375b7",
       "IPY_MODEL_721128e3f9cf442fba8526709e7c8466",
       "IPY_MODEL_c3ac5ec3baa24a5f93f2a0c9ab15e41d"
      ],
      "layout": "IPY_MODEL_cd9831a2b79645539d0efead42cb0074"
     }
    },
    "e5c72c33209a4e23b54a8927cb39c1a6": {
     "model_module": "@jupyter-widgets/controls",
     "model_module_version": "1.5.0",
     "model_name": "DescriptionStyleModel",
     "state": {
      "_model_module": "@jupyter-widgets/controls",
      "_model_module_version": "1.5.0",
      "_model_name": "DescriptionStyleModel",
      "_view_count": null,
      "_view_module": "@jupyter-widgets/base",
      "_view_module_version": "1.2.0",
      "_view_name": "StyleView",
      "description_width": ""
     }
    },
    "e7ec766325324819b8e05bc1f5eeba7d": {
     "model_module": "@jupyter-widgets/base",
     "model_module_version": "1.2.0",
     "model_name": "LayoutModel",
     "state": {
      "_model_module": "@jupyter-widgets/base",
      "_model_module_version": "1.2.0",
      "_model_name": "LayoutModel",
      "_view_count": null,
      "_view_module": "@jupyter-widgets/base",
      "_view_module_version": "1.2.0",
      "_view_name": "LayoutView",
      "align_content": null,
      "align_items": null,
      "align_self": null,
      "border": null,
      "bottom": null,
      "display": null,
      "flex": null,
      "flex_flow": null,
      "grid_area": null,
      "grid_auto_columns": null,
      "grid_auto_flow": null,
      "grid_auto_rows": null,
      "grid_column": null,
      "grid_gap": null,
      "grid_row": null,
      "grid_template_areas": null,
      "grid_template_columns": null,
      "grid_template_rows": null,
      "height": null,
      "justify_content": null,
      "justify_items": null,
      "left": null,
      "margin": null,
      "max_height": null,
      "max_width": null,
      "min_height": null,
      "min_width": null,
      "object_fit": null,
      "object_position": null,
      "order": null,
      "overflow": null,
      "overflow_x": null,
      "overflow_y": null,
      "padding": null,
      "right": null,
      "top": null,
      "visibility": null,
      "width": null
     }
    },
    "ea5f353c259443ddaf33d787e8530539": {
     "model_module": "@jupyter-widgets/controls",
     "model_module_version": "1.5.0",
     "model_name": "DescriptionStyleModel",
     "state": {
      "_model_module": "@jupyter-widgets/controls",
      "_model_module_version": "1.5.0",
      "_model_name": "DescriptionStyleModel",
      "_view_count": null,
      "_view_module": "@jupyter-widgets/base",
      "_view_module_version": "1.2.0",
      "_view_name": "StyleView",
      "description_width": ""
     }
    },
    "eb32d954fd664af497b741d5110fe319": {
     "model_module": "@jupyter-widgets/controls",
     "model_module_version": "1.5.0",
     "model_name": "DescriptionStyleModel",
     "state": {
      "_model_module": "@jupyter-widgets/controls",
      "_model_module_version": "1.5.0",
      "_model_name": "DescriptionStyleModel",
      "_view_count": null,
      "_view_module": "@jupyter-widgets/base",
      "_view_module_version": "1.2.0",
      "_view_name": "StyleView",
      "description_width": ""
     }
    },
    "ef522b143c1447c6847719f9cd1db842": {
     "model_module": "@jupyter-widgets/controls",
     "model_module_version": "1.5.0",
     "model_name": "HTMLModel",
     "state": {
      "_dom_classes": [],
      "_model_module": "@jupyter-widgets/controls",
      "_model_module_version": "1.5.0",
      "_model_name": "HTMLModel",
      "_view_count": null,
      "_view_module": "@jupyter-widgets/controls",
      "_view_module_version": "1.5.0",
      "_view_name": "HTMLView",
      "description": "",
      "description_tooltip": null,
      "layout": "IPY_MODEL_733f56fd0c164c1bb8a7623b85119a7f",
      "placeholder": "​",
      "style": "IPY_MODEL_a61bf713218c4b39a1bd4267d6a08b53",
      "value": "Downloading: 100%"
     }
    },
    "f2132acbb2c14db5a2cdb2ec9f6572cf": {
     "model_module": "@jupyter-widgets/controls",
     "model_module_version": "1.5.0",
     "model_name": "HTMLModel",
     "state": {
      "_dom_classes": [],
      "_model_module": "@jupyter-widgets/controls",
      "_model_module_version": "1.5.0",
      "_model_name": "HTMLModel",
      "_view_count": null,
      "_view_module": "@jupyter-widgets/controls",
      "_view_module_version": "1.5.0",
      "_view_name": "HTMLView",
      "description": "",
      "description_tooltip": null,
      "layout": "IPY_MODEL_7767b41f665c4107b85671062e2df5c4",
      "placeholder": "​",
      "style": "IPY_MODEL_c3f81efe62a845f3a0d81420c4131133",
      "value": "Downloading: 100%"
     }
    },
    "f396f8255de44f3bbe3cb6a980126b29": {
     "model_module": "@jupyter-widgets/controls",
     "model_module_version": "1.5.0",
     "model_name": "HBoxModel",
     "state": {
      "_dom_classes": [],
      "_model_module": "@jupyter-widgets/controls",
      "_model_module_version": "1.5.0",
      "_model_name": "HBoxModel",
      "_view_count": null,
      "_view_module": "@jupyter-widgets/controls",
      "_view_module_version": "1.5.0",
      "_view_name": "HBoxView",
      "box_style": "",
      "children": [
       "IPY_MODEL_81020f23684d47af8d09e93102554995",
       "IPY_MODEL_110bf3fe83364de3a1da8544c3bbf5e8",
       "IPY_MODEL_3386db6b16154ed18d9333f6335f591c"
      ],
      "layout": "IPY_MODEL_788ae4c45bdc4bd8a11aaf3f1e1d04b5"
     }
    },
    "f3ec18cf6a534d539267ee4e1924199e": {
     "model_module": "@jupyter-widgets/controls",
     "model_module_version": "1.5.0",
     "model_name": "ProgressStyleModel",
     "state": {
      "_model_module": "@jupyter-widgets/controls",
      "_model_module_version": "1.5.0",
      "_model_name": "ProgressStyleModel",
      "_view_count": null,
      "_view_module": "@jupyter-widgets/base",
      "_view_module_version": "1.2.0",
      "_view_name": "StyleView",
      "bar_color": null,
      "description_width": ""
     }
    },
    "f5b2778961b24d29bbc01e318c7ab0e0": {
     "model_module": "@jupyter-widgets/controls",
     "model_module_version": "1.5.0",
     "model_name": "HBoxModel",
     "state": {
      "_dom_classes": [],
      "_model_module": "@jupyter-widgets/controls",
      "_model_module_version": "1.5.0",
      "_model_name": "HBoxModel",
      "_view_count": null,
      "_view_module": "@jupyter-widgets/controls",
      "_view_module_version": "1.5.0",
      "_view_name": "HBoxView",
      "box_style": "",
      "children": [
       "IPY_MODEL_b1e6237129f34af9a825c19c867da6fb",
       "IPY_MODEL_37dd366b166c47de904b49f88f6e4d8e",
       "IPY_MODEL_831399f9d4a2412aad2a064b0e602542"
      ],
      "layout": "IPY_MODEL_aa699898a59d4525969ea056dc1f4c1e"
     }
    },
    "f6d0cf46b1694df3856557108466e522": {
     "model_module": "@jupyter-widgets/base",
     "model_module_version": "1.2.0",
     "model_name": "LayoutModel",
     "state": {
      "_model_module": "@jupyter-widgets/base",
      "_model_module_version": "1.2.0",
      "_model_name": "LayoutModel",
      "_view_count": null,
      "_view_module": "@jupyter-widgets/base",
      "_view_module_version": "1.2.0",
      "_view_name": "LayoutView",
      "align_content": null,
      "align_items": null,
      "align_self": null,
      "border": null,
      "bottom": null,
      "display": null,
      "flex": null,
      "flex_flow": null,
      "grid_area": null,
      "grid_auto_columns": null,
      "grid_auto_flow": null,
      "grid_auto_rows": null,
      "grid_column": null,
      "grid_gap": null,
      "grid_row": null,
      "grid_template_areas": null,
      "grid_template_columns": null,
      "grid_template_rows": null,
      "height": null,
      "justify_content": null,
      "justify_items": null,
      "left": null,
      "margin": null,
      "max_height": null,
      "max_width": null,
      "min_height": null,
      "min_width": null,
      "object_fit": null,
      "object_position": null,
      "order": null,
      "overflow": null,
      "overflow_x": null,
      "overflow_y": null,
      "padding": null,
      "right": null,
      "top": null,
      "visibility": null,
      "width": null
     }
    },
    "fc3fa4566c764a15a865ca88a6c41191": {
     "model_module": "@jupyter-widgets/base",
     "model_module_version": "1.2.0",
     "model_name": "LayoutModel",
     "state": {
      "_model_module": "@jupyter-widgets/base",
      "_model_module_version": "1.2.0",
      "_model_name": "LayoutModel",
      "_view_count": null,
      "_view_module": "@jupyter-widgets/base",
      "_view_module_version": "1.2.0",
      "_view_name": "LayoutView",
      "align_content": null,
      "align_items": null,
      "align_self": null,
      "border": null,
      "bottom": null,
      "display": null,
      "flex": null,
      "flex_flow": null,
      "grid_area": null,
      "grid_auto_columns": null,
      "grid_auto_flow": null,
      "grid_auto_rows": null,
      "grid_column": null,
      "grid_gap": null,
      "grid_row": null,
      "grid_template_areas": null,
      "grid_template_columns": null,
      "grid_template_rows": null,
      "height": null,
      "justify_content": null,
      "justify_items": null,
      "left": null,
      "margin": null,
      "max_height": null,
      "max_width": null,
      "min_height": null,
      "min_width": null,
      "object_fit": null,
      "object_position": null,
      "order": null,
      "overflow": null,
      "overflow_x": null,
      "overflow_y": null,
      "padding": null,
      "right": null,
      "top": null,
      "visibility": null,
      "width": null
     }
    },
    "fc5fc4092ddd4345a22db7f42dcfa536": {
     "model_module": "@jupyter-widgets/base",
     "model_module_version": "1.2.0",
     "model_name": "LayoutModel",
     "state": {
      "_model_module": "@jupyter-widgets/base",
      "_model_module_version": "1.2.0",
      "_model_name": "LayoutModel",
      "_view_count": null,
      "_view_module": "@jupyter-widgets/base",
      "_view_module_version": "1.2.0",
      "_view_name": "LayoutView",
      "align_content": null,
      "align_items": null,
      "align_self": null,
      "border": null,
      "bottom": null,
      "display": null,
      "flex": null,
      "flex_flow": null,
      "grid_area": null,
      "grid_auto_columns": null,
      "grid_auto_flow": null,
      "grid_auto_rows": null,
      "grid_column": null,
      "grid_gap": null,
      "grid_row": null,
      "grid_template_areas": null,
      "grid_template_columns": null,
      "grid_template_rows": null,
      "height": null,
      "justify_content": null,
      "justify_items": null,
      "left": null,
      "margin": null,
      "max_height": null,
      "max_width": null,
      "min_height": null,
      "min_width": null,
      "object_fit": null,
      "object_position": null,
      "order": null,
      "overflow": null,
      "overflow_x": null,
      "overflow_y": null,
      "padding": null,
      "right": null,
      "top": null,
      "visibility": null,
      "width": null
     }
    },
    "fe91ce9085f9420f8464117f469da4e2": {
     "model_module": "@jupyter-widgets/controls",
     "model_module_version": "1.5.0",
     "model_name": "DescriptionStyleModel",
     "state": {
      "_model_module": "@jupyter-widgets/controls",
      "_model_module_version": "1.5.0",
      "_model_name": "DescriptionStyleModel",
      "_view_count": null,
      "_view_module": "@jupyter-widgets/base",
      "_view_module_version": "1.2.0",
      "_view_name": "StyleView",
      "description_width": ""
     }
    }
   }
  }
 },
 "nbformat": 4,
 "nbformat_minor": 4
}
